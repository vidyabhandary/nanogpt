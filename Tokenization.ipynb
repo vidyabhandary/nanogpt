{
 "cells": [
  {
   "cell_type": "markdown",
   "id": "931e6db7-07cb-4865-91dc-7bc4decd2626",
   "metadata": {},
   "source": [
    "# Tokenization :(\n",
    "\n",
    "Tokenization is at the heart of much weirdness of LLMs. Do not brush it off.\n",
    "\n",
    "- Why can't LLM spell words? **Tokenization**.\n",
    "- Why can't LLM do super simple string processing tasks like reversing a string? **Tokenization**.\n",
    "- Why is LLM worse at non-English languages (e.g. Japanese)? **Tokenization**.\n",
    "- Why is LLM bad at simple arithmetic? **Tokenization**.\n",
    "- Why did GPT-2 have more than necessary trouble coding in Python? **Tokenization**.\n",
    "- Why did my LLM abruptly halt when it sees the string \"<|endoftext|>\"? **Tokenization**.\n",
    "- What is this weird warning I get about a \"trailing whitespace\"? **Tokenization**.\n",
    "- Why the LLM break if I ask it about \"SolidGoldMagikarp\"? **Tokenization**.\n",
    "- Why should I prefer to use YAML over JSON with LLMs? **Tokenization**.\n",
    "- Why is LLM not actually end-to-end language modeling? **Tokenization**.\n",
    "- What is the real root of suffering? **Tokenization**.\n",
    "\n",
    "---\n",
    "\n",
    "Good tokenization web app: [https://tiktokenizer.vercel.app](https://tiktokenizer.vercel.app)\n",
    "\n",
    "Example string:\n",
    "\n",
    "```\n",
    "Tokenization is at the heart of much weirdness of LLMs. Do not brush it off.\n",
    "\n",
    "127 + 677 = 804\n",
    "1275 + 6773 = 8041\n",
    "\n",
    "Egg.\n",
    "I have an Egg.\n",
    "egg.\n",
    "EGG.\n",
    "\n",
    "만나서 반가워요. 저는 OpenAI에서 개발한 대규모 언어 모델인 ChatGPT입니다. 궁금한 것이 있으시면 무엇이든 물어보세요.\n",
    "\n",
    "for i in range(1, 101):\n",
    "    if i % 3 == 0 and i % 5 == 0:\n",
    "        print(\"FizzBuzz\")\n",
    "    elif i % 3 == 0:\n",
    "        print(\"Fizz\")\n",
    "    elif i % 5 == 0:\n",
    "        print(\"Buzz\")\n",
    "    else:\n",
    "        print(i)\n",
    "```\n",
    "\n",
    "---\n",
    "\n",
    "Much glory awaits someone who can delete the need for tokenization. But meanwhile, let's learn about it.\n"
   ]
  },
  {
   "cell_type": "code",
   "execution_count": 1,
   "id": "55b8800d-365f-49a5-919b-f104593d5021",
   "metadata": {},
   "outputs": [
    {
     "data": {
      "text/plain": [
       "'안녕하세요 👋 (hello in Korean!)'"
      ]
     },
     "execution_count": 1,
     "metadata": {},
     "output_type": "execute_result"
    }
   ],
   "source": [
    "\"안녕하세요 👋 (hello in Korean!)\""
   ]
  },
  {
   "cell_type": "code",
   "execution_count": 2,
   "id": "81033c28-fac4-47b7-85bf-1a6804c0203a",
   "metadata": {},
   "outputs": [
    {
     "data": {
      "text/plain": [
       "104"
      ]
     },
     "execution_count": 2,
     "metadata": {},
     "output_type": "execute_result"
    }
   ],
   "source": [
    "ord('h')"
   ]
  },
  {
   "cell_type": "code",
   "execution_count": 3,
   "id": "0e860f5b-087d-4e14-a9b1-2565ec50c4ee",
   "metadata": {},
   "outputs": [
    {
     "data": {
      "text/plain": [
       "128075"
      ]
     },
     "execution_count": 3,
     "metadata": {},
     "output_type": "execute_result"
    }
   ],
   "source": [
    "ord('👋')"
   ]
  },
  {
   "cell_type": "code",
   "execution_count": 4,
   "id": "82ff01fb-5dd9-4436-b12e-17750d781849",
   "metadata": {},
   "outputs": [
    {
     "data": {
      "text/plain": [
       "[50504,\n",
       " 45397,\n",
       " 54616,\n",
       " 49464,\n",
       " 50836,\n",
       " 32,\n",
       " 128075,\n",
       " 32,\n",
       " 40,\n",
       " 104,\n",
       " 101,\n",
       " 108,\n",
       " 108,\n",
       " 111,\n",
       " 32,\n",
       " 105,\n",
       " 110,\n",
       " 32,\n",
       " 75,\n",
       " 111,\n",
       " 114,\n",
       " 101,\n",
       " 97,\n",
       " 110,\n",
       " 33,\n",
       " 41]"
      ]
     },
     "execution_count": 4,
     "metadata": {},
     "output_type": "execute_result"
    }
   ],
   "source": [
    "[ord(x)for x in \"안녕하세요 👋 (hello in Korean!)\"]"
   ]
  },
  {
   "cell_type": "code",
   "execution_count": 5,
   "id": "e8fe1873-70f9-407e-a9d2-51bfab6b7faa",
   "metadata": {},
   "outputs": [
    {
     "data": {
      "text/plain": [
       "b'\\xec\\x95\\x88\\xeb\\x85\\x95\\xed\\x95\\x98\\xec\\x84\\xb8\\xec\\x9a\\x94 \\xf0\\x9f\\x91\\x8b (hello in Korean!)'"
      ]
     },
     "execution_count": 5,
     "metadata": {},
     "output_type": "execute_result"
    }
   ],
   "source": [
    "\"안녕하세요 👋 (hello in Korean!)\".encode(\"utf-8\")"
   ]
  },
  {
   "cell_type": "code",
   "execution_count": 6,
   "id": "594a1e49-020c-49a0-9a51-11c035edd52e",
   "metadata": {},
   "outputs": [
    {
     "data": {
      "text/plain": [
       "[236,\n",
       " 149,\n",
       " 136,\n",
       " 235,\n",
       " 133,\n",
       " 149,\n",
       " 237,\n",
       " 149,\n",
       " 152,\n",
       " 236,\n",
       " 132,\n",
       " 184,\n",
       " 236,\n",
       " 154,\n",
       " 148,\n",
       " 32,\n",
       " 240,\n",
       " 159,\n",
       " 145,\n",
       " 139,\n",
       " 32,\n",
       " 40,\n",
       " 104,\n",
       " 101,\n",
       " 108,\n",
       " 108,\n",
       " 111,\n",
       " 32,\n",
       " 105,\n",
       " 110,\n",
       " 32,\n",
       " 75,\n",
       " 111,\n",
       " 114,\n",
       " 101,\n",
       " 97,\n",
       " 110,\n",
       " 33,\n",
       " 41]"
      ]
     },
     "execution_count": 6,
     "metadata": {},
     "output_type": "execute_result"
    }
   ],
   "source": [
    "list(\"안녕하세요 👋 (hello in Korean!)\".encode(\"utf-8\")) # Raw bytes that represent the utf-8"
   ]
  },
  {
   "cell_type": "code",
   "execution_count": 7,
   "id": "0371318a-b06b-41c8-9bc8-eba1b3f1f725",
   "metadata": {},
   "outputs": [
    {
     "data": {
      "text/plain": [
       "[255,\n",
       " 254,\n",
       " 72,\n",
       " 197,\n",
       " 85,\n",
       " 177,\n",
       " 88,\n",
       " 213,\n",
       " 56,\n",
       " 193,\n",
       " 148,\n",
       " 198,\n",
       " 32,\n",
       " 0,\n",
       " 61,\n",
       " 216,\n",
       " 75,\n",
       " 220,\n",
       " 32,\n",
       " 0,\n",
       " 40,\n",
       " 0,\n",
       " 104,\n",
       " 0,\n",
       " 101,\n",
       " 0,\n",
       " 108,\n",
       " 0,\n",
       " 108,\n",
       " 0,\n",
       " 111,\n",
       " 0,\n",
       " 32,\n",
       " 0,\n",
       " 105,\n",
       " 0,\n",
       " 110,\n",
       " 0,\n",
       " 32,\n",
       " 0,\n",
       " 75,\n",
       " 0,\n",
       " 111,\n",
       " 0,\n",
       " 114,\n",
       " 0,\n",
       " 101,\n",
       " 0,\n",
       " 97,\n",
       " 0,\n",
       " 110,\n",
       " 0,\n",
       " 33,\n",
       " 0,\n",
       " 41,\n",
       " 0]"
      ]
     },
     "execution_count": 7,
     "metadata": {},
     "output_type": "execute_result"
    }
   ],
   "source": [
    "list(\"안녕하세요 👋 (hello in Korean!)\".encode(\"utf-16\")) "
   ]
  },
  {
   "cell_type": "code",
   "execution_count": 8,
   "id": "4b773e0a-9281-4ef3-a27d-09034a39c5e3",
   "metadata": {},
   "outputs": [
    {
     "data": {
      "text/plain": [
       "[255,\n",
       " 254,\n",
       " 0,\n",
       " 0,\n",
       " 72,\n",
       " 197,\n",
       " 0,\n",
       " 0,\n",
       " 85,\n",
       " 177,\n",
       " 0,\n",
       " 0,\n",
       " 88,\n",
       " 213,\n",
       " 0,\n",
       " 0,\n",
       " 56,\n",
       " 193,\n",
       " 0,\n",
       " 0,\n",
       " 148,\n",
       " 198,\n",
       " 0,\n",
       " 0,\n",
       " 32,\n",
       " 0,\n",
       " 0,\n",
       " 0,\n",
       " 75,\n",
       " 244,\n",
       " 1,\n",
       " 0,\n",
       " 32,\n",
       " 0,\n",
       " 0,\n",
       " 0,\n",
       " 40,\n",
       " 0,\n",
       " 0,\n",
       " 0,\n",
       " 104,\n",
       " 0,\n",
       " 0,\n",
       " 0,\n",
       " 101,\n",
       " 0,\n",
       " 0,\n",
       " 0,\n",
       " 108,\n",
       " 0,\n",
       " 0,\n",
       " 0,\n",
       " 108,\n",
       " 0,\n",
       " 0,\n",
       " 0,\n",
       " 111,\n",
       " 0,\n",
       " 0,\n",
       " 0,\n",
       " 32,\n",
       " 0,\n",
       " 0,\n",
       " 0,\n",
       " 105,\n",
       " 0,\n",
       " 0,\n",
       " 0,\n",
       " 110,\n",
       " 0,\n",
       " 0,\n",
       " 0,\n",
       " 32,\n",
       " 0,\n",
       " 0,\n",
       " 0,\n",
       " 75,\n",
       " 0,\n",
       " 0,\n",
       " 0,\n",
       " 111,\n",
       " 0,\n",
       " 0,\n",
       " 0,\n",
       " 114,\n",
       " 0,\n",
       " 0,\n",
       " 0,\n",
       " 101,\n",
       " 0,\n",
       " 0,\n",
       " 0,\n",
       " 97,\n",
       " 0,\n",
       " 0,\n",
       " 0,\n",
       " 110,\n",
       " 0,\n",
       " 0,\n",
       " 0,\n",
       " 33,\n",
       " 0,\n",
       " 0,\n",
       " 0,\n",
       " 41,\n",
       " 0,\n",
       " 0,\n",
       " 0]"
      ]
     },
     "execution_count": 8,
     "metadata": {},
     "output_type": "execute_result"
    }
   ],
   "source": [
    "list(\"안녕하세요 👋 (hello in Korean!)\".encode(\"utf-32\")) "
   ]
  },
  {
   "cell_type": "code",
   "execution_count": 9,
   "id": "477bfb6e-1163-44e4-a846-3d3be4fea50d",
   "metadata": {},
   "outputs": [
    {
     "name": "stdout",
     "output_type": "stream",
     "text": [
      "---\n",
      "Ｕｎｉｃｏｄｅ! 🅤🅝🅘🅒🅞🅓🅔‽ 🇺‌🇳‌🇮‌🇨‌🇴‌🇩‌🇪! 😄 The very name strikes fear and awe into the hearts of programmers worldwide. We all know we ought to “support Unicode” in our software (whatever that means—like using wchar_t for all the strings, right?). But Unicode can be abstruse, and diving into the thousand-page Unicode Standard plus its dozens of supplementary annexes, reports, and notes can be more than a little intimidating. I don’t blame programmers for still finding the whole thing mysterious, even 30 years after Unicode’s inception.\n",
      "length: 533\n",
      "---\n",
      "[239, 188, 181, 239, 189, 142, 239, 189, 137, 239, 189, 131, 239, 189, 143, 239, 189, 132, 239, 189, 133, 33, 32, 240, 159, 133, 164, 240, 159, 133, 157, 240, 159, 133, 152, 240, 159, 133, 146, 240, 159, 133, 158, 240, 159, 133, 147, 240, 159, 133, 148, 226, 128, 189, 32, 240, 159, 135, 186, 226, 128, 140, 240, 159, 135, 179, 226, 128, 140, 240, 159, 135, 174, 226, 128, 140, 240, 159, 135, 168, 226, 128, 140, 240, 159, 135, 180, 226, 128, 140, 240, 159, 135, 169, 226, 128, 140, 240, 159, 135, 170, 33, 32, 240, 159, 152, 132, 32, 84, 104, 101, 32, 118, 101, 114, 121, 32, 110, 97, 109, 101, 32, 115, 116, 114, 105, 107, 101, 115, 32, 102, 101, 97, 114, 32, 97, 110, 100, 32, 97, 119, 101, 32, 105, 110, 116, 111, 32, 116, 104, 101, 32, 104, 101, 97, 114, 116, 115, 32, 111, 102, 32, 112, 114, 111, 103, 114, 97, 109, 109, 101, 114, 115, 32, 119, 111, 114, 108, 100, 119, 105, 100, 101, 46, 32, 87, 101, 32, 97, 108, 108, 32, 107, 110, 111, 119, 32, 119, 101, 32, 111, 117, 103, 104, 116, 32, 116, 111, 32, 226, 128, 156, 115, 117, 112, 112, 111, 114, 116, 32, 85, 110, 105, 99, 111, 100, 101, 226, 128, 157, 32, 105, 110, 32, 111, 117, 114, 32, 115, 111, 102, 116, 119, 97, 114, 101, 32, 40, 119, 104, 97, 116, 101, 118, 101, 114, 32, 116, 104, 97, 116, 32, 109, 101, 97, 110, 115, 226, 128, 148, 108, 105, 107, 101, 32, 117, 115, 105, 110, 103, 32, 119, 99, 104, 97, 114, 95, 116, 32, 102, 111, 114, 32, 97, 108, 108, 32, 116, 104, 101, 32, 115, 116, 114, 105, 110, 103, 115, 44, 32, 114, 105, 103, 104, 116, 63, 41, 46, 32, 66, 117, 116, 32, 85, 110, 105, 99, 111, 100, 101, 32, 99, 97, 110, 32, 98, 101, 32, 97, 98, 115, 116, 114, 117, 115, 101, 44, 32, 97, 110, 100, 32, 100, 105, 118, 105, 110, 103, 32, 105, 110, 116, 111, 32, 116, 104, 101, 32, 116, 104, 111, 117, 115, 97, 110, 100, 45, 112, 97, 103, 101, 32, 85, 110, 105, 99, 111, 100, 101, 32, 83, 116, 97, 110, 100, 97, 114, 100, 32, 112, 108, 117, 115, 32, 105, 116, 115, 32, 100, 111, 122, 101, 110, 115, 32, 111, 102, 32, 115, 117, 112, 112, 108, 101, 109, 101, 110, 116, 97, 114, 121, 32, 97, 110, 110, 101, 120, 101, 115, 44, 32, 114, 101, 112, 111, 114, 116, 115, 44, 32, 97, 110, 100, 32, 110, 111, 116, 101, 115, 32, 99, 97, 110, 32, 98, 101, 32, 109, 111, 114, 101, 32, 116, 104, 97, 110, 32, 97, 32, 108, 105, 116, 116, 108, 101, 32, 105, 110, 116, 105, 109, 105, 100, 97, 116, 105, 110, 103, 46, 32, 73, 32, 100, 111, 110, 226, 128, 153, 116, 32, 98, 108, 97, 109, 101, 32, 112, 114, 111, 103, 114, 97, 109, 109, 101, 114, 115, 32, 102, 111, 114, 32, 115, 116, 105, 108, 108, 32, 102, 105, 110, 100, 105, 110, 103, 32, 116, 104, 101, 32, 119, 104, 111, 108, 101, 32, 116, 104, 105, 110, 103, 32, 109, 121, 115, 116, 101, 114, 105, 111, 117, 115, 44, 32, 101, 118, 101, 110, 32, 51, 48, 32, 121, 101, 97, 114, 115, 32, 97, 102, 116, 101, 114, 32, 85, 110, 105, 99, 111, 100, 101, 226, 128, 153, 115, 32, 105, 110, 99, 101, 112, 116, 105, 111, 110, 46]\n",
      "length: 616\n"
     ]
    }
   ],
   "source": [
    "# text from https://www.reedbeta.com/blog/programmers-intro-to-unicode/\n",
    "text = \"Ｕｎｉｃｏｄｅ! 🅤🅝🅘🅒🅞🅓🅔‽ 🇺‌🇳‌🇮‌🇨‌🇴‌🇩‌🇪! 😄 The very name strikes fear and awe into the hearts of programmers worldwide. We all know we ought to “support Unicode” in our software (whatever that means—like using wchar_t for all the strings, right?). But Unicode can be abstruse, and diving into the thousand-page Unicode Standard plus its dozens of supplementary annexes, reports, and notes can be more than a little intimidating. I don’t blame programmers for still finding the whole thing mysterious, even 30 years after Unicode’s inception.\"\n",
    "tokens = text.encode(\"utf-8\") # raw bytes\n",
    "tokens = list(map(int, tokens)) # convert to a list of integers in range 0..255 for convenience\n",
    "print('---')\n",
    "print(text)\n",
    "print(\"length:\", len(text))\n",
    "print('---')\n",
    "print(tokens)\n",
    "print(\"length:\", len(tokens))"
   ]
  },
  {
   "cell_type": "code",
   "execution_count": 10,
   "id": "9a7a691d-d40e-4f36-80c2-21c10c9c674d",
   "metadata": {},
   "outputs": [
    {
     "name": "stdout",
     "output_type": "stream",
     "text": [
      "[(20, (101, 32)), (15, (240, 159)), (12, (226, 128)), (12, (105, 110)), (10, (115, 32)), (10, (97, 110)), (10, (32, 97)), (9, (32, 116)), (8, (116, 104)), (7, (159, 135)), (7, (159, 133)), (7, (97, 114)), (6, (239, 189)), (6, (140, 240)), (6, (128, 140)), (6, (116, 32)), (6, (114, 32)), (6, (111, 114)), (6, (110, 103)), (6, (110, 100)), (6, (109, 101)), (6, (104, 101)), (6, (101, 114)), (6, (32, 105)), (5, (117, 115)), (5, (115, 116)), (5, (110, 32)), (5, (100, 101)), (5, (44, 32)), (5, (32, 115)), (4, (116, 105)), (4, (116, 101)), (4, (115, 44)), (4, (114, 105)), (4, (111, 117)), (4, (111, 100)), (4, (110, 116)), (4, (110, 105)), (4, (105, 99)), (4, (104, 97)), (4, (103, 32)), (4, (101, 97)), (4, (100, 32)), (4, (99, 111)), (4, (97, 109)), (4, (85, 110)), (4, (32, 119)), (4, (32, 111)), (4, (32, 102)), (4, (32, 85)), (3, (118, 101)), (3, (116, 115)), (3, (116, 114)), (3, (116, 111)), (3, (114, 116)), (3, (114, 115)), (3, (114, 101)), (3, (111, 102)), (3, (111, 32)), (3, (108, 108)), (3, (108, 101)), (3, (108, 32)), (3, (101, 115)), (3, (101, 110)), (3, (97, 116)), (3, (46, 32)), (3, (32, 240)), (3, (32, 112)), (3, (32, 109)), (3, (32, 100)), (3, (32, 98)), (2, (128, 153)), (2, (121, 32)), (2, (119, 104)), (2, (119, 101)), (2, (117, 112)), (2, (116, 97)), (2, (115, 117)), (2, (114, 121)), (2, (114, 111)), (2, (114, 97)), (2, (112, 114)), (2, (112, 112)), (2, (112, 111)), (2, (112, 108)), (2, (111, 110)), (2, (111, 103)), (2, (110, 115)), (2, (110, 111)), (2, (109, 109)), (2, (108, 105)), (2, (107, 101)), (2, (105, 116)), (2, (105, 111)), (2, (105, 107)), (2, (105, 100)), (2, (104, 116)), (2, (104, 111)), (2, (103, 114)), (2, (103, 104)), (2, (102, 116)), (2, (102, 111)), (2, (102, 32)), (2, (101, 226)), (2, (101, 118)), (2, (101, 112)), (2, (100, 111)), (2, (100, 105)), (2, (100, 97)), (2, (99, 97)), (2, (98, 101)), (2, (97, 108)), (2, (33, 32)), (2, (32, 114)), (2, (32, 110)), (2, (32, 99)), (1, (239, 188)), (1, (189, 143)), (1, (189, 142)), (1, (189, 137)), (1, (189, 133)), (1, (189, 132)), (1, (189, 131)), (1, (189, 32)), (1, (188, 181)), (1, (186, 226)), (1, (181, 239)), (1, (180, 226)), (1, (179, 226)), (1, (174, 226)), (1, (170, 33)), (1, (169, 226)), (1, (168, 226)), (1, (164, 240)), (1, (159, 152)), (1, (158, 240)), (1, (157, 240)), (1, (157, 32)), (1, (156, 115)), (1, (153, 116)), (1, (153, 115)), (1, (152, 240)), (1, (152, 132)), (1, (148, 226)), (1, (148, 108)), (1, (147, 240)), (1, (146, 240)), (1, (143, 239)), (1, (142, 239)), (1, (137, 239)), (1, (135, 186)), (1, (135, 180)), (1, (135, 179)), (1, (135, 174)), (1, (135, 170)), (1, (135, 169)), (1, (135, 168)), (1, (133, 164)), (1, (133, 158)), (1, (133, 157)), (1, (133, 152)), (1, (133, 148)), (1, (133, 147)), (1, (133, 146)), (1, (133, 33)), (1, (132, 239)), (1, (132, 32)), (1, (131, 239)), (1, (128, 189)), (1, (128, 157)), (1, (128, 156)), (1, (128, 148)), (1, (122, 101)), (1, (121, 115)), (1, (121, 101)), (1, (120, 101)), (1, (119, 111)), (1, (119, 105)), (1, (119, 99)), (1, (119, 97)), (1, (119, 32)), (1, (118, 105)), (1, (117, 116)), (1, (117, 114)), (1, (117, 103)), (1, (116, 119)), (1, (116, 116)), (1, (116, 108)), (1, (116, 63)), (1, (115, 226)), (1, (115, 111)), (1, (115, 105)), (1, (115, 101)), (1, (115, 97)), (1, (114, 117)), (1, (114, 108)), (1, (114, 100)), (1, (114, 95)), (1, (112, 116)), (1, (112, 97)), (1, (111, 122)), (1, (111, 119)), (1, (111, 116)), (1, (111, 108)), (1, (110, 226)), (1, (110, 110)), (1, (110, 101)), (1, (110, 99)), (1, (110, 97)), (1, (110, 46)), (1, (109, 121)), (1, (109, 111)), (1, (109, 105)), (1, (108, 117)), (1, (108, 100)), (1, (108, 97)), (1, (107, 110)), (1, (105, 118)), (1, (105, 109)), (1, (105, 108)), (1, (105, 103)), (1, (104, 105)), (1, (103, 115)), (1, (103, 101)), (1, (103, 46)), (1, (102, 105)), (1, (102, 101)), (1, (101, 120)), (1, (101, 109)), (1, (101, 46)), (1, (101, 44)), (1, (100, 119)), (1, (100, 45)), (1, (99, 104)), (1, (99, 101)), (1, (98, 115)), (1, (98, 108)), (1, (97, 119)), (1, (97, 103)), (1, (97, 102)), (1, (97, 98)), (1, (97, 32)), (1, (95, 116)), (1, (87, 101)), (1, (84, 104)), (1, (83, 116)), (1, (73, 32)), (1, (66, 117)), (1, (63, 41)), (1, (51, 48)), (1, (48, 32)), (1, (45, 112)), (1, (41, 46)), (1, (40, 119)), (1, (32, 226)), (1, (32, 121)), (1, (32, 118)), (1, (32, 117)), (1, (32, 108)), (1, (32, 107)), (1, (32, 104)), (1, (32, 101)), (1, (32, 87)), (1, (32, 84)), (1, (32, 83)), (1, (32, 73)), (1, (32, 66)), (1, (32, 51)), (1, (32, 40))]\n"
     ]
    }
   ],
   "source": [
    "def get_stats(ids):\n",
    "    counts = {}\n",
    "    for pair in zip(ids, ids[1:]): # Pythonic way to iterate consecutive elements\n",
    "        counts[pair] = counts.get(pair, 0) + 1\n",
    "    return counts\n",
    "\n",
    "stats = get_stats(tokens)\n",
    "# print(stats)\n",
    "print(sorted(((v,k) for k,v in stats.items()), reverse=True))"
   ]
  },
  {
   "cell_type": "code",
   "execution_count": 11,
   "id": "bf3a59d8-5b19-4a29-8154-ff46de3584fa",
   "metadata": {},
   "outputs": [
    {
     "data": {
      "text/plain": [
       "('e', ' ')"
      ]
     },
     "execution_count": 11,
     "metadata": {},
     "output_type": "execute_result"
    }
   ],
   "source": [
    "chr(101), chr(32)"
   ]
  },
  {
   "cell_type": "code",
   "execution_count": 12,
   "id": "399efeda-a1e6-4176-a95f-38f1950e0a4e",
   "metadata": {},
   "outputs": [
    {
     "data": {
      "text/plain": [
       "(101, 32)"
      ]
     },
     "execution_count": 12,
     "metadata": {},
     "output_type": "execute_result"
    }
   ],
   "source": [
    "top_pair = max(stats, key=stats.get)\n",
    "top_pair"
   ]
  },
  {
   "cell_type": "code",
   "execution_count": 13,
   "id": "a45659b3-a82e-4fa3-8035-7f0a9cf30e4f",
   "metadata": {},
   "outputs": [
    {
     "name": "stdout",
     "output_type": "stream",
     "text": [
      "[5, 6, 99, 9, 1]\n"
     ]
    }
   ],
   "source": [
    "def merge(ids, pair, idx):\n",
    "  # in the list of ints (ids), replace all consecutive occurences of pair with the new token idx\n",
    "  newids = []\n",
    "  i = 0\n",
    "  while i < len(ids):\n",
    "    # if we are not at the very last position AND the pair matches, replace it\n",
    "    if i < len(ids) - 1 and ids[i] == pair[0] and ids[i+1] == pair[1]:\n",
    "      newids.append(idx)\n",
    "      i += 2\n",
    "    else:\n",
    "      newids.append(ids[i])\n",
    "      i += 1\n",
    "  return newids\n",
    "\n",
    "print(merge([5, 6, 6, 7, 9, 1], (6, 7), 99))"
   ]
  },
  {
   "cell_type": "code",
   "execution_count": 14,
   "id": "5e1bc31b-c755-4a53-9525-a2a283ceb0b5",
   "metadata": {},
   "outputs": [
    {
     "name": "stdout",
     "output_type": "stream",
     "text": [
      "[239, 188, 181, 239, 189, 142, 239, 189, 137, 239, 189, 131, 239, 189, 143, 239, 189, 132, 239, 189, 133, 33, 32, 240, 159, 133, 164, 240, 159, 133, 157, 240, 159, 133, 152, 240, 159, 133, 146, 240, 159, 133, 158, 240, 159, 133, 147, 240, 159, 133, 148, 226, 128, 189, 32, 240, 159, 135, 186, 226, 128, 140, 240, 159, 135, 179, 226, 128, 140, 240, 159, 135, 174, 226, 128, 140, 240, 159, 135, 168, 226, 128, 140, 240, 159, 135, 180, 226, 128, 140, 240, 159, 135, 169, 226, 128, 140, 240, 159, 135, 170, 33, 32, 240, 159, 152, 132, 32, 84, 104, 256, 118, 101, 114, 121, 32, 110, 97, 109, 256, 115, 116, 114, 105, 107, 101, 115, 32, 102, 101, 97, 114, 32, 97, 110, 100, 32, 97, 119, 256, 105, 110, 116, 111, 32, 116, 104, 256, 104, 101, 97, 114, 116, 115, 32, 111, 102, 32, 112, 114, 111, 103, 114, 97, 109, 109, 101, 114, 115, 32, 119, 111, 114, 108, 100, 119, 105, 100, 101, 46, 32, 87, 256, 97, 108, 108, 32, 107, 110, 111, 119, 32, 119, 256, 111, 117, 103, 104, 116, 32, 116, 111, 32, 226, 128, 156, 115, 117, 112, 112, 111, 114, 116, 32, 85, 110, 105, 99, 111, 100, 101, 226, 128, 157, 32, 105, 110, 32, 111, 117, 114, 32, 115, 111, 102, 116, 119, 97, 114, 256, 40, 119, 104, 97, 116, 101, 118, 101, 114, 32, 116, 104, 97, 116, 32, 109, 101, 97, 110, 115, 226, 128, 148, 108, 105, 107, 256, 117, 115, 105, 110, 103, 32, 119, 99, 104, 97, 114, 95, 116, 32, 102, 111, 114, 32, 97, 108, 108, 32, 116, 104, 256, 115, 116, 114, 105, 110, 103, 115, 44, 32, 114, 105, 103, 104, 116, 63, 41, 46, 32, 66, 117, 116, 32, 85, 110, 105, 99, 111, 100, 256, 99, 97, 110, 32, 98, 256, 97, 98, 115, 116, 114, 117, 115, 101, 44, 32, 97, 110, 100, 32, 100, 105, 118, 105, 110, 103, 32, 105, 110, 116, 111, 32, 116, 104, 256, 116, 104, 111, 117, 115, 97, 110, 100, 45, 112, 97, 103, 256, 85, 110, 105, 99, 111, 100, 256, 83, 116, 97, 110, 100, 97, 114, 100, 32, 112, 108, 117, 115, 32, 105, 116, 115, 32, 100, 111, 122, 101, 110, 115, 32, 111, 102, 32, 115, 117, 112, 112, 108, 101, 109, 101, 110, 116, 97, 114, 121, 32, 97, 110, 110, 101, 120, 101, 115, 44, 32, 114, 101, 112, 111, 114, 116, 115, 44, 32, 97, 110, 100, 32, 110, 111, 116, 101, 115, 32, 99, 97, 110, 32, 98, 256, 109, 111, 114, 256, 116, 104, 97, 110, 32, 97, 32, 108, 105, 116, 116, 108, 256, 105, 110, 116, 105, 109, 105, 100, 97, 116, 105, 110, 103, 46, 32, 73, 32, 100, 111, 110, 226, 128, 153, 116, 32, 98, 108, 97, 109, 256, 112, 114, 111, 103, 114, 97, 109, 109, 101, 114, 115, 32, 102, 111, 114, 32, 115, 116, 105, 108, 108, 32, 102, 105, 110, 100, 105, 110, 103, 32, 116, 104, 256, 119, 104, 111, 108, 256, 116, 104, 105, 110, 103, 32, 109, 121, 115, 116, 101, 114, 105, 111, 117, 115, 44, 32, 101, 118, 101, 110, 32, 51, 48, 32, 121, 101, 97, 114, 115, 32, 97, 102, 116, 101, 114, 32, 85, 110, 105, 99, 111, 100, 101, 226, 128, 153, 115, 32, 105, 110, 99, 101, 112, 116, 105, 111, 110, 46]\n",
      "length: 596\n"
     ]
    }
   ],
   "source": [
    "tokens2 = merge(tokens, top_pair, 256)\n",
    "print(tokens2)\n",
    "print(\"length:\", len(tokens2))"
   ]
  },
  {
   "cell_type": "code",
   "execution_count": 15,
   "id": "e4cbca7d-cbbc-49d8-99c0-faa149a88a1c",
   "metadata": {},
   "outputs": [],
   "source": [
    "# making the training text longer to have more representative token statistics\n",
    "# text from https://www.reedbeta.com/blog/programmers-intro-to-unicode/\n",
    "text = \"\"\"A Programmer’s Introduction to Unicode March 3, 2017 · Coding · 22 Comments  Ｕｎｉｃｏｄｅ! 🅤🅝🅘🅒🅞🅓🅔‽ 🇺\\u200c🇳\\u200c🇮\\u200c🇨\\u200c🇴\\u200c🇩\\u200c🇪! 😄 The very name strikes fear and awe into the hearts of programmers worldwide. We all know we ought to “support Unicode” in our software (whatever that means—like using wchar_t for all the strings, right?). But Unicode can be abstruse, and diving into the thousand-page Unicode Standard plus its dozens of supplementary annexes, reports, and notes can be more than a little intimidating. I don’t blame programmers for still finding the whole thing mysterious, even 30 years after Unicode’s inception.  A few months ago, I got interested in Unicode and decided to spend some time learning more about it in detail. In this article, I’ll give an introduction to it from a programmer’s point of view.  I’m going to focus on the character set and what’s involved in working with strings and files of Unicode text. However, in this article I’m not going to talk about fonts, text layout/shaping/rendering, or localization in detail—those are separate issues, beyond my scope (and knowledge) here.  Diversity and Inherent Complexity The Unicode Codespace Codespace Allocation Scripts Usage Frequency Encodings UTF-8 UTF-16 Combining Marks Canonical Equivalence Normalization Forms Grapheme Clusters And More… Diversity and Inherent Complexity As soon as you start to study Unicode, it becomes clear that it represents a large jump in complexity over character sets like ASCII that you may be more familiar with. It’s not just that Unicode contains a much larger number of characters, although that’s part of it. Unicode also has a great deal of internal structure, features, and special cases, making it much more than what one might expect a mere “character set” to be. We’ll see some of that later in this article.  When confronting all this complexity, especially as an engineer, it’s hard not to find oneself asking, “Why do we need all this? Is this really necessary? Couldn’t it be simplified?”  However, Unicode aims to faithfully represent the entire world’s writing systems. The Unicode Consortium’s stated goal is “enabling people around the world to use computers in any language”. And as you might imagine, the diversity of written languages is immense! To date, Unicode supports 135 different scripts, covering some 1100 languages, and there’s still a long tail of over 100 unsupported scripts, both modern and historical, which people are still working to add.  Given this enormous diversity, it’s inevitable that representing it is a complicated project. Unicode embraces that diversity, and accepts the complexity inherent in its mission to include all human writing systems. It doesn’t make a lot of trade-offs in the name of simplification, and it makes exceptions to its own rules where necessary to further its mission.  Moreover, Unicode is committed not just to supporting texts in any single language, but also to letting multiple languages coexist within one text—which introduces even more complexity.  Most programming languages have libraries available to handle the gory low-level details of text manipulation, but as a programmer, you’ll still need to know about certain Unicode features in order to know when and how to apply them. It may take some time to wrap your head around it all, but don’t be discouraged—think about the billions of people for whom your software will be more accessible through supporting text in their language. Embrace the complexity!  The Unicode Codespace Let’s start with some general orientation. The basic elements of Unicode—its “characters”, although that term isn’t quite right—are called code points. Code points are identified by number, customarily written in hexadecimal with the prefix “U+”, such as U+0041 “A” latin capital letter a or U+03B8 “θ” greek small letter theta. Each code point also has a short name, and quite a few other properties, specified in the Unicode Character Database.  The set of all possible code points is called the codespace. The Unicode codespace consists of 1,114,112 code points. However, only 128,237 of them—about 12% of the codespace—are actually assigned, to date. There’s plenty of room for growth! Unicode also reserves an additional 137,468 code points as “private use” areas, which have no standardized meaning and are available for individual applications to define for their own purposes.  Codespace Allocation To get a feel for how the codespace is laid out, it’s helpful to visualize it. Below is a map of the entire codespace, with one pixel per code point. It’s arranged in tiles for visual coherence; each small square is 16×16 = 256 code points, and each large square is a “plane” of 65,536 code points. There are 17 planes altogether.  Map of the Unicode codespace (click to zoom)  White represents unassigned space. Blue is assigned code points, green is private-use areas, and the small red area is surrogates (more about those later). As you can see, the assigned code points are distributed somewhat sparsely, but concentrated in the first three planes.  Plane 0 is also known as the “Basic Multilingual Plane”, or BMP. The BMP contains essentially all the characters needed for modern text in any script, including Latin, Cyrillic, Greek, Han (Chinese), Japanese, Korean, Arabic, Hebrew, Devanagari (Indian), and many more.  (In the past, the codespace was just the BMP and no more—Unicode was originally conceived as a straightforward 16-bit encoding, with only 65,536 code points. It was expanded to its current size in 1996. However, the vast majority of code points in modern text belong to the BMP.)  Plane 1 contains historical scripts, such as Sumerian cuneiform and Egyptian hieroglyphs, as well as emoji and various other symbols. Plane 2 contains a large block of less-common and historical Han characters. The remaining planes are empty, except for a small number of rarely-used formatting characters in Plane 14; planes 15–16 are reserved entirely for private use.  Scripts Let’s zoom in on the first three planes, since that’s where the action is:  Map of scripts in Unicode planes 0–2 (click to zoom)  This map color-codes the 135 different scripts in Unicode. You can see how Han () and Korean () take up most of the range of the BMP (the left large square). By contrast, all of the European, Middle Eastern, and South Asian scripts fit into the first row of the BMP in this diagram.  Many areas of the codespace are adapted or copied from earlier encodings. For example, the first 128 code points of Unicode are just a copy of ASCII. This has clear benefits for compatibility—it’s easy to losslessly convert texts from smaller encodings into Unicode (and the other direction too, as long as no characters outside the smaller encoding are used).  Usage Frequency One more interesting way to visualize the codespace is to look at the distribution of usage—in other words, how often each code point is actually used in real-world texts. Below is a heat map of planes 0–2 based on a large sample of text from Wikipedia and Twitter (all languages). Frequency increases from black (never seen) through red and yellow to white.  Heat map of code point usage frequency in Unicode planes 0–2 (click to zoom)  You can see that the vast majority of this text sample lies in the BMP, with only scattered usage of code points from planes 1–2. The biggest exception is emoji, which show up here as the several bright squares in the bottom row of plane 1.  Encodings We’ve seen that Unicode code points are abstractly identified by their index in the codespace, ranging from U+0000 to U+10FFFF. But how do code points get represented as bytes, in memory or in a file?  The most convenient, computer-friendliest (and programmer-friendliest) thing to do would be to just store the code point index as a 32-bit integer. This works, but it consumes 4 bytes per code point, which is sort of a lot. Using 32-bit ints for Unicode will cost you a bunch of extra storage, memory, and performance in bandwidth-bound scenarios, if you work with a lot of text.  Consequently, there are several more-compact encodings for Unicode. The 32-bit integer encoding is officially called UTF-32 (UTF = “Unicode Transformation Format”), but it’s rarely used for storage. At most, it comes up sometimes as a temporary internal representation, for examining or operating on the code points in a string.  Much more commonly, you’ll see Unicode text encoded as either UTF-8 or UTF-16. These are both variable-length encodings, made up of 8-bit or 16-bit units, respectively. In these schemes, code points with smaller index values take up fewer bytes, which saves a lot of memory for typical texts. The trade-off is that processing UTF-8/16 texts is more programmatically involved, and likely slower.  UTF-8 In UTF-8, each code point is stored using 1 to 4 bytes, based on its index value.  UTF-8 uses a system of binary prefixes, in which the high bits of each byte mark whether it’s a single byte, the beginning of a multi-byte sequence, or a continuation byte; the remaining bits, concatenated, give the code point index. This table shows how it works:  UTF-8 (binary)\\tCode point (binary)\\tRange 0xxxxxxx\\txxxxxxx\\tU+0000–U+007F 110xxxxx 10yyyyyy\\txxxxxyyyyyy\\tU+0080–U+07FF 1110xxxx 10yyyyyy 10zzzzzz\\txxxxyyyyyyzzzzzz\\tU+0800–U+FFFF 11110xxx 10yyyyyy 10zzzzzz 10wwwwww\\txxxyyyyyyzzzzzzwwwwww\\tU+10000–U+10FFFF A handy property of UTF-8 is that code points below 128 (ASCII characters) are encoded as single bytes, and all non-ASCII code points are encoded using sequences of bytes 128–255. This has a couple of nice consequences. First, any strings or files out there that are already in ASCII can also be interpreted as UTF-8 without any conversion. Second, lots of widely-used string programming idioms—such as null termination, or delimiters (newlines, tabs, commas, slashes, etc.)—will just work on UTF-8 strings. ASCII bytes never occur inside the encoding of non-ASCII code points, so searching byte-wise for a null terminator or a delimiter will do the right thing.  Thanks to this convenience, it’s relatively simple to extend legacy ASCII programs and APIs to handle UTF-8 strings. UTF-8 is very widely used in the Unix/Linux and Web worlds, and many programmers argue UTF-8 should be the default encoding everywhere.  However, UTF-8 isn’t a drop-in replacement for ASCII strings in all respects. For instance, code that iterates over the “characters” in a string will need to decode UTF-8 and iterate over code points (or maybe grapheme clusters—more about those later), not bytes. When you measure the “length” of a string, you’ll need to think about whether you want the length in bytes, the length in code points, the width of the text when rendered, or something else.  UTF-16 The other encoding that you’re likely to encounter is UTF-16. It uses 16-bit words, with each code point stored as either 1 or 2 words.  Like UTF-8, we can express the UTF-16 encoding rules in the form of binary prefixes:  UTF-16 (binary)\\tCode point (binary)\\tRange xxxxxxxxxxxxxxxx\\txxxxxxxxxxxxxxxx\\tU+0000–U+FFFF 110110xxxxxxxxxx 110111yyyyyyyyyy\\txxxxxxxxxxyyyyyyyyyy + 0x10000\\tU+10000–U+10FFFF A more common way that people talk about UTF-16 encoding, though, is in terms of code points called “surrogates”. All the code points in the range U+D800–U+DFFF—or in other words, the code points that match the binary prefixes 110110 and 110111 in the table above—are reserved specifically for UTF-16 encoding, and don’t represent any valid characters on their own. They’re only meant to occur in the 2-word encoding pattern above, which is called a “surrogate pair”. Surrogate code points are illegal in any other context! They’re not allowed in UTF-8 or UTF-32 at all.  Historically, UTF-16 is a descendant of the original, pre-1996 versions of Unicode, in which there were only 65,536 code points. The original intention was that there would be no different “encodings”; Unicode was supposed to be a straightforward 16-bit character set. Later, the codespace was expanded to make room for a long tail of less-common (but still important) Han characters, which the Unicode designers didn’t originally plan for. Surrogates were then introduced, as—to put it bluntly—a kludge, allowing 16-bit encodings to access the new code points.  Today, Javascript uses UTF-16 as its standard string representation: if you ask for the length of a string, or iterate over it, etc., the result will be in UTF-16 words, with any code points outside the BMP expressed as surrogate pairs. UTF-16 is also used by the Microsoft Win32 APIs; though Win32 supports either 8-bit or 16-bit strings, the 8-bit version unaccountably still doesn’t support UTF-8—only legacy code-page encodings, like ANSI. This leaves UTF-16 as the only way to get proper Unicode support in Windows. (Update: in Win10 version 1903, they finally added UTF-8 support to the 8-bit APIs! 😊)  By the way, UTF-16’s words can be stored either little-endian or big-endian. Unicode has no opinion on that issue, though it does encourage the convention of putting U+FEFF zero width no-break space at the top of a UTF-16 file as a byte-order mark, to disambiguate the endianness. (If the file doesn’t match the system’s endianness, the BOM will be decoded as U+FFFE, which isn’t a valid code point.)  Combining Marks In the story so far, we’ve been focusing on code points. But in Unicode, a “character” can be more complicated than just an individual code point!  Unicode includes a system for dynamically composing characters, by combining multiple code points together. This is used in various ways to gain flexibility without causing a huge combinatorial explosion in the number of code points.  In European languages, for example, this shows up in the application of diacritics to letters. Unicode supports a wide range of diacritics, including acute and grave accents, umlauts, cedillas, and many more. All these diacritics can be applied to any letter of any alphabet—and in fact, multiple diacritics can be used on a single letter.  If Unicode tried to assign a distinct code point to every possible combination of letter and diacritics, things would rapidly get out of hand. Instead, the dynamic composition system enables you to construct the character you want, by starting with a base code point (the letter) and appending additional code points, called “combining marks”, to specify the diacritics. When a text renderer sees a sequence like this in a string, it automatically stacks the diacritics over or under the base letter to create a composed character.  For example, the accented character “Á” can be expressed as a string of two code points: U+0041 “A” latin capital letter a plus U+0301 “◌́” combining acute accent. This string automatically gets rendered as a single character: “Á”.  Now, Unicode does also include many “precomposed” code points, each representing a letter with some combination of diacritics already applied, such as U+00C1 “Á” latin capital letter a with acute or U+1EC7 “ệ” latin small letter e with circumflex and dot below. I suspect these are mostly inherited from older encodings that were assimilated into Unicode, and kept around for compatibility. In practice, there are precomposed code points for most of the common letter-with-diacritic combinations in European-script languages, so they don’t use dynamic composition that much in typical text.  Still, the system of combining marks does allow for an arbitrary number of diacritics to be stacked on any base character. The reductio-ad-absurdum of this is Zalgo text, which works by ͖͟ͅr͞aṋ̫̠̖͈̗d͖̻̹óm̪͙͕̗̝ļ͇̰͓̳̫ý͓̥̟͍ ̕s̫t̫̱͕̗̰̼̘͜a̼̩͖͇̠͈̣͝c̙͍k̖̱̹͍͘i̢n̨̺̝͇͇̟͙ģ̫̮͎̻̟ͅ ̕n̼̺͈͞u̮͙m̺̭̟̗͞e̞͓̰̤͓̫r̵o̖ṷs҉̪͍̭̬̝̤ ̮͉̝̞̗̟͠d̴̟̜̱͕͚i͇̫̼̯̭̜͡ḁ͙̻̼c̲̲̹r̨̠̹̣̰̦i̱t̤̻̤͍͙̘̕i̵̜̭̤̱͎c̵s ͘o̱̲͈̙͖͇̲͢n͘ ̜͈e̬̲̠̩ac͕̺̠͉h̷̪ ̺̣͖̱ḻ̫̬̝̹ḙ̙̺͙̭͓̲t̞̞͇̲͉͍t̷͔̪͉̲̻̠͙e̦̻͈͉͇r͇̭̭̬͖,̖́ ̜͙͓̣̭s̘̘͈o̱̰̤̲ͅ ̛̬̜̙t̼̦͕̱̹͕̥h̳̲͈͝ͅa̦t̻̲ ̻̟̭̦̖t̛̰̩h̠͕̳̝̫͕e͈̤̘͖̞͘y҉̝͙ ̷͉͔̰̠o̞̰v͈͈̳̘͜er̶f̰͈͔ḻ͕̘̫̺̲o̲̭͙͠ͅw̱̳̺ ͜t̸h͇̭͕̳͍e̖̯̟̠ ͍̞̜͔̩̪͜ļ͎̪̲͚i̝̲̹̙̩̹n̨̦̩̖ḙ̼̲̼͢ͅ ̬͝s̼͚̘̞͝p͙̘̻a̙c҉͉̜̤͈̯̖i̥͡n̦̠̱͟g̸̗̻̦̭̮̟ͅ ̳̪̠͖̳̯̕a̫͜n͝d͡ ̣̦̙ͅc̪̗r̴͙̮̦̹̳e͇͚̞͔̹̫͟a̙̺̙ț͔͎̘̹ͅe̥̩͍ a͖̪̜̮͙̹n̢͉̝ ͇͉͓̦̼́a̳͖̪̤̱p̖͔͔̟͇͎͠p̱͍̺ę̲͎͈̰̲̤̫a̯͜r̨̮̫̣̘a̩̯͖n̹̦̰͎̣̞̞c̨̦̱͔͎͍͖e̬͓͘ ̤̰̩͙̤̬͙o̵̼̻̬̻͇̮̪f̴ ̡̙̭͓͖̪̤“̸͙̠̼c̳̗͜o͏̼͙͔̮r̞̫̺̞̥̬ru̺̻̯͉̭̻̯p̰̥͓̣̫̙̤͢t̳͍̳̖ͅi̶͈̝͙̼̙̹o̡͔n̙̺̹̖̩͝ͅ”̨̗͖͚̩.̯͓  A few other places where dynamic character composition shows up in Unicode:  Vowel-pointing notation in Arabic and Hebrew. In these languages, words are normally spelled with some of their vowels left out. They then have diacritic notation to indicate the vowels (used in dictionaries, language-teaching materials, children’s books, and such). These diacritics are expressed with combining marks.  A Hebrew example, with niqqud:\\tאֶת דַלְתִּי הֵזִיז הֵנִיעַ, קֶטֶב לִשְׁכַּתִּי יָשׁוֹד Normal writing (no niqqud):\\tאת דלתי הזיז הניע, קטב לשכתי ישוד Devanagari, the script used to write Hindi, Sanskrit, and many other South Asian languages, expresses certain vowels as combining marks attached to consonant letters. For example, “ह” + “\\u200bि” = “हि” (“h” + “i” = “hi”). Korean characters stand for syllables, but they are composed of letters called jamo that stand for the vowels and consonants in the syllable. While there are code points for precomposed Korean syllables, it’s also possible to dynamically compose them by concatenating their jamo. For example, “ᄒ” + “ᅡ” + “ᆫ” = “한” (“h” + “a” + “n” = “han”). Canonical Equivalence In Unicode, precomposed characters exist alongside the dynamic composition system. A consequence of this is that there are multiple ways to express “the same” string—different sequences of code points that result in the same user-perceived characters. For example, as we saw earlier, we can express the character “Á” either as the single code point U+00C1, or as the string of two code points U+0041 U+0301.  Another source of ambiguity is the ordering of multiple diacritics in a single character. Diacritic order matters visually when two diacritics apply to the same side of the base character, e.g. both above: “ǡ” (dot, then macron) is different from “ā̇” (macron, then dot). However, when diacritics apply to different sides of the character, e.g. one above and one below, then the order doesn’t affect rendering. Moreover, a character with multiple diacritics might have one of the diacritics precomposed and others expressed as combining marks.  For example, the Vietnamese letter “ệ” can be expressed in five different ways:  Fully precomposed: U+1EC7 “ệ” Partially precomposed: U+1EB9 “ẹ” + U+0302 “◌̂” Partially precomposed: U+00EA “ê” + U+0323 “◌̣” Fully decomposed: U+0065 “e” + U+0323 “◌̣” + U+0302 “◌̂” Fully decomposed: U+0065 “e” + U+0302 “◌̂” + U+0323 “◌̣” Unicode refers to set of strings like this as “canonically equivalent”. Canonically equivalent strings are supposed to be treated as identical for purposes of searching, sorting, rendering, text selection, and so on. This has implications for how you implement operations on text. For example, if an app has a “find in file” operation and the user searches for “ệ”, it should, by default, find occurrences of any of the five versions of “ệ” above!  Normalization Forms To address the problem of “how to handle canonically equivalent strings”, Unicode defines several normalization forms: ways of converting strings into a canonical form so that they can be compared code-point-by-code-point (or byte-by-byte).  The “NFD” normalization form fully decomposes every character down to its component base and combining marks, taking apart any precomposed code points in the string. It also sorts the combining marks in each character according to their rendered position, so e.g. diacritics that go below the character come before the ones that go above the character. (It doesn’t reorder diacritics in the same rendered position, since their order matters visually, as previously mentioned.)  The “NFC” form, conversely, puts things back together into precomposed code points as much as possible. If an unusual combination of diacritics is called for, there may not be any precomposed code point for it, in which case NFC still precomposes what it can and leaves any remaining combining marks in place (again ordered by rendered position, as in NFD).  There are also forms called NFKD and NFKC. The “K” here refers to compatibility decompositions, which cover characters that are “similar” in some sense but not visually identical. However, I’m not going to cover that here.  Grapheme Clusters As we’ve seen, Unicode contains various cases where a thing that a user thinks of as a single “character” might actually be made up of multiple code points under the hood. Unicode formalizes this using the notion of a grapheme cluster: a string of one or more code points that constitute a single “user-perceived character”.  UAX #29 defines the rules for what, precisely, qualifies as a grapheme cluster. It’s approximately “a base code point followed by any number of combining marks”, but the actual definition is a bit more complicated; it accounts for things like Korean jamo, and emoji ZWJ sequences.  The main thing grapheme clusters are used for is text editing: they’re often the most sensible unit for cursor placement and text selection boundaries. Using grapheme clusters for these purposes ensures that you can’t accidentally chop off some diacritics when you copy-and-paste text, that left/right arrow keys always move the cursor by one visible character, and so on.  Another place where grapheme clusters are useful is in enforcing a string length limit—say, on a database field. While the true, underlying limit might be something like the byte length of the string in UTF-8, you wouldn’t want to enforce that by just truncating bytes. At a minimum, you’d want to “round down” to the nearest code point boundary; but even better, round down to the nearest grapheme cluster boundary. Otherwise, you might be corrupting the last character by cutting off a diacritic, or interrupting a jamo sequence or ZWJ sequence.  And More… There’s much more that could be said about Unicode from a programmer’s perspective! I haven’t gotten into such fun topics as case mapping, collation, compatibility decompositions and confusables, Unicode-aware regexes, or bidirectional text. Nor have I said anything yet about implementation issues—how to efficiently store and look-up data about the sparsely-assigned code points, or how to optimize UTF-8 decoding, string comparison, or NFC normalization. Perhaps I’ll return to some of those things in future posts.  Unicode is a fascinating and complex system. It has a many-to-one mapping between bytes and code points, and on top of that a many-to-one (or, under some circumstances, many-to-many) mapping between code points and “characters”. It has oddball special cases in every corner. But no one ever claimed that representing all written languages was going to be easy, and it’s clear that we’re never going back to the bad old days of a patchwork of incompatible encodings.  Further reading:  The Unicode Standard UTF-8 Everywhere Manifesto Dark corners of Unicode by Eevee ICU (International Components for Unicode)—C/C++/Java libraries implementing many Unicode algorithms and related things Python 3 Unicode Howto Google Noto Fonts—set of fonts intended to cover all assigned code points\"\"\"\n",
    "tokens = text.encode(\"utf-8\") # raw bytes\n",
    "tokens = list(map(int, tokens)) # convert to a list of integers in range 0..255 for convenience"
   ]
  },
  {
   "cell_type": "code",
   "execution_count": 16,
   "id": "a7d29243-1c44-4198-a4f9-c603ce654b5d",
   "metadata": {},
   "outputs": [
    {
     "name": "stdout",
     "output_type": "stream",
     "text": [
      "merging (101, 32) into a new token 256\n",
      "merging (105, 110) into a new token 257\n",
      "merging (115, 32) into a new token 258\n",
      "merging (116, 104) into a new token 259\n",
      "merging (101, 114) into a new token 260\n",
      "merging (99, 111) into a new token 261\n",
      "merging (116, 32) into a new token 262\n",
      "merging (226, 128) into a new token 263\n",
      "merging (44, 32) into a new token 264\n",
      "merging (97, 110) into a new token 265\n",
      "merging (111, 114) into a new token 266\n",
      "merging (100, 32) into a new token 267\n",
      "merging (97, 114) into a new token 268\n",
      "merging (101, 110) into a new token 269\n",
      "merging (257, 103) into a new token 270\n",
      "merging (261, 100) into a new token 271\n",
      "merging (121, 32) into a new token 272\n",
      "merging (46, 32) into a new token 273\n",
      "merging (97, 108) into a new token 274\n",
      "merging (259, 256) into a new token 275\n"
     ]
    }
   ],
   "source": [
    "def get_stats(ids):\n",
    "    counts = {}\n",
    "    for pair in zip(ids, ids[1:]):\n",
    "        counts[pair] = counts.get(pair, 0) + 1\n",
    "    return counts\n",
    "\n",
    "def merge(ids, pair, idx):\n",
    "  newids = []\n",
    "  i = 0\n",
    "  while i < len(ids):\n",
    "    if i < len(ids) - 1 and ids[i] == pair[0] and ids[i+1] == pair[1]:\n",
    "      newids.append(idx)\n",
    "      i += 2\n",
    "    else:\n",
    "      newids.append(ids[i])\n",
    "      i += 1\n",
    "  return newids\n",
    "\n",
    "# ---\n",
    "vocab_size = 276 # the desired final vocabulary size\n",
    "num_merges = vocab_size - 256\n",
    "ids = list(tokens) # copy so we don't destroy the original list\n",
    "\n",
    "merges = {} # (int, int) -> int\n",
    "for i in range(num_merges):\n",
    "  stats = get_stats(ids)\n",
    "  pair = max(stats, key=stats.get)\n",
    "  idx = 256 + i\n",
    "  print(f\"merging {pair} into a new token {idx}\")\n",
    "  ids = merge(ids, pair, idx)\n",
    "  merges[pair] = idx"
   ]
  },
  {
   "cell_type": "code",
   "execution_count": 17,
   "id": "e7e76beb-3186-4ffe-a563-fb8b85a748af",
   "metadata": {},
   "outputs": [
    {
     "name": "stdout",
     "output_type": "stream",
     "text": [
      "tokens length: 24597\n",
      "ids length: 19438\n",
      "compression ratio: 1.27X\n"
     ]
    }
   ],
   "source": [
    "print(\"tokens length:\", len(tokens))\n",
    "print(\"ids length:\", len(ids))\n",
    "print(f\"compression ratio: {len(tokens) / len(ids):.2f}X\")"
   ]
  },
  {
   "cell_type": "markdown",
   "id": "ebb6f94e-31f0-4cb5-a55e-c48c83cffeab",
   "metadata": {},
   "source": [
    "Note, the Tokenizer is a completely separate, independent module from the LLM. It has its own training dataset of text (which could be different from that of the LLM), on which you train the vocabulary using the Byte Pair Encoding (BPE) algorithm. It then translates back and forth between raw text and sequences of tokens. The LLM later only ever sees the tokens and never directly deals with any text."
   ]
  },
  {
   "attachments": {
    "c1ab8da6-714e-4d87-8623-a0f27fac65a6.png": {
     "image/png": "[encoded data removed]"
    }
   },
   "cell_type": "markdown",
   "id": "76dbd4a0-26c5-49e4-a812-5d067d463907",
   "metadata": {},
   "source": [
    "![image.png](attachment:c1ab8da6-714e-4d87-8623-a0f27fac65a6.png)"
   ]
  },
  {
   "cell_type": "markdown",
   "id": "9ca8ebb5-112a-41ee-bd0d-65da8b1ef641",
   "metadata": {},
   "source": [
    "### Decoding"
   ]
  },
  {
   "cell_type": "markdown",
   "id": "4b661278-dd7c-481a-a287-f620f3fb299d",
   "metadata": {},
   "source": [
    "Given a sequence of integers in the range [0, vocab_size], what is the text?"
   ]
  },
  {
   "cell_type": "code",
   "execution_count": 18,
   "id": "e016d91a-97fe-4b8d-9914-7aa8e7eb3dba",
   "metadata": {},
   "outputs": [],
   "source": [
    "vocab = {idx: bytes([idx]) for idx in range(256)}\n",
    "for (p0, p1), idx in merges.items():\n",
    "    vocab[idx] = vocab[p0] + vocab[p1]\n",
    "\n",
    "def decode(ids):\n",
    "  # given ids (list of integers), return Python string\n",
    "  tokens = b\"\".join(vocab[idx] for idx in ids)\n",
    "  text = tokens.decode(\"utf-8\", errors=\"replace\")\n",
    "  return text"
   ]
  },
  {
   "cell_type": "code",
   "execution_count": 19,
   "id": "ac2d75c1-9232-43a6-a9a8-1950297ee4be",
   "metadata": {},
   "outputs": [
    {
     "name": "stdout",
     "output_type": "stream",
     "text": [
      "a\n"
     ]
    }
   ],
   "source": [
    "print(decode([97]))"
   ]
  },
  {
   "cell_type": "code",
   "execution_count": 20,
   "id": "77c1188c-89b7-4186-b870-2438cc7ee259",
   "metadata": {},
   "outputs": [
    {
     "name": "stdout",
     "output_type": "stream",
     "text": [
      "�\n"
     ]
    }
   ],
   "source": [
    "print(decode([128]))"
   ]
  },
  {
   "cell_type": "markdown",
   "id": "ab28d253-d82e-46a9-9add-f644b042dc16",
   "metadata": {},
   "source": [
    "### Encoding\n",
    "The other way around: Given a string, what are the tokens?"
   ]
  },
  {
   "cell_type": "code",
   "execution_count": 21,
   "id": "f69629c0-dce8-4981-af5c-de0086e8e332",
   "metadata": {},
   "outputs": [
    {
     "data": {
      "text/plain": [
       "{(101, 32): 256,\n",
       " (105, 110): 257,\n",
       " (115, 32): 258,\n",
       " (116, 104): 259,\n",
       " (101, 114): 260,\n",
       " (99, 111): 261,\n",
       " (116, 32): 262,\n",
       " (226, 128): 263,\n",
       " (44, 32): 264,\n",
       " (97, 110): 265,\n",
       " (111, 114): 266,\n",
       " (100, 32): 267,\n",
       " (97, 114): 268,\n",
       " (101, 110): 269,\n",
       " (257, 103): 270,\n",
       " (261, 100): 271,\n",
       " (121, 32): 272,\n",
       " (46, 32): 273,\n",
       " (97, 108): 274,\n",
       " (259, 256): 275}"
      ]
     },
     "execution_count": 21,
     "metadata": {},
     "output_type": "execute_result"
    }
   ],
   "source": [
    "merges"
   ]
  },
  {
   "cell_type": "code",
   "execution_count": 22,
   "id": "e408ac3f-42a3-456d-96bb-ee19ad787c7b",
   "metadata": {},
   "outputs": [
    {
     "name": "stdout",
     "output_type": "stream",
     "text": [
      "[]\n"
     ]
    }
   ],
   "source": [
    "def encode(text):\n",
    "  # given a string, return list of integers (the tokens)\n",
    "  tokens = list(text.encode(\"utf-8\"))\n",
    "  while len(tokens) >= 2:\n",
    "    stats = get_stats(tokens)\n",
    "    pair = min(stats, key=lambda p: merges.get(p, float(\"inf\")))\n",
    "    if pair not in merges:\n",
    "      break # nothing else can be merged\n",
    "    idx = merges[pair]\n",
    "    tokens = merge(tokens, pair, idx)\n",
    "  return tokens\n",
    "\n",
    "print(encode(\"\"))"
   ]
  },
  {
   "cell_type": "code",
   "execution_count": 23,
   "id": "65e1bd26-3f47-41a4-a011-f250149e6a0e",
   "metadata": {},
   "outputs": [
    {
     "name": "stdout",
     "output_type": "stream",
     "text": [
      "hello world\n"
     ]
    }
   ],
   "source": [
    "print(decode(encode(\"hello world\")))"
   ]
  },
  {
   "cell_type": "code",
   "execution_count": 24,
   "id": "18f7c21d-aa07-4e03-99ca-7256c3092482",
   "metadata": {},
   "outputs": [
    {
     "name": "stdout",
     "output_type": "stream",
     "text": [
      "True\n"
     ]
    }
   ],
   "source": [
    "text2 = decode(encode(text))\n",
    "print(text2 == text)"
   ]
  },
  {
   "cell_type": "code",
   "execution_count": 25,
   "id": "55672feb-026a-4ba6-a108-1f504d185d3d",
   "metadata": {},
   "outputs": [
    {
     "name": "stdout",
     "output_type": "stream",
     "text": [
      "True\n"
     ]
    }
   ],
   "source": [
    "valtext = \"Many common characters, including numerals, punctuation, and other symbols, are unified within the standard and are not treated as specific to any given writing system. Unicode encodes thousands of emoji, with the continued development thereof conducted by the Consortium as a part of the standard.[4] Moreover, the widespread adoption of Unicode was in large part responsible for the initial popularization of emoji outside of Japan. Unicode is ultimately capable of encoding more than 1.1 million characters.\"\n",
    "valtext2 = decode(encode(valtext))\n",
    "print(valtext2 == valtext)"
   ]
  },
  {
   "cell_type": "markdown",
   "id": "0c8c48ad-377e-4c8b-8fd9-b0df641398c3",
   "metadata": {},
   "source": [
    "### Forced splits using regex patterns (GPT series)"
   ]
  },
  {
   "cell_type": "code",
   "execution_count": 26,
   "id": "82e01992-c603-446a-90cf-bde9302cdb8a",
   "metadata": {},
   "outputs": [
    {
     "name": "stdout",
     "output_type": "stream",
     "text": [
      "['Hello', ' World']\n"
     ]
    }
   ],
   "source": [
    "import regex as re\n",
    "gpt2pat = re.compile(r\"\"\"'s|'t|'re|'ve|'m|'ll|'d| ?\\p{L}+| ?\\p{N}+| ?[^\\s\\p{L}\\p{N}]+|\\s+(?!\\S)|\\s+\"\"\")\n",
    "\n",
    "print(re.findall(gpt2pat, \"Hello World\"))"
   ]
  },
  {
   "cell_type": "code",
   "execution_count": 27,
   "id": "0f314b02-9da5-43dc-b100-390a72712034",
   "metadata": {},
   "outputs": [
    {
     "name": "stdout",
     "output_type": "stream",
     "text": [
      "['१४', ' ೬೫', ' व', 'ि', 'द', '्', 'य', 'ा']\n"
     ]
    }
   ],
   "source": [
    "# Testing the \\p{L} and \\p{N} - it does recognize Hindi and Kannada numerals as well as Devanagiri script\n",
    "print(re.findall(gpt2pat, \"१४ ೬೫ विद्या\"))"
   ]
  },
  {
   "cell_type": "code",
   "execution_count": 28,
   "id": "9de5f026-4e7a-42ee-a810-4199a2234b1b",
   "metadata": {},
   "outputs": [
    {
     "name": "stdout",
     "output_type": "stream",
     "text": [
      "['Hello', ' World', '123', '  ', ' How', \"'s\", ' you', ' ?', '            ', ' HOW', '’', 'S', ' You', ' ?!!!', ' ']\n"
     ]
    }
   ],
   "source": [
    "# Number separation, capital letters and apostrophe diff and spaces\n",
    "print(re.findall(gpt2pat, \"Hello World123   How's you ?             HOW’S You ?!!! \"))"
   ]
  },
  {
   "cell_type": "code",
   "execution_count": 29,
   "id": "3061a136-1e06-401b-9784-57359089075c",
   "metadata": {},
   "outputs": [
    {
     "name": "stdout",
     "output_type": "stream",
     "text": [
      "['Hello', ' World', '123', '  ', ' How', \"'s\", ' you', ' ?', '            ', ' HOW', '’', 'S', ' You', ' ?!!!', '          ']\n"
     ]
    }
   ],
   "source": [
    "# Number separation, capital letters and apostrophe diff and spaces in between and at the end\n",
    "print(re.findall(gpt2pat, \"Hello World123   How's you ?             HOW’S You ?!!!          \"))"
   ]
  },
  {
   "cell_type": "code",
   "execution_count": 30,
   "id": "c9df011f-035a-47ad-9986-ce103f8cef46",
   "metadata": {},
   "outputs": [
    {
     "name": "stdout",
     "output_type": "stream",
     "text": [
      "['\\n', 'for', ' i', ' in', ' range', '(', '1', ',', ' 101', '):', '\\n   ', ' if', ' i', ' %', ' 3', ' ==', ' 0', ' and', ' i', ' %', ' 5', ' ==', ' 0', ':', '\\n       ', ' print', '(\"', 'FizzBuzz', '\")', '\\n   ', ' elif', ' i', ' %', ' 3', ' ==', ' 0', ':', '\\n       ', ' print', '(\"', 'Fizz', '\")', '\\n   ', ' elif', ' i', ' %', ' 5', ' ==', ' 0', ':', '\\n       ', ' print', '(\"', 'Buzz', '\")', '\\n   ', ' else', ':', '\\n       ', ' print', '(', 'i', ')', '\\n']\n"
     ]
    }
   ],
   "source": [
    "example = \"\"\"\n",
    "for i in range(1, 101):\n",
    "    if i % 3 == 0 and i % 5 == 0:\n",
    "        print(\"FizzBuzz\")\n",
    "    elif i % 3 == 0:\n",
    "        print(\"Fizz\")\n",
    "    elif i % 5 == 0:\n",
    "        print(\"Buzz\")\n",
    "    else:\n",
    "        print(i)\n",
    "\"\"\"\n",
    "print(re.findall(gpt2pat, example))"
   ]
  },
  {
   "cell_type": "code",
   "execution_count": 31,
   "id": "c0434d48-4dc5-4def-81ff-7b14c7185b33",
   "metadata": {},
   "outputs": [
    {
     "name": "stdout",
     "output_type": "stream",
     "text": [
      "[220, 220, 220, 23748, 995, 10185]\n",
      "[262, 24748, 1917, 12340]\n"
     ]
    }
   ],
   "source": [
    "import tiktoken\n",
    "\n",
    "# GPT-2 (does not merge spaces)\n",
    "enc = tiktoken.get_encoding(\"gpt2\")\n",
    "print(enc.encode(\"    hello world!!!\"))\n",
    "\n",
    "# GPT-4 (merges spaces)\n",
    "enc = tiktoken.get_encoding(\"cl100k_base\")\n",
    "print(enc.encode(\"    hello world!!!\"))"
   ]
  },
  {
   "cell_type": "markdown",
   "id": "fc878f74-78a9-4080-8175-f4a87c463bdb",
   "metadata": {},
   "source": [
    "# https://github.com/openai/tiktoken/blob/main/tiktoken/_educational.py\n",
    "# https://github.com/openai/tiktoken/blob/main/tiktoken_ext/openai_public.py"
   ]
  },
  {
   "cell_type": "markdown",
   "id": "e68f9490-22bb-4fee-af89-486f146046cc",
   "metadata": {},
   "source": [
    "The regular expression you've provided is complex and handles several patterns at once. I'll break it down for you line by line to explain each component:\n",
    "\n",
    "```python\n",
    "r\"\"\"'\n",
    "(?i:[sdmt]|ll|ve|re)             # 1\n",
    "|[^\\r\\n\\p{L}\\p{N}]?+\\p{L}+       # 2\n",
    "|\\p{N}{1,3}                      # 3\n",
    "| ?[^\\s\\p{L}\\p{N}]++[\\r\\n]*      # 4\n",
    "|\\s*[\\r\\n]                       # 5\n",
    "|\\s+(?!\\S)                       # 6\n",
    "|\\s+                             # 7\n",
    "\"\"\"\n",
    "```\n",
    "\n",
    "1. **`(?i:[sdmt]|ll|ve|re)`**\n",
    "   - `(?i:...)`: A non-capturing group with the `i` flag, making the pattern case-insensitive.\n",
    "   - `[sdmt]`: Matches any of the single characters 's', 'd', 'm', or 't'.\n",
    "   - `ll|ve|re`: Alternation that matches either 'll', 've', or 're'.\n",
    "   - This part matches common English contractions or possessive/article endings, like in \"I've\", \"we'll\", \"it's\".\n",
    "\n",
    "2. **`|[^\\r\\n\\p{L}\\p{N}]?+\\p{L}+`**\n",
    "   - `[^\\r\\n\\p{L}\\p{N}]?+`: Optionally (but possessively) matches any character that is not a newline (`\\r` or `\\n`), a Unicode letter (`\\p{L}`), or a Unicode number (`\\p{N}`).\n",
    "   - `\\p{L}+`: Matches one or more Unicode letters.\n",
    "   - This part matches sequences beginning with an optional non-letter, non-number character, followed by one or more letters, capturing sequences of text and handling edge cases involving special characters.\n",
    "\n",
    "3. **`|\\p{N}{1,3}`**\n",
    "   - `\\p{N}{1,3}`: Matches between 1 and 3 Unicode number characters.\n",
    "   - This is used to match numbers, potentially limiting to a specific length to handle common numeric patterns.\n",
    "\n",
    "4. **`| ?[^\\s\\p{L}\\p{N}]++[\\r\\n]*`**\n",
    "   - ` ?`: Optionally matches a space.\n",
    "   - `[^\\s\\p{L}\\p{N}]++`: Possessively matches one or more characters that are not whitespace, letters, or numbers.\n",
    "   - `[\\r\\n]*`: Matches zero or more newline characters.\n",
    "   - This part might be used to capture special tokens or punctuation, followed by any following newlines.\n",
    "\n",
    "5. **`|\\s*[\\r\\n]`**\n",
    "   - `\\s*`: Matches zero or more whitespace characters.\n",
    "   - `[\\r\\n]`: Matches a newline character.\n",
    "   - This part captures newlines, optionally preceded by other whitespace, helping in text processing or cleaning.\n",
    "\n",
    "6. **`|\\s+(?!\\S)`**\n",
    "   - `\\s+`: Matches one or more whitespace characters.\n",
    "   - `(?!\\S)`: A negative lookahead that asserts what follows is not a non-whitespace character.\n",
    "   - This effectively matches trailing spaces at the end of a line or string.\n",
    "\n",
    "7. **`|\\s+`**\n",
    "   - `\\s+`: Matches one or more whitespace characters.\n",
    "   - This general catch-all for spaces can help normalize spacing or segment text based on whitespace.\n",
    "\n",
    "This regex seems to be used for processing text, possibly for tokenization or cleanup in a context like natural language processing or data preprocessing. Each component deals with different aspects of text, from handling specific types of characters to managing whitespace and line breaks."
   ]
  },
  {
   "cell_type": "markdown",
   "id": "88bd077d-3eca-4525-b85f-3fa381011f30",
   "metadata": {},
   "source": [
    "Reference the GPT-2 [encoder.py](https://github.com/openai/gpt-2/blob/master/src/encoder.py)\n",
    "Download the vocab.bpe and encoder.json files."
   ]
  },
  {
   "cell_type": "code",
   "execution_count": 32,
   "id": "0741d495-9479-4b96-a723-dbde8773d030",
   "metadata": {},
   "outputs": [],
   "source": [
    "#!wget https://openaipublic.blob.core.windows.net/gpt-2/models/1558M/vocab.bpe\n",
    "#!wget https://openaipublic.blob.core.windows.net/gpt-2/models/1558M/encoder.json"
   ]
  },
  {
   "cell_type": "code",
   "execution_count": 33,
   "id": "a3092846-8627-4913-bf7b-035ffb11f0d1",
   "metadata": {},
   "outputs": [],
   "source": [
    "import os, json\n",
    "\n",
    "with open('encoder.json', 'r') as f:\n",
    "    encoder = json.load(f) # <--- ~equivalent to our \"vocab\"\n",
    "\n",
    "with open('vocab.bpe', 'r', encoding=\"utf-8\") as f:\n",
    "    bpe_data = f.read()\n",
    "bpe_merges = [tuple(merge_str.split()) for merge_str in bpe_data.split('\\n')[1:-1]]\n",
    "# ^---- ~equivalent to our \"merges\""
   ]
  },
  {
   "cell_type": "markdown",
   "id": "a16b8b60-4797-43e6-95b0-3f883f915882",
   "metadata": {},
   "source": [
    "### special tokens"
   ]
  },
  {
   "cell_type": "code",
   "execution_count": 34,
   "id": "58840cb7-4e48-4e82-83a4-a3ac7e3c700f",
   "metadata": {},
   "outputs": [
    {
     "data": {
      "text/plain": [
       "50257"
      ]
     },
     "execution_count": 34,
     "metadata": {},
     "output_type": "execute_result"
    }
   ],
   "source": [
    "len(encoder) # 256 raw byte tokens. 50,000 merges. +1 special token"
   ]
  },
  {
   "cell_type": "code",
   "execution_count": 35,
   "id": "9dcebbd3-2894-4afd-a466-f6b28249aad9",
   "metadata": {},
   "outputs": [
    {
     "data": {
      "text/plain": [
       "50256"
      ]
     },
     "execution_count": 35,
     "metadata": {},
     "output_type": "execute_result"
    }
   ],
   "source": [
    "encoder['<|endoftext|>'] # the only special token in use for the GPT-2 base model"
   ]
  },
  {
   "cell_type": "code",
   "execution_count": 36,
   "id": "5efc50b6-adb9-40b3-802d-f93611c75cf1",
   "metadata": {},
   "outputs": [
    {
     "data": {
      "text/plain": [
       "(27, 29)"
      ]
     },
     "execution_count": 36,
     "metadata": {},
     "output_type": "execute_result"
    }
   ],
   "source": [
    "encoder['<'], encoder['>']"
   ]
  },
  {
   "cell_type": "code",
   "execution_count": 37,
   "id": "6374b557-48ee-4d1e-ab3a-216586191092",
   "metadata": {},
   "outputs": [
    {
     "data": {
      "text/plain": [
       "{'!': 0,\n",
       " '\"': 1,\n",
       " '#': 2,\n",
       " '$': 3,\n",
       " '%': 4,\n",
       " '&': 5,\n",
       " \"'\": 6,\n",
       " '(': 7,\n",
       " ')': 8,\n",
       " '*': 9,\n",
       " '+': 10,\n",
       " ',': 11,\n",
       " '-': 12,\n",
       " '.': 13,\n",
       " '/': 14,\n",
       " '0': 15,\n",
       " '1': 16,\n",
       " '2': 17,\n",
       " '3': 18,\n",
       " '4': 19,\n",
       " '5': 20,\n",
       " '6': 21,\n",
       " '7': 22,\n",
       " '8': 23,\n",
       " '9': 24,\n",
       " ':': 25,\n",
       " ';': 26,\n",
       " '<': 27,\n",
       " '=': 28,\n",
       " '>': 29,\n",
       " '?': 30,\n",
       " '@': 31,\n",
       " 'A': 32,\n",
       " 'B': 33,\n",
       " 'C': 34,\n",
       " 'D': 35,\n",
       " 'E': 36,\n",
       " 'F': 37,\n",
       " 'G': 38,\n",
       " 'H': 39,\n",
       " 'I': 40,\n",
       " 'J': 41,\n",
       " 'K': 42,\n",
       " 'L': 43,\n",
       " 'M': 44,\n",
       " 'N': 45,\n",
       " 'O': 46,\n",
       " 'P': 47,\n",
       " 'Q': 48,\n",
       " 'R': 49,\n",
       " 'S': 50,\n",
       " 'T': 51,\n",
       " 'U': 52,\n",
       " 'V': 53,\n",
       " 'W': 54,\n",
       " 'X': 55,\n",
       " 'Y': 56,\n",
       " 'Z': 57,\n",
       " '[': 58,\n",
       " '\\\\': 59,\n",
       " ']': 60,\n",
       " '^': 61,\n",
       " '_': 62,\n",
       " '`': 63,\n",
       " 'a': 64,\n",
       " 'b': 65,\n",
       " 'c': 66,\n",
       " 'd': 67,\n",
       " 'e': 68,\n",
       " 'f': 69,\n",
       " 'g': 70,\n",
       " 'h': 71,\n",
       " 'i': 72,\n",
       " 'j': 73,\n",
       " 'k': 74,\n",
       " 'l': 75,\n",
       " 'm': 76,\n",
       " 'n': 77,\n",
       " 'o': 78,\n",
       " 'p': 79,\n",
       " 'q': 80,\n",
       " 'r': 81,\n",
       " 's': 82,\n",
       " 't': 83,\n",
       " 'u': 84,\n",
       " 'v': 85,\n",
       " 'w': 86,\n",
       " 'x': 87,\n",
       " 'y': 88,\n",
       " 'z': 89,\n",
       " '{': 90,\n",
       " '|': 91,\n",
       " '}': 92,\n",
       " '~': 93,\n",
       " '¡': 94,\n",
       " '¢': 95,\n",
       " '£': 96,\n",
       " '¤': 97,\n",
       " '¥': 98,\n",
       " '¦': 99,\n",
       " '§': 100,\n",
       " '¨': 101,\n",
       " '©': 102,\n",
       " 'ª': 103,\n",
       " '«': 104,\n",
       " '¬': 105,\n",
       " '®': 106,\n",
       " '¯': 107,\n",
       " '°': 108,\n",
       " '±': 109,\n",
       " '²': 110,\n",
       " '³': 111,\n",
       " '´': 112,\n",
       " 'µ': 113,\n",
       " '¶': 114,\n",
       " '·': 115,\n",
       " '¸': 116,\n",
       " '¹': 117,\n",
       " 'º': 118,\n",
       " '»': 119,\n",
       " '¼': 120,\n",
       " '½': 121,\n",
       " '¾': 122,\n",
       " '¿': 123,\n",
       " 'À': 124,\n",
       " 'Á': 125,\n",
       " 'Â': 126,\n",
       " 'Ã': 127,\n",
       " 'Ä': 128,\n",
       " 'Å': 129,\n",
       " 'Æ': 130,\n",
       " 'Ç': 131,\n",
       " 'È': 132,\n",
       " 'É': 133,\n",
       " 'Ê': 134,\n",
       " 'Ë': 135,\n",
       " 'Ì': 136,\n",
       " 'Í': 137,\n",
       " 'Î': 138,\n",
       " 'Ï': 139,\n",
       " 'Ð': 140,\n",
       " 'Ñ': 141,\n",
       " 'Ò': 142,\n",
       " 'Ó': 143,\n",
       " 'Ô': 144,\n",
       " 'Õ': 145,\n",
       " 'Ö': 146,\n",
       " '×': 147,\n",
       " 'Ø': 148,\n",
       " 'Ù': 149,\n",
       " 'Ú': 150,\n",
       " 'Û': 151,\n",
       " 'Ü': 152,\n",
       " 'Ý': 153,\n",
       " 'Þ': 154,\n",
       " 'ß': 155,\n",
       " 'à': 156,\n",
       " 'á': 157,\n",
       " 'â': 158,\n",
       " 'ã': 159,\n",
       " 'ä': 160,\n",
       " 'å': 161,\n",
       " 'æ': 162,\n",
       " 'ç': 163,\n",
       " 'è': 164,\n",
       " 'é': 165,\n",
       " 'ê': 166,\n",
       " 'ë': 167,\n",
       " 'ì': 168,\n",
       " 'í': 169,\n",
       " 'î': 170,\n",
       " 'ï': 171,\n",
       " 'ð': 172,\n",
       " 'ñ': 173,\n",
       " 'ò': 174,\n",
       " 'ó': 175,\n",
       " 'ô': 176,\n",
       " 'õ': 177,\n",
       " 'ö': 178,\n",
       " '÷': 179,\n",
       " 'ø': 180,\n",
       " 'ù': 181,\n",
       " 'ú': 182,\n",
       " 'û': 183,\n",
       " 'ü': 184,\n",
       " 'ý': 185,\n",
       " 'þ': 186,\n",
       " 'ÿ': 187,\n",
       " 'Ā': 188,\n",
       " 'ā': 189,\n",
       " 'Ă': 190,\n",
       " 'ă': 191,\n",
       " 'Ą': 192,\n",
       " 'ą': 193,\n",
       " 'Ć': 194,\n",
       " 'ć': 195,\n",
       " 'Ĉ': 196,\n",
       " 'ĉ': 197,\n",
       " 'Ċ': 198,\n",
       " 'ċ': 199,\n",
       " 'Č': 200,\n",
       " 'č': 201,\n",
       " 'Ď': 202,\n",
       " 'ď': 203,\n",
       " 'Đ': 204,\n",
       " 'đ': 205,\n",
       " 'Ē': 206,\n",
       " 'ē': 207,\n",
       " 'Ĕ': 208,\n",
       " 'ĕ': 209,\n",
       " 'Ė': 210,\n",
       " 'ė': 211,\n",
       " 'Ę': 212,\n",
       " 'ę': 213,\n",
       " 'Ě': 214,\n",
       " 'ě': 215,\n",
       " 'Ĝ': 216,\n",
       " 'ĝ': 217,\n",
       " 'Ğ': 218,\n",
       " 'ğ': 219,\n",
       " 'Ġ': 220,\n",
       " 'ġ': 221,\n",
       " 'Ģ': 222,\n",
       " 'ģ': 223,\n",
       " 'Ĥ': 224,\n",
       " 'ĥ': 225,\n",
       " 'Ħ': 226,\n",
       " 'ħ': 227,\n",
       " 'Ĩ': 228,\n",
       " 'ĩ': 229,\n",
       " 'Ī': 230,\n",
       " 'ī': 231,\n",
       " 'Ĭ': 232,\n",
       " 'ĭ': 233,\n",
       " 'Į': 234,\n",
       " 'į': 235,\n",
       " 'İ': 236,\n",
       " 'ı': 237,\n",
       " 'Ĳ': 238,\n",
       " 'ĳ': 239,\n",
       " 'Ĵ': 240,\n",
       " 'ĵ': 241,\n",
       " 'Ķ': 242,\n",
       " 'ķ': 243,\n",
       " 'ĸ': 244,\n",
       " 'Ĺ': 245,\n",
       " 'ĺ': 246,\n",
       " 'Ļ': 247,\n",
       " 'ļ': 248,\n",
       " 'Ľ': 249,\n",
       " 'ľ': 250,\n",
       " 'Ŀ': 251,\n",
       " 'ŀ': 252,\n",
       " 'Ł': 253,\n",
       " 'ł': 254,\n",
       " 'Ń': 255,\n",
       " 'Ġt': 256,\n",
       " 'Ġa': 257,\n",
       " 'he': 258,\n",
       " 'in': 259,\n",
       " 're': 260,\n",
       " 'on': 261,\n",
       " 'Ġthe': 262,\n",
       " 'er': 263,\n",
       " 'Ġs': 264,\n",
       " 'at': 265,\n",
       " 'Ġw': 266,\n",
       " 'Ġo': 267,\n",
       " 'en': 268,\n",
       " 'Ġc': 269,\n",
       " 'it': 270,\n",
       " 'is': 271,\n",
       " 'an': 272,\n",
       " 'or': 273,\n",
       " 'es': 274,\n",
       " 'Ġb': 275,\n",
       " 'ed': 276,\n",
       " 'Ġf': 277,\n",
       " 'ing': 278,\n",
       " 'Ġp': 279,\n",
       " 'ou': 280,\n",
       " 'Ġan': 281,\n",
       " 'al': 282,\n",
       " 'ar': 283,\n",
       " 'Ġto': 284,\n",
       " 'Ġm': 285,\n",
       " 'Ġof': 286,\n",
       " 'Ġin': 287,\n",
       " 'Ġd': 288,\n",
       " 'Ġh': 289,\n",
       " 'Ġand': 290,\n",
       " 'ic': 291,\n",
       " 'as': 292,\n",
       " 'le': 293,\n",
       " 'Ġth': 294,\n",
       " 'ion': 295,\n",
       " 'om': 296,\n",
       " 'll': 297,\n",
       " 'ent': 298,\n",
       " 'Ġn': 299,\n",
       " 'Ġl': 300,\n",
       " 'st': 301,\n",
       " 'Ġre': 302,\n",
       " 've': 303,\n",
       " 'Ġe': 304,\n",
       " 'ro': 305,\n",
       " 'ly': 306,\n",
       " 'Ġbe': 307,\n",
       " 'Ġg': 308,\n",
       " 'ĠT': 309,\n",
       " 'ct': 310,\n",
       " 'ĠS': 311,\n",
       " 'id': 312,\n",
       " 'ot': 313,\n",
       " 'ĠI': 314,\n",
       " 'ut': 315,\n",
       " 'et': 316,\n",
       " 'ĠA': 317,\n",
       " 'Ġis': 318,\n",
       " 'Ġon': 319,\n",
       " 'im': 320,\n",
       " 'am': 321,\n",
       " 'ow': 322,\n",
       " 'ay': 323,\n",
       " 'ad': 324,\n",
       " 'se': 325,\n",
       " 'Ġthat': 326,\n",
       " 'ĠC': 327,\n",
       " 'ig': 328,\n",
       " 'Ġfor': 329,\n",
       " 'ac': 330,\n",
       " 'Ġy': 331,\n",
       " 'ver': 332,\n",
       " 'ur': 333,\n",
       " 'Ġu': 334,\n",
       " 'ld': 335,\n",
       " 'Ġst': 336,\n",
       " 'ĠM': 337,\n",
       " \"'s\": 338,\n",
       " 'Ġhe': 339,\n",
       " 'Ġit': 340,\n",
       " 'ation': 341,\n",
       " 'ith': 342,\n",
       " 'ir': 343,\n",
       " 'ce': 344,\n",
       " 'Ġyou': 345,\n",
       " 'il': 346,\n",
       " 'ĠB': 347,\n",
       " 'Ġwh': 348,\n",
       " 'ol': 349,\n",
       " 'ĠP': 350,\n",
       " 'Ġwith': 351,\n",
       " 'Ġ1': 352,\n",
       " 'ter': 353,\n",
       " 'ch': 354,\n",
       " 'Ġas': 355,\n",
       " 'Ġwe': 356,\n",
       " 'Ġ(': 357,\n",
       " 'nd': 358,\n",
       " 'ill': 359,\n",
       " 'ĠD': 360,\n",
       " 'if': 361,\n",
       " 'Ġ2': 362,\n",
       " 'ag': 363,\n",
       " 'ers': 364,\n",
       " 'ke': 365,\n",
       " 'Ġ\"': 366,\n",
       " 'ĠH': 367,\n",
       " 'em': 368,\n",
       " 'Ġcon': 369,\n",
       " 'ĠW': 370,\n",
       " 'ĠR': 371,\n",
       " 'her': 372,\n",
       " 'Ġwas': 373,\n",
       " 'Ġr': 374,\n",
       " 'od': 375,\n",
       " 'ĠF': 376,\n",
       " 'ul': 377,\n",
       " 'ate': 378,\n",
       " 'Ġat': 379,\n",
       " 'ri': 380,\n",
       " 'pp': 381,\n",
       " 'ore': 382,\n",
       " 'ĠThe': 383,\n",
       " 'Ġse': 384,\n",
       " 'us': 385,\n",
       " 'Ġpro': 386,\n",
       " 'Ġha': 387,\n",
       " 'um': 388,\n",
       " 'Ġare': 389,\n",
       " 'Ġde': 390,\n",
       " 'ain': 391,\n",
       " 'and': 392,\n",
       " 'Ġor': 393,\n",
       " 'igh': 394,\n",
       " 'est': 395,\n",
       " 'ist': 396,\n",
       " 'ab': 397,\n",
       " 'rom': 398,\n",
       " 'ĠN': 399,\n",
       " 'th': 400,\n",
       " 'Ġcom': 401,\n",
       " 'ĠG': 402,\n",
       " 'un': 403,\n",
       " 'op': 404,\n",
       " '00': 405,\n",
       " 'ĠL': 406,\n",
       " 'Ġnot': 407,\n",
       " 'ess': 408,\n",
       " 'Ġex': 409,\n",
       " 'Ġv': 410,\n",
       " 'res': 411,\n",
       " 'ĠE': 412,\n",
       " 'ew': 413,\n",
       " 'ity': 414,\n",
       " 'ant': 415,\n",
       " 'Ġby': 416,\n",
       " 'el': 417,\n",
       " 'os': 418,\n",
       " 'ort': 419,\n",
       " 'oc': 420,\n",
       " 'qu': 421,\n",
       " 'Ġfrom': 422,\n",
       " 'Ġhave': 423,\n",
       " 'Ġsu': 424,\n",
       " 'ive': 425,\n",
       " 'ould': 426,\n",
       " 'Ġsh': 427,\n",
       " 'Ġthis': 428,\n",
       " 'nt': 429,\n",
       " 'ra': 430,\n",
       " 'pe': 431,\n",
       " 'ight': 432,\n",
       " 'art': 433,\n",
       " 'ment': 434,\n",
       " 'Ġal': 435,\n",
       " 'ust': 436,\n",
       " 'end': 437,\n",
       " '--': 438,\n",
       " 'all': 439,\n",
       " 'ĠO': 440,\n",
       " 'ack': 441,\n",
       " 'Ġch': 442,\n",
       " 'Ġle': 443,\n",
       " 'ies': 444,\n",
       " 'red': 445,\n",
       " 'ard': 446,\n",
       " 'âĢ': 447,\n",
       " 'out': 448,\n",
       " 'ĠJ': 449,\n",
       " 'Ġab': 450,\n",
       " 'ear': 451,\n",
       " 'iv': 452,\n",
       " 'ally': 453,\n",
       " 'our': 454,\n",
       " 'ost': 455,\n",
       " 'gh': 456,\n",
       " 'pt': 457,\n",
       " 'Ġpl': 458,\n",
       " 'ast': 459,\n",
       " 'Ġcan': 460,\n",
       " 'ak': 461,\n",
       " 'ome': 462,\n",
       " 'ud': 463,\n",
       " 'The': 464,\n",
       " 'Ġhis': 465,\n",
       " 'Ġdo': 466,\n",
       " 'Ġgo': 467,\n",
       " 'Ġhas': 468,\n",
       " 'ge': 469,\n",
       " \"'t\": 470,\n",
       " 'ĠU': 471,\n",
       " 'rou': 472,\n",
       " 'Ġsa': 473,\n",
       " 'Ġj': 474,\n",
       " 'Ġbut': 475,\n",
       " 'Ġwor': 476,\n",
       " 'Ġall': 477,\n",
       " 'ect': 478,\n",
       " 'Ġk': 479,\n",
       " 'ame': 480,\n",
       " 'Ġwill': 481,\n",
       " 'ok': 482,\n",
       " 'Ġwhe': 483,\n",
       " 'Ġthey': 484,\n",
       " 'ide': 485,\n",
       " '01': 486,\n",
       " 'ff': 487,\n",
       " 'ich': 488,\n",
       " 'pl': 489,\n",
       " 'ther': 490,\n",
       " 'Ġtr': 491,\n",
       " '..': 492,\n",
       " 'Ġint': 493,\n",
       " 'ie': 494,\n",
       " 'ure': 495,\n",
       " 'age': 496,\n",
       " 'Ġne': 497,\n",
       " 'ial': 498,\n",
       " 'ap': 499,\n",
       " 'ine': 500,\n",
       " 'ice': 501,\n",
       " 'Ġme': 502,\n",
       " 'Ġout': 503,\n",
       " 'ans': 504,\n",
       " 'one': 505,\n",
       " 'ong': 506,\n",
       " 'ions': 507,\n",
       " 'Ġwho': 508,\n",
       " 'ĠK': 509,\n",
       " 'Ġup': 510,\n",
       " 'Ġtheir': 511,\n",
       " 'Ġad': 512,\n",
       " 'Ġ3': 513,\n",
       " 'Ġus': 514,\n",
       " 'ated': 515,\n",
       " 'ous': 516,\n",
       " 'Ġmore': 517,\n",
       " 'ue': 518,\n",
       " 'og': 519,\n",
       " 'ĠSt': 520,\n",
       " 'ind': 521,\n",
       " 'ike': 522,\n",
       " 'Ġso': 523,\n",
       " 'ime': 524,\n",
       " 'per': 525,\n",
       " '.\"': 526,\n",
       " 'ber': 527,\n",
       " 'iz': 528,\n",
       " 'act': 529,\n",
       " 'Ġone': 530,\n",
       " 'Ġsaid': 531,\n",
       " 'Ġ-': 532,\n",
       " 'are': 533,\n",
       " 'Ġyour': 534,\n",
       " 'cc': 535,\n",
       " 'ĠTh': 536,\n",
       " 'Ġcl': 537,\n",
       " 'ep': 538,\n",
       " 'ake': 539,\n",
       " 'able': 540,\n",
       " 'ip': 541,\n",
       " 'Ġcont': 542,\n",
       " 'Ġwhich': 543,\n",
       " 'ia': 544,\n",
       " 'Ġim': 545,\n",
       " 'Ġabout': 546,\n",
       " 'Ġwere': 547,\n",
       " 'very': 548,\n",
       " 'ub': 549,\n",
       " 'Ġhad': 550,\n",
       " 'Ġen': 551,\n",
       " 'Ġcomp': 552,\n",
       " ',\"': 553,\n",
       " 'ĠIn': 554,\n",
       " 'Ġun': 555,\n",
       " 'Ġag': 556,\n",
       " 'ire': 557,\n",
       " 'ace': 558,\n",
       " 'au': 559,\n",
       " 'ary': 560,\n",
       " 'Ġwould': 561,\n",
       " 'ass': 562,\n",
       " 'ry': 563,\n",
       " 'ĠâĢ': 564,\n",
       " 'cl': 565,\n",
       " 'ook': 566,\n",
       " 'ere': 567,\n",
       " 'so': 568,\n",
       " 'ĠV': 569,\n",
       " 'ign': 570,\n",
       " 'ib': 571,\n",
       " 'Ġoff': 572,\n",
       " 'Ġte': 573,\n",
       " 'ven': 574,\n",
       " 'ĠY': 575,\n",
       " 'ile': 576,\n",
       " 'ose': 577,\n",
       " 'ite': 578,\n",
       " 'orm': 579,\n",
       " 'Ġ201': 580,\n",
       " 'Ġres': 581,\n",
       " 'Ġman': 582,\n",
       " 'Ġper': 583,\n",
       " 'Ġother': 584,\n",
       " 'ord': 585,\n",
       " 'ult': 586,\n",
       " 'Ġbeen': 587,\n",
       " 'Ġlike': 588,\n",
       " 'ase': 589,\n",
       " 'ance': 590,\n",
       " 'ks': 591,\n",
       " 'ays': 592,\n",
       " 'own': 593,\n",
       " 'ence': 594,\n",
       " 'Ġdis': 595,\n",
       " 'ction': 596,\n",
       " 'Ġany': 597,\n",
       " 'Ġapp': 598,\n",
       " 'Ġsp': 599,\n",
       " 'int': 600,\n",
       " 'ress': 601,\n",
       " 'ations': 602,\n",
       " 'ail': 603,\n",
       " 'Ġ4': 604,\n",
       " 'ical': 605,\n",
       " 'Ġthem': 606,\n",
       " 'Ġher': 607,\n",
       " 'ount': 608,\n",
       " 'ĠCh': 609,\n",
       " 'Ġar': 610,\n",
       " 'Ġif': 611,\n",
       " 'Ġthere': 612,\n",
       " 'Ġpe': 613,\n",
       " 'Ġyear': 614,\n",
       " 'av': 615,\n",
       " 'Ġmy': 616,\n",
       " 'Ġsome': 617,\n",
       " 'Ġwhen': 618,\n",
       " 'ough': 619,\n",
       " 'ach': 620,\n",
       " 'Ġthan': 621,\n",
       " 'ru': 622,\n",
       " 'ond': 623,\n",
       " 'ick': 624,\n",
       " 'Ġover': 625,\n",
       " 'vel': 626,\n",
       " 'Ġqu': 627,\n",
       " 'ĊĊ': 628,\n",
       " 'Ġsc': 629,\n",
       " 'reat': 630,\n",
       " 'ree': 631,\n",
       " 'ĠIt': 632,\n",
       " 'ound': 633,\n",
       " 'port': 634,\n",
       " 'Ġalso': 635,\n",
       " 'Ġpart': 636,\n",
       " 'fter': 637,\n",
       " 'Ġkn': 638,\n",
       " 'Ġbec': 639,\n",
       " 'Ġtime': 640,\n",
       " 'ens': 641,\n",
       " 'Ġ5': 642,\n",
       " 'ople': 643,\n",
       " 'Ġwhat': 644,\n",
       " 'Ġno': 645,\n",
       " 'du': 646,\n",
       " 'mer': 647,\n",
       " 'ang': 648,\n",
       " 'Ġnew': 649,\n",
       " '----': 650,\n",
       " 'Ġget': 651,\n",
       " 'ory': 652,\n",
       " 'ition': 653,\n",
       " 'ings': 654,\n",
       " 'Ġjust': 655,\n",
       " 'Ġinto': 656,\n",
       " 'Ġ0': 657,\n",
       " 'ents': 658,\n",
       " 'ove': 659,\n",
       " 'te': 660,\n",
       " 'Ġpeople': 661,\n",
       " 'Ġpre': 662,\n",
       " 'Ġits': 663,\n",
       " 'Ġrec': 664,\n",
       " 'Ġtw': 665,\n",
       " 'ian': 666,\n",
       " 'irst': 667,\n",
       " 'ark': 668,\n",
       " 'ors': 669,\n",
       " 'Ġwork': 670,\n",
       " 'ade': 671,\n",
       " 'ob': 672,\n",
       " 'Ġshe': 673,\n",
       " 'Ġour': 674,\n",
       " 'wn': 675,\n",
       " 'ink': 676,\n",
       " 'lic': 677,\n",
       " 'Ġ19': 678,\n",
       " 'ĠHe': 679,\n",
       " 'ish': 680,\n",
       " 'nder': 681,\n",
       " 'ause': 682,\n",
       " 'Ġhim': 683,\n",
       " 'ons': 684,\n",
       " 'Ġ[': 685,\n",
       " 'Ġro': 686,\n",
       " 'form': 687,\n",
       " 'ild': 688,\n",
       " 'ates': 689,\n",
       " 'vers': 690,\n",
       " 'Ġonly': 691,\n",
       " 'oll': 692,\n",
       " 'Ġspe': 693,\n",
       " 'ck': 694,\n",
       " 'ell': 695,\n",
       " 'amp': 696,\n",
       " 'Ġacc': 697,\n",
       " 'Ġbl': 698,\n",
       " 'ious': 699,\n",
       " 'urn': 700,\n",
       " 'ft': 701,\n",
       " 'ood': 702,\n",
       " 'Ġhow': 703,\n",
       " 'hed': 704,\n",
       " \"Ġ'\": 705,\n",
       " 'Ġafter': 706,\n",
       " 'aw': 707,\n",
       " 'Ġatt': 708,\n",
       " 'ov': 709,\n",
       " 'ne': 710,\n",
       " 'Ġplay': 711,\n",
       " 'erv': 712,\n",
       " 'ict': 713,\n",
       " 'Ġcould': 714,\n",
       " 'itt': 715,\n",
       " 'Ġam': 716,\n",
       " 'Ġfirst': 717,\n",
       " 'Ġ6': 718,\n",
       " 'Ġact': 719,\n",
       " 'Ġ$': 720,\n",
       " 'ec': 721,\n",
       " 'hing': 722,\n",
       " 'ual': 723,\n",
       " 'ull': 724,\n",
       " 'Ġcomm': 725,\n",
       " 'oy': 726,\n",
       " 'old': 727,\n",
       " 'ces': 728,\n",
       " 'ater': 729,\n",
       " 'Ġfe': 730,\n",
       " 'Ġbet': 731,\n",
       " 'we': 732,\n",
       " 'iff': 733,\n",
       " 'Ġtwo': 734,\n",
       " 'ock': 735,\n",
       " 'Ġback': 736,\n",
       " ').': 737,\n",
       " 'ident': 738,\n",
       " 'Ġunder': 739,\n",
       " 'rough': 740,\n",
       " 'sel': 741,\n",
       " 'xt': 742,\n",
       " 'Ġmay': 743,\n",
       " 'round': 744,\n",
       " 'Ġpo': 745,\n",
       " 'ph': 746,\n",
       " 'iss': 747,\n",
       " 'Ġdes': 748,\n",
       " 'Ġmost': 749,\n",
       " 'Ġdid': 750,\n",
       " 'Ġadd': 751,\n",
       " 'ject': 752,\n",
       " 'Ġinc': 753,\n",
       " 'fore': 754,\n",
       " 'Ġpol': 755,\n",
       " 'ont': 756,\n",
       " 'Ġagain': 757,\n",
       " 'clud': 758,\n",
       " 'tern': 759,\n",
       " 'Ġknow': 760,\n",
       " 'Ġneed': 761,\n",
       " 'Ġcons': 762,\n",
       " 'Ġco': 763,\n",
       " 'Ġ.': 764,\n",
       " 'Ġwant': 765,\n",
       " 'Ġsee': 766,\n",
       " 'Ġ7': 767,\n",
       " 'ning': 768,\n",
       " 'iew': 769,\n",
       " 'ĠThis': 770,\n",
       " 'ced': 771,\n",
       " 'Ġeven': 772,\n",
       " 'Ġind': 773,\n",
       " 'ty': 774,\n",
       " 'ĠWe': 775,\n",
       " 'ath': 776,\n",
       " 'Ġthese': 777,\n",
       " 'Ġpr': 778,\n",
       " 'Ġuse': 779,\n",
       " 'Ġbecause': 780,\n",
       " 'Ġfl': 781,\n",
       " 'ng': 782,\n",
       " 'Ġnow': 783,\n",
       " 'ĠâĢĵ': 784,\n",
       " 'com': 785,\n",
       " 'ise': 786,\n",
       " 'Ġmake': 787,\n",
       " 'Ġthen': 788,\n",
       " 'ower': 789,\n",
       " 'Ġevery': 790,\n",
       " 'ĠUn': 791,\n",
       " 'Ġsec': 792,\n",
       " 'oss': 793,\n",
       " 'uch': 794,\n",
       " 'Ġem': 795,\n",
       " 'Ġ=': 796,\n",
       " 'ĠRe': 797,\n",
       " 'ied': 798,\n",
       " 'rit': 799,\n",
       " 'Ġinv': 800,\n",
       " 'lect': 801,\n",
       " 'Ġsupp': 802,\n",
       " 'ating': 803,\n",
       " 'Ġlook': 804,\n",
       " 'man': 805,\n",
       " 'pect': 806,\n",
       " 'Ġ8': 807,\n",
       " 'row': 808,\n",
       " 'Ġbu': 809,\n",
       " 'Ġwhere': 810,\n",
       " 'ific': 811,\n",
       " 'Ġyears': 812,\n",
       " 'ily': 813,\n",
       " 'Ġdiff': 814,\n",
       " 'Ġshould': 815,\n",
       " 'Ġrem': 816,\n",
       " 'Th': 817,\n",
       " 'In': 818,\n",
       " 'Ġev': 819,\n",
       " 'day': 820,\n",
       " \"'re\": 821,\n",
       " 'rib': 822,\n",
       " 'Ġrel': 823,\n",
       " 'ss': 824,\n",
       " 'Ġdef': 825,\n",
       " 'Ġright': 826,\n",
       " 'Ġsy': 827,\n",
       " '),': 828,\n",
       " 'les': 829,\n",
       " '000': 830,\n",
       " 'hen': 831,\n",
       " 'Ġthrough': 832,\n",
       " 'ĠTr': 833,\n",
       " '__': 834,\n",
       " 'Ġway': 835,\n",
       " 'Ġdon': 836,\n",
       " 'Ġ,': 837,\n",
       " 'Ġ10': 838,\n",
       " 'ased': 839,\n",
       " 'Ġass': 840,\n",
       " 'ublic': 841,\n",
       " 'Ġreg': 842,\n",
       " 'ĠAnd': 843,\n",
       " 'ix': 844,\n",
       " 'Ġvery': 845,\n",
       " 'Ġinclud': 846,\n",
       " 'other': 847,\n",
       " 'Ġimp': 848,\n",
       " 'oth': 849,\n",
       " 'Ġsub': 850,\n",
       " 'ĠâĢĶ': 851,\n",
       " 'Ġbeing': 852,\n",
       " 'arg': 853,\n",
       " 'ĠWh': 854,\n",
       " '==': 855,\n",
       " 'ible': 856,\n",
       " 'Ġdoes': 857,\n",
       " 'ange': 858,\n",
       " 'ram': 859,\n",
       " 'Ġ9': 860,\n",
       " 'ert': 861,\n",
       " 'ps': 862,\n",
       " 'ited': 863,\n",
       " 'ational': 864,\n",
       " 'Ġbr': 865,\n",
       " 'Ġdown': 866,\n",
       " 'Ġmany': 867,\n",
       " 'aking': 868,\n",
       " 'Ġcall': 869,\n",
       " 'uring': 870,\n",
       " 'ities': 871,\n",
       " 'Ġph': 872,\n",
       " 'ics': 873,\n",
       " 'als': 874,\n",
       " 'Ġdec': 875,\n",
       " 'ative': 876,\n",
       " 'ener': 877,\n",
       " 'Ġbefore': 878,\n",
       " 'ility': 879,\n",
       " 'Ġwell': 880,\n",
       " 'Ġmuch': 881,\n",
       " 'erson': 882,\n",
       " 'Ġthose': 883,\n",
       " 'Ġsuch': 884,\n",
       " 'Ġke': 885,\n",
       " 'Ġend': 886,\n",
       " 'ĠBut': 887,\n",
       " 'ason': 888,\n",
       " 'ting': 889,\n",
       " 'Ġlong': 890,\n",
       " 'ef': 891,\n",
       " 'Ġthink': 892,\n",
       " 'ys': 893,\n",
       " 'Ġbel': 894,\n",
       " 'Ġsm': 895,\n",
       " 'its': 896,\n",
       " 'ax': 897,\n",
       " 'Ġown': 898,\n",
       " 'Ġprov': 899,\n",
       " 'Ġset': 900,\n",
       " 'ife': 901,\n",
       " 'ments': 902,\n",
       " 'ble': 903,\n",
       " 'ward': 904,\n",
       " 'Ġshow': 905,\n",
       " 'Ġpres': 906,\n",
       " 'ms': 907,\n",
       " 'omet': 908,\n",
       " 'Ġob': 909,\n",
       " 'Ġsay': 910,\n",
       " 'ĠSh': 911,\n",
       " 'ts': 912,\n",
       " 'ful': 913,\n",
       " 'Ġeff': 914,\n",
       " 'Ġgu': 915,\n",
       " 'Ġinst': 916,\n",
       " 'und': 917,\n",
       " 'ren': 918,\n",
       " 'cess': 919,\n",
       " 'Ġent': 920,\n",
       " 'ĠYou': 921,\n",
       " 'Ġgood': 922,\n",
       " 'Ġstart': 923,\n",
       " 'ince': 924,\n",
       " 'Ġmade': 925,\n",
       " 'tt': 926,\n",
       " 'stem': 927,\n",
       " 'olog': 928,\n",
       " 'up': 929,\n",
       " 'Ġ|': 930,\n",
       " 'ump': 931,\n",
       " 'Ġhel': 932,\n",
       " 'vern': 933,\n",
       " 'ular': 934,\n",
       " 'ually': 935,\n",
       " 'Ġac': 936,\n",
       " 'Ġmon': 937,\n",
       " 'Ġlast': 938,\n",
       " 'Ġ200': 939,\n",
       " '10': 940,\n",
       " 'Ġstud': 941,\n",
       " 'ures': 942,\n",
       " 'ĠAr': 943,\n",
       " 'self': 944,\n",
       " 'ars': 945,\n",
       " 'meric': 946,\n",
       " 'ues': 947,\n",
       " 'cy': 948,\n",
       " 'Ġmin': 949,\n",
       " 'ollow': 950,\n",
       " 'Ġcol': 951,\n",
       " 'io': 952,\n",
       " 'Ġmod': 953,\n",
       " 'Ġcount': 954,\n",
       " 'ĠCom': 955,\n",
       " 'hes': 956,\n",
       " 'Ġfin': 957,\n",
       " 'air': 958,\n",
       " 'ier': 959,\n",
       " 'âĢĶ': 960,\n",
       " 'read': 961,\n",
       " 'ank': 962,\n",
       " 'atch': 963,\n",
       " 'ever': 964,\n",
       " 'Ġstr': 965,\n",
       " 'Ġpoint': 966,\n",
       " 'ork': 967,\n",
       " 'ĠNew': 968,\n",
       " 'Ġsur': 969,\n",
       " 'ool': 970,\n",
       " 'alk': 971,\n",
       " 'ement': 972,\n",
       " 'Ġused': 973,\n",
       " 'ract': 974,\n",
       " 'ween': 975,\n",
       " 'Ġsame': 976,\n",
       " 'oun': 977,\n",
       " 'ĠAl': 978,\n",
       " 'ci': 979,\n",
       " 'Ġdiffere': 980,\n",
       " 'Ġwhile': 981,\n",
       " '--------': 982,\n",
       " 'Ġgame': 983,\n",
       " 'cept': 984,\n",
       " 'Ġsim': 985,\n",
       " '...': 986,\n",
       " 'Ġinter': 987,\n",
       " 'ek': 988,\n",
       " 'Ġreport': 989,\n",
       " 'Ġprodu': 990,\n",
       " 'Ġstill': 991,\n",
       " 'led': 992,\n",
       " 'ah': 993,\n",
       " 'Ġhere': 994,\n",
       " 'Ġworld': 995,\n",
       " 'Ġthough': 996,\n",
       " 'Ġnum': 997,\n",
       " 'arch': 998,\n",
       " 'imes': 999,\n",
       " ...}"
      ]
     },
     "execution_count": 37,
     "metadata": {},
     "output_type": "execute_result"
    }
   ],
   "source": [
    "encoder"
   ]
  },
  {
   "cell_type": "markdown",
   "id": "7c35cb74-cf2b-4a24-94ec-3fab0dac3a93",
   "metadata": {},
   "source": [
    "### minbpe exercise\n",
    "\n",
    "At this point you have everything you need to build your own GPT-4 tokenizer. This is the [exercise progression](https://github.com/karpathy/minbpe/blob/master/exercise.md) you may wish to follow. You'll note that it is part of the [minbpe](https://github.com/karpathy/minbpe) repo, which is the solution to that exercise, and is a cleaned up version of the code above."
   ]
  },
  {
   "cell_type": "code",
   "execution_count": 38,
   "id": "afb2baf4-d0a8-42d0-aa74-10ee6a87d14a",
   "metadata": {},
   "outputs": [
    {
     "name": "stdout",
     "output_type": "stream",
     "text": [
      "[31495, 230, 75265, 243, 92245, 62904, 233, 320, 15339, 304, 16526, 16715]\n",
      "True\n"
     ]
    }
   ],
   "source": [
    "import tiktoken\n",
    "enc = tiktoken.get_encoding(\"cl100k_base\") # GPT-4 tokenizer\n",
    "print(enc.encode(\"안녕하세요 👋 (hello in Korean!)\"))\n",
    "print(enc.decode(enc.encode(\"안녕하세요 👋 (hello in Korean!)\")) == \"안녕하세요 👋 (hello in Korean!)\")\n",
    "# match the above for your own tokenizer, and also implement a train() function"
   ]
  },
  {
   "cell_type": "markdown",
   "id": "beefc914-0d65-49b7-96a2-26c3ccc9786a",
   "metadata": {},
   "source": [
    "### sentencepiece\n",
    "\n",
    "Commonly used because (unlike tiktoken) it can efficiently both train and inference BPE tokenizers. It is used in both Llama and Mistral series.\n",
    "\n",
    "[sentencepiece on Github link](https://github.com/google/sentencepiece).\n",
    "\n",
    "**The big difference**: sentencepiece runs BPE on the Unicode code points directly! It then has an option `character_coverage` for what to do with very very rare codepoints that appear very few times, and it either maps them onto an UNK token, or if `byte_fallback` is turned on, it encodes them with utf-8 and then encodes the raw bytes instead.\n",
    "\n",
    "TLDR:\n",
    "\n",
    "- tiktoken encodes to utf-8 and then BPEs bytes\n",
    "- sentencepiece BPEs the code points and optionally falls back to utf-8 bytes for rare code points (rarity is determined by character_coverage hyperparameter), which then get translated to byte tokens.\n",
    "\n",
    "(Personally I think the tiktoken way is a lot cleaner...)"
   ]
  },
  {
   "cell_type": "code",
   "execution_count": 39,
   "id": "ed99a203-349f-46f3-ae60-d94b7fa88694",
   "metadata": {},
   "outputs": [],
   "source": [
    "import sentencepiece as spm"
   ]
  },
  {
   "cell_type": "code",
   "execution_count": 40,
   "id": "684e7be2-6b22-4768-af20-6a438d4e92ed",
   "metadata": {},
   "outputs": [],
   "source": [
    "# write a toy.txt file with some random text\n",
    "with open(\"toy.txt\", \"w\", encoding=\"utf-8\") as f:\n",
    "  f.write(\"SentencePiece is an unsupervised text tokenizer and detokenizer mainly for Neural Network-based text generation systems where the vocabulary size is predetermined prior to the neural model training. SentencePiece implements subword units (e.g., byte-pair-encoding (BPE) [Sennrich et al.]) and unigram language model [Kudo.]) with the extension of direct training from raw sentences. SentencePiece allows us to make a purely end-to-end system that does not depend on language-specific pre/postprocessing.\")"
   ]
  },
  {
   "cell_type": "markdown",
   "id": "175460aa-128f-426d-87df-9bc19d76136c",
   "metadata": {},
   "source": [
    "Docs for sentencepiece options:\n",
    "\n",
    "- [markdown](https://github.com/google/sentencepiece/blob/master/doc/options.md)\n",
    "- [protobuf](https://github.com/google/sentencepiece/blob/master/src/sentencepiece_model.proto#L193)"
   ]
  },
  {
   "cell_type": "code",
   "execution_count": null,
   "id": "1fca50be-034e-4a02-be49-72ab23c3a1a3",
   "metadata": {},
   "outputs": [],
   "source": []
  },
  {
   "cell_type": "code",
   "execution_count": null,
   "id": "c8d273ec-3c32-43d3-8db6-184e0da510fb",
   "metadata": {},
   "outputs": [],
   "source": []
  },
  {
   "cell_type": "code",
   "execution_count": null,
   "id": "10b8201f-e5e8-4479-9976-b64d28ea2036",
   "metadata": {},
   "outputs": [],
   "source": []
  },
  {
   "cell_type": "code",
   "execution_count": null,
   "id": "b26037d2-5b58-4cd4-8a2e-6e15248a7e5f",
   "metadata": {},
   "outputs": [],
   "source": []
  },
  {
   "cell_type": "code",
   "execution_count": null,
   "id": "3e887c63-4f75-47df-a6a8-b8ec33cf0cbf",
   "metadata": {},
   "outputs": [],
   "source": []
  },
  {
   "cell_type": "code",
   "execution_count": null,
   "id": "8e89f055-cf62-4c54-90a8-8a6cf10a4e00",
   "metadata": {},
   "outputs": [],
   "source": []
  },
  {
   "cell_type": "code",
   "execution_count": null,
   "id": "f4f42475-5b19-428a-a30e-9a428cd49295",
   "metadata": {},
   "outputs": [],
   "source": []
  },
  {
   "cell_type": "code",
   "execution_count": null,
   "id": "5c51361f-be72-4a07-a7a5-b75ce4b13de0",
   "metadata": {},
   "outputs": [],
   "source": []
  },
  {
   "cell_type": "code",
   "execution_count": null,
   "id": "19eba20d-544e-4e51-b803-fba5c0598ccf",
   "metadata": {},
   "outputs": [],
   "source": []
  },
  {
   "cell_type": "code",
   "execution_count": null,
   "id": "12e92023-f960-4788-8f1f-1e72ddff816e",
   "metadata": {},
   "outputs": [],
   "source": []
  },
  {
   "cell_type": "code",
   "execution_count": null,
   "id": "5ae14871-037f-4679-a39f-831df4cb1837",
   "metadata": {},
   "outputs": [],
   "source": []
  },
  {
   "cell_type": "code",
   "execution_count": null,
   "id": "ac1bb001-99ab-44ef-ac85-5bcaac76573b",
   "metadata": {},
   "outputs": [],
   "source": []
  },
  {
   "cell_type": "code",
   "execution_count": null,
   "id": "65d421e0-26bc-45a1-a721-4d9efaee8517",
   "metadata": {},
   "outputs": [],
   "source": []
  },
  {
   "cell_type": "code",
   "execution_count": null,
   "id": "2f8d605a-e9b9-4105-bcc1-079126b48a8d",
   "metadata": {},
   "outputs": [],
   "source": []
  },
  {
   "cell_type": "code",
   "execution_count": null,
   "id": "4425c34d-08ef-4454-a791-a45f0dfcc5c2",
   "metadata": {},
   "outputs": [],
   "source": []
  },
  {
   "cell_type": "code",
   "execution_count": null,
   "id": "8b750823-3448-4a97-8547-41268c5782ed",
   "metadata": {},
   "outputs": [],
   "source": []
  },
  {
   "cell_type": "code",
   "execution_count": null,
   "id": "3930a1a9-43f8-4699-be6d-9d362cc83f42",
   "metadata": {},
   "outputs": [],
   "source": []
  },
  {
   "cell_type": "code",
   "execution_count": null,
   "id": "a176ec36-15e0-4e78-a566-6a44d4cfb431",
   "metadata": {},
   "outputs": [],
   "source": []
  },
  {
   "cell_type": "code",
   "execution_count": null,
   "id": "dcf31d60-721f-411f-b8bd-65e15be36a76",
   "metadata": {},
   "outputs": [],
   "source": []
  },
  {
   "cell_type": "code",
   "execution_count": null,
   "id": "c7c566ea-41d1-4335-bddc-84e42e497859",
   "metadata": {},
   "outputs": [],
   "source": []
  },
  {
   "cell_type": "code",
   "execution_count": null,
   "id": "3d1959cc-da04-4dc2-ac71-4362b56d2cc3",
   "metadata": {},
   "outputs": [],
   "source": []
  },
  {
   "cell_type": "code",
   "execution_count": null,
   "id": "1750756a-e302-48f4-bdc8-dddac32b5158",
   "metadata": {},
   "outputs": [],
   "source": []
  },
  {
   "cell_type": "code",
   "execution_count": null,
   "id": "3858feb2-5fe3-4e3b-b724-449782fac5ad",
   "metadata": {},
   "outputs": [],
   "source": []
  },
  {
   "cell_type": "code",
   "execution_count": null,
   "id": "94405906-9400-435e-9bcb-31610ad72a59",
   "metadata": {},
   "outputs": [],
   "source": []
  },
  {
   "cell_type": "code",
   "execution_count": null,
   "id": "536313b2-67f4-4536-859c-766496fde012",
   "metadata": {},
   "outputs": [],
   "source": []
  },
  {
   "cell_type": "code",
   "execution_count": null,
   "id": "bf17f44b-79fe-4e76-bff4-c10b1a80cfa4",
   "metadata": {},
   "outputs": [],
   "source": []
  },
  {
   "cell_type": "code",
   "execution_count": null,
   "id": "96e20638-f62b-44a0-b9bd-5f9e46c18ff3",
   "metadata": {},
   "outputs": [],
   "source": []
  },
  {
   "cell_type": "code",
   "execution_count": null,
   "id": "96d8ba71-e18e-4dca-9d23-27e6e3125ea2",
   "metadata": {},
   "outputs": [],
   "source": []
  },
  {
   "cell_type": "code",
   "execution_count": null,
   "id": "471046b9-7530-4b85-ac16-4ee7816f8559",
   "metadata": {},
   "outputs": [],
   "source": []
  },
  {
   "cell_type": "code",
   "execution_count": null,
   "id": "d1bd107c-89e7-4a38-b5eb-4ff228f972bb",
   "metadata": {},
   "outputs": [],
   "source": []
  },
  {
   "cell_type": "code",
   "execution_count": null,
   "id": "d3045bfe-43e0-4919-a7f3-f1fbcde8fcf2",
   "metadata": {},
   "outputs": [],
   "source": []
  },
  {
   "cell_type": "code",
   "execution_count": null,
   "id": "c1144672-9d8e-4d50-883b-8ffe9fee7534",
   "metadata": {},
   "outputs": [],
   "source": []
  },
  {
   "cell_type": "code",
   "execution_count": null,
   "id": "e9b87feb-6af3-4190-9fde-8b9b124e8afd",
   "metadata": {},
   "outputs": [],
   "source": []
  },
  {
   "cell_type": "code",
   "execution_count": null,
   "id": "8b9e0600-9236-439c-889f-5a85d4ba71a7",
   "metadata": {},
   "outputs": [],
   "source": []
  },
  {
   "cell_type": "code",
   "execution_count": null,
   "id": "c8c65f5b-5216-4387-9904-0fb96eadcd30",
   "metadata": {},
   "outputs": [],
   "source": []
  },
  {
   "cell_type": "code",
   "execution_count": null,
   "id": "59302c4a-2ae7-479d-9992-649fbe9e205c",
   "metadata": {},
   "outputs": [],
   "source": []
  },
  {
   "cell_type": "code",
   "execution_count": null,
   "id": "01957939-9488-48d9-a853-ea74120eaee0",
   "metadata": {},
   "outputs": [],
   "source": []
  },
  {
   "cell_type": "code",
   "execution_count": null,
   "id": "16e0d8bc-927c-46ba-8db4-061bd8d0f255",
   "metadata": {},
   "outputs": [],
   "source": []
  },
  {
   "cell_type": "code",
   "execution_count": null,
   "id": "9fe587f8-3003-4931-8579-e7c4ce187bfc",
   "metadata": {},
   "outputs": [],
   "source": []
  },
  {
   "cell_type": "code",
   "execution_count": null,
   "id": "e8b3ad46-6352-49a7-abf9-f0c8684241e4",
   "metadata": {},
   "outputs": [],
   "source": []
  },
  {
   "cell_type": "code",
   "execution_count": null,
   "id": "e37fe0c3-2673-4d2d-883d-14fa21bbde24",
   "metadata": {},
   "outputs": [],
   "source": []
  },
  {
   "cell_type": "code",
   "execution_count": null,
   "id": "71cce6cb-ca98-4ab2-91ee-3a92193a0e19",
   "metadata": {},
   "outputs": [],
   "source": []
  },
  {
   "cell_type": "code",
   "execution_count": null,
   "id": "a1672856-72c9-4f99-988e-6fd54b9ae47f",
   "metadata": {},
   "outputs": [],
   "source": []
  }
 ],
 "metadata": {
  "kernelspec": {
   "display_name": "Python 3 (ipykernel)",
   "language": "python",
   "name": "python3"
  },
  "language_info": {
   "codemirror_mode": {
    "name": "ipython",
    "version": 3
   },
   "file_extension": ".py",
   "mimetype": "text/x-python",
   "name": "python",
   "nbconvert_exporter": "python",
   "pygments_lexer": "ipython3",
   "version": "3.12.2"
  }
 },
 "nbformat": 4,
 "nbformat_minor": 5
}
