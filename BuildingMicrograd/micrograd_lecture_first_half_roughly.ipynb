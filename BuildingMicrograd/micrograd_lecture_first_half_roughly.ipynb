





<!DOCTYPE html>
<html
  lang="en"
  
  data-color-mode="auto" data-light-theme="light" data-dark-theme="dark"
  data-a11y-animated-images="system" data-a11y-link-underlines="true"
  >




  <head>
    <meta charset="utf-8">
  <link rel="dns-prefetch" href="https://github.githubassets.com">
  <link rel="dns-prefetch" href="https://avatars.githubusercontent.com">
  <link rel="dns-prefetch" href="https://github-cloud.s3.amazonaws.com">
  <link rel="dns-prefetch" href="https://user-images.githubusercontent.com/">
  <link rel="preconnect" href="https://github.githubassets.com" crossorigin>
  <link rel="preconnect" href="https://avatars.githubusercontent.com">

  


  <link crossorigin="anonymous" media="all" rel="stylesheet" href="https://github.githubassets.com/assets/light-0eace2597ca3.css" /><link crossorigin="anonymous" media="all" rel="stylesheet" href="https://github.githubassets.com/assets/dark-a167e256da9c.css" /><link data-color-theme="dark_dimmed" crossorigin="anonymous" media="all" rel="stylesheet" data-href="https://github.githubassets.com/assets/dark_dimmed-d11f2cf8009b.css" /><link data-color-theme="dark_high_contrast" crossorigin="anonymous" media="all" rel="stylesheet" data-href="https://github.githubassets.com/assets/dark_high_contrast-ea7373db06c8.css" /><link data-color-theme="dark_colorblind" crossorigin="anonymous" media="all" rel="stylesheet" data-href="https://github.githubassets.com/assets/dark_colorblind-afa99dcf40f7.css" /><link data-color-theme="light_colorblind" crossorigin="anonymous" media="all" rel="stylesheet" data-href="https://github.githubassets.com/assets/light_colorblind-af6c685139ba.css" /><link data-color-theme="light_high_contrast" crossorigin="anonymous" media="all" rel="stylesheet" data-href="https://github.githubassets.com/assets/light_high_contrast-578cdbc8a5a9.css" /><link data-color-theme="light_tritanopia" crossorigin="anonymous" media="all" rel="stylesheet" data-href="https://github.githubassets.com/assets/light_tritanopia-5cb699a7e247.css" /><link data-color-theme="dark_tritanopia" crossorigin="anonymous" media="all" rel="stylesheet" data-href="https://github.githubassets.com/assets/dark_tritanopia-9b32204967c6.css" />
    <link crossorigin="anonymous" media="all" rel="stylesheet" href="https://github.githubassets.com/assets/primer-primitives-2ef2a46b27ee.css" />
    <link crossorigin="anonymous" media="all" rel="stylesheet" href="https://github.githubassets.com/assets/primer-08e422afeb43.css" />
    <link crossorigin="anonymous" media="all" rel="stylesheet" href="https://github.githubassets.com/assets/global-2fcf704ce870.css" />
    <link crossorigin="anonymous" media="all" rel="stylesheet" href="https://github.githubassets.com/assets/github-36dce55f3db6.css" />
  <link crossorigin="anonymous" media="all" rel="stylesheet" href="https://github.githubassets.com/assets/repository-389a4d55bc31.css" />
<link crossorigin="anonymous" media="all" rel="stylesheet" href="https://github.githubassets.com/assets/code-a90c9aac8db1.css" />

  


  <script type="application/json" id="client-env">{"locale":"en","featureFlags":["billing_net_usage_frontend","copilot_conversational_ux_history_refs","copilot_smell_icebreaker_ux","docset_management_ui","failbot_handle_non_errors","geojson_azure_maps","image_metric_tracking","marketing_forms_api_integration_contact_request","marketing_pages_search_explore_provider","turbo_experiment_risky","sample_network_conn_type","no_character_key_shortcuts_in_inputs","custom_inp","remove_child_patch"]}</script>
<script crossorigin="anonymous" defer="defer" type="application/javascript" src="https://github.githubassets.com/assets/wp-runtime-a7b97b06fc5a.js"></script>
<script crossorigin="anonymous" defer="defer" type="application/javascript" src="https://github.githubassets.com/assets/vendors-node_modules_dompurify_dist_purify_js-6890e890956f.js"></script>
<script crossorigin="anonymous" defer="defer" type="application/javascript" src="https://github.githubassets.com/assets/vendors-node_modules_stacktrace-parser_dist_stack-trace-parser_esm_js-node_modules_github_bro-a4c183-79f9611c275b.js"></script>
<script crossorigin="anonymous" defer="defer" type="application/javascript" src="https://github.githubassets.com/assets/vendors-node_modules_github_hydro-analytics-client_dist_analytics-client_js-node_modules_gith-6a10dd-e66ebda625fb.js"></script>
<script crossorigin="anonymous" defer="defer" type="application/javascript" src="https://github.githubassets.com/assets/ui_packages_failbot_failbot_ts-afaa9a250f2e.js"></script>
<script crossorigin="anonymous" defer="defer" type="application/javascript" src="https://github.githubassets.com/assets/environment-4ff0d843ea45.js"></script>
<script crossorigin="anonymous" defer="defer" type="application/javascript" src="https://github.githubassets.com/assets/vendors-node_modules_github_selector-observer_dist_index_esm_js-9f960d9b217c.js"></script>
<script crossorigin="anonymous" defer="defer" type="application/javascript" src="https://github.githubassets.com/assets/vendors-node_modules_primer_behaviors_dist_esm_focus-zone_js-086f7a27bac0.js"></script>
<script crossorigin="anonymous" defer="defer" type="application/javascript" src="https://github.githubassets.com/assets/vendors-node_modules_github_relative-time-element_dist_index_js-c76945c5961a.js"></script>
<script crossorigin="anonymous" defer="defer" type="application/javascript" src="https://github.githubassets.com/assets/vendors-node_modules_delegated-events_dist_index_js-node_modules_github_details-dialog-elemen-29dc30-a2a71f11a507.js"></script>
<script crossorigin="anonymous" defer="defer" type="application/javascript" src="https://github.githubassets.com/assets/vendors-node_modules_github_auto-complete-element_dist_index_js-d6c09d7e4e48.js"></script>
<script crossorigin="anonymous" defer="defer" type="application/javascript" src="https://github.githubassets.com/assets/vendors-node_modules_github_filter-input-element_dist_index_js-node_modules_github_remote-inp-b7d8f4-8cd02f324209.js"></script>
<script crossorigin="anonymous" defer="defer" type="application/javascript" src="https://github.githubassets.com/assets/vendors-node_modules_github_file-attachment-element_dist_index_js-node_modules_primer_view-co-6ff72b-44df89427254.js"></script>
<script crossorigin="anonymous" defer="defer" type="application/javascript" src="https://github.githubassets.com/assets/github-elements-91586b615d25.js"></script>
<script crossorigin="anonymous" defer="defer" type="application/javascript" src="https://github.githubassets.com/assets/element-registry-7b3ef2291aea.js"></script>
<script crossorigin="anonymous" defer="defer" type="application/javascript" src="https://github.githubassets.com/assets/vendors-node_modules_github_catalyst_lib_index_js-node_modules_github_hydro-analytics-client_-978abc0-add939c751ce.js"></script>
<script crossorigin="anonymous" defer="defer" type="application/javascript" src="https://github.githubassets.com/assets/vendors-node_modules_lit-html_lit-html_js-5b376145beff.js"></script>
<script crossorigin="anonymous" defer="defer" type="application/javascript" src="https://github.githubassets.com/assets/vendors-node_modules_github_mini-throttle_dist_index_js-node_modules_github_alive-client_dist-bf5aa2-1b562c29ab8e.js"></script>
<script crossorigin="anonymous" defer="defer" type="application/javascript" src="https://github.githubassets.com/assets/vendors-node_modules_morphdom_dist_morphdom-esm_js-5bff297a06de.js"></script>
<script crossorigin="anonymous" defer="defer" type="application/javascript" src="https://github.githubassets.com/assets/vendors-node_modules_github_turbo_dist_turbo_es2017-esm_js-c91f4ad18b62.js"></script>
<script crossorigin="anonymous" defer="defer" type="application/javascript" src="https://github.githubassets.com/assets/vendors-node_modules_color-convert_index_js-72c9fbde5ad4.js"></script>
<script crossorigin="anonymous" defer="defer" type="application/javascript" src="https://github.githubassets.com/assets/vendors-node_modules_github_remote-form_dist_index_js-node_modules_scroll-anchoring_dist_scro-231ccf-aa129238d13b.js"></script>
<script crossorigin="anonymous" defer="defer" type="application/javascript" src="https://github.githubassets.com/assets/vendors-node_modules_primer_behaviors_dist_esm_dimensions_js-node_modules_github_jtml_lib_index_js-95b84ee6bc34.js"></script>
<script crossorigin="anonymous" defer="defer" type="application/javascript" src="https://github.githubassets.com/assets/vendors-node_modules_github_paste-markdown_dist_index_esm_js-node_modules_github_quote-select-cbac5f-5c15271fc07d.js"></script>
<script crossorigin="anonymous" defer="defer" type="application/javascript" src="https://github.githubassets.com/assets/app_assets_modules_github_updatable-content_ts-5e0904652c1c.js"></script>
<script crossorigin="anonymous" defer="defer" type="application/javascript" src="https://github.githubassets.com/assets/app_assets_modules_github_behaviors_task-list_ts-app_assets_modules_github_onfocus_ts-app_ass-421cec-751caa0072bd.js"></script>
<script crossorigin="anonymous" defer="defer" type="application/javascript" src="https://github.githubassets.com/assets/app_assets_modules_github_sticky-scroll-into-view_ts-cbcee0788fe3.js"></script>
<script crossorigin="anonymous" defer="defer" type="application/javascript" src="https://github.githubassets.com/assets/app_assets_modules_github_behaviors_ajax-error_ts-app_assets_modules_github_behaviors_include-467754-b59a2b2827ad.js"></script>
<script crossorigin="anonymous" defer="defer" type="application/javascript" src="https://github.githubassets.com/assets/app_assets_modules_github_behaviors_commenting_edit_ts-app_assets_modules_github_behaviors_ht-83c235-b85e9f4f1304.js"></script>
<script crossorigin="anonymous" defer="defer" type="application/javascript" src="https://github.githubassets.com/assets/app_assets_modules_github_blob-anchor_ts-app_assets_modules_github_filter-sort_ts-app_assets_-c96432-ca86212e46a4.js"></script>
<script crossorigin="anonymous" defer="defer" type="application/javascript" src="https://github.githubassets.com/assets/behaviors-8764a060701a.js"></script>
<script crossorigin="anonymous" defer="defer" type="application/javascript" src="https://github.githubassets.com/assets/vendors-node_modules_delegated-events_dist_index_js-node_modules_github_catalyst_lib_index_js-d0256ebff5cd.js"></script>
<script crossorigin="anonymous" defer="defer" type="application/javascript" src="https://github.githubassets.com/assets/notifications-global-99d196517b1b.js"></script>
<script crossorigin="anonymous" defer="defer" type="application/javascript" src="https://github.githubassets.com/assets/code-menu-2658b004279a.js"></script>
  
  <script crossorigin="anonymous" defer="defer" type="application/javascript" src="https://github.githubassets.com/assets/react-lib-1fbfc5be2c18.js"></script>
<script crossorigin="anonymous" defer="defer" type="application/javascript" src="https://github.githubassets.com/assets/vendors-node_modules_primer_octicons-react_dist_index_esm_js-node_modules_primer_react_lib-es-2e8e7c-b299afe58dd7.js"></script>
<script crossorigin="anonymous" defer="defer" type="application/javascript" src="https://github.githubassets.com/assets/vendors-node_modules_primer_react_lib-esm_Box_Box_js-ebfceb11fb57.js"></script>
<script crossorigin="anonymous" defer="defer" type="application/javascript" src="https://github.githubassets.com/assets/vendors-node_modules_primer_react_lib-esm_Button_Button_js-0528cb519251.js"></script>
<script crossorigin="anonymous" defer="defer" type="application/javascript" src="https://github.githubassets.com/assets/vendors-node_modules_primer_react_lib-esm_ActionList_index_js-e001d0eead25.js"></script>
<script crossorigin="anonymous" defer="defer" type="application/javascript" src="https://github.githubassets.com/assets/vendors-node_modules_primer_react_lib-esm_Overlay_Overlay_js-node_modules_primer_react_lib-es-fa1130-8d276499c3fb.js"></script>
<script crossorigin="anonymous" defer="defer" type="application/javascript" src="https://github.githubassets.com/assets/vendors-node_modules_primer_react_lib-esm_Text_Text_js-node_modules_primer_react_lib-esm_Text-85a14b-249efa9c2fae.js"></script>
<script crossorigin="anonymous" defer="defer" type="application/javascript" src="https://github.githubassets.com/assets/vendors-node_modules_primer_behaviors_dist_esm_scroll-into-view_js-node_modules_primer_react_-39745e-56454ece1686.js"></script>
<script crossorigin="anonymous" defer="defer" type="application/javascript" src="https://github.githubassets.com/assets/vendors-node_modules_primer_react_lib-esm_FormControl_FormControl_js-e905f63cdd0f.js"></script>
<script crossorigin="anonymous" defer="defer" type="application/javascript" src="https://github.githubassets.com/assets/vendors-node_modules_primer_react_lib-esm_ActionMenu_ActionMenu_js-a3c61ff6363e.js"></script>
<script crossorigin="anonymous" defer="defer" type="application/javascript" src="https://github.githubassets.com/assets/vendors-node_modules_react-router-dom_dist_index_js-3b41341d50fe.js"></script>
<script crossorigin="anonymous" defer="defer" type="application/javascript" src="https://github.githubassets.com/assets/vendors-node_modules_primer_react_lib-esm_PageLayout_PageLayout_js-a0f5dc4acaba.js"></script>
<script crossorigin="anonymous" defer="defer" type="application/javascript" src="https://github.githubassets.com/assets/vendors-node_modules_primer_react_lib-esm_ConfirmationDialog_ConfirmationDialog_js-1396cd0754d9.js"></script>
<script crossorigin="anonymous" defer="defer" type="application/javascript" src="https://github.githubassets.com/assets/vendors-node_modules_primer_react_lib-esm_Dialog_js-node_modules_primer_react_lib-esm_Flash_F-ad64b6-7663299a84eb.js"></script>
<script crossorigin="anonymous" defer="defer" type="application/javascript" src="https://github.githubassets.com/assets/vendors-node_modules_primer_react_lib-esm_Avatar_Avatar_js-node_modules_primer_react_lib-esm_-abca1b-e1f48b432bcb.js"></script>
<script crossorigin="anonymous" defer="defer" type="application/javascript" src="https://github.githubassets.com/assets/vendors-node_modules_primer_react_lib-esm_TreeView_TreeView_js-5d623f8c8e93.js"></script>
<script crossorigin="anonymous" defer="defer" type="application/javascript" src="https://github.githubassets.com/assets/vendors-node_modules_github_mini-throttle_dist_index_js-node_modules_primer_react_lib-esm_Ava-691638-41f6b165755b.js"></script>
<script crossorigin="anonymous" defer="defer" type="application/javascript" src="https://github.githubassets.com/assets/ui_packages_react-core_create-browser-history_ts-ui_packages_react-core_deferred-registry_ts--ebbb92-64923177f972.js"></script>
<script crossorigin="anonymous" defer="defer" type="application/javascript" src="https://github.githubassets.com/assets/ui_packages_react-core_register-app_ts-f7fc9821bc0f.js"></script>
<script crossorigin="anonymous" defer="defer" type="application/javascript" src="https://github.githubassets.com/assets/ui_packages_paths_index_ts-ecae1bcc01e3.js"></script>
<script crossorigin="anonymous" defer="defer" type="application/javascript" src="https://github.githubassets.com/assets/ui_packages_ref-selector_RefSelector_tsx-858bb94813b1.js"></script>
<script crossorigin="anonymous" defer="defer" type="application/javascript" src="https://github.githubassets.com/assets/ui_packages_commit-attribution_index_ts-ui_packages_commit-checks-status_index_ts-ui_packages-1e98c0-59848352f3aa.js"></script>
<script crossorigin="anonymous" defer="defer" type="application/javascript" src="https://github.githubassets.com/assets/app_assets_modules_react-code-view_components_directory_DirectoryContent_index_ts-app_assets_-89088c-c75c0c355406.js"></script>
<script crossorigin="anonymous" defer="defer" type="application/javascript" src="https://github.githubassets.com/assets/react-code-view-8ea1d94dc251.js"></script>


  <title>nn-zero-to-hero/lectures/micrograd/micrograd_lecture_first_half_roughly.ipynb at master · karpathy/nn-zero-to-hero · GitHub</title>



  <meta name="route-pattern" content="/:user_id/:repository/blob/*name(/*path)" data-turbo-transient>
  <meta name="route-controller" content="blob" data-turbo-transient>
  <meta name="route-action" content="show" data-turbo-transient>

    
  <meta name="current-catalog-service-hash" content="82c569b93da5c18ed649ebd4c2c79437db4611a6a1373e805a3cb001c64130b7">


  <meta name="request-id" content="C5B3:2611E:5E5A2C:69D21C:65D468AF" data-pjax-transient="true"/><meta name="html-safe-nonce" content="9a33d3a21d11c9dff808c57bb81fa35ce294ed085ca0fb384c2fb7d655702367" data-pjax-transient="true"/><meta name="visitor-payload" content="eyJyZWZlcnJlciI6Imh0dHBzOi8vZ2l0aHViLmNvbS9rYXJwYXRoeS9ubi16ZXJvLXRvLWhlcm8vdHJlZS9tYXN0ZXIvbGVjdHVyZXMvbWljcm9ncmFkIiwicmVxdWVzdF9pZCI6IkM1QjM6MjYxMUU6NUU1QTJDOjY5RDIxQzo2NUQ0NjhBRiIsInZpc2l0b3JfaWQiOiI4OTQ4Nzk4MTQyMjg1MDgzNjg0IiwicmVnaW9uX2VkZ2UiOiJjZW50cmFsaW5kaWEiLCJyZWdpb25fcmVuZGVyIjoiY2VudHJhbGluZGlhIn0=" data-pjax-transient="true"/><meta name="visitor-hmac" content="5ee6d5e9c22a601bcae5289d24d3c4c1d5634899d7b491f96f47cc2c7b6c9b1d" data-pjax-transient="true"/>


    <meta name="hovercard-subject-tag" content="repository:534397970" data-turbo-transient>


  <meta name="github-keyboard-shortcuts" content="repository,source-code,file-tree,copilot" data-turbo-transient="true" />
  

  <meta name="selected-link" value="repo_source" data-turbo-transient>
  <link rel="assets" href="https://github.githubassets.com/">

    <meta name="google-site-verification" content="c1kuD-K2HIVF635lypcsWPoD4kilo5-jA_wBFyT4uMY">
  <meta name="google-site-verification" content="KT5gs8h0wvaagLKAVWq8bbeNwnZZK1r1XQysX3xurLU">
  <meta name="google-site-verification" content="ZzhVyEFwb7w3e0-uOTltm8Jsck2F5StVihD0exw2fsA">
  <meta name="google-site-verification" content="GXs5KoUUkNCoaAZn7wPN-t01Pywp9M3sEjnt_3_ZWPc">
  <meta name="google-site-verification" content="Apib7-x98H0j5cPqHWwSMm6dNU4GmODRoqxLiDzdx9I">

<meta name="octolytics-url" content="https://collector.github.com/github/collect" />

  <meta name="analytics-location" content="/&lt;user-name&gt;/&lt;repo-name&gt;/blob/show" data-turbo-transient="true" />

  




  

    <meta name="user-login" content="">

  

    <meta name="viewport" content="width=device-width">
    
      <meta name="description" content="Neural Networks: Zero to Hero. Contribute to karpathy/nn-zero-to-hero development by creating an account on GitHub.">
      <link rel="search" type="application/opensearchdescription+xml" href="/opensearch.xml" title="GitHub">
    <link rel="fluid-icon" href="https://github.com/fluidicon.png" title="GitHub">
    <meta property="fb:app_id" content="1401488693436528">
    <meta name="apple-itunes-app" content="app-id=1477376905, app-argument=https://github.com/karpathy/nn-zero-to-hero/blob/master/lectures/micrograd/micrograd_lecture_first_half_roughly.ipynb" />
      <meta name="twitter:image:src" content="https://opengraph.githubassets.com/a1fac4ba05e9f900a461b2b7b58f9ea6a7cc4967bb41f75d5b2d0779aadc9e8f/karpathy/nn-zero-to-hero" /><meta name="twitter:site" content="@github" /><meta name="twitter:card" content="summary_large_image" /><meta name="twitter:title" content="nn-zero-to-hero/lectures/micrograd/micrograd_lecture_first_half_roughly.ipynb at master · karpathy/nn-zero-to-hero" /><meta name="twitter:description" content="Neural Networks: Zero to Hero. Contribute to karpathy/nn-zero-to-hero development by creating an account on GitHub." />
      <meta property="og:image" content="https://opengraph.githubassets.com/a1fac4ba05e9f900a461b2b7b58f9ea6a7cc4967bb41f75d5b2d0779aadc9e8f/karpathy/nn-zero-to-hero" /><meta property="og:image:alt" content="Neural Networks: Zero to Hero. Contribute to karpathy/nn-zero-to-hero development by creating an account on GitHub." /><meta property="og:image:width" content="1200" /><meta property="og:image:height" content="600" /><meta property="og:site_name" content="GitHub" /><meta property="og:type" content="object" /><meta property="og:title" content="nn-zero-to-hero/lectures/micrograd/micrograd_lecture_first_half_roughly.ipynb at master · karpathy/nn-zero-to-hero" /><meta property="og:url" content="https://github.com/karpathy/nn-zero-to-hero/blob/master/lectures/micrograd/micrograd_lecture_first_half_roughly.ipynb" /><meta property="og:description" content="Neural Networks: Zero to Hero. Contribute to karpathy/nn-zero-to-hero development by creating an account on GitHub." />
      



        <meta name="hostname" content="github.com">



        <meta name="expected-hostname" content="github.com">


  <meta http-equiv="x-pjax-version" content="d0944f055f2301c58ac9e3210959350eea0a65fbbab30de1699be0cee1fdd46f" data-turbo-track="reload">
  <meta http-equiv="x-pjax-csp-version" content="5dcfbec3488c5fd5a334e287ce6a17058b7d4beb91db2d4d184e4d55bbf1d7d7" data-turbo-track="reload">
  <meta http-equiv="x-pjax-css-version" content="47d9798bec31e0f9b31dba5204947a624624b7e84131bacd26a3ad15fec51f89" data-turbo-track="reload">
  <meta http-equiv="x-pjax-js-version" content="64c056cc0c2e4c48d91e347fad103610eb3c47ce0fa152463d13f738b6872205" data-turbo-track="reload">

  <meta name="turbo-cache-control" content="no-preview" data-turbo-transient="">

      <meta name="turbo-cache-control" content="no-cache" data-turbo-transient>
    <meta data-hydrostats="publish">

  <meta name="go-import" content="github.com/karpathy/nn-zero-to-hero git https://github.com/karpathy/nn-zero-to-hero.git">

  <meta name="octolytics-dimension-user_id" content="241138" /><meta name="octolytics-dimension-user_login" content="karpathy" /><meta name="octolytics-dimension-repository_id" content="534397970" /><meta name="octolytics-dimension-repository_nwo" content="karpathy/nn-zero-to-hero" /><meta name="octolytics-dimension-repository_public" content="true" /><meta name="octolytics-dimension-repository_is_fork" content="false" /><meta name="octolytics-dimension-repository_network_root_id" content="534397970" /><meta name="octolytics-dimension-repository_network_root_nwo" content="karpathy/nn-zero-to-hero" />



  <meta name="turbo-body-classes" content="logged-out env-production page-responsive">


  <meta name="browser-stats-url" content="https://api.github.com/_private/browser/stats">

  <meta name="browser-errors-url" content="https://api.github.com/_private/browser/errors">

  <link rel="mask-icon" href="https://github.githubassets.com/assets/pinned-octocat-093da3e6fa40.svg" color="#000000">
  <link rel="alternate icon" class="js-site-favicon" type="image/png" href="https://github.githubassets.com/favicons/favicon.png">
  <link rel="icon" class="js-site-favicon" type="image/svg+xml" href="https://github.githubassets.com/favicons/favicon.svg">

<meta name="theme-color" content="#1e2327">
<meta name="color-scheme" content="light dark" />


  <link rel="manifest" href="/manifest.json" crossOrigin="use-credentials">

  </head>

  <body class="logged-out env-production page-responsive" style="word-wrap: break-word;">
    <div data-turbo-body class="logged-out env-production page-responsive" style="word-wrap: break-word;">
      


    <div class="position-relative js-header-wrapper ">
      <a href="#start-of-content" class="px-2 py-4 color-bg-accent-emphasis color-fg-on-emphasis show-on-focus js-skip-to-content">Skip to content</a>
      <span data-view-component="true" class="progress-pjax-loader Progress position-fixed width-full">
    <span style="width: 0%;" data-view-component="true" class="Progress-item progress-pjax-loader-bar left-0 top-0 color-bg-accent-emphasis"></span>
</span>      
      
  




<script crossorigin="anonymous" defer="defer" type="application/javascript" src="https://github.githubassets.com/assets/vendors-node_modules_primer_react_lib-esm_Button_IconButton_js-node_modules_primer_react_lib--23bcad-ccf1d5fc6054.js"></script>

<script crossorigin="anonymous" defer="defer" type="application/javascript" src="https://github.githubassets.com/assets/keyboard-shortcuts-dialog-a2ca669523db.js"></script>

<react-partial
  partial-name="keyboard-shortcuts-dialog"
  data-ssr="false"
>
  
  <script type="application/json" data-target="react-partial.embeddedData">{"props":{}}</script>
  <div data-target="react-partial.reactRoot"></div>
</react-partial>



      

        

            
<script crossorigin="anonymous" defer="defer" type="application/javascript" src="https://github.githubassets.com/assets/vendors-node_modules_github_remote-form_dist_index_js-node_modules_delegated-events_dist_inde-94fd67-99519581d0f8.js"></script>
<script crossorigin="anonymous" defer="defer" type="application/javascript" src="https://github.githubassets.com/assets/sessions-1164ee5f3e37.js"></script>
<header class="Header-old header-logged-out js-details-container Details position-relative f4 py-3" role="banner" data-color-mode=light data-light-theme=light data-dark-theme=dark>
  <button type="button" class="Header-backdrop d-lg-none border-0 position-fixed top-0 left-0 width-full height-full js-details-target" aria-label="Toggle navigation">
    <span class="d-none">Toggle navigation</span>
  </button>

  <div class=" d-flex flex-column flex-lg-row flex-items-center p-responsive height-full position-relative z-1">
    <div class="d-flex flex-justify-between flex-items-center width-full width-lg-auto">
      <a class="mr-lg-3 color-fg-inherit flex-order-2" href="https://github.com/" aria-label="Homepage" data-ga-click="(Logged out) Header, go to homepage, icon:logo-wordmark">
        <svg height="32" aria-hidden="true" viewBox="0 0 16 16" version="1.1" width="32" data-view-component="true" class="octicon octicon-mark-github">
    <path d="M8 0c4.42 0 8 3.58 8 8a8.013 8.013 0 0 1-5.45 7.59c-.4.08-.55-.17-.55-.38 0-.27.01-1.13.01-2.2 0-.75-.25-1.23-.54-1.48 1.78-.2 3.65-.88 3.65-3.95 0-.88-.31-1.59-.82-2.15.08-.2.36-1.02-.08-2.12 0 0-.67-.22-2.2.82-.64-.18-1.32-.27-2-.27-.68 0-1.36.09-2 .27-1.53-1.03-2.2-.82-2.2-.82-.44 1.1-.16 1.92-.08 2.12-.51.56-.82 1.28-.82 2.15 0 3.06 1.86 3.75 3.64 3.95-.23.2-.44.55-.51 1.07-.46.21-1.61.55-2.33-.66-.15-.24-.6-.83-1.23-.82-.67.01-.27.38.01.53.34.19.73.9.82 1.13.16.45.68 1.31 2.69.94 0 .67.01 1.3.01 1.49 0 .21-.15.45-.55.38A7.995 7.995 0 0 1 0 8c0-4.42 3.58-8 8-8Z"></path>
</svg>
      </a>

      <div class="flex-1">
        <a href="/login?return_to=https%3A%2F%2Fgithub.com%2Fkarpathy%2Fnn-zero-to-hero%2Fblob%2Fmaster%2Flectures%2Fmicrograd%2Fmicrograd_lecture_first_half_roughly.ipynb"
          class="d-inline-block d-lg-none flex-order-1 f5 no-underline border color-border-default rounded-2 px-2 py-1 color-fg-inherit"
          data-hydro-click="{&quot;event_type&quot;:&quot;authentication.click&quot;,&quot;payload&quot;:{&quot;location_in_page&quot;:&quot;site header menu&quot;,&quot;repository_id&quot;:null,&quot;auth_type&quot;:&quot;SIGN_UP&quot;,&quot;originating_url&quot;:&quot;https://github.com/karpathy/nn-zero-to-hero/blob/master/lectures/micrograd/micrograd_lecture_first_half_roughly.ipynb&quot;,&quot;user_id&quot;:null}}" data-hydro-click-hmac="ebc91229942e602f8a257de12dc7f77652b3c54860783d35e83879594bbde316"
          data-ga-click="(Logged out) Header, clicked Sign in, text:sign-in">
          Sign in
        </a>
      </div>

      <div class="flex-1 flex-order-2 text-right">
        <button aria-label="Toggle navigation" aria-expanded="false" type="button" data-view-component="true" class="js-details-target Button--link Button--medium Button d-lg-none color-fg-inherit p-1">  <span class="Button-content">
    <span class="Button-label"><div class="HeaderMenu-toggle-bar rounded my-1"></div>
            <div class="HeaderMenu-toggle-bar rounded my-1"></div>
            <div class="HeaderMenu-toggle-bar rounded my-1"></div></span>
  </span>
</button>
      </div>
    </div>


    <div class="HeaderMenu--logged-out p-responsive height-fit position-lg-relative d-lg-flex flex-column flex-auto pt-7 pb-4 top-0">
      <div class="header-menu-wrapper d-flex flex-column flex-self-end flex-lg-row flex-justify-between flex-auto p-3 p-lg-0 rounded rounded-lg-0 mt-3 mt-lg-0">
          <nav class="mt-0 px-3 px-lg-0 mb-3 mb-lg-0" aria-label="Global">
            <ul class="d-lg-flex list-style-none">
                <li class="HeaderMenu-item position-relative flex-wrap flex-justify-between flex-items-center d-block d-lg-flex flex-lg-nowrap flex-lg-items-center js-details-container js-header-menu-item">
      <button type="button" class="HeaderMenu-link border-0 width-full width-lg-auto px-0 px-lg-2 py-3 py-lg-2 no-wrap d-flex flex-items-center flex-justify-between js-details-target" aria-expanded="false">
        Product
        <svg opacity="0.5" aria-hidden="true" height="16" viewBox="0 0 16 16" version="1.1" width="16" data-view-component="true" class="octicon octicon-chevron-down HeaderMenu-icon ml-1">
    <path d="M12.78 5.22a.749.749 0 0 1 0 1.06l-4.25 4.25a.749.749 0 0 1-1.06 0L3.22 6.28a.749.749 0 1 1 1.06-1.06L8 8.939l3.72-3.719a.749.749 0 0 1 1.06 0Z"></path>
</svg>
      </button>
      <div class="HeaderMenu-dropdown dropdown-menu rounded m-0 p-0 py-2 py-lg-4 position-relative position-lg-absolute left-0 left-lg-n3 d-lg-flex dropdown-menu-wide">
          <div class="px-lg-4 border-lg-right mb-4 mb-lg-0 pr-lg-7">
            <ul class="list-style-none f5" >
                <li>
  <a class="HeaderMenu-dropdown-link lh-condensed d-block no-underline position-relative py-2 Link--secondary d-flex flex-items-center pb-lg-3" data-analytics-event="{&quot;category&quot;:&quot;Header dropdown (logged out), Product&quot;,&quot;action&quot;:&quot;click to go to Actions&quot;,&quot;label&quot;:&quot;ref_cta:Actions;&quot;}" href="/features/actions">
      <svg aria-hidden="true" height="24" viewBox="0 0 24 24" version="1.1" width="24" data-view-component="true" class="octicon octicon-workflow color-fg-subtle mr-3">
    <path d="M1 3a2 2 0 0 1 2-2h6.5a2 2 0 0 1 2 2v6.5a2 2 0 0 1-2 2H7v4.063C7 16.355 7.644 17 8.438 17H12.5v-2.5a2 2 0 0 1 2-2H21a2 2 0 0 1 2 2V21a2 2 0 0 1-2 2h-6.5a2 2 0 0 1-2-2v-2.5H8.437A2.939 2.939 0 0 1 5.5 15.562V11.5H3a2 2 0 0 1-2-2Zm2-.5a.5.5 0 0 0-.5.5v6.5a.5.5 0 0 0 .5.5h6.5a.5.5 0 0 0 .5-.5V3a.5.5 0 0 0-.5-.5ZM14.5 14a.5.5 0 0 0-.5.5V21a.5.5 0 0 0 .5.5H21a.5.5 0 0 0 .5-.5v-6.5a.5.5 0 0 0-.5-.5Z"></path>
</svg>
      <div>
        <div class="color-fg-default h4">Actions</div>
        Automate any workflow
      </div>

    
</a></li>

                <li>
  <a class="HeaderMenu-dropdown-link lh-condensed d-block no-underline position-relative py-2 Link--secondary d-flex flex-items-center pb-lg-3" data-analytics-event="{&quot;category&quot;:&quot;Header dropdown (logged out), Product&quot;,&quot;action&quot;:&quot;click to go to Packages&quot;,&quot;label&quot;:&quot;ref_cta:Packages;&quot;}" href="/features/packages">
      <svg aria-hidden="true" height="24" viewBox="0 0 24 24" version="1.1" width="24" data-view-component="true" class="octicon octicon-package color-fg-subtle mr-3">
    <path d="M12.876.64V.639l8.25 4.763c.541.313.875.89.875 1.515v9.525a1.75 1.75 0 0 1-.875 1.516l-8.25 4.762a1.748 1.748 0 0 1-1.75 0l-8.25-4.763a1.75 1.75 0 0 1-.875-1.515V6.917c0-.625.334-1.202.875-1.515L11.126.64a1.748 1.748 0 0 1 1.75 0Zm-1 1.298L4.251 6.34l7.75 4.474 7.75-4.474-7.625-4.402a.248.248 0 0 0-.25 0Zm.875 19.123 7.625-4.402a.25.25 0 0 0 .125-.216V7.639l-7.75 4.474ZM3.501 7.64v8.803c0 .09.048.172.125.216l7.625 4.402v-8.947Z"></path>
</svg>
      <div>
        <div class="color-fg-default h4">Packages</div>
        Host and manage packages
      </div>

    
</a></li>

                <li>
  <a class="HeaderMenu-dropdown-link lh-condensed d-block no-underline position-relative py-2 Link--secondary d-flex flex-items-center pb-lg-3" data-analytics-event="{&quot;category&quot;:&quot;Header dropdown (logged out), Product&quot;,&quot;action&quot;:&quot;click to go to Security&quot;,&quot;label&quot;:&quot;ref_cta:Security;&quot;}" href="/features/security">
      <svg aria-hidden="true" height="24" viewBox="0 0 24 24" version="1.1" width="24" data-view-component="true" class="octicon octicon-shield-check color-fg-subtle mr-3">
    <path d="M16.53 9.78a.75.75 0 0 0-1.06-1.06L11 13.19l-1.97-1.97a.75.75 0 0 0-1.06 1.06l2.5 2.5a.75.75 0 0 0 1.06 0l5-5Z"></path><path d="m12.54.637 8.25 2.675A1.75 1.75 0 0 1 22 4.976V10c0 6.19-3.771 10.704-9.401 12.83a1.704 1.704 0 0 1-1.198 0C5.77 20.705 2 16.19 2 10V4.976c0-.758.489-1.43 1.21-1.664L11.46.637a1.748 1.748 0 0 1 1.08 0Zm-.617 1.426-8.25 2.676a.249.249 0 0 0-.173.237V10c0 5.46 3.28 9.483 8.43 11.426a.199.199 0 0 0 .14 0C17.22 19.483 20.5 15.461 20.5 10V4.976a.25.25 0 0 0-.173-.237l-8.25-2.676a.253.253 0 0 0-.154 0Z"></path>
</svg>
      <div>
        <div class="color-fg-default h4">Security</div>
        Find and fix vulnerabilities
      </div>

    
</a></li>

                <li>
  <a class="HeaderMenu-dropdown-link lh-condensed d-block no-underline position-relative py-2 Link--secondary d-flex flex-items-center pb-lg-3" data-analytics-event="{&quot;category&quot;:&quot;Header dropdown (logged out), Product&quot;,&quot;action&quot;:&quot;click to go to Codespaces&quot;,&quot;label&quot;:&quot;ref_cta:Codespaces;&quot;}" href="/features/codespaces">
      <svg aria-hidden="true" height="24" viewBox="0 0 24 24" version="1.1" width="24" data-view-component="true" class="octicon octicon-codespaces color-fg-subtle mr-3">
    <path d="M3.5 3.75C3.5 2.784 4.284 2 5.25 2h13.5c.966 0 1.75.784 1.75 1.75v7.5A1.75 1.75 0 0 1 18.75 13H5.25a1.75 1.75 0 0 1-1.75-1.75Zm-2 12c0-.966.784-1.75 1.75-1.75h17.5c.966 0 1.75.784 1.75 1.75v4a1.75 1.75 0 0 1-1.75 1.75H3.25a1.75 1.75 0 0 1-1.75-1.75ZM5.25 3.5a.25.25 0 0 0-.25.25v7.5c0 .138.112.25.25.25h13.5a.25.25 0 0 0 .25-.25v-7.5a.25.25 0 0 0-.25-.25Zm-2 12a.25.25 0 0 0-.25.25v4c0 .138.112.25.25.25h17.5a.25.25 0 0 0 .25-.25v-4a.25.25 0 0 0-.25-.25Z"></path><path d="M10 17.75a.75.75 0 0 1 .75-.75h6.5a.75.75 0 0 1 0 1.5h-6.5a.75.75 0 0 1-.75-.75Zm-4 0a.75.75 0 0 1 .75-.75h.5a.75.75 0 0 1 0 1.5h-.5a.75.75 0 0 1-.75-.75Z"></path>
</svg>
      <div>
        <div class="color-fg-default h4">Codespaces</div>
        Instant dev environments
      </div>

    
</a></li>

                <li>
  <a class="HeaderMenu-dropdown-link lh-condensed d-block no-underline position-relative py-2 Link--secondary d-flex flex-items-center pb-lg-3" data-analytics-event="{&quot;category&quot;:&quot;Header dropdown (logged out), Product&quot;,&quot;action&quot;:&quot;click to go to Copilot&quot;,&quot;label&quot;:&quot;ref_cta:Copilot;&quot;}" href="/features/copilot">
      <svg aria-hidden="true" height="24" viewBox="0 0 24 24" version="1.1" width="24" data-view-component="true" class="octicon octicon-copilot color-fg-subtle mr-3">
    <path d="M23.922 16.992c-.861 1.495-5.859 5.023-11.922 5.023-6.063 0-11.061-3.528-11.922-5.023A.641.641 0 0 1 0 16.736v-2.869a.841.841 0 0 1 .053-.22c.372-.935 1.347-2.292 2.605-2.656.167-.429.414-1.055.644-1.517a10.195 10.195 0 0 1-.052-1.086c0-1.331.282-2.499 1.132-3.368.397-.406.89-.717 1.474-.952 1.399-1.136 3.392-2.093 6.122-2.093 2.731 0 4.767.957 6.166 2.093.584.235 1.077.546 1.474.952.85.869 1.132 2.037 1.132 3.368 0 .368-.014.733-.052 1.086.23.462.477 1.088.644 1.517 1.258.364 2.233 1.721 2.605 2.656a.832.832 0 0 1 .053.22v2.869a.641.641 0 0 1-.078.256ZM12.172 11h-.344a4.323 4.323 0 0 1-.355.508C10.703 12.455 9.555 13 7.965 13c-1.725 0-2.989-.359-3.782-1.259a2.005 2.005 0 0 1-.085-.104L4 11.741v6.585c1.435.779 4.514 2.179 8 2.179 3.486 0 6.565-1.4 8-2.179v-6.585l-.098-.104s-.033.045-.085.104c-.793.9-2.057 1.259-3.782 1.259-1.59 0-2.738-.545-3.508-1.492a4.323 4.323 0 0 1-.355-.508h-.016.016Zm.641-2.935c.136 1.057.403 1.913.878 2.497.442.544 1.134.938 2.344.938 1.573 0 2.292-.337 2.657-.751.384-.435.558-1.15.558-2.361 0-1.14-.243-1.847-.705-2.319-.477-.488-1.319-.862-2.824-1.025-1.487-.161-2.192.138-2.533.529-.269.307-.437.808-.438 1.578v.021c0 .265.021.562.063.893Zm-1.626 0c.042-.331.063-.628.063-.894v-.02c-.001-.77-.169-1.271-.438-1.578-.341-.391-1.046-.69-2.533-.529-1.505.163-2.347.537-2.824 1.025-.462.472-.705 1.179-.705 2.319 0 1.211.175 1.926.558 2.361.365.414 1.084.751 2.657.751 1.21 0 1.902-.394 2.344-.938.475-.584.742-1.44.878-2.497Z"></path><path d="M14.5 14.25a1 1 0 0 1 1 1v2a1 1 0 0 1-2 0v-2a1 1 0 0 1 1-1Zm-5 0a1 1 0 0 1 1 1v2a1 1 0 0 1-2 0v-2a1 1 0 0 1 1-1Z"></path>
</svg>
      <div>
        <div class="color-fg-default h4">Copilot</div>
        Write better code with AI
      </div>

    
</a></li>

                <li>
  <a class="HeaderMenu-dropdown-link lh-condensed d-block no-underline position-relative py-2 Link--secondary d-flex flex-items-center pb-lg-3" data-analytics-event="{&quot;category&quot;:&quot;Header dropdown (logged out), Product&quot;,&quot;action&quot;:&quot;click to go to Code review&quot;,&quot;label&quot;:&quot;ref_cta:Code review;&quot;}" href="/features/code-review">
      <svg aria-hidden="true" height="24" viewBox="0 0 24 24" version="1.1" width="24" data-view-component="true" class="octicon octicon-code-review color-fg-subtle mr-3">
    <path d="M10.3 6.74a.75.75 0 0 1-.04 1.06l-2.908 2.7 2.908 2.7a.75.75 0 1 1-1.02 1.1l-3.5-3.25a.75.75 0 0 1 0-1.1l3.5-3.25a.75.75 0 0 1 1.06.04Zm3.44 1.06a.75.75 0 1 1 1.02-1.1l3.5 3.25a.75.75 0 0 1 0 1.1l-3.5 3.25a.75.75 0 1 1-1.02-1.1l2.908-2.7-2.908-2.7Z"></path><path d="M1.5 4.25c0-.966.784-1.75 1.75-1.75h17.5c.966 0 1.75.784 1.75 1.75v12.5a1.75 1.75 0 0 1-1.75 1.75h-9.69l-3.573 3.573A1.458 1.458 0 0 1 5 21.043V18.5H3.25a1.75 1.75 0 0 1-1.75-1.75ZM3.25 4a.25.25 0 0 0-.25.25v12.5c0 .138.112.25.25.25h2.5a.75.75 0 0 1 .75.75v3.19l3.72-3.72a.749.749 0 0 1 .53-.22h10a.25.25 0 0 0 .25-.25V4.25a.25.25 0 0 0-.25-.25Z"></path>
</svg>
      <div>
        <div class="color-fg-default h4">Code review</div>
        Manage code changes
      </div>

    
</a></li>

                <li>
  <a class="HeaderMenu-dropdown-link lh-condensed d-block no-underline position-relative py-2 Link--secondary d-flex flex-items-center pb-lg-3" data-analytics-event="{&quot;category&quot;:&quot;Header dropdown (logged out), Product&quot;,&quot;action&quot;:&quot;click to go to Issues&quot;,&quot;label&quot;:&quot;ref_cta:Issues;&quot;}" href="/features/issues">
      <svg aria-hidden="true" height="24" viewBox="0 0 24 24" version="1.1" width="24" data-view-component="true" class="octicon octicon-issue-opened color-fg-subtle mr-3">
    <path d="M12 1c6.075 0 11 4.925 11 11s-4.925 11-11 11S1 18.075 1 12 5.925 1 12 1ZM2.5 12a9.5 9.5 0 0 0 9.5 9.5 9.5 9.5 0 0 0 9.5-9.5A9.5 9.5 0 0 0 12 2.5 9.5 9.5 0 0 0 2.5 12Zm9.5 2a2 2 0 1 1-.001-3.999A2 2 0 0 1 12 14Z"></path>
</svg>
      <div>
        <div class="color-fg-default h4">Issues</div>
        Plan and track work
      </div>

    
</a></li>

                <li>
  <a class="HeaderMenu-dropdown-link lh-condensed d-block no-underline position-relative py-2 Link--secondary d-flex flex-items-center" data-analytics-event="{&quot;category&quot;:&quot;Header dropdown (logged out), Product&quot;,&quot;action&quot;:&quot;click to go to Discussions&quot;,&quot;label&quot;:&quot;ref_cta:Discussions;&quot;}" href="/features/discussions">
      <svg aria-hidden="true" height="24" viewBox="0 0 24 24" version="1.1" width="24" data-view-component="true" class="octicon octicon-comment-discussion color-fg-subtle mr-3">
    <path d="M1.75 1h12.5c.966 0 1.75.784 1.75 1.75v9.5A1.75 1.75 0 0 1 14.25 14H8.061l-2.574 2.573A1.458 1.458 0 0 1 3 15.543V14H1.75A1.75 1.75 0 0 1 0 12.25v-9.5C0 1.784.784 1 1.75 1ZM1.5 2.75v9.5c0 .138.112.25.25.25h2a.75.75 0 0 1 .75.75v2.19l2.72-2.72a.749.749 0 0 1 .53-.22h6.5a.25.25 0 0 0 .25-.25v-9.5a.25.25 0 0 0-.25-.25H1.75a.25.25 0 0 0-.25.25Z"></path><path d="M22.5 8.75a.25.25 0 0 0-.25-.25h-3.5a.75.75 0 0 1 0-1.5h3.5c.966 0 1.75.784 1.75 1.75v9.5A1.75 1.75 0 0 1 22.25 20H21v1.543a1.457 1.457 0 0 1-2.487 1.03L15.939 20H10.75A1.75 1.75 0 0 1 9 18.25v-1.465a.75.75 0 0 1 1.5 0v1.465c0 .138.112.25.25.25h5.5a.75.75 0 0 1 .53.22l2.72 2.72v-2.19a.75.75 0 0 1 .75-.75h2a.25.25 0 0 0 .25-.25v-9.5Z"></path>
</svg>
      <div>
        <div class="color-fg-default h4">Discussions</div>
        Collaborate outside of code
      </div>

    
</a></li>

            </ul>
          </div>
          <div class="px-lg-4">
              <span class="d-block h4 color-fg-default my-1" id="product-explore-heading">Explore</span>
            <ul class="list-style-none f5" aria-labelledby="product-explore-heading">
                <li>
  <a class="HeaderMenu-dropdown-link lh-condensed d-block no-underline position-relative py-2 Link--secondary" data-analytics-event="{&quot;category&quot;:&quot;Header dropdown (logged out), Product&quot;,&quot;action&quot;:&quot;click to go to All features&quot;,&quot;label&quot;:&quot;ref_cta:All features;&quot;}" href="/features">
      All features

    
</a></li>

                <li>
  <a class="HeaderMenu-dropdown-link lh-condensed d-block no-underline position-relative py-2 Link--secondary" target="_blank" data-analytics-event="{&quot;category&quot;:&quot;Header dropdown (logged out), Product&quot;,&quot;action&quot;:&quot;click to go to Documentation&quot;,&quot;label&quot;:&quot;ref_cta:Documentation;&quot;}" href="https://docs.github.com">
      Documentation

    <svg aria-hidden="true" height="16" viewBox="0 0 16 16" version="1.1" width="16" data-view-component="true" class="octicon octicon-link-external HeaderMenu-external-icon color-fg-subtle">
    <path d="M3.75 2h3.5a.75.75 0 0 1 0 1.5h-3.5a.25.25 0 0 0-.25.25v8.5c0 .138.112.25.25.25h8.5a.25.25 0 0 0 .25-.25v-3.5a.75.75 0 0 1 1.5 0v3.5A1.75 1.75 0 0 1 12.25 14h-8.5A1.75 1.75 0 0 1 2 12.25v-8.5C2 2.784 2.784 2 3.75 2Zm6.854-1h4.146a.25.25 0 0 1 .25.25v4.146a.25.25 0 0 1-.427.177L13.03 4.03 9.28 7.78a.751.751 0 0 1-1.042-.018.751.751 0 0 1-.018-1.042l3.75-3.75-1.543-1.543A.25.25 0 0 1 10.604 1Z"></path>
</svg>
</a></li>

                <li>
  <a class="HeaderMenu-dropdown-link lh-condensed d-block no-underline position-relative py-2 Link--secondary" target="_blank" data-analytics-event="{&quot;category&quot;:&quot;Header dropdown (logged out), Product&quot;,&quot;action&quot;:&quot;click to go to GitHub Skills&quot;,&quot;label&quot;:&quot;ref_cta:GitHub Skills;&quot;}" href="https://skills.github.com/">
      GitHub Skills

    <svg aria-hidden="true" height="16" viewBox="0 0 16 16" version="1.1" width="16" data-view-component="true" class="octicon octicon-link-external HeaderMenu-external-icon color-fg-subtle">
    <path d="M3.75 2h3.5a.75.75 0 0 1 0 1.5h-3.5a.25.25 0 0 0-.25.25v8.5c0 .138.112.25.25.25h8.5a.25.25 0 0 0 .25-.25v-3.5a.75.75 0 0 1 1.5 0v3.5A1.75 1.75 0 0 1 12.25 14h-8.5A1.75 1.75 0 0 1 2 12.25v-8.5C2 2.784 2.784 2 3.75 2Zm6.854-1h4.146a.25.25 0 0 1 .25.25v4.146a.25.25 0 0 1-.427.177L13.03 4.03 9.28 7.78a.751.751 0 0 1-1.042-.018.751.751 0 0 1-.018-1.042l3.75-3.75-1.543-1.543A.25.25 0 0 1 10.604 1Z"></path>
</svg>
</a></li>

                <li>
  <a class="HeaderMenu-dropdown-link lh-condensed d-block no-underline position-relative py-2 Link--secondary" target="_blank" data-analytics-event="{&quot;category&quot;:&quot;Header dropdown (logged out), Product&quot;,&quot;action&quot;:&quot;click to go to Blog&quot;,&quot;label&quot;:&quot;ref_cta:Blog;&quot;}" href="https://github.blog">
      Blog

    <svg aria-hidden="true" height="16" viewBox="0 0 16 16" version="1.1" width="16" data-view-component="true" class="octicon octicon-link-external HeaderMenu-external-icon color-fg-subtle">
    <path d="M3.75 2h3.5a.75.75 0 0 1 0 1.5h-3.5a.25.25 0 0 0-.25.25v8.5c0 .138.112.25.25.25h8.5a.25.25 0 0 0 .25-.25v-3.5a.75.75 0 0 1 1.5 0v3.5A1.75 1.75 0 0 1 12.25 14h-8.5A1.75 1.75 0 0 1 2 12.25v-8.5C2 2.784 2.784 2 3.75 2Zm6.854-1h4.146a.25.25 0 0 1 .25.25v4.146a.25.25 0 0 1-.427.177L13.03 4.03 9.28 7.78a.751.751 0 0 1-1.042-.018.751.751 0 0 1-.018-1.042l3.75-3.75-1.543-1.543A.25.25 0 0 1 10.604 1Z"></path>
</svg>
</a></li>

            </ul>
          </div>
      </div>
</li>


                <li class="HeaderMenu-item position-relative flex-wrap flex-justify-between flex-items-center d-block d-lg-flex flex-lg-nowrap flex-lg-items-center js-details-container js-header-menu-item">
      <button type="button" class="HeaderMenu-link border-0 width-full width-lg-auto px-0 px-lg-2 py-3 py-lg-2 no-wrap d-flex flex-items-center flex-justify-between js-details-target" aria-expanded="false">
        Solutions
        <svg opacity="0.5" aria-hidden="true" height="16" viewBox="0 0 16 16" version="1.1" width="16" data-view-component="true" class="octicon octicon-chevron-down HeaderMenu-icon ml-1">
    <path d="M12.78 5.22a.749.749 0 0 1 0 1.06l-4.25 4.25a.749.749 0 0 1-1.06 0L3.22 6.28a.749.749 0 1 1 1.06-1.06L8 8.939l3.72-3.719a.749.749 0 0 1 1.06 0Z"></path>
</svg>
      </button>
      <div class="HeaderMenu-dropdown dropdown-menu rounded m-0 p-0 py-2 py-lg-4 position-relative position-lg-absolute left-0 left-lg-n3 px-lg-4">
          <div class="border-bottom pb-3 mb-3">
              <span class="d-block h4 color-fg-default my-1" id="solutions-for-heading">For</span>
            <ul class="list-style-none f5" aria-labelledby="solutions-for-heading">
                <li>
  <a class="HeaderMenu-dropdown-link lh-condensed d-block no-underline position-relative py-2 Link--secondary" data-analytics-event="{&quot;category&quot;:&quot;Header dropdown (logged out), Solutions&quot;,&quot;action&quot;:&quot;click to go to Enterprise&quot;,&quot;label&quot;:&quot;ref_cta:Enterprise;&quot;}" href="/enterprise">
      Enterprise

    
</a></li>

                <li>
  <a class="HeaderMenu-dropdown-link lh-condensed d-block no-underline position-relative py-2 Link--secondary" data-analytics-event="{&quot;category&quot;:&quot;Header dropdown (logged out), Solutions&quot;,&quot;action&quot;:&quot;click to go to Teams&quot;,&quot;label&quot;:&quot;ref_cta:Teams;&quot;}" href="/team">
      Teams

    
</a></li>

                <li>
  <a class="HeaderMenu-dropdown-link lh-condensed d-block no-underline position-relative py-2 Link--secondary" data-analytics-event="{&quot;category&quot;:&quot;Header dropdown (logged out), Solutions&quot;,&quot;action&quot;:&quot;click to go to Startups&quot;,&quot;label&quot;:&quot;ref_cta:Startups;&quot;}" href="/enterprise/startups">
      Startups

    
</a></li>

                <li>
  <a class="HeaderMenu-dropdown-link lh-condensed d-block no-underline position-relative py-2 Link--secondary" target="_blank" data-analytics-event="{&quot;category&quot;:&quot;Header dropdown (logged out), Solutions&quot;,&quot;action&quot;:&quot;click to go to Education&quot;,&quot;label&quot;:&quot;ref_cta:Education;&quot;}" href="https://education.github.com">
      Education

    <svg aria-hidden="true" height="16" viewBox="0 0 16 16" version="1.1" width="16" data-view-component="true" class="octicon octicon-link-external HeaderMenu-external-icon color-fg-subtle">
    <path d="M3.75 2h3.5a.75.75 0 0 1 0 1.5h-3.5a.25.25 0 0 0-.25.25v8.5c0 .138.112.25.25.25h8.5a.25.25 0 0 0 .25-.25v-3.5a.75.75 0 0 1 1.5 0v3.5A1.75 1.75 0 0 1 12.25 14h-8.5A1.75 1.75 0 0 1 2 12.25v-8.5C2 2.784 2.784 2 3.75 2Zm6.854-1h4.146a.25.25 0 0 1 .25.25v4.146a.25.25 0 0 1-.427.177L13.03 4.03 9.28 7.78a.751.751 0 0 1-1.042-.018.751.751 0 0 1-.018-1.042l3.75-3.75-1.543-1.543A.25.25 0 0 1 10.604 1Z"></path>
</svg>
</a></li>

            </ul>
          </div>
          <div class="border-bottom pb-3 mb-3">
              <span class="d-block h4 color-fg-default my-1" id="solutions-by-solution-heading">By Solution</span>
            <ul class="list-style-none f5" aria-labelledby="solutions-by-solution-heading">
                <li>
  <a class="HeaderMenu-dropdown-link lh-condensed d-block no-underline position-relative py-2 Link--secondary" data-analytics-event="{&quot;category&quot;:&quot;Header dropdown (logged out), Solutions&quot;,&quot;action&quot;:&quot;click to go to CI/CD &amp;amp; Automation&quot;,&quot;label&quot;:&quot;ref_cta:CI/CD &amp;amp; Automation;&quot;}" href="/solutions/ci-cd/">
      CI/CD &amp; Automation

    
</a></li>

                <li>
  <a class="HeaderMenu-dropdown-link lh-condensed d-block no-underline position-relative py-2 Link--secondary" data-analytics-event="{&quot;category&quot;:&quot;Header dropdown (logged out), Solutions&quot;,&quot;action&quot;:&quot;click to go to DevOps&quot;,&quot;label&quot;:&quot;ref_cta:DevOps;&quot;}" href="/solutions/devops/">
      DevOps

    
</a></li>

                <li>
  <a class="HeaderMenu-dropdown-link lh-condensed d-block no-underline position-relative py-2 Link--secondary" target="_blank" data-analytics-event="{&quot;category&quot;:&quot;Header dropdown (logged out), Solutions&quot;,&quot;action&quot;:&quot;click to go to DevSecOps&quot;,&quot;label&quot;:&quot;ref_cta:DevSecOps;&quot;}" href="https://resources.github.com/devops/fundamentals/devsecops/">
      DevSecOps

    <svg aria-hidden="true" height="16" viewBox="0 0 16 16" version="1.1" width="16" data-view-component="true" class="octicon octicon-link-external HeaderMenu-external-icon color-fg-subtle">
    <path d="M3.75 2h3.5a.75.75 0 0 1 0 1.5h-3.5a.25.25 0 0 0-.25.25v8.5c0 .138.112.25.25.25h8.5a.25.25 0 0 0 .25-.25v-3.5a.75.75 0 0 1 1.5 0v3.5A1.75 1.75 0 0 1 12.25 14h-8.5A1.75 1.75 0 0 1 2 12.25v-8.5C2 2.784 2.784 2 3.75 2Zm6.854-1h4.146a.25.25 0 0 1 .25.25v4.146a.25.25 0 0 1-.427.177L13.03 4.03 9.28 7.78a.751.751 0 0 1-1.042-.018.751.751 0 0 1-.018-1.042l3.75-3.75-1.543-1.543A.25.25 0 0 1 10.604 1Z"></path>
</svg>
</a></li>

            </ul>
          </div>
          <div class="">
              <span class="d-block h4 color-fg-default my-1" id="solutions-resources-heading">Resources</span>
            <ul class="list-style-none f5" aria-labelledby="solutions-resources-heading">
                <li>
  <a class="HeaderMenu-dropdown-link lh-condensed d-block no-underline position-relative py-2 Link--secondary" target="_blank" data-analytics-event="{&quot;category&quot;:&quot;Header dropdown (logged out), Solutions&quot;,&quot;action&quot;:&quot;click to go to Learning Pathways&quot;,&quot;label&quot;:&quot;ref_cta:Learning Pathways;&quot;}" href="https://resources.github.com/learn/pathways/">
      Learning Pathways

    <svg aria-hidden="true" height="16" viewBox="0 0 16 16" version="1.1" width="16" data-view-component="true" class="octicon octicon-link-external HeaderMenu-external-icon color-fg-subtle">
    <path d="M3.75 2h3.5a.75.75 0 0 1 0 1.5h-3.5a.25.25 0 0 0-.25.25v8.5c0 .138.112.25.25.25h8.5a.25.25 0 0 0 .25-.25v-3.5a.75.75 0 0 1 1.5 0v3.5A1.75 1.75 0 0 1 12.25 14h-8.5A1.75 1.75 0 0 1 2 12.25v-8.5C2 2.784 2.784 2 3.75 2Zm6.854-1h4.146a.25.25 0 0 1 .25.25v4.146a.25.25 0 0 1-.427.177L13.03 4.03 9.28 7.78a.751.751 0 0 1-1.042-.018.751.751 0 0 1-.018-1.042l3.75-3.75-1.543-1.543A.25.25 0 0 1 10.604 1Z"></path>
</svg>
</a></li>

                <li>
  <a class="HeaderMenu-dropdown-link lh-condensed d-block no-underline position-relative py-2 Link--secondary" target="_blank" data-analytics-event="{&quot;category&quot;:&quot;Header dropdown (logged out), Solutions&quot;,&quot;action&quot;:&quot;click to go to White papers, Ebooks, Webinars&quot;,&quot;label&quot;:&quot;ref_cta:White papers, Ebooks, Webinars;&quot;}" href="https://resources.github.com/">
      White papers, Ebooks, Webinars

    <svg aria-hidden="true" height="16" viewBox="0 0 16 16" version="1.1" width="16" data-view-component="true" class="octicon octicon-link-external HeaderMenu-external-icon color-fg-subtle">
    <path d="M3.75 2h3.5a.75.75 0 0 1 0 1.5h-3.5a.25.25 0 0 0-.25.25v8.5c0 .138.112.25.25.25h8.5a.25.25 0 0 0 .25-.25v-3.5a.75.75 0 0 1 1.5 0v3.5A1.75 1.75 0 0 1 12.25 14h-8.5A1.75 1.75 0 0 1 2 12.25v-8.5C2 2.784 2.784 2 3.75 2Zm6.854-1h4.146a.25.25 0 0 1 .25.25v4.146a.25.25 0 0 1-.427.177L13.03 4.03 9.28 7.78a.751.751 0 0 1-1.042-.018.751.751 0 0 1-.018-1.042l3.75-3.75-1.543-1.543A.25.25 0 0 1 10.604 1Z"></path>
</svg>
</a></li>

                <li>
  <a class="HeaderMenu-dropdown-link lh-condensed d-block no-underline position-relative py-2 Link--secondary" data-analytics-event="{&quot;category&quot;:&quot;Header dropdown (logged out), Solutions&quot;,&quot;action&quot;:&quot;click to go to Customer Stories&quot;,&quot;label&quot;:&quot;ref_cta:Customer Stories;&quot;}" href="/customer-stories">
      Customer Stories

    
</a></li>

                <li>
  <a class="HeaderMenu-dropdown-link lh-condensed d-block no-underline position-relative py-2 Link--secondary" target="_blank" data-analytics-event="{&quot;category&quot;:&quot;Header dropdown (logged out), Solutions&quot;,&quot;action&quot;:&quot;click to go to Partners&quot;,&quot;label&quot;:&quot;ref_cta:Partners;&quot;}" href="https://partner.github.com/">
      Partners

    <svg aria-hidden="true" height="16" viewBox="0 0 16 16" version="1.1" width="16" data-view-component="true" class="octicon octicon-link-external HeaderMenu-external-icon color-fg-subtle">
    <path d="M3.75 2h3.5a.75.75 0 0 1 0 1.5h-3.5a.25.25 0 0 0-.25.25v8.5c0 .138.112.25.25.25h8.5a.25.25 0 0 0 .25-.25v-3.5a.75.75 0 0 1 1.5 0v3.5A1.75 1.75 0 0 1 12.25 14h-8.5A1.75 1.75 0 0 1 2 12.25v-8.5C2 2.784 2.784 2 3.75 2Zm6.854-1h4.146a.25.25 0 0 1 .25.25v4.146a.25.25 0 0 1-.427.177L13.03 4.03 9.28 7.78a.751.751 0 0 1-1.042-.018.751.751 0 0 1-.018-1.042l3.75-3.75-1.543-1.543A.25.25 0 0 1 10.604 1Z"></path>
</svg>
</a></li>

            </ul>
          </div>
      </div>
</li>


                <li class="HeaderMenu-item position-relative flex-wrap flex-justify-between flex-items-center d-block d-lg-flex flex-lg-nowrap flex-lg-items-center js-details-container js-header-menu-item">
      <button type="button" class="HeaderMenu-link border-0 width-full width-lg-auto px-0 px-lg-2 py-3 py-lg-2 no-wrap d-flex flex-items-center flex-justify-between js-details-target" aria-expanded="false">
        Open Source
        <svg opacity="0.5" aria-hidden="true" height="16" viewBox="0 0 16 16" version="1.1" width="16" data-view-component="true" class="octicon octicon-chevron-down HeaderMenu-icon ml-1">
    <path d="M12.78 5.22a.749.749 0 0 1 0 1.06l-4.25 4.25a.749.749 0 0 1-1.06 0L3.22 6.28a.749.749 0 1 1 1.06-1.06L8 8.939l3.72-3.719a.749.749 0 0 1 1.06 0Z"></path>
</svg>
      </button>
      <div class="HeaderMenu-dropdown dropdown-menu rounded m-0 p-0 py-2 py-lg-4 position-relative position-lg-absolute left-0 left-lg-n3 px-lg-4">
          <div class="border-bottom pb-3 mb-3">
            <ul class="list-style-none f5" >
                <li>
  <a class="HeaderMenu-dropdown-link lh-condensed d-block no-underline position-relative py-2 Link--secondary d-flex flex-items-center" data-analytics-event="{&quot;category&quot;:&quot;Header dropdown (logged out), Open Source&quot;,&quot;action&quot;:&quot;click to go to GitHub Sponsors&quot;,&quot;label&quot;:&quot;ref_cta:GitHub Sponsors;&quot;}" href="/sponsors">
      
      <div>
        <div class="color-fg-default h4">GitHub Sponsors</div>
        Fund open source developers
      </div>

    
</a></li>

            </ul>
          </div>
          <div class="border-bottom pb-3 mb-3">
            <ul class="list-style-none f5" >
                <li>
  <a class="HeaderMenu-dropdown-link lh-condensed d-block no-underline position-relative py-2 Link--secondary d-flex flex-items-center" data-analytics-event="{&quot;category&quot;:&quot;Header dropdown (logged out), Open Source&quot;,&quot;action&quot;:&quot;click to go to The ReadME Project&quot;,&quot;label&quot;:&quot;ref_cta:The ReadME Project;&quot;}" href="/readme">
      
      <div>
        <div class="color-fg-default h4">The ReadME Project</div>
        GitHub community articles
      </div>

    
</a></li>

            </ul>
          </div>
          <div class="">
              <span class="d-block h4 color-fg-default my-1" id="open-source-repositories-heading">Repositories</span>
            <ul class="list-style-none f5" aria-labelledby="open-source-repositories-heading">
                <li>
  <a class="HeaderMenu-dropdown-link lh-condensed d-block no-underline position-relative py-2 Link--secondary" data-analytics-event="{&quot;category&quot;:&quot;Header dropdown (logged out), Open Source&quot;,&quot;action&quot;:&quot;click to go to Topics&quot;,&quot;label&quot;:&quot;ref_cta:Topics;&quot;}" href="/topics">
      Topics

    
</a></li>

                <li>
  <a class="HeaderMenu-dropdown-link lh-condensed d-block no-underline position-relative py-2 Link--secondary" data-analytics-event="{&quot;category&quot;:&quot;Header dropdown (logged out), Open Source&quot;,&quot;action&quot;:&quot;click to go to Trending&quot;,&quot;label&quot;:&quot;ref_cta:Trending;&quot;}" href="/trending">
      Trending

    
</a></li>

                <li>
  <a class="HeaderMenu-dropdown-link lh-condensed d-block no-underline position-relative py-2 Link--secondary" data-analytics-event="{&quot;category&quot;:&quot;Header dropdown (logged out), Open Source&quot;,&quot;action&quot;:&quot;click to go to Collections&quot;,&quot;label&quot;:&quot;ref_cta:Collections;&quot;}" href="/collections">
      Collections

    
</a></li>

            </ul>
          </div>
      </div>
</li>


                <li class="HeaderMenu-item position-relative flex-wrap flex-justify-between flex-items-center d-block d-lg-flex flex-lg-nowrap flex-lg-items-center js-details-container js-header-menu-item">
    <a class="HeaderMenu-link no-underline px-0 px-lg-2 py-3 py-lg-2 d-block d-lg-inline-block" data-analytics-event="{&quot;category&quot;:&quot;Header menu top item (logged out)&quot;,&quot;action&quot;:&quot;click to go to Pricing&quot;,&quot;label&quot;:&quot;ref_cta:Pricing;&quot;}" href="/pricing">Pricing</a>
</li>

            </ul>
          </nav>

        <div class="d-lg-flex flex-items-center mb-3 mb-lg-0 text-center text-lg-left ml-3" style="">
                


<qbsearch-input class="search-input" data-scope="repo:karpathy/nn-zero-to-hero" data-custom-scopes-path="/search/custom_scopes" data-delete-custom-scopes-csrf="adQqbW1XXifNlHG-c6RGzILKhj5GcVx72f3Y5eEm7ujLBEzg4byd7XV0dGzc5Pp-AgReR4zKSl7o_DBSfGgSXg" data-max-custom-scopes="10" data-header-redesign-enabled="false" data-initial-value="" data-blackbird-suggestions-path="/search/suggestions" data-jump-to-suggestions-path="/_graphql/GetSuggestedNavigationDestinations" data-current-repository="karpathy/nn-zero-to-hero" data-current-org="" data-current-owner="karpathy" data-logged-in="false" data-copilot-chat-enabled="false" data-blackbird-indexed-repo-csrf="<esi:include src=&quot;/_esi/rails_csrf_token_form_hidden?r=5%2F4ooQLIbjTgeh6lfxP5nKSkY8gGZT1iDR4d57S9LMYgEyD%2FIiwyFefhDRNkfYfXQ6bCpAqGME5C9wbzAK%2BvqyZHG1s2nEvhzwxHT2A5zuwde30vsfLyZ3rKDQe8EX12EjXeWSjNn86NFRLQNylZ1CTMe8N7SNCJEoVDEOjGMOzap9YMMafw5Jy1vpZIdUUCO%2F7s8LIxlTH7h2QaI6excBIgM2y1ILwOC%2BtVCQ21yDBMboqsmbM%2Fgjcv3pVhciQFik0zKdv6ovsy%2BOyICfXHCVcK9emgMubuVVpl5YSQav8qFd6l77aeIP4MAEHXErv0F17e5fK7JagtpPKKXSUDvr8ZVQQlRGaDSAfm6iMZTyyYodC6I4VOE8h3s2McSm9q7gnecyzig%2FlWbe0pJAS8Idh8mMxDbTGXc3cZUsh5jLfUQyphLex0RcnZvqulwPehHcNEMwACF8dJUxfLTIex4eymXRaxptzUTbpVKzdFE5bAfKhVcg6XkhxRzsOZ%2FstAE4JGyz5SqeeNzmxqK4dEEl31m2ZTbDgKskbr%2FLbWIgY6bTM4xIcWG%2Be57jWnFc0q%2BS93YSG0WOWvgXr0gYBESmSulYo64oZDAql%2B4RsZY4gMv6JjhNbmj%2BcsblWHViKSz97YL2FP2y47hB28JtBgFu8raUyT9xmL6ig%3D--JFMnGeK%2BfBYqjRSp--%2FFQYc3JAlNilLPAYG5F6EA%3D%3D&quot; />">
  <div
    class="search-input-container search-with-dialog position-relative d-flex flex-row flex-items-center mr-4 rounded"
    data-action="click:qbsearch-input#searchInputContainerClicked"
  >
      <button
        type="button"
        class="header-search-button placeholder  input-button form-control d-flex flex-1 flex-self-stretch flex-items-center no-wrap width-full py-0 pl-2 pr-0 text-left border-0 box-shadow-none"
        data-target="qbsearch-input.inputButton"
        placeholder="Search or jump to..."
        data-hotkey=s,/
        autocapitalize="off"
        data-action="click:qbsearch-input#handleExpand"
      >
        <div class="mr-2 color-fg-muted">
          <svg aria-hidden="true" height="16" viewBox="0 0 16 16" version="1.1" width="16" data-view-component="true" class="octicon octicon-search">
    <path d="M10.68 11.74a6 6 0 0 1-7.922-8.982 6 6 0 0 1 8.982 7.922l3.04 3.04a.749.749 0 0 1-.326 1.275.749.749 0 0 1-.734-.215ZM11.5 7a4.499 4.499 0 1 0-8.997 0A4.499 4.499 0 0 0 11.5 7Z"></path>
</svg>
        </div>
        <span class="flex-1" data-target="qbsearch-input.inputButtonText">Search or jump to...</span>
          <div class="d-flex" data-target="qbsearch-input.hotkeyIndicator">
            <svg xmlns="http://www.w3.org/2000/svg" width="22" height="20" aria-hidden="true" class="mr-1"><path fill="none" stroke="#979A9C" opacity=".4" d="M3.5.5h12c1.7 0 3 1.3 3 3v13c0 1.7-1.3 3-3 3h-12c-1.7 0-3-1.3-3-3v-13c0-1.7 1.3-3 3-3z"></path><path fill="#979A9C" d="M11.8 6L8 15.1h-.9L10.8 6h1z"></path></svg>

          </div>
      </button>

    <input type="hidden" name="type" class="js-site-search-type-field">

    
<div class="Overlay--hidden " data-modal-dialog-overlay>
  <modal-dialog data-action="close:qbsearch-input#handleClose cancel:qbsearch-input#handleClose" data-target="qbsearch-input.searchSuggestionsDialog" role="dialog" id="search-suggestions-dialog" aria-modal="true" aria-labelledby="search-suggestions-dialog-header" data-view-component="true" class="Overlay Overlay--width-large Overlay--height-auto">
      <h1 id="search-suggestions-dialog-header" class="sr-only">Search code, repositories, users, issues, pull requests...</h1>
    <div class="Overlay-body Overlay-body--paddingNone">
      
          <div data-view-component="true">        <div class="search-suggestions position-fixed width-full color-shadow-large border color-fg-default color-bg-default overflow-hidden d-flex flex-column query-builder-container"
          style="border-radius: 12px;"
          data-target="qbsearch-input.queryBuilderContainer"
          hidden
        >
          <!-- '"` --><!-- </textarea></xmp> --></option></form><form id="query-builder-test-form" action="" accept-charset="UTF-8" method="get">
  <query-builder data-target="qbsearch-input.queryBuilder" id="query-builder-query-builder-test" data-filter-key=":" data-view-component="true" class="QueryBuilder search-query-builder">
    <div class="FormControl FormControl--fullWidth">
      <label id="query-builder-test-label" for="query-builder-test" class="FormControl-label sr-only">
        Search
      </label>
      <div
        class="QueryBuilder-StyledInput width-fit "
        data-target="query-builder.styledInput"
      >
          <span id="query-builder-test-leadingvisual-wrap" class="FormControl-input-leadingVisualWrap QueryBuilder-leadingVisualWrap">
            <svg aria-hidden="true" height="16" viewBox="0 0 16 16" version="1.1" width="16" data-view-component="true" class="octicon octicon-search FormControl-input-leadingVisual">
    <path d="M10.68 11.74a6 6 0 0 1-7.922-8.982 6 6 0 0 1 8.982 7.922l3.04 3.04a.749.749 0 0 1-.326 1.275.749.749 0 0 1-.734-.215ZM11.5 7a4.499 4.499 0 1 0-8.997 0A4.499 4.499 0 0 0 11.5 7Z"></path>
</svg>
          </span>
        <div data-target="query-builder.styledInputContainer" class="QueryBuilder-StyledInputContainer">
          <div
            aria-hidden="true"
            class="QueryBuilder-StyledInputContent"
            data-target="query-builder.styledInputContent"
          ></div>
          <div class="QueryBuilder-InputWrapper">
            <div aria-hidden="true" class="QueryBuilder-Sizer" data-target="query-builder.sizer"></div>
            <input id="query-builder-test" name="query-builder-test" value="" autocomplete="off" type="text" role="combobox" spellcheck="false" aria-expanded="false" aria-describedby="validation-749195c0-3e92-41a8-bd97-4ae5a895358b" data-target="query-builder.input" data-action="
          input:query-builder#inputChange
          blur:query-builder#inputBlur
          keydown:query-builder#inputKeydown
          focus:query-builder#inputFocus
        " data-view-component="true" class="FormControl-input QueryBuilder-Input FormControl-medium" />
          </div>
        </div>
          <span class="sr-only" id="query-builder-test-clear">Clear</span>
          <button role="button" id="query-builder-test-clear-button" aria-labelledby="query-builder-test-clear query-builder-test-label" data-target="query-builder.clearButton" data-action="
                click:query-builder#clear
                focus:query-builder#clearButtonFocus
                blur:query-builder#clearButtonBlur
              " variant="small" hidden="hidden" type="button" data-view-component="true" class="Button Button--iconOnly Button--invisible Button--medium mr-1 px-2 py-0 d-flex flex-items-center rounded-1 color-fg-muted">  <svg aria-hidden="true" height="16" viewBox="0 0 16 16" version="1.1" width="16" data-view-component="true" class="octicon octicon-x-circle-fill Button-visual">
    <path d="M2.343 13.657A8 8 0 1 1 13.658 2.343 8 8 0 0 1 2.343 13.657ZM6.03 4.97a.751.751 0 0 0-1.042.018.751.751 0 0 0-.018 1.042L6.94 8 4.97 9.97a.749.749 0 0 0 .326 1.275.749.749 0 0 0 .734-.215L8 9.06l1.97 1.97a.749.749 0 0 0 1.275-.326.749.749 0 0 0-.215-.734L9.06 8l1.97-1.97a.749.749 0 0 0-.326-1.275.749.749 0 0 0-.734.215L8 6.94Z"></path>
</svg>
</button>

      </div>
      <template id="search-icon">
  <svg aria-hidden="true" height="16" viewBox="0 0 16 16" version="1.1" width="16" data-view-component="true" class="octicon octicon-search">
    <path d="M10.68 11.74a6 6 0 0 1-7.922-8.982 6 6 0 0 1 8.982 7.922l3.04 3.04a.749.749 0 0 1-.326 1.275.749.749 0 0 1-.734-.215ZM11.5 7a4.499 4.499 0 1 0-8.997 0A4.499 4.499 0 0 0 11.5 7Z"></path>
</svg>
</template>

<template id="code-icon">
  <svg aria-hidden="true" height="16" viewBox="0 0 16 16" version="1.1" width="16" data-view-component="true" class="octicon octicon-code">
    <path d="m11.28 3.22 4.25 4.25a.75.75 0 0 1 0 1.06l-4.25 4.25a.749.749 0 0 1-1.275-.326.749.749 0 0 1 .215-.734L13.94 8l-3.72-3.72a.749.749 0 0 1 .326-1.275.749.749 0 0 1 .734.215Zm-6.56 0a.751.751 0 0 1 1.042.018.751.751 0 0 1 .018 1.042L2.06 8l3.72 3.72a.749.749 0 0 1-.326 1.275.749.749 0 0 1-.734-.215L.47 8.53a.75.75 0 0 1 0-1.06Z"></path>
</svg>
</template>

<template id="file-code-icon">
  <svg aria-hidden="true" height="16" viewBox="0 0 16 16" version="1.1" width="16" data-view-component="true" class="octicon octicon-file-code">
    <path d="M4 1.75C4 .784 4.784 0 5.75 0h5.586c.464 0 .909.184 1.237.513l2.914 2.914c.329.328.513.773.513 1.237v8.586A1.75 1.75 0 0 1 14.25 15h-9a.75.75 0 0 1 0-1.5h9a.25.25 0 0 0 .25-.25V6h-2.75A1.75 1.75 0 0 1 10 4.25V1.5H5.75a.25.25 0 0 0-.25.25v2.5a.75.75 0 0 1-1.5 0Zm1.72 4.97a.75.75 0 0 1 1.06 0l2 2a.75.75 0 0 1 0 1.06l-2 2a.749.749 0 0 1-1.275-.326.749.749 0 0 1 .215-.734l1.47-1.47-1.47-1.47a.75.75 0 0 1 0-1.06ZM3.28 7.78 1.81 9.25l1.47 1.47a.751.751 0 0 1-.018 1.042.751.751 0 0 1-1.042.018l-2-2a.75.75 0 0 1 0-1.06l2-2a.751.751 0 0 1 1.042.018.751.751 0 0 1 .018 1.042Zm8.22-6.218V4.25c0 .138.112.25.25.25h2.688l-.011-.013-2.914-2.914-.013-.011Z"></path>
</svg>
</template>

<template id="history-icon">
  <svg aria-hidden="true" height="16" viewBox="0 0 16 16" version="1.1" width="16" data-view-component="true" class="octicon octicon-history">
    <path d="m.427 1.927 1.215 1.215a8.002 8.002 0 1 1-1.6 5.685.75.75 0 1 1 1.493-.154 6.5 6.5 0 1 0 1.18-4.458l1.358 1.358A.25.25 0 0 1 3.896 6H.25A.25.25 0 0 1 0 5.75V2.104a.25.25 0 0 1 .427-.177ZM7.75 4a.75.75 0 0 1 .75.75v2.992l2.028.812a.75.75 0 0 1-.557 1.392l-2.5-1A.751.751 0 0 1 7 8.25v-3.5A.75.75 0 0 1 7.75 4Z"></path>
</svg>
</template>

<template id="repo-icon">
  <svg aria-hidden="true" height="16" viewBox="0 0 16 16" version="1.1" width="16" data-view-component="true" class="octicon octicon-repo">
    <path d="M2 2.5A2.5 2.5 0 0 1 4.5 0h8.75a.75.75 0 0 1 .75.75v12.5a.75.75 0 0 1-.75.75h-2.5a.75.75 0 0 1 0-1.5h1.75v-2h-8a1 1 0 0 0-.714 1.7.75.75 0 1 1-1.072 1.05A2.495 2.495 0 0 1 2 11.5Zm10.5-1h-8a1 1 0 0 0-1 1v6.708A2.486 2.486 0 0 1 4.5 9h8ZM5 12.25a.25.25 0 0 1 .25-.25h3.5a.25.25 0 0 1 .25.25v3.25a.25.25 0 0 1-.4.2l-1.45-1.087a.249.249 0 0 0-.3 0L5.4 15.7a.25.25 0 0 1-.4-.2Z"></path>
</svg>
</template>

<template id="bookmark-icon">
  <svg aria-hidden="true" height="16" viewBox="0 0 16 16" version="1.1" width="16" data-view-component="true" class="octicon octicon-bookmark">
    <path d="M3 2.75C3 1.784 3.784 1 4.75 1h6.5c.966 0 1.75.784 1.75 1.75v11.5a.75.75 0 0 1-1.227.579L8 11.722l-3.773 3.107A.751.751 0 0 1 3 14.25Zm1.75-.25a.25.25 0 0 0-.25.25v9.91l3.023-2.489a.75.75 0 0 1 .954 0l3.023 2.49V2.75a.25.25 0 0 0-.25-.25Z"></path>
</svg>
</template>

<template id="plus-circle-icon">
  <svg aria-hidden="true" height="16" viewBox="0 0 16 16" version="1.1" width="16" data-view-component="true" class="octicon octicon-plus-circle">
    <path d="M8 0a8 8 0 1 1 0 16A8 8 0 0 1 8 0ZM1.5 8a6.5 6.5 0 1 0 13 0 6.5 6.5 0 0 0-13 0Zm7.25-3.25v2.5h2.5a.75.75 0 0 1 0 1.5h-2.5v2.5a.75.75 0 0 1-1.5 0v-2.5h-2.5a.75.75 0 0 1 0-1.5h2.5v-2.5a.75.75 0 0 1 1.5 0Z"></path>
</svg>
</template>

<template id="circle-icon">
  <svg aria-hidden="true" height="16" viewBox="0 0 16 16" version="1.1" width="16" data-view-component="true" class="octicon octicon-dot-fill">
    <path d="M8 4a4 4 0 1 1 0 8 4 4 0 0 1 0-8Z"></path>
</svg>
</template>

<template id="trash-icon">
  <svg aria-hidden="true" height="16" viewBox="0 0 16 16" version="1.1" width="16" data-view-component="true" class="octicon octicon-trash">
    <path d="M11 1.75V3h2.25a.75.75 0 0 1 0 1.5H2.75a.75.75 0 0 1 0-1.5H5V1.75C5 .784 5.784 0 6.75 0h2.5C10.216 0 11 .784 11 1.75ZM4.496 6.675l.66 6.6a.25.25 0 0 0 .249.225h5.19a.25.25 0 0 0 .249-.225l.66-6.6a.75.75 0 0 1 1.492.149l-.66 6.6A1.748 1.748 0 0 1 10.595 15h-5.19a1.75 1.75 0 0 1-1.741-1.575l-.66-6.6a.75.75 0 1 1 1.492-.15ZM6.5 1.75V3h3V1.75a.25.25 0 0 0-.25-.25h-2.5a.25.25 0 0 0-.25.25Z"></path>
</svg>
</template>

<template id="team-icon">
  <svg aria-hidden="true" height="16" viewBox="0 0 16 16" version="1.1" width="16" data-view-component="true" class="octicon octicon-people">
    <path d="M2 5.5a3.5 3.5 0 1 1 5.898 2.549 5.508 5.508 0 0 1 3.034 4.084.75.75 0 1 1-1.482.235 4 4 0 0 0-7.9 0 .75.75 0 0 1-1.482-.236A5.507 5.507 0 0 1 3.102 8.05 3.493 3.493 0 0 1 2 5.5ZM11 4a3.001 3.001 0 0 1 2.22 5.018 5.01 5.01 0 0 1 2.56 3.012.749.749 0 0 1-.885.954.752.752 0 0 1-.549-.514 3.507 3.507 0 0 0-2.522-2.372.75.75 0 0 1-.574-.73v-.352a.75.75 0 0 1 .416-.672A1.5 1.5 0 0 0 11 5.5.75.75 0 0 1 11 4Zm-5.5-.5a2 2 0 1 0-.001 3.999A2 2 0 0 0 5.5 3.5Z"></path>
</svg>
</template>

<template id="project-icon">
  <svg aria-hidden="true" height="16" viewBox="0 0 16 16" version="1.1" width="16" data-view-component="true" class="octicon octicon-project">
    <path d="M1.75 0h12.5C15.216 0 16 .784 16 1.75v12.5A1.75 1.75 0 0 1 14.25 16H1.75A1.75 1.75 0 0 1 0 14.25V1.75C0 .784.784 0 1.75 0ZM1.5 1.75v12.5c0 .138.112.25.25.25h12.5a.25.25 0 0 0 .25-.25V1.75a.25.25 0 0 0-.25-.25H1.75a.25.25 0 0 0-.25.25ZM11.75 3a.75.75 0 0 1 .75.75v7.5a.75.75 0 0 1-1.5 0v-7.5a.75.75 0 0 1 .75-.75Zm-8.25.75a.75.75 0 0 1 1.5 0v5.5a.75.75 0 0 1-1.5 0ZM8 3a.75.75 0 0 1 .75.75v3.5a.75.75 0 0 1-1.5 0v-3.5A.75.75 0 0 1 8 3Z"></path>
</svg>
</template>

<template id="pencil-icon">
  <svg aria-hidden="true" height="16" viewBox="0 0 16 16" version="1.1" width="16" data-view-component="true" class="octicon octicon-pencil">
    <path d="M11.013 1.427a1.75 1.75 0 0 1 2.474 0l1.086 1.086a1.75 1.75 0 0 1 0 2.474l-8.61 8.61c-.21.21-.47.364-.756.445l-3.251.93a.75.75 0 0 1-.927-.928l.929-3.25c.081-.286.235-.547.445-.758l8.61-8.61Zm.176 4.823L9.75 4.81l-6.286 6.287a.253.253 0 0 0-.064.108l-.558 1.953 1.953-.558a.253.253 0 0 0 .108-.064Zm1.238-3.763a.25.25 0 0 0-.354 0L10.811 3.75l1.439 1.44 1.263-1.263a.25.25 0 0 0 0-.354Z"></path>
</svg>
</template>

<template id="copilot-icon">
  <svg aria-hidden="true" height="16" viewBox="0 0 16 16" version="1.1" width="16" data-view-component="true" class="octicon octicon-copilot">
    <path d="M7.998 15.035c-4.562 0-7.873-2.914-7.998-3.749V9.338c.085-.628.677-1.686 1.588-2.065.013-.07.024-.143.036-.218.029-.183.06-.384.126-.612-.201-.508-.254-1.084-.254-1.656 0-.87.128-1.769.693-2.484.579-.733 1.494-1.124 2.724-1.261 1.206-.134 2.262.034 2.944.765.05.053.096.108.139.165.044-.057.094-.112.143-.165.682-.731 1.738-.899 2.944-.765 1.23.137 2.145.528 2.724 1.261.566.715.693 1.614.693 2.484 0 .572-.053 1.148-.254 1.656.066.228.098.429.126.612.012.076.024.148.037.218.924.385 1.522 1.471 1.591 2.095v1.872c0 .766-3.351 3.795-8.002 3.795Zm0-1.485c2.28 0 4.584-1.11 5.002-1.433V7.862l-.023-.116c-.49.21-1.075.291-1.727.291-1.146 0-2.059-.327-2.71-.991A3.222 3.222 0 0 1 8 6.303a3.24 3.24 0 0 1-.544.743c-.65.664-1.563.991-2.71.991-.652 0-1.236-.081-1.727-.291l-.023.116v4.255c.419.323 2.722 1.433 5.002 1.433ZM6.762 2.83c-.193-.206-.637-.413-1.682-.297-1.019.113-1.479.404-1.713.7-.247.312-.369.789-.369 1.554 0 .793.129 1.171.308 1.371.162.181.519.379 1.442.379.853 0 1.339-.235 1.638-.54.315-.322.527-.827.617-1.553.117-.935-.037-1.395-.241-1.614Zm4.155-.297c-1.044-.116-1.488.091-1.681.297-.204.219-.359.679-.242 1.614.091.726.303 1.231.618 1.553.299.305.784.54 1.638.54.922 0 1.28-.198 1.442-.379.179-.2.308-.578.308-1.371 0-.765-.123-1.242-.37-1.554-.233-.296-.693-.587-1.713-.7Z"></path><path d="M6.25 9.037a.75.75 0 0 1 .75.75v1.501a.75.75 0 0 1-1.5 0V9.787a.75.75 0 0 1 .75-.75Zm4.25.75v1.501a.75.75 0 0 1-1.5 0V9.787a.75.75 0 0 1 1.5 0Z"></path>
</svg>
</template>

<template id="workflow-icon">
  <svg aria-hidden="true" height="16" viewBox="0 0 16 16" version="1.1" width="16" data-view-component="true" class="octicon octicon-workflow">
    <path d="M0 1.75C0 .784.784 0 1.75 0h3.5C6.216 0 7 .784 7 1.75v3.5A1.75 1.75 0 0 1 5.25 7H4v4a1 1 0 0 0 1 1h4v-1.25C9 9.784 9.784 9 10.75 9h3.5c.966 0 1.75.784 1.75 1.75v3.5A1.75 1.75 0 0 1 14.25 16h-3.5A1.75 1.75 0 0 1 9 14.25v-.75H5A2.5 2.5 0 0 1 2.5 11V7h-.75A1.75 1.75 0 0 1 0 5.25Zm1.75-.25a.25.25 0 0 0-.25.25v3.5c0 .138.112.25.25.25h3.5a.25.25 0 0 0 .25-.25v-3.5a.25.25 0 0 0-.25-.25Zm9 9a.25.25 0 0 0-.25.25v3.5c0 .138.112.25.25.25h3.5a.25.25 0 0 0 .25-.25v-3.5a.25.25 0 0 0-.25-.25Z"></path>
</svg>
</template>

<template id="book-icon">
  <svg aria-hidden="true" height="16" viewBox="0 0 16 16" version="1.1" width="16" data-view-component="true" class="octicon octicon-book">
    <path d="M0 1.75A.75.75 0 0 1 .75 1h4.253c1.227 0 2.317.59 3 1.501A3.743 3.743 0 0 1 11.006 1h4.245a.75.75 0 0 1 .75.75v10.5a.75.75 0 0 1-.75.75h-4.507a2.25 2.25 0 0 0-1.591.659l-.622.621a.75.75 0 0 1-1.06 0l-.622-.621A2.25 2.25 0 0 0 5.258 13H.75a.75.75 0 0 1-.75-.75Zm7.251 10.324.004-5.073-.002-2.253A2.25 2.25 0 0 0 5.003 2.5H1.5v9h3.757a3.75 3.75 0 0 1 1.994.574ZM8.755 4.75l-.004 7.322a3.752 3.752 0 0 1 1.992-.572H14.5v-9h-3.495a2.25 2.25 0 0 0-2.25 2.25Z"></path>
</svg>
</template>

<template id="code-review-icon">
  <svg aria-hidden="true" height="16" viewBox="0 0 16 16" version="1.1" width="16" data-view-component="true" class="octicon octicon-code-review">
    <path d="M1.75 1h12.5c.966 0 1.75.784 1.75 1.75v8.5A1.75 1.75 0 0 1 14.25 13H8.061l-2.574 2.573A1.458 1.458 0 0 1 3 14.543V13H1.75A1.75 1.75 0 0 1 0 11.25v-8.5C0 1.784.784 1 1.75 1ZM1.5 2.75v8.5c0 .138.112.25.25.25h2a.75.75 0 0 1 .75.75v2.19l2.72-2.72a.749.749 0 0 1 .53-.22h6.5a.25.25 0 0 0 .25-.25v-8.5a.25.25 0 0 0-.25-.25H1.75a.25.25 0 0 0-.25.25Zm5.28 1.72a.75.75 0 0 1 0 1.06L5.31 7l1.47 1.47a.751.751 0 0 1-.018 1.042.751.751 0 0 1-1.042.018l-2-2a.75.75 0 0 1 0-1.06l2-2a.75.75 0 0 1 1.06 0Zm2.44 0a.75.75 0 0 1 1.06 0l2 2a.75.75 0 0 1 0 1.06l-2 2a.751.751 0 0 1-1.042-.018.751.751 0 0 1-.018-1.042L10.69 7 9.22 5.53a.75.75 0 0 1 0-1.06Z"></path>
</svg>
</template>

<template id="codespaces-icon">
  <svg aria-hidden="true" height="16" viewBox="0 0 16 16" version="1.1" width="16" data-view-component="true" class="octicon octicon-codespaces">
    <path d="M0 11.25c0-.966.784-1.75 1.75-1.75h12.5c.966 0 1.75.784 1.75 1.75v3A1.75 1.75 0 0 1 14.25 16H1.75A1.75 1.75 0 0 1 0 14.25Zm2-9.5C2 .784 2.784 0 3.75 0h8.5C13.216 0 14 .784 14 1.75v5a1.75 1.75 0 0 1-1.75 1.75h-8.5A1.75 1.75 0 0 1 2 6.75Zm1.75-.25a.25.25 0 0 0-.25.25v5c0 .138.112.25.25.25h8.5a.25.25 0 0 0 .25-.25v-5a.25.25 0 0 0-.25-.25Zm-2 9.5a.25.25 0 0 0-.25.25v3c0 .138.112.25.25.25h12.5a.25.25 0 0 0 .25-.25v-3a.25.25 0 0 0-.25-.25Z"></path><path d="M7 12.75a.75.75 0 0 1 .75-.75h4.5a.75.75 0 0 1 0 1.5h-4.5a.75.75 0 0 1-.75-.75Zm-4 0a.75.75 0 0 1 .75-.75h.5a.75.75 0 0 1 0 1.5h-.5a.75.75 0 0 1-.75-.75Z"></path>
</svg>
</template>

<template id="comment-icon">
  <svg aria-hidden="true" height="16" viewBox="0 0 16 16" version="1.1" width="16" data-view-component="true" class="octicon octicon-comment">
    <path d="M1 2.75C1 1.784 1.784 1 2.75 1h10.5c.966 0 1.75.784 1.75 1.75v7.5A1.75 1.75 0 0 1 13.25 12H9.06l-2.573 2.573A1.458 1.458 0 0 1 4 13.543V12H2.75A1.75 1.75 0 0 1 1 10.25Zm1.75-.25a.25.25 0 0 0-.25.25v7.5c0 .138.112.25.25.25h2a.75.75 0 0 1 .75.75v2.19l2.72-2.72a.749.749 0 0 1 .53-.22h4.5a.25.25 0 0 0 .25-.25v-7.5a.25.25 0 0 0-.25-.25Z"></path>
</svg>
</template>

<template id="comment-discussion-icon">
  <svg aria-hidden="true" height="16" viewBox="0 0 16 16" version="1.1" width="16" data-view-component="true" class="octicon octicon-comment-discussion">
    <path d="M1.75 1h8.5c.966 0 1.75.784 1.75 1.75v5.5A1.75 1.75 0 0 1 10.25 10H7.061l-2.574 2.573A1.458 1.458 0 0 1 2 11.543V10h-.25A1.75 1.75 0 0 1 0 8.25v-5.5C0 1.784.784 1 1.75 1ZM1.5 2.75v5.5c0 .138.112.25.25.25h1a.75.75 0 0 1 .75.75v2.19l2.72-2.72a.749.749 0 0 1 .53-.22h3.5a.25.25 0 0 0 .25-.25v-5.5a.25.25 0 0 0-.25-.25h-8.5a.25.25 0 0 0-.25.25Zm13 2a.25.25 0 0 0-.25-.25h-.5a.75.75 0 0 1 0-1.5h.5c.966 0 1.75.784 1.75 1.75v5.5A1.75 1.75 0 0 1 14.25 12H14v1.543a1.458 1.458 0 0 1-2.487 1.03L9.22 12.28a.749.749 0 0 1 .326-1.275.749.749 0 0 1 .734.215l2.22 2.22v-2.19a.75.75 0 0 1 .75-.75h1a.25.25 0 0 0 .25-.25Z"></path>
</svg>
</template>

<template id="organization-icon">
  <svg aria-hidden="true" height="16" viewBox="0 0 16 16" version="1.1" width="16" data-view-component="true" class="octicon octicon-organization">
    <path d="M1.75 16A1.75 1.75 0 0 1 0 14.25V1.75C0 .784.784 0 1.75 0h8.5C11.216 0 12 .784 12 1.75v12.5c0 .085-.006.168-.018.25h2.268a.25.25 0 0 0 .25-.25V8.285a.25.25 0 0 0-.111-.208l-1.055-.703a.749.749 0 1 1 .832-1.248l1.055.703c.487.325.779.871.779 1.456v5.965A1.75 1.75 0 0 1 14.25 16h-3.5a.766.766 0 0 1-.197-.026c-.099.017-.2.026-.303.026h-3a.75.75 0 0 1-.75-.75V14h-1v1.25a.75.75 0 0 1-.75.75Zm-.25-1.75c0 .138.112.25.25.25H4v-1.25a.75.75 0 0 1 .75-.75h2.5a.75.75 0 0 1 .75.75v1.25h2.25a.25.25 0 0 0 .25-.25V1.75a.25.25 0 0 0-.25-.25h-8.5a.25.25 0 0 0-.25.25ZM3.75 6h.5a.75.75 0 0 1 0 1.5h-.5a.75.75 0 0 1 0-1.5ZM3 3.75A.75.75 0 0 1 3.75 3h.5a.75.75 0 0 1 0 1.5h-.5A.75.75 0 0 1 3 3.75Zm4 3A.75.75 0 0 1 7.75 6h.5a.75.75 0 0 1 0 1.5h-.5A.75.75 0 0 1 7 6.75ZM7.75 3h.5a.75.75 0 0 1 0 1.5h-.5a.75.75 0 0 1 0-1.5ZM3 9.75A.75.75 0 0 1 3.75 9h.5a.75.75 0 0 1 0 1.5h-.5A.75.75 0 0 1 3 9.75ZM7.75 9h.5a.75.75 0 0 1 0 1.5h-.5a.75.75 0 0 1 0-1.5Z"></path>
</svg>
</template>

<template id="rocket-icon">
  <svg aria-hidden="true" height="16" viewBox="0 0 16 16" version="1.1" width="16" data-view-component="true" class="octicon octicon-rocket">
    <path d="M14.064 0h.186C15.216 0 16 .784 16 1.75v.186a8.752 8.752 0 0 1-2.564 6.186l-.458.459c-.314.314-.641.616-.979.904v3.207c0 .608-.315 1.172-.833 1.49l-2.774 1.707a.749.749 0 0 1-1.11-.418l-.954-3.102a1.214 1.214 0 0 1-.145-.125L3.754 9.816a1.218 1.218 0 0 1-.124-.145L.528 8.717a.749.749 0 0 1-.418-1.11l1.71-2.774A1.748 1.748 0 0 1 3.31 4h3.204c.288-.338.59-.665.904-.979l.459-.458A8.749 8.749 0 0 1 14.064 0ZM8.938 3.623h-.002l-.458.458c-.76.76-1.437 1.598-2.02 2.5l-1.5 2.317 2.143 2.143 2.317-1.5c.902-.583 1.74-1.26 2.499-2.02l.459-.458a7.25 7.25 0 0 0 2.123-5.127V1.75a.25.25 0 0 0-.25-.25h-.186a7.249 7.249 0 0 0-5.125 2.123ZM3.56 14.56c-.732.732-2.334 1.045-3.005 1.148a.234.234 0 0 1-.201-.064.234.234 0 0 1-.064-.201c.103-.671.416-2.273 1.15-3.003a1.502 1.502 0 1 1 2.12 2.12Zm6.94-3.935c-.088.06-.177.118-.266.175l-2.35 1.521.548 1.783 1.949-1.2a.25.25 0 0 0 .119-.213ZM3.678 8.116 5.2 5.766c.058-.09.117-.178.176-.266H3.309a.25.25 0 0 0-.213.119l-1.2 1.95ZM12 5a1 1 0 1 1-2 0 1 1 0 0 1 2 0Z"></path>
</svg>
</template>

<template id="shield-check-icon">
  <svg aria-hidden="true" height="16" viewBox="0 0 16 16" version="1.1" width="16" data-view-component="true" class="octicon octicon-shield-check">
    <path d="m8.533.133 5.25 1.68A1.75 1.75 0 0 1 15 3.48V7c0 1.566-.32 3.182-1.303 4.682-.983 1.498-2.585 2.813-5.032 3.855a1.697 1.697 0 0 1-1.33 0c-2.447-1.042-4.049-2.357-5.032-3.855C1.32 10.182 1 8.566 1 7V3.48a1.75 1.75 0 0 1 1.217-1.667l5.25-1.68a1.748 1.748 0 0 1 1.066 0Zm-.61 1.429.001.001-5.25 1.68a.251.251 0 0 0-.174.237V7c0 1.36.275 2.666 1.057 3.859.784 1.194 2.121 2.342 4.366 3.298a.196.196 0 0 0 .154 0c2.245-.957 3.582-2.103 4.366-3.297C13.225 9.666 13.5 8.358 13.5 7V3.48a.25.25 0 0 0-.174-.238l-5.25-1.68a.25.25 0 0 0-.153 0ZM11.28 6.28l-3.5 3.5a.75.75 0 0 1-1.06 0l-1.5-1.5a.749.749 0 0 1 .326-1.275.749.749 0 0 1 .734.215l.97.97 2.97-2.97a.751.751 0 0 1 1.042.018.751.751 0 0 1 .018 1.042Z"></path>
</svg>
</template>

<template id="heart-icon">
  <svg aria-hidden="true" height="16" viewBox="0 0 16 16" version="1.1" width="16" data-view-component="true" class="octicon octicon-heart">
    <path d="m8 14.25.345.666a.75.75 0 0 1-.69 0l-.008-.004-.018-.01a7.152 7.152 0 0 1-.31-.17 22.055 22.055 0 0 1-3.434-2.414C2.045 10.731 0 8.35 0 5.5 0 2.836 2.086 1 4.25 1 5.797 1 7.153 1.802 8 3.02 8.847 1.802 10.203 1 11.75 1 13.914 1 16 2.836 16 5.5c0 2.85-2.045 5.231-3.885 6.818a22.066 22.066 0 0 1-3.744 2.584l-.018.01-.006.003h-.002ZM4.25 2.5c-1.336 0-2.75 1.164-2.75 3 0 2.15 1.58 4.144 3.365 5.682A20.58 20.58 0 0 0 8 13.393a20.58 20.58 0 0 0 3.135-2.211C12.92 9.644 14.5 7.65 14.5 5.5c0-1.836-1.414-3-2.75-3-1.373 0-2.609.986-3.029 2.456a.749.749 0 0 1-1.442 0C6.859 3.486 5.623 2.5 4.25 2.5Z"></path>
</svg>
</template>

<template id="server-icon">
  <svg aria-hidden="true" height="16" viewBox="0 0 16 16" version="1.1" width="16" data-view-component="true" class="octicon octicon-server">
    <path d="M1.75 1h12.5c.966 0 1.75.784 1.75 1.75v4c0 .372-.116.717-.314 1 .198.283.314.628.314 1v4a1.75 1.75 0 0 1-1.75 1.75H1.75A1.75 1.75 0 0 1 0 12.75v-4c0-.358.109-.707.314-1a1.739 1.739 0 0 1-.314-1v-4C0 1.784.784 1 1.75 1ZM1.5 2.75v4c0 .138.112.25.25.25h12.5a.25.25 0 0 0 .25-.25v-4a.25.25 0 0 0-.25-.25H1.75a.25.25 0 0 0-.25.25Zm.25 5.75a.25.25 0 0 0-.25.25v4c0 .138.112.25.25.25h12.5a.25.25 0 0 0 .25-.25v-4a.25.25 0 0 0-.25-.25ZM7 4.75A.75.75 0 0 1 7.75 4h4.5a.75.75 0 0 1 0 1.5h-4.5A.75.75 0 0 1 7 4.75ZM7.75 10h4.5a.75.75 0 0 1 0 1.5h-4.5a.75.75 0 0 1 0-1.5ZM3 4.75A.75.75 0 0 1 3.75 4h.5a.75.75 0 0 1 0 1.5h-.5A.75.75 0 0 1 3 4.75ZM3.75 10h.5a.75.75 0 0 1 0 1.5h-.5a.75.75 0 0 1 0-1.5Z"></path>
</svg>
</template>

<template id="globe-icon">
  <svg aria-hidden="true" height="16" viewBox="0 0 16 16" version="1.1" width="16" data-view-component="true" class="octicon octicon-globe">
    <path d="M8 0a8 8 0 1 1 0 16A8 8 0 0 1 8 0ZM5.78 8.75a9.64 9.64 0 0 0 1.363 4.177c.255.426.542.832.857 1.215.245-.296.551-.705.857-1.215A9.64 9.64 0 0 0 10.22 8.75Zm4.44-1.5a9.64 9.64 0 0 0-1.363-4.177c-.307-.51-.612-.919-.857-1.215a9.927 9.927 0 0 0-.857 1.215A9.64 9.64 0 0 0 5.78 7.25Zm-5.944 1.5H1.543a6.507 6.507 0 0 0 4.666 5.5c-.123-.181-.24-.365-.352-.552-.715-1.192-1.437-2.874-1.581-4.948Zm-2.733-1.5h2.733c.144-2.074.866-3.756 1.58-4.948.12-.197.237-.381.353-.552a6.507 6.507 0 0 0-4.666 5.5Zm10.181 1.5c-.144 2.074-.866 3.756-1.58 4.948-.12.197-.237.381-.353.552a6.507 6.507 0 0 0 4.666-5.5Zm2.733-1.5a6.507 6.507 0 0 0-4.666-5.5c.123.181.24.365.353.552.714 1.192 1.436 2.874 1.58 4.948Z"></path>
</svg>
</template>

<template id="issue-opened-icon">
  <svg aria-hidden="true" height="16" viewBox="0 0 16 16" version="1.1" width="16" data-view-component="true" class="octicon octicon-issue-opened">
    <path d="M8 9.5a1.5 1.5 0 1 0 0-3 1.5 1.5 0 0 0 0 3Z"></path><path d="M8 0a8 8 0 1 1 0 16A8 8 0 0 1 8 0ZM1.5 8a6.5 6.5 0 1 0 13 0 6.5 6.5 0 0 0-13 0Z"></path>
</svg>
</template>

<template id="device-mobile-icon">
  <svg aria-hidden="true" height="16" viewBox="0 0 16 16" version="1.1" width="16" data-view-component="true" class="octicon octicon-device-mobile">
    <path d="M3.75 0h8.5C13.216 0 14 .784 14 1.75v12.5A1.75 1.75 0 0 1 12.25 16h-8.5A1.75 1.75 0 0 1 2 14.25V1.75C2 .784 2.784 0 3.75 0ZM3.5 1.75v12.5c0 .138.112.25.25.25h8.5a.25.25 0 0 0 .25-.25V1.75a.25.25 0 0 0-.25-.25h-8.5a.25.25 0 0 0-.25.25ZM8 13a1 1 0 1 1 0-2 1 1 0 0 1 0 2Z"></path>
</svg>
</template>

<template id="package-icon">
  <svg aria-hidden="true" height="16" viewBox="0 0 16 16" version="1.1" width="16" data-view-component="true" class="octicon octicon-package">
    <path d="m8.878.392 5.25 3.045c.54.314.872.89.872 1.514v6.098a1.75 1.75 0 0 1-.872 1.514l-5.25 3.045a1.75 1.75 0 0 1-1.756 0l-5.25-3.045A1.75 1.75 0 0 1 1 11.049V4.951c0-.624.332-1.201.872-1.514L7.122.392a1.75 1.75 0 0 1 1.756 0ZM7.875 1.69l-4.63 2.685L8 7.133l4.755-2.758-4.63-2.685a.248.248 0 0 0-.25 0ZM2.5 5.677v5.372c0 .09.047.171.125.216l4.625 2.683V8.432Zm6.25 8.271 4.625-2.683a.25.25 0 0 0 .125-.216V5.677L8.75 8.432Z"></path>
</svg>
</template>

<template id="credit-card-icon">
  <svg aria-hidden="true" height="16" viewBox="0 0 16 16" version="1.1" width="16" data-view-component="true" class="octicon octicon-credit-card">
    <path d="M10.75 9a.75.75 0 0 0 0 1.5h1.5a.75.75 0 0 0 0-1.5h-1.5Z"></path><path d="M0 3.75C0 2.784.784 2 1.75 2h12.5c.966 0 1.75.784 1.75 1.75v8.5A1.75 1.75 0 0 1 14.25 14H1.75A1.75 1.75 0 0 1 0 12.25ZM14.5 6.5h-13v5.75c0 .138.112.25.25.25h12.5a.25.25 0 0 0 .25-.25Zm0-2.75a.25.25 0 0 0-.25-.25H1.75a.25.25 0 0 0-.25.25V5h13Z"></path>
</svg>
</template>

<template id="play-icon">
  <svg aria-hidden="true" height="16" viewBox="0 0 16 16" version="1.1" width="16" data-view-component="true" class="octicon octicon-play">
    <path d="M8 0a8 8 0 1 1 0 16A8 8 0 0 1 8 0ZM1.5 8a6.5 6.5 0 1 0 13 0 6.5 6.5 0 0 0-13 0Zm4.879-2.773 4.264 2.559a.25.25 0 0 1 0 .428l-4.264 2.559A.25.25 0 0 1 6 10.559V5.442a.25.25 0 0 1 .379-.215Z"></path>
</svg>
</template>

<template id="gift-icon">
  <svg aria-hidden="true" height="16" viewBox="0 0 16 16" version="1.1" width="16" data-view-component="true" class="octicon octicon-gift">
    <path d="M2 2.75A2.75 2.75 0 0 1 4.75 0c.983 0 1.873.42 2.57 1.232.268.318.497.668.68 1.042.183-.375.411-.725.68-1.044C9.376.42 10.266 0 11.25 0a2.75 2.75 0 0 1 2.45 4h.55c.966 0 1.75.784 1.75 1.75v2c0 .698-.409 1.301-1 1.582v4.918A1.75 1.75 0 0 1 13.25 16H2.75A1.75 1.75 0 0 1 1 14.25V9.332C.409 9.05 0 8.448 0 7.75v-2C0 4.784.784 4 1.75 4h.55c-.192-.375-.3-.8-.3-1.25ZM7.25 9.5H2.5v4.75c0 .138.112.25.25.25h4.5Zm1.5 0v5h4.5a.25.25 0 0 0 .25-.25V9.5Zm0-4V8h5.5a.25.25 0 0 0 .25-.25v-2a.25.25 0 0 0-.25-.25Zm-7 0a.25.25 0 0 0-.25.25v2c0 .138.112.25.25.25h5.5V5.5h-5.5Zm3-4a1.25 1.25 0 0 0 0 2.5h2.309c-.233-.818-.542-1.401-.878-1.793-.43-.502-.915-.707-1.431-.707ZM8.941 4h2.309a1.25 1.25 0 0 0 0-2.5c-.516 0-1 .205-1.43.707-.337.392-.646.975-.879 1.793Z"></path>
</svg>
</template>

<template id="code-square-icon">
  <svg aria-hidden="true" height="16" viewBox="0 0 16 16" version="1.1" width="16" data-view-component="true" class="octicon octicon-code-square">
    <path d="M0 1.75C0 .784.784 0 1.75 0h12.5C15.216 0 16 .784 16 1.75v12.5A1.75 1.75 0 0 1 14.25 16H1.75A1.75 1.75 0 0 1 0 14.25Zm1.75-.25a.25.25 0 0 0-.25.25v12.5c0 .138.112.25.25.25h12.5a.25.25 0 0 0 .25-.25V1.75a.25.25 0 0 0-.25-.25Zm7.47 3.97a.75.75 0 0 1 1.06 0l2 2a.75.75 0 0 1 0 1.06l-2 2a.749.749 0 0 1-1.275-.326.749.749 0 0 1 .215-.734L10.69 8 9.22 6.53a.75.75 0 0 1 0-1.06ZM6.78 6.53 5.31 8l1.47 1.47a.749.749 0 0 1-.326 1.275.749.749 0 0 1-.734-.215l-2-2a.75.75 0 0 1 0-1.06l2-2a.751.751 0 0 1 1.042.018.751.751 0 0 1 .018 1.042Z"></path>
</svg>
</template>

<template id="device-desktop-icon">
  <svg aria-hidden="true" height="16" viewBox="0 0 16 16" version="1.1" width="16" data-view-component="true" class="octicon octicon-device-desktop">
    <path d="M14.25 1c.966 0 1.75.784 1.75 1.75v7.5A1.75 1.75 0 0 1 14.25 12h-3.727c.099 1.041.52 1.872 1.292 2.757A.752.752 0 0 1 11.25 16h-6.5a.75.75 0 0 1-.565-1.243c.772-.885 1.192-1.716 1.292-2.757H1.75A1.75 1.75 0 0 1 0 10.25v-7.5C0 1.784.784 1 1.75 1ZM1.75 2.5a.25.25 0 0 0-.25.25v7.5c0 .138.112.25.25.25h12.5a.25.25 0 0 0 .25-.25v-7.5a.25.25 0 0 0-.25-.25ZM9.018 12H6.982a5.72 5.72 0 0 1-.765 2.5h3.566a5.72 5.72 0 0 1-.765-2.5Z"></path>
</svg>
</template>

        <div class="position-relative">
                <ul
                  role="listbox"
                  class="ActionListWrap QueryBuilder-ListWrap"
                  aria-label="Suggestions"
                  data-action="
                    combobox-commit:query-builder#comboboxCommit
                    mousedown:query-builder#resultsMousedown
                  "
                  data-target="query-builder.resultsList"
                  data-persist-list=false
                  id="query-builder-test-results"
                ></ul>
        </div>
      <div class="FormControl-inlineValidation" id="validation-749195c0-3e92-41a8-bd97-4ae5a895358b" hidden="hidden">
        <span class="FormControl-inlineValidation--visual">
          <svg aria-hidden="true" height="12" viewBox="0 0 12 12" version="1.1" width="12" data-view-component="true" class="octicon octicon-alert-fill">
    <path d="M4.855.708c.5-.896 1.79-.896 2.29 0l4.675 8.351a1.312 1.312 0 0 1-1.146 1.954H1.33A1.313 1.313 0 0 1 .183 9.058ZM7 7V3H5v4Zm-1 3a1 1 0 1 0 0-2 1 1 0 0 0 0 2Z"></path>
</svg>
        </span>
        <span></span>
</div>    </div>
    <div data-target="query-builder.screenReaderFeedback" aria-live="polite" aria-atomic="true" class="sr-only"></div>
</query-builder></form>
          <div class="d-flex flex-row color-fg-muted px-3 text-small color-bg-default search-feedback-prompt">
            <a target="_blank" href="https://docs.github.com/search-github/github-code-search/understanding-github-code-search-syntax" data-view-component="true" class="Link color-fg-accent text-normal ml-2">
              Search syntax tips
</a>            <div class="d-flex flex-1"></div>
          </div>
        </div>
</div>

    </div>
</modal-dialog></div>
  </div>
  <div data-action="click:qbsearch-input#retract" class="dark-backdrop position-fixed" hidden data-target="qbsearch-input.darkBackdrop"></div>
  <div class="color-fg-default">
    
<dialog-helper>
  <dialog data-target="qbsearch-input.feedbackDialog" data-action="close:qbsearch-input#handleDialogClose cancel:qbsearch-input#handleDialogClose" id="feedback-dialog" aria-modal="true" aria-labelledby="feedback-dialog-title" aria-describedby="feedback-dialog-description" data-view-component="true" class="Overlay Overlay-whenNarrow Overlay--size-medium Overlay--motion-scaleFade">
    <div data-view-component="true" class="Overlay-header">
  <div class="Overlay-headerContentWrap">
    <div class="Overlay-titleWrap">
      <h1 class="Overlay-title " id="feedback-dialog-title">
        Provide feedback
      </h1>
    </div>
    <div class="Overlay-actionWrap">
      <button data-close-dialog-id="feedback-dialog" aria-label="Close" type="button" data-view-component="true" class="close-button Overlay-closeButton"><svg aria-hidden="true" height="16" viewBox="0 0 16 16" version="1.1" width="16" data-view-component="true" class="octicon octicon-x">
    <path d="M3.72 3.72a.75.75 0 0 1 1.06 0L8 6.94l3.22-3.22a.749.749 0 0 1 1.275.326.749.749 0 0 1-.215.734L9.06 8l3.22 3.22a.749.749 0 0 1-.326 1.275.749.749 0 0 1-.734-.215L8 9.06l-3.22 3.22a.751.751 0 0 1-1.042-.018.751.751 0 0 1-.018-1.042L6.94 8 3.72 4.78a.75.75 0 0 1 0-1.06Z"></path>
</svg></button>
    </div>
  </div>
</div>
      <scrollable-region data-labelled-by="feedback-dialog-title">
        <div data-view-component="true" class="Overlay-body">        <!-- '"` --><!-- </textarea></xmp> --></option></form><form id="code-search-feedback-form" data-turbo="false" action="/search/feedback" accept-charset="UTF-8" method="post"><input type="hidden" data-csrf="true" name="authenticity_token" value="ZPsDPgz0u9i7aM1tyEzZ0lLWyVycTKrZoEGXdLT1GCGzRNx+gQ/GtRpRZF5qrD+2KhBCSe9QBDEW6MUMbdgaag==" />
          <p>We read every piece of feedback, and take your input very seriously.</p>
          <textarea name="feedback" class="form-control width-full mb-2" style="height: 120px" id="feedback"></textarea>
          <input name="include_email" id="include_email" aria-label="Include my email address so I can be contacted" class="form-control mr-2" type="checkbox">
          <label for="include_email" style="font-weight: normal">Include my email address so I can be contacted</label>
</form></div>
      </scrollable-region>
      <div data-view-component="true" class="Overlay-footer Overlay-footer--alignEnd">          <button data-close-dialog-id="feedback-dialog" type="button" data-view-component="true" class="btn">    Cancel
</button>
          <button form="code-search-feedback-form" data-action="click:qbsearch-input#submitFeedback" type="submit" data-view-component="true" class="btn-primary btn">    Submit feedback
</button>
</div>
</dialog></dialog-helper>

    <custom-scopes data-target="qbsearch-input.customScopesManager">
    
<dialog-helper>
  <dialog data-target="custom-scopes.customScopesModalDialog" data-action="close:qbsearch-input#handleDialogClose cancel:qbsearch-input#handleDialogClose" id="custom-scopes-dialog" aria-modal="true" aria-labelledby="custom-scopes-dialog-title" aria-describedby="custom-scopes-dialog-description" data-view-component="true" class="Overlay Overlay-whenNarrow Overlay--size-medium Overlay--motion-scaleFade">
    <div data-view-component="true" class="Overlay-header Overlay-header--divided">
  <div class="Overlay-headerContentWrap">
    <div class="Overlay-titleWrap">
      <h1 class="Overlay-title " id="custom-scopes-dialog-title">
        Saved searches
      </h1>
        <h2 id="custom-scopes-dialog-description" class="Overlay-description">Use saved searches to filter your results more quickly</h2>
    </div>
    <div class="Overlay-actionWrap">
      <button data-close-dialog-id="custom-scopes-dialog" aria-label="Close" type="button" data-view-component="true" class="close-button Overlay-closeButton"><svg aria-hidden="true" height="16" viewBox="0 0 16 16" version="1.1" width="16" data-view-component="true" class="octicon octicon-x">
    <path d="M3.72 3.72a.75.75 0 0 1 1.06 0L8 6.94l3.22-3.22a.749.749 0 0 1 1.275.326.749.749 0 0 1-.215.734L9.06 8l3.22 3.22a.749.749 0 0 1-.326 1.275.749.749 0 0 1-.734-.215L8 9.06l-3.22 3.22a.751.751 0 0 1-1.042-.018.751.751 0 0 1-.018-1.042L6.94 8 3.72 4.78a.75.75 0 0 1 0-1.06Z"></path>
</svg></button>
    </div>
  </div>
</div>
      <scrollable-region data-labelled-by="custom-scopes-dialog-title">
        <div data-view-component="true" class="Overlay-body">        <div data-target="custom-scopes.customScopesModalDialogFlash"></div>

        <div hidden class="create-custom-scope-form" data-target="custom-scopes.createCustomScopeForm">
        <!-- '"` --><!-- </textarea></xmp> --></option></form><form id="custom-scopes-dialog-form" data-turbo="false" action="/search/custom_scopes" accept-charset="UTF-8" method="post"><input type="hidden" data-csrf="true" name="authenticity_token" value="4rqnKEgCVubTY4YoVT/xFMFcLb4kWG6VcFyrOgMfrcq/mROyWgAvEa868MLEWadrC33Dl7+5Nhd1wrexriR1sw==" />
          <div data-target="custom-scopes.customScopesModalDialogFlash"></div>

          <input type="hidden" id="custom_scope_id" name="custom_scope_id" data-target="custom-scopes.customScopesIdField">

          <div class="form-group">
            <label for="custom_scope_name">Name</label>
            <auto-check src="/search/custom_scopes/check_name" required>
              <input
                type="text"
                name="custom_scope_name"
                id="custom_scope_name"
                data-target="custom-scopes.customScopesNameField"
                class="form-control"
                autocomplete="off"
                placeholder="github-ruby"
                required
                maxlength="50">
              <input type="hidden" data-csrf="true" value="SwZdYERygmpcNVZC0VLHl9hx2VEL4sacSICJnSFSBidVogFL/ioIgv45wQwMIVGEtdvH0h6F3BuEHIIpsNQj0w==" />
            </auto-check>
          </div>

          <div class="form-group">
            <label for="custom_scope_query">Query</label>
            <input
              type="text"
              name="custom_scope_query"
              id="custom_scope_query"
              data-target="custom-scopes.customScopesQueryField"
              class="form-control"
              autocomplete="off"
              placeholder="(repo:mona/a OR repo:mona/b) AND lang:python"
              required
              maxlength="500">
          </div>

          <p class="text-small color-fg-muted">
            To see all available qualifiers, see our <a class="Link--inTextBlock" href="https://docs.github.com/search-github/github-code-search/understanding-github-code-search-syntax">documentation</a>.
          </p>
</form>        </div>

        <div data-target="custom-scopes.manageCustomScopesForm">
          <div data-target="custom-scopes.list"></div>
        </div>

</div>
      </scrollable-region>
      <div data-view-component="true" class="Overlay-footer Overlay-footer--alignEnd Overlay-footer--divided">          <button data-action="click:custom-scopes#customScopesCancel" type="button" data-view-component="true" class="btn">    Cancel
</button>
          <button form="custom-scopes-dialog-form" data-action="click:custom-scopes#customScopesSubmit" data-target="custom-scopes.customScopesSubmitButton" type="submit" data-view-component="true" class="btn-primary btn">    Create saved search
</button>
</div>
</dialog></dialog-helper>
    </custom-scopes>
  </div>
</qbsearch-input><input type="hidden" data-csrf="true" class="js-data-jump-to-suggestions-path-csrf" value="NZnDF68Yezpoout8Pxli5NRMyEcHq9uYi5ks/3Zp+WcP5pzD3LeM16EbzL6shtSeAUrbYv6SHb+fj+Fds+bv5g==" />


          <div class="position-relative mr-lg-3 d-lg-inline-block">
            <a href="/login?return_to=https%3A%2F%2Fgithub.com%2Fkarpathy%2Fnn-zero-to-hero%2Fblob%2Fmaster%2Flectures%2Fmicrograd%2Fmicrograd_lecture_first_half_roughly.ipynb"
              class="HeaderMenu-link HeaderMenu-link--sign-in flex-shrink-0 no-underline d-block d-lg-inline-block border border-lg-0 rounded rounded-lg-0 p-2 p-lg-0"
              data-hydro-click="{&quot;event_type&quot;:&quot;authentication.click&quot;,&quot;payload&quot;:{&quot;location_in_page&quot;:&quot;site header menu&quot;,&quot;repository_id&quot;:null,&quot;auth_type&quot;:&quot;SIGN_UP&quot;,&quot;originating_url&quot;:&quot;https://github.com/karpathy/nn-zero-to-hero/blob/master/lectures/micrograd/micrograd_lecture_first_half_roughly.ipynb&quot;,&quot;user_id&quot;:null}}" data-hydro-click-hmac="ebc91229942e602f8a257de12dc7f77652b3c54860783d35e83879594bbde316"
              data-ga-click="(Logged out) Header, clicked Sign in, text:sign-in">
              Sign in
            </a>
          </div>

            <a href="/signup?ref_cta=Sign+up&amp;ref_loc=header+logged+out&amp;ref_page=%2F%3Cuser-name%3E%2F%3Crepo-name%3E%2Fblob%2Fshow&amp;source=header-repo&amp;source_repo=karpathy%2Fnn-zero-to-hero"
              class="HeaderMenu-link HeaderMenu-link--sign-up flex-shrink-0 d-none d-lg-inline-block no-underline border color-border-default rounded px-2 py-1"
              data-hydro-click="{&quot;event_type&quot;:&quot;authentication.click&quot;,&quot;payload&quot;:{&quot;location_in_page&quot;:&quot;site header menu&quot;,&quot;repository_id&quot;:null,&quot;auth_type&quot;:&quot;SIGN_UP&quot;,&quot;originating_url&quot;:&quot;https://github.com/karpathy/nn-zero-to-hero/blob/master/lectures/micrograd/micrograd_lecture_first_half_roughly.ipynb&quot;,&quot;user_id&quot;:null}}" data-hydro-click-hmac="ebc91229942e602f8a257de12dc7f77652b3c54860783d35e83879594bbde316"
              data-analytics-event="{&quot;category&quot;:&quot;Sign up&quot;,&quot;action&quot;:&quot;click to sign up for account&quot;,&quot;label&quot;:&quot;ref_page:/&lt;user-name&gt;/&lt;repo-name&gt;/blob/show;ref_cta:Sign up;ref_loc:header logged out&quot;}"
            >
              Sign up
            </a>
        </div>
      </div>
    </div>
  </div>
</header>

      <div hidden="hidden" data-view-component="true" class="js-stale-session-flash stale-session-flash flash flash-warn flash-full mb-3">
  
        <svg aria-hidden="true" height="16" viewBox="0 0 16 16" version="1.1" width="16" data-view-component="true" class="octicon octicon-alert">
    <path d="M6.457 1.047c.659-1.234 2.427-1.234 3.086 0l6.082 11.378A1.75 1.75 0 0 1 14.082 15H1.918a1.75 1.75 0 0 1-1.543-2.575Zm1.763.707a.25.25 0 0 0-.44 0L1.698 13.132a.25.25 0 0 0 .22.368h12.164a.25.25 0 0 0 .22-.368Zm.53 3.996v2.5a.75.75 0 0 1-1.5 0v-2.5a.75.75 0 0 1 1.5 0ZM9 11a1 1 0 1 1-2 0 1 1 0 0 1 2 0Z"></path>
</svg>
        <span class="js-stale-session-flash-signed-in" hidden>You signed in with another tab or window. <a class="Link--inTextBlock" href="">Reload</a> to refresh your session.</span>
        <span class="js-stale-session-flash-signed-out" hidden>You signed out in another tab or window. <a class="Link--inTextBlock" href="">Reload</a> to refresh your session.</span>
        <span class="js-stale-session-flash-switched" hidden>You switched accounts on another tab or window. <a class="Link--inTextBlock" href="">Reload</a> to refresh your session.</span>

    <button id="icon-button-55556186-17ae-429b-9198-a23edd450273" aria-labelledby="tooltip-f8fae712-adf3-415d-8e4f-4f8a093ea47d" type="button" data-view-component="true" class="Button Button--iconOnly Button--invisible Button--medium flash-close js-flash-close">  <svg aria-hidden="true" height="16" viewBox="0 0 16 16" version="1.1" width="16" data-view-component="true" class="octicon octicon-x Button-visual">
    <path d="M3.72 3.72a.75.75 0 0 1 1.06 0L8 6.94l3.22-3.22a.749.749 0 0 1 1.275.326.749.749 0 0 1-.215.734L9.06 8l3.22 3.22a.749.749 0 0 1-.326 1.275.749.749 0 0 1-.734-.215L8 9.06l-3.22 3.22a.751.751 0 0 1-1.042-.018.751.751 0 0 1-.018-1.042L6.94 8 3.72 4.78a.75.75 0 0 1 0-1.06Z"></path>
</svg>
</button><tool-tip id="tooltip-f8fae712-adf3-415d-8e4f-4f8a093ea47d" for="icon-button-55556186-17ae-429b-9198-a23edd450273" popover="manual" data-direction="s" data-type="label" data-view-component="true" class="sr-only position-absolute">Dismiss alert</tool-tip>


  
</div>
    </div>

  <div id="start-of-content" class="show-on-focus"></div>








    <div id="js-flash-container" data-turbo-replace>





  <template class="js-flash-template">
    
<div class="flash flash-full   {{ className }}">
  <div class="px-2" >
    <button autofocus class="flash-close js-flash-close" type="button" aria-label="Dismiss this message">
      <svg aria-hidden="true" height="16" viewBox="0 0 16 16" version="1.1" width="16" data-view-component="true" class="octicon octicon-x">
    <path d="M3.72 3.72a.75.75 0 0 1 1.06 0L8 6.94l3.22-3.22a.749.749 0 0 1 1.275.326.749.749 0 0 1-.215.734L9.06 8l3.22 3.22a.749.749 0 0 1-.326 1.275.749.749 0 0 1-.734-.215L8 9.06l-3.22 3.22a.751.751 0 0 1-1.042-.018.751.751 0 0 1-.018-1.042L6.94 8 3.72 4.78a.75.75 0 0 1 0-1.06Z"></path>
</svg>
    </button>
    <div aria-atomic="true" role="alert" class="js-flash-alert">
      
      <div>{{ message }}</div>

    </div>
  </div>
</div>
  </template>
</div>


    
    <include-fragment class="js-notification-shelf-include-fragment" data-base-src="https://github.com/notifications/beta/shelf"></include-fragment>






  <div
    class="application-main "
    data-commit-hovercards-enabled
    data-discussion-hovercards-enabled
    data-issue-and-pr-hovercards-enabled
  >
        <div itemscope itemtype="http://schema.org/SoftwareSourceCode" class="">
    <main id="js-repo-pjax-container" >
      
      






  
  <div id="repository-container-header"  class="pt-3 hide-full-screen" style="background-color: var(--page-header-bgColor, var(--color-page-header-bg));" data-turbo-replace>

      <div class="d-flex flex-wrap flex-justify-end mb-3  px-3 px-md-4 px-lg-5" style="gap: 1rem;">

        <div class="flex-auto min-width-0 width-fit mr-3">
            
  <div class=" d-flex flex-wrap flex-items-center wb-break-word f3 text-normal">
      <svg aria-hidden="true" height="16" viewBox="0 0 16 16" version="1.1" width="16" data-view-component="true" class="octicon octicon-repo color-fg-muted mr-2">
    <path d="M2 2.5A2.5 2.5 0 0 1 4.5 0h8.75a.75.75 0 0 1 .75.75v12.5a.75.75 0 0 1-.75.75h-2.5a.75.75 0 0 1 0-1.5h1.75v-2h-8a1 1 0 0 0-.714 1.7.75.75 0 1 1-1.072 1.05A2.495 2.495 0 0 1 2 11.5Zm10.5-1h-8a1 1 0 0 0-1 1v6.708A2.486 2.486 0 0 1 4.5 9h8ZM5 12.25a.25.25 0 0 1 .25-.25h3.5a.25.25 0 0 1 .25.25v3.25a.25.25 0 0 1-.4.2l-1.45-1.087a.249.249 0 0 0-.3 0L5.4 15.7a.25.25 0 0 1-.4-.2Z"></path>
</svg>
    
    <span class="author flex-self-stretch" itemprop="author">
      <a class="url fn" rel="author" data-hovercard-type="user" data-hovercard-url="/users/karpathy/hovercard" data-octo-click="hovercard-link-click" data-octo-dimensions="link_type:self" href="/karpathy">
        karpathy
</a>    </span>
    <span class="mx-1 flex-self-stretch color-fg-muted">/</span>
    <strong itemprop="name" class="mr-2 flex-self-stretch">
      <a data-pjax="#repo-content-pjax-container" data-turbo-frame="repo-content-turbo-frame" href="/karpathy/nn-zero-to-hero">nn-zero-to-hero</a>
    </strong>

    <span></span><span class="Label Label--secondary v-align-middle mr-1">Public</span>
  </div>


        </div>

        <div id="repository-details-container" data-turbo-replace>
            <ul class="pagehead-actions flex-shrink-0 d-none d-md-inline" style="padding: 2px 0;">
    
      

  <li>
            <a href="/login?return_to=%2Fkarpathy%2Fnn-zero-to-hero" rel="nofollow" data-hydro-click="{&quot;event_type&quot;:&quot;authentication.click&quot;,&quot;payload&quot;:{&quot;location_in_page&quot;:&quot;notification subscription menu watch&quot;,&quot;repository_id&quot;:null,&quot;auth_type&quot;:&quot;LOG_IN&quot;,&quot;originating_url&quot;:&quot;https://github.com/karpathy/nn-zero-to-hero/blob/master/lectures/micrograd/micrograd_lecture_first_half_roughly.ipynb&quot;,&quot;user_id&quot;:null}}" data-hydro-click-hmac="0f718c68467b36a7cf06178595ee723ed84deb55dfc4bdc2209bfcf66b5c492a" aria-label="You must be signed in to change notification settings" data-view-component="true" class="tooltipped tooltipped-s btn-sm btn">    <svg aria-hidden="true" height="16" viewBox="0 0 16 16" version="1.1" width="16" data-view-component="true" class="octicon octicon-bell mr-2">
    <path d="M8 16a2 2 0 0 0 1.985-1.75c.017-.137-.097-.25-.235-.25h-3.5c-.138 0-.252.113-.235.25A2 2 0 0 0 8 16ZM3 5a5 5 0 0 1 10 0v2.947c0 .05.015.098.042.139l1.703 2.555A1.519 1.519 0 0 1 13.482 13H2.518a1.516 1.516 0 0 1-1.263-2.36l1.703-2.554A.255.255 0 0 0 3 7.947Zm5-3.5A3.5 3.5 0 0 0 4.5 5v2.947c0 .346-.102.683-.294.97l-1.703 2.556a.017.017 0 0 0-.003.01l.001.006c0 .002.002.004.004.006l.006.004.007.001h10.964l.007-.001.006-.004.004-.006.001-.007a.017.017 0 0 0-.003-.01l-1.703-2.554a1.745 1.745 0 0 1-.294-.97V5A3.5 3.5 0 0 0 8 1.5Z"></path>
</svg>Notifications
</a>
  </li>

  <li>
          <a icon="repo-forked" id="fork-button" href="/login?return_to=%2Fkarpathy%2Fnn-zero-to-hero" rel="nofollow" data-hydro-click="{&quot;event_type&quot;:&quot;authentication.click&quot;,&quot;payload&quot;:{&quot;location_in_page&quot;:&quot;repo details fork button&quot;,&quot;repository_id&quot;:534397970,&quot;auth_type&quot;:&quot;LOG_IN&quot;,&quot;originating_url&quot;:&quot;https://github.com/karpathy/nn-zero-to-hero/blob/master/lectures/micrograd/micrograd_lecture_first_half_roughly.ipynb&quot;,&quot;user_id&quot;:null}}" data-hydro-click-hmac="4c875aaebb4942fb0084955078a4b3e85f588534c525d2448ba40a6bc31167a0" data-view-component="true" class="btn-sm btn">    <svg aria-hidden="true" height="16" viewBox="0 0 16 16" version="1.1" width="16" data-view-component="true" class="octicon octicon-repo-forked mr-2">
    <path d="M5 5.372v.878c0 .414.336.75.75.75h4.5a.75.75 0 0 0 .75-.75v-.878a2.25 2.25 0 1 1 1.5 0v.878a2.25 2.25 0 0 1-2.25 2.25h-1.5v2.128a2.251 2.251 0 1 1-1.5 0V8.5h-1.5A2.25 2.25 0 0 1 3.5 6.25v-.878a2.25 2.25 0 1 1 1.5 0ZM5 3.25a.75.75 0 1 0-1.5 0 .75.75 0 0 0 1.5 0Zm6.75.75a.75.75 0 1 0 0-1.5.75.75 0 0 0 0 1.5Zm-3 8.75a.75.75 0 1 0-1.5 0 .75.75 0 0 0 1.5 0Z"></path>
</svg>Fork
    <span id="repo-network-counter" data-pjax-replace="true" data-turbo-replace="true" title="1,107" data-view-component="true" class="Counter">1.1k</span>
</a>
  </li>

  <li>
        <div data-view-component="true" class="BtnGroup d-flex">
        <a href="/login?return_to=%2Fkarpathy%2Fnn-zero-to-hero" rel="nofollow" data-hydro-click="{&quot;event_type&quot;:&quot;authentication.click&quot;,&quot;payload&quot;:{&quot;location_in_page&quot;:&quot;star button&quot;,&quot;repository_id&quot;:534397970,&quot;auth_type&quot;:&quot;LOG_IN&quot;,&quot;originating_url&quot;:&quot;https://github.com/karpathy/nn-zero-to-hero/blob/master/lectures/micrograd/micrograd_lecture_first_half_roughly.ipynb&quot;,&quot;user_id&quot;:null}}" data-hydro-click-hmac="af4c41fcda234ad20f59a9ca9641ac40c654bbbd7a2eb68ec14e0ba55e0e8dea" aria-label="You must be signed in to star a repository" data-view-component="true" class="tooltipped tooltipped-s btn-sm btn BtnGroup-item">    <svg aria-hidden="true" height="16" viewBox="0 0 16 16" version="1.1" width="16" data-view-component="true" class="octicon octicon-star v-align-text-bottom d-inline-block mr-2">
    <path d="M8 .25a.75.75 0 0 1 .673.418l1.882 3.815 4.21.612a.75.75 0 0 1 .416 1.279l-3.046 2.97.719 4.192a.751.751 0 0 1-1.088.791L8 12.347l-3.766 1.98a.75.75 0 0 1-1.088-.79l.72-4.194L.818 6.374a.75.75 0 0 1 .416-1.28l4.21-.611L7.327.668A.75.75 0 0 1 8 .25Zm0 2.445L6.615 5.5a.75.75 0 0 1-.564.41l-3.097.45 2.24 2.184a.75.75 0 0 1 .216.664l-.528 3.084 2.769-1.456a.75.75 0 0 1 .698 0l2.77 1.456-.53-3.084a.75.75 0 0 1 .216-.664l2.24-2.183-3.096-.45a.75.75 0 0 1-.564-.41L8 2.694Z"></path>
</svg><span data-view-component="true" class="d-inline">
          Star
</span>          <span id="repo-stars-counter-star" aria-label="9373 users starred this repository" data-singular-suffix="user starred this repository" data-plural-suffix="users starred this repository" data-turbo-replace="true" title="9,373" data-view-component="true" class="Counter js-social-count">9.4k</span>
</a>        <button aria-label="You must be signed in to add this repository to a list" type="button" disabled="disabled" data-view-component="true" class="btn-sm btn BtnGroup-item px-2">    <svg aria-hidden="true" height="16" viewBox="0 0 16 16" version="1.1" width="16" data-view-component="true" class="octicon octicon-triangle-down">
    <path d="m4.427 7.427 3.396 3.396a.25.25 0 0 0 .354 0l3.396-3.396A.25.25 0 0 0 11.396 7H4.604a.25.25 0 0 0-.177.427Z"></path>
</svg>
</button></div>
  </li>

    <li>
        

    </li>
</ul>

        </div>
      </div>

        <div id="responsive-meta-container" data-turbo-replace>
</div>


          <nav data-pjax="#js-repo-pjax-container" aria-label="Repository" data-view-component="true" class="js-repo-nav js-sidenav-container-pjax js-responsive-underlinenav overflow-hidden UnderlineNav px-3 px-md-4 px-lg-5">

  <ul data-view-component="true" class="UnderlineNav-body list-style-none">
      <li data-view-component="true" class="d-inline-flex">
  <a id="code-tab" href="/karpathy/nn-zero-to-hero" data-tab-item="i0code-tab" data-selected-links="repo_source repo_downloads repo_commits repo_releases repo_tags repo_branches repo_packages repo_deployments repo_attestations /karpathy/nn-zero-to-hero" data-pjax="#repo-content-pjax-container" data-turbo-frame="repo-content-turbo-frame" data-hotkey="g c" data-analytics-event="{&quot;category&quot;:&quot;Underline navbar&quot;,&quot;action&quot;:&quot;Click tab&quot;,&quot;label&quot;:&quot;Code&quot;,&quot;target&quot;:&quot;UNDERLINE_NAV.TAB&quot;}" aria-current="page" data-view-component="true" class="UnderlineNav-item no-wrap js-responsive-underlinenav-item js-selected-navigation-item selected">
    
              <svg aria-hidden="true" height="16" viewBox="0 0 16 16" version="1.1" width="16" data-view-component="true" class="octicon octicon-code UnderlineNav-octicon d-none d-sm-inline">
    <path d="m11.28 3.22 4.25 4.25a.75.75 0 0 1 0 1.06l-4.25 4.25a.749.749 0 0 1-1.275-.326.749.749 0 0 1 .215-.734L13.94 8l-3.72-3.72a.749.749 0 0 1 .326-1.275.749.749 0 0 1 .734.215Zm-6.56 0a.751.751 0 0 1 1.042.018.751.751 0 0 1 .018 1.042L2.06 8l3.72 3.72a.749.749 0 0 1-.326 1.275.749.749 0 0 1-.734-.215L.47 8.53a.75.75 0 0 1 0-1.06Z"></path>
</svg>
        <span data-content="Code">Code</span>
          <span id="code-repo-tab-count" data-pjax-replace="" data-turbo-replace="" title="Not available" data-view-component="true" class="Counter"></span>


    
</a></li>
      <li data-view-component="true" class="d-inline-flex">
  <a id="issues-tab" href="/karpathy/nn-zero-to-hero/issues" data-tab-item="i1issues-tab" data-selected-links="repo_issues repo_labels repo_milestones /karpathy/nn-zero-to-hero/issues" data-pjax="#repo-content-pjax-container" data-turbo-frame="repo-content-turbo-frame" data-hotkey="g i" data-analytics-event="{&quot;category&quot;:&quot;Underline navbar&quot;,&quot;action&quot;:&quot;Click tab&quot;,&quot;label&quot;:&quot;Issues&quot;,&quot;target&quot;:&quot;UNDERLINE_NAV.TAB&quot;}" data-view-component="true" class="UnderlineNav-item no-wrap js-responsive-underlinenav-item js-selected-navigation-item">
    
              <svg aria-hidden="true" height="16" viewBox="0 0 16 16" version="1.1" width="16" data-view-component="true" class="octicon octicon-issue-opened UnderlineNav-octicon d-none d-sm-inline">
    <path d="M8 9.5a1.5 1.5 0 1 0 0-3 1.5 1.5 0 0 0 0 3Z"></path><path d="M8 0a8 8 0 1 1 0 16A8 8 0 0 1 8 0ZM1.5 8a6.5 6.5 0 1 0 13 0 6.5 6.5 0 0 0-13 0Z"></path>
</svg>
        <span data-content="Issues">Issues</span>
          <span id="issues-repo-tab-count" data-pjax-replace="" data-turbo-replace="" title="11" data-view-component="true" class="Counter">11</span>


    
</a></li>
      <li data-view-component="true" class="d-inline-flex">
  <a id="pull-requests-tab" href="/karpathy/nn-zero-to-hero/pulls" data-tab-item="i2pull-requests-tab" data-selected-links="repo_pulls checks /karpathy/nn-zero-to-hero/pulls" data-pjax="#repo-content-pjax-container" data-turbo-frame="repo-content-turbo-frame" data-hotkey="g p" data-analytics-event="{&quot;category&quot;:&quot;Underline navbar&quot;,&quot;action&quot;:&quot;Click tab&quot;,&quot;label&quot;:&quot;Pull requests&quot;,&quot;target&quot;:&quot;UNDERLINE_NAV.TAB&quot;}" data-view-component="true" class="UnderlineNav-item no-wrap js-responsive-underlinenav-item js-selected-navigation-item">
    
              <svg aria-hidden="true" height="16" viewBox="0 0 16 16" version="1.1" width="16" data-view-component="true" class="octicon octicon-git-pull-request UnderlineNav-octicon d-none d-sm-inline">
    <path d="M1.5 3.25a2.25 2.25 0 1 1 3 2.122v5.256a2.251 2.251 0 1 1-1.5 0V5.372A2.25 2.25 0 0 1 1.5 3.25Zm5.677-.177L9.573.677A.25.25 0 0 1 10 .854V2.5h1A2.5 2.5 0 0 1 13.5 5v5.628a2.251 2.251 0 1 1-1.5 0V5a1 1 0 0 0-1-1h-1v1.646a.25.25 0 0 1-.427.177L7.177 3.427a.25.25 0 0 1 0-.354ZM3.75 2.5a.75.75 0 1 0 0 1.5.75.75 0 0 0 0-1.5Zm0 9.5a.75.75 0 1 0 0 1.5.75.75 0 0 0 0-1.5Zm8.25.75a.75.75 0 1 0 1.5 0 .75.75 0 0 0-1.5 0Z"></path>
</svg>
        <span data-content="Pull requests">Pull requests</span>
          <span id="pull-requests-repo-tab-count" data-pjax-replace="" data-turbo-replace="" title="12" data-view-component="true" class="Counter">12</span>


    
</a></li>
      <li data-view-component="true" class="d-inline-flex">
  <a id="actions-tab" href="/karpathy/nn-zero-to-hero/actions" data-tab-item="i3actions-tab" data-selected-links="repo_actions /karpathy/nn-zero-to-hero/actions" data-pjax="#repo-content-pjax-container" data-turbo-frame="repo-content-turbo-frame" data-hotkey="g a" data-analytics-event="{&quot;category&quot;:&quot;Underline navbar&quot;,&quot;action&quot;:&quot;Click tab&quot;,&quot;label&quot;:&quot;Actions&quot;,&quot;target&quot;:&quot;UNDERLINE_NAV.TAB&quot;}" data-view-component="true" class="UnderlineNav-item no-wrap js-responsive-underlinenav-item js-selected-navigation-item">
    
              <svg aria-hidden="true" height="16" viewBox="0 0 16 16" version="1.1" width="16" data-view-component="true" class="octicon octicon-play UnderlineNav-octicon d-none d-sm-inline">
    <path d="M8 0a8 8 0 1 1 0 16A8 8 0 0 1 8 0ZM1.5 8a6.5 6.5 0 1 0 13 0 6.5 6.5 0 0 0-13 0Zm4.879-2.773 4.264 2.559a.25.25 0 0 1 0 .428l-4.264 2.559A.25.25 0 0 1 6 10.559V5.442a.25.25 0 0 1 .379-.215Z"></path>
</svg>
        <span data-content="Actions">Actions</span>
          <span id="actions-repo-tab-count" data-pjax-replace="" data-turbo-replace="" title="Not available" data-view-component="true" class="Counter"></span>


    
</a></li>
      <li data-view-component="true" class="d-inline-flex">
  <a id="projects-tab" href="/karpathy/nn-zero-to-hero/projects" data-tab-item="i4projects-tab" data-selected-links="repo_projects new_repo_project repo_project /karpathy/nn-zero-to-hero/projects" data-pjax="#repo-content-pjax-container" data-turbo-frame="repo-content-turbo-frame" data-hotkey="g b" data-analytics-event="{&quot;category&quot;:&quot;Underline navbar&quot;,&quot;action&quot;:&quot;Click tab&quot;,&quot;label&quot;:&quot;Projects&quot;,&quot;target&quot;:&quot;UNDERLINE_NAV.TAB&quot;}" data-view-component="true" class="UnderlineNav-item no-wrap js-responsive-underlinenav-item js-selected-navigation-item">
    
              <svg aria-hidden="true" height="16" viewBox="0 0 16 16" version="1.1" width="16" data-view-component="true" class="octicon octicon-table UnderlineNav-octicon d-none d-sm-inline">
    <path d="M0 1.75C0 .784.784 0 1.75 0h12.5C15.216 0 16 .784 16 1.75v12.5A1.75 1.75 0 0 1 14.25 16H1.75A1.75 1.75 0 0 1 0 14.25ZM6.5 6.5v8h7.75a.25.25 0 0 0 .25-.25V6.5Zm8-1.5V1.75a.25.25 0 0 0-.25-.25H6.5V5Zm-13 1.5v7.75c0 .138.112.25.25.25H5v-8ZM5 5V1.5H1.75a.25.25 0 0 0-.25.25V5Z"></path>
</svg>
        <span data-content="Projects">Projects</span>
          <span id="projects-repo-tab-count" data-pjax-replace="" data-turbo-replace="" title="0" hidden="hidden" data-view-component="true" class="Counter">0</span>


    
</a></li>
      <li data-view-component="true" class="d-inline-flex">
  <a id="security-tab" href="/karpathy/nn-zero-to-hero/security" data-tab-item="i5security-tab" data-selected-links="security overview alerts policy token_scanning code_scanning /karpathy/nn-zero-to-hero/security" data-pjax="#repo-content-pjax-container" data-turbo-frame="repo-content-turbo-frame" data-hotkey="g s" data-analytics-event="{&quot;category&quot;:&quot;Underline navbar&quot;,&quot;action&quot;:&quot;Click tab&quot;,&quot;label&quot;:&quot;Security&quot;,&quot;target&quot;:&quot;UNDERLINE_NAV.TAB&quot;}" data-view-component="true" class="UnderlineNav-item no-wrap js-responsive-underlinenav-item js-selected-navigation-item">
    
              <svg aria-hidden="true" height="16" viewBox="0 0 16 16" version="1.1" width="16" data-view-component="true" class="octicon octicon-shield UnderlineNav-octicon d-none d-sm-inline">
    <path d="M7.467.133a1.748 1.748 0 0 1 1.066 0l5.25 1.68A1.75 1.75 0 0 1 15 3.48V7c0 1.566-.32 3.182-1.303 4.682-.983 1.498-2.585 2.813-5.032 3.855a1.697 1.697 0 0 1-1.33 0c-2.447-1.042-4.049-2.357-5.032-3.855C1.32 10.182 1 8.566 1 7V3.48a1.75 1.75 0 0 1 1.217-1.667Zm.61 1.429a.25.25 0 0 0-.153 0l-5.25 1.68a.25.25 0 0 0-.174.238V7c0 1.358.275 2.666 1.057 3.86.784 1.194 2.121 2.34 4.366 3.297a.196.196 0 0 0 .154 0c2.245-.956 3.582-2.104 4.366-3.298C13.225 9.666 13.5 8.36 13.5 7V3.48a.251.251 0 0 0-.174-.237l-5.25-1.68ZM8.75 4.75v3a.75.75 0 0 1-1.5 0v-3a.75.75 0 0 1 1.5 0ZM9 10.5a1 1 0 1 1-2 0 1 1 0 0 1 2 0Z"></path>
</svg>
        <span data-content="Security">Security</span>
          <include-fragment src="/karpathy/nn-zero-to-hero/security/overall-count" accept="text/fragment+html"></include-fragment>

    
</a></li>
      <li data-view-component="true" class="d-inline-flex">
  <a id="insights-tab" href="/karpathy/nn-zero-to-hero/pulse" data-tab-item="i6insights-tab" data-selected-links="repo_graphs repo_contributors dependency_graph dependabot_updates pulse people community /karpathy/nn-zero-to-hero/pulse" data-pjax="#repo-content-pjax-container" data-turbo-frame="repo-content-turbo-frame" data-analytics-event="{&quot;category&quot;:&quot;Underline navbar&quot;,&quot;action&quot;:&quot;Click tab&quot;,&quot;label&quot;:&quot;Insights&quot;,&quot;target&quot;:&quot;UNDERLINE_NAV.TAB&quot;}" data-view-component="true" class="UnderlineNav-item no-wrap js-responsive-underlinenav-item js-selected-navigation-item">
    
              <svg aria-hidden="true" height="16" viewBox="0 0 16 16" version="1.1" width="16" data-view-component="true" class="octicon octicon-graph UnderlineNav-octicon d-none d-sm-inline">
    <path d="M1.5 1.75V13.5h13.75a.75.75 0 0 1 0 1.5H.75a.75.75 0 0 1-.75-.75V1.75a.75.75 0 0 1 1.5 0Zm14.28 2.53-5.25 5.25a.75.75 0 0 1-1.06 0L7 7.06 4.28 9.78a.751.751 0 0 1-1.042-.018.751.751 0 0 1-.018-1.042l3.25-3.25a.75.75 0 0 1 1.06 0L10 7.94l4.72-4.72a.751.751 0 0 1 1.042.018.751.751 0 0 1 .018 1.042Z"></path>
</svg>
        <span data-content="Insights">Insights</span>
          <span id="insights-repo-tab-count" data-pjax-replace="" data-turbo-replace="" title="Not available" data-view-component="true" class="Counter"></span>


    
</a></li>
</ul>
    <div style="visibility:hidden;" data-view-component="true" class="UnderlineNav-actions js-responsive-underlinenav-overflow position-absolute pr-3 pr-md-4 pr-lg-5 right-0">      <action-menu data-select-variant="none" data-view-component="true">
  <focus-group direction="vertical" mnemonics retain>
    <button id="action-menu-25dbf508-01ee-4c5d-9ca5-f97d80db12d9-button" popovertarget="action-menu-25dbf508-01ee-4c5d-9ca5-f97d80db12d9-overlay" aria-controls="action-menu-25dbf508-01ee-4c5d-9ca5-f97d80db12d9-list" aria-haspopup="true" aria-labelledby="tooltip-e289de1f-96a8-49a4-969b-20748e7e6cee" type="button" data-view-component="true" class="Button Button--iconOnly Button--secondary Button--medium UnderlineNav-item">  <svg aria-hidden="true" height="16" viewBox="0 0 16 16" version="1.1" width="16" data-view-component="true" class="octicon octicon-kebab-horizontal Button-visual">
    <path d="M8 9a1.5 1.5 0 1 0 0-3 1.5 1.5 0 0 0 0 3ZM1.5 9a1.5 1.5 0 1 0 0-3 1.5 1.5 0 0 0 0 3Zm13 0a1.5 1.5 0 1 0 0-3 1.5 1.5 0 0 0 0 3Z"></path>
</svg>
</button><tool-tip id="tooltip-e289de1f-96a8-49a4-969b-20748e7e6cee" for="action-menu-25dbf508-01ee-4c5d-9ca5-f97d80db12d9-button" popover="manual" data-direction="s" data-type="label" data-view-component="true" class="sr-only position-absolute">Additional navigation options</tool-tip>


<anchored-position id="action-menu-25dbf508-01ee-4c5d-9ca5-f97d80db12d9-overlay" anchor="action-menu-25dbf508-01ee-4c5d-9ca5-f97d80db12d9-button" align="start" side="outside-bottom" anchor-offset="normal" popover="auto" data-view-component="true">
  <div data-view-component="true" class="Overlay Overlay--size-auto">
    
      <div data-view-component="true" class="Overlay-body Overlay-body--paddingNone">          <div data-view-component="true">
  <ul aria-labelledby="action-menu-25dbf508-01ee-4c5d-9ca5-f97d80db12d9-button" id="action-menu-25dbf508-01ee-4c5d-9ca5-f97d80db12d9-list" role="menu" data-view-component="true" class="ActionListWrap--inset ActionListWrap">
      <li hidden="hidden" data-menu-item="i0code-tab" data-targets="action-list.items action-list.items" role="none" data-view-component="true" class="ActionListItem">
    
    <a tabindex="-1" id="item-49355c34-bc10-48d8-b08d-1422ef21699b" href="/karpathy/nn-zero-to-hero" role="menuitem" data-view-component="true" class="ActionListContent ActionListContent--visual16">
        <span class="ActionListItem-visual ActionListItem-visual--leading">
          <svg aria-hidden="true" height="16" viewBox="0 0 16 16" version="1.1" width="16" data-view-component="true" class="octicon octicon-code">
    <path d="m11.28 3.22 4.25 4.25a.75.75 0 0 1 0 1.06l-4.25 4.25a.749.749 0 0 1-1.275-.326.749.749 0 0 1 .215-.734L13.94 8l-3.72-3.72a.749.749 0 0 1 .326-1.275.749.749 0 0 1 .734.215Zm-6.56 0a.751.751 0 0 1 1.042.018.751.751 0 0 1 .018 1.042L2.06 8l3.72 3.72a.749.749 0 0 1-.326 1.275.749.749 0 0 1-.734-.215L.47 8.53a.75.75 0 0 1 0-1.06Z"></path>
</svg>
        </span>
      
        <span data-view-component="true" class="ActionListItem-label">
          Code
</span></a>
  
  
</li>
      <li hidden="hidden" data-menu-item="i1issues-tab" data-targets="action-list.items action-list.items" role="none" data-view-component="true" class="ActionListItem">
    
    <a tabindex="-1" id="item-acfdd47c-bd24-4c47-bd67-eba79d6d645a" href="/karpathy/nn-zero-to-hero/issues" role="menuitem" data-view-component="true" class="ActionListContent ActionListContent--visual16">
        <span class="ActionListItem-visual ActionListItem-visual--leading">
          <svg aria-hidden="true" height="16" viewBox="0 0 16 16" version="1.1" width="16" data-view-component="true" class="octicon octicon-issue-opened">
    <path d="M8 9.5a1.5 1.5 0 1 0 0-3 1.5 1.5 0 0 0 0 3Z"></path><path d="M8 0a8 8 0 1 1 0 16A8 8 0 0 1 8 0ZM1.5 8a6.5 6.5 0 1 0 13 0 6.5 6.5 0 0 0-13 0Z"></path>
</svg>
        </span>
      
        <span data-view-component="true" class="ActionListItem-label">
          Issues
</span></a>
  
  
</li>
      <li hidden="hidden" data-menu-item="i2pull-requests-tab" data-targets="action-list.items action-list.items" role="none" data-view-component="true" class="ActionListItem">
    
    <a tabindex="-1" id="item-132c9d3b-7d1f-434f-9d8e-e44e6cb1db17" href="/karpathy/nn-zero-to-hero/pulls" role="menuitem" data-view-component="true" class="ActionListContent ActionListContent--visual16">
        <span class="ActionListItem-visual ActionListItem-visual--leading">
          <svg aria-hidden="true" height="16" viewBox="0 0 16 16" version="1.1" width="16" data-view-component="true" class="octicon octicon-git-pull-request">
    <path d="M1.5 3.25a2.25 2.25 0 1 1 3 2.122v5.256a2.251 2.251 0 1 1-1.5 0V5.372A2.25 2.25 0 0 1 1.5 3.25Zm5.677-.177L9.573.677A.25.25 0 0 1 10 .854V2.5h1A2.5 2.5 0 0 1 13.5 5v5.628a2.251 2.251 0 1 1-1.5 0V5a1 1 0 0 0-1-1h-1v1.646a.25.25 0 0 1-.427.177L7.177 3.427a.25.25 0 0 1 0-.354ZM3.75 2.5a.75.75 0 1 0 0 1.5.75.75 0 0 0 0-1.5Zm0 9.5a.75.75 0 1 0 0 1.5.75.75 0 0 0 0-1.5Zm8.25.75a.75.75 0 1 0 1.5 0 .75.75 0 0 0-1.5 0Z"></path>
</svg>
        </span>
      
        <span data-view-component="true" class="ActionListItem-label">
          Pull requests
</span></a>
  
  
</li>
      <li hidden="hidden" data-menu-item="i3actions-tab" data-targets="action-list.items action-list.items" role="none" data-view-component="true" class="ActionListItem">
    
    <a tabindex="-1" id="item-f81a4c74-521e-46a7-becf-27c7c0523bc1" href="/karpathy/nn-zero-to-hero/actions" role="menuitem" data-view-component="true" class="ActionListContent ActionListContent--visual16">
        <span class="ActionListItem-visual ActionListItem-visual--leading">
          <svg aria-hidden="true" height="16" viewBox="0 0 16 16" version="1.1" width="16" data-view-component="true" class="octicon octicon-play">
    <path d="M8 0a8 8 0 1 1 0 16A8 8 0 0 1 8 0ZM1.5 8a6.5 6.5 0 1 0 13 0 6.5 6.5 0 0 0-13 0Zm4.879-2.773 4.264 2.559a.25.25 0 0 1 0 .428l-4.264 2.559A.25.25 0 0 1 6 10.559V5.442a.25.25 0 0 1 .379-.215Z"></path>
</svg>
        </span>
      
        <span data-view-component="true" class="ActionListItem-label">
          Actions
</span></a>
  
  
</li>
      <li hidden="hidden" data-menu-item="i4projects-tab" data-targets="action-list.items action-list.items" role="none" data-view-component="true" class="ActionListItem">
    
    <a tabindex="-1" id="item-f82e24c2-6734-4127-b4db-f9951e50045c" href="/karpathy/nn-zero-to-hero/projects" role="menuitem" data-view-component="true" class="ActionListContent ActionListContent--visual16">
        <span class="ActionListItem-visual ActionListItem-visual--leading">
          <svg aria-hidden="true" height="16" viewBox="0 0 16 16" version="1.1" width="16" data-view-component="true" class="octicon octicon-table">
    <path d="M0 1.75C0 .784.784 0 1.75 0h12.5C15.216 0 16 .784 16 1.75v12.5A1.75 1.75 0 0 1 14.25 16H1.75A1.75 1.75 0 0 1 0 14.25ZM6.5 6.5v8h7.75a.25.25 0 0 0 .25-.25V6.5Zm8-1.5V1.75a.25.25 0 0 0-.25-.25H6.5V5Zm-13 1.5v7.75c0 .138.112.25.25.25H5v-8ZM5 5V1.5H1.75a.25.25 0 0 0-.25.25V5Z"></path>
</svg>
        </span>
      
        <span data-view-component="true" class="ActionListItem-label">
          Projects
</span></a>
  
  
</li>
      <li hidden="hidden" data-menu-item="i5security-tab" data-targets="action-list.items action-list.items" role="none" data-view-component="true" class="ActionListItem">
    
    <a tabindex="-1" id="item-545fc33d-4627-49d6-a267-bd9b1b1146f2" href="/karpathy/nn-zero-to-hero/security" role="menuitem" data-view-component="true" class="ActionListContent ActionListContent--visual16">
        <span class="ActionListItem-visual ActionListItem-visual--leading">
          <svg aria-hidden="true" height="16" viewBox="0 0 16 16" version="1.1" width="16" data-view-component="true" class="octicon octicon-shield">
    <path d="M7.467.133a1.748 1.748 0 0 1 1.066 0l5.25 1.68A1.75 1.75 0 0 1 15 3.48V7c0 1.566-.32 3.182-1.303 4.682-.983 1.498-2.585 2.813-5.032 3.855a1.697 1.697 0 0 1-1.33 0c-2.447-1.042-4.049-2.357-5.032-3.855C1.32 10.182 1 8.566 1 7V3.48a1.75 1.75 0 0 1 1.217-1.667Zm.61 1.429a.25.25 0 0 0-.153 0l-5.25 1.68a.25.25 0 0 0-.174.238V7c0 1.358.275 2.666 1.057 3.86.784 1.194 2.121 2.34 4.366 3.297a.196.196 0 0 0 .154 0c2.245-.956 3.582-2.104 4.366-3.298C13.225 9.666 13.5 8.36 13.5 7V3.48a.251.251 0 0 0-.174-.237l-5.25-1.68ZM8.75 4.75v3a.75.75 0 0 1-1.5 0v-3a.75.75 0 0 1 1.5 0ZM9 10.5a1 1 0 1 1-2 0 1 1 0 0 1 2 0Z"></path>
</svg>
        </span>
      
        <span data-view-component="true" class="ActionListItem-label">
          Security
</span></a>
  
  
</li>
      <li hidden="hidden" data-menu-item="i6insights-tab" data-targets="action-list.items action-list.items" role="none" data-view-component="true" class="ActionListItem">
    
    <a tabindex="-1" id="item-59fac8c6-f4db-460d-af51-0a7524a90185" href="/karpathy/nn-zero-to-hero/pulse" role="menuitem" data-view-component="true" class="ActionListContent ActionListContent--visual16">
        <span class="ActionListItem-visual ActionListItem-visual--leading">
          <svg aria-hidden="true" height="16" viewBox="0 0 16 16" version="1.1" width="16" data-view-component="true" class="octicon octicon-graph">
    <path d="M1.5 1.75V13.5h13.75a.75.75 0 0 1 0 1.5H.75a.75.75 0 0 1-.75-.75V1.75a.75.75 0 0 1 1.5 0Zm14.28 2.53-5.25 5.25a.75.75 0 0 1-1.06 0L7 7.06 4.28 9.78a.751.751 0 0 1-1.042-.018.751.751 0 0 1-.018-1.042l3.25-3.25a.75.75 0 0 1 1.06 0L10 7.94l4.72-4.72a.751.751 0 0 1 1.042.018.751.751 0 0 1 .018 1.042Z"></path>
</svg>
        </span>
      
        <span data-view-component="true" class="ActionListItem-label">
          Insights
</span></a>
  
  
</li>
</ul>  
</div>

</div>
      
</div></anchored-position>  </focus-group>
</action-menu></div>
</nav>

  </div>

  



<turbo-frame id="repo-content-turbo-frame" target="_top" data-turbo-action="advance" class="">
    <div id="repo-content-pjax-container" class="repository-content " >
    


    
      
    





<react-app
  app-name="react-code-view"
  initial-path="/karpathy/nn-zero-to-hero/blob/master/lectures/micrograd/micrograd_lecture_first_half_roughly.ipynb"
  style="min-height: calc(100vh - 64px)" 
  data-ssr="false"
  data-lazy="false"
  data-alternate="false"
>
  
  <script type="application/json" data-target="react-app.embeddedData">{"payload":{"allShortcutsEnabled":false,"fileTree":{"lectures/micrograd":{"items":[{"name":"micrograd_lecture_first_half_roughly.ipynb","path":"lectures/micrograd/micrograd_lecture_first_half_roughly.ipynb","contentType":"file"},{"name":"micrograd_lecture_second_half_roughly.ipynb","path":"lectures/micrograd/micrograd_lecture_second_half_roughly.ipynb","contentType":"file"}],"totalCount":2},"lectures":{"items":[{"name":"makemore","path":"lectures/makemore","contentType":"directory"},{"name":"micrograd","path":"lectures/micrograd","contentType":"directory"}],"totalCount":2},"":{"items":[{"name":"lectures","path":"lectures","contentType":"directory"},{"name":"LICENSE","path":"LICENSE","contentType":"file"},{"name":"README.md","path":"README.md","contentType":"file"}],"totalCount":3}},"fileTreeProcessingTime":5.210181,"foldersToFetch":[],"repo":{"id":534397970,"defaultBranch":"master","name":"nn-zero-to-hero","ownerLogin":"karpathy","currentUserCanPush":false,"isFork":false,"isEmpty":false,"createdAt":"2022-09-08T21:23:25.000Z","ownerAvatar":"https://avatars.githubusercontent.com/u/241138?v=4","public":true,"private":false,"isOrgOwned":false},"symbolsExpanded":false,"treeExpanded":true,"refInfo":{"name":"master","listCacheKey":"v0:1662672205.8966138","canEdit":false,"refType":"branch","currentOid":"374864c1f2a2289fdd0b4284010e32ac03e3b710"},"path":"lectures/micrograd/micrograd_lecture_first_half_roughly.ipynb","currentUser":null,"blob":{"rawLines":["{"," \"cells\": [","  {","   \"cell_type\": \"code\",","   \"execution_count\": 10,","   \"metadata\": {},","   \"outputs\": [],","   \"source\": [","    \"import math\\n\",","    \"import numpy as np\\n\",","    \"import matplotlib.pyplot as plt\\n\",","    \"%matplotlib inline\"","   ]","  },","  {","   \"cell_type\": \"code\",","   \"execution_count\": 11,","   \"metadata\": {},","   \"outputs\": [],","   \"source\": [","    \"def f(x):\\n\",","    \"  return 3*x**2 - 4*x + 5\"","   ]","  },","  {","   \"cell_type\": \"code\",","   \"execution_count\": 12,","   \"metadata\": {},","   \"outputs\": [","    {","     \"data\": {","      \"text/plain\": [","       \"20.0\"","      ]","     },","     \"execution_count\": 12,","     \"metadata\": {},","     \"output_type\": \"execute_result\"","    }","   ],","   \"source\": [","    \"f(3.0)\"","   ]","  },","  {","   \"cell_type\": \"code\",","   \"execution_count\": 15,","   \"metadata\": {},","   \"outputs\": [","    {","     \"data\": {","      \"text/plain\": [","       \"[\u003cmatplotlib.lines.Line2D at 0x7f9b98432ee0\u003e]\"","      ]","     },","     \"execution_count\": 15,","     \"metadata\": {},","     \"output_type\": \"execute_result\"","    },","    {","     \"data\": {","      \"image/png\": \"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\\n\",","      \"text/plain\": [","       \"\u003cFigure size 432x288 with 1 Axes\u003e\"","      ]","     },","     \"metadata\": {","      \"needs_background\": \"light\"","     },","     \"output_type\": \"display_data\"","    }","   ],","   \"source\": [","    \"xs = np.arange(-5, 5, 0.25)\\n\",","    \"ys = f(xs)\\n\",","    \"plt.plot(xs, ys)\"","   ]","  },","  {","   \"cell_type\": \"code\",","   \"execution_count\": 42,","   \"metadata\": {},","   \"outputs\": [","    {","     \"data\": {","      \"text/plain\": [","       \"2.999378523327323e-06\"","      ]","     },","     \"execution_count\": 42,","     \"metadata\": {},","     \"output_type\": \"execute_result\"","    }","   ],","   \"source\": [","    \"h = 0.000001\\n\",","    \"x = 2/3\\n\",","    \"(f(x + h) - f(x))/h\"","   ]","  },","  {","   \"cell_type\": \"code\",","   \"execution_count\": 43,","   \"metadata\": {},","   \"outputs\": [","    {","     \"name\": \"stdout\",","     \"output_type\": \"stream\",","     \"text\": [","      \"4.0\\n\"","     ]","    }","   ],","   \"source\": [","    \"# les get more complex\\n\",","    \"a = 2.0\\n\",","    \"b = -3.0\\n\",","    \"c = 10.0\\n\",","    \"d = a*b + c\\n\",","    \"print(d)\"","   ]","  },","  {","   \"cell_type\": \"code\",","   \"execution_count\": 50,","   \"metadata\": {},","   \"outputs\": [","    {","     \"name\": \"stdout\",","     \"output_type\": \"stream\",","     \"text\": [","      \"d1 4.0\\n\",","      \"d2 4.0001\\n\",","      \"slope 0.9999999999976694\\n\"","     ]","    }","   ],","   \"source\": [","    \"h = 0.0001\\n\",","    \"\\n\",","    \"# inputs\\n\",","    \"a = 2.0\\n\",","    \"b = -3.0\\n\",","    \"c = 10.0\\n\",","    \"\\n\",","    \"d1 = a*b + c\\n\",","    \"c += h\\n\",","    \"d2 = a*b + c\\n\",","    \"\\n\",","    \"print('d1', d1)\\n\",","    \"print('d2', d2)\\n\",","    \"print('slope', (d2 - d1)/h)\\n\"","   ]","  },","  {","   \"cell_type\": \"code\",","   \"execution_count\": 257,","   \"metadata\": {},","   \"outputs\": [","    {","     \"data\": {","      \"text/plain\": [","       \"Value(data=-8.0)\"","      ]","     },","     \"execution_count\": 257,","     \"metadata\": {},","     \"output_type\": \"execute_result\"","    }","   ],","   \"source\": [","    \"class Value:\\n\",","    \"  \\n\",","    \"  def __init__(self, data, _children=(), _op='', label=''):\\n\",","    \"    self.data = data\\n\",","    \"    self.grad = 0.0\\n\",","    \"    self._backward = lambda: None\\n\",","    \"    self._prev = set(_children)\\n\",","    \"    self._op = _op\\n\",","    \"    self.label = label\\n\",","    \"\\n\",","    \"  def __repr__(self):\\n\",","    \"    return f\\\"Value(data={self.data})\\\"\\n\",","    \"  \\n\",","    \"  def __add__(self, other):\\n\",","    \"    out = Value(self.data + other.data, (self, other), '+')\\n\",","    \"    \\n\",","    \"    def _backward():\\n\",","    \"      self.grad += 1.0 * out.grad\\n\",","    \"      other.grad += 1.0 * out.grad\\n\",","    \"    out._backward = _backward\\n\",","    \"    \\n\",","    \"    return out\\n\",","    \"\\n\",","    \"  def __mul__(self, other):\\n\",","    \"    out = Value(self.data * other.data, (self, other), '*')\\n\",","    \"    \\n\",","    \"    def _backward():\\n\",","    \"      self.grad += other.data * out.grad\\n\",","    \"      other.grad += self.data * out.grad\\n\",","    \"    out._backward = _backward\\n\",","    \"      \\n\",","    \"    return out\\n\",","    \"  \\n\",","    \"  def tanh(self):\\n\",","    \"    x = self.data\\n\",","    \"    t = (math.exp(2*x) - 1)/(math.exp(2*x) + 1)\\n\",","    \"    out = Value(t, (self, ), 'tanh')\\n\",","    \"    \\n\",","    \"    def _backward():\\n\",","    \"      self.grad += (1 - t**2) * out.grad\\n\",","    \"    out._backward = _backward\\n\",","    \"    \\n\",","    \"    return out\\n\",","    \"  \\n\",","    \"  def backward(self):\\n\",","    \"    \\n\",","    \"    topo = []\\n\",","    \"    visited = set()\\n\",","    \"    def build_topo(v):\\n\",","    \"      if v not in visited:\\n\",","    \"        visited.add(v)\\n\",","    \"        for child in v._prev:\\n\",","    \"          build_topo(child)\\n\",","    \"        topo.append(v)\\n\",","    \"    build_topo(self)\\n\",","    \"    \\n\",","    \"    self.grad = 1.0\\n\",","    \"    for node in reversed(topo):\\n\",","    \"      node._backward()\\n\",","    \"\\n\",","    \"\\n\",","    \"a = Value(2.0, label='a')\\n\",","    \"b = Value(-3.0, label='b')\\n\",","    \"c = Value(10.0, label='c')\\n\",","    \"e = a*b; e.label = 'e'\\n\",","    \"d = e + c; d.label = 'd'\\n\",","    \"f = Value(-2.0, label='f')\\n\",","    \"L = d * f; L.label = 'L'\\n\",","    \"L\"","   ]","  },","  {","   \"cell_type\": \"code\",","   \"execution_count\": 139,","   \"metadata\": {},","   \"outputs\": [],","   \"source\": [","    \"from graphviz import Digraph\\n\",","    \"\\n\",","    \"def trace(root):\\n\",","    \"  # builds a set of all nodes and edges in a graph\\n\",","    \"  nodes, edges = set(), set()\\n\",","    \"  def build(v):\\n\",","    \"    if v not in nodes:\\n\",","    \"      nodes.add(v)\\n\",","    \"      for child in v._prev:\\n\",","    \"        edges.add((child, v))\\n\",","    \"        build(child)\\n\",","    \"  build(root)\\n\",","    \"  return nodes, edges\\n\",","    \"\\n\",","    \"def draw_dot(root):\\n\",","    \"  dot = Digraph(format='svg', graph_attr={'rankdir': 'LR'}) # LR = left to right\\n\",","    \"  \\n\",","    \"  nodes, edges = trace(root)\\n\",","    \"  for n in nodes:\\n\",","    \"    uid = str(id(n))\\n\",","    \"    # for any value in the graph, create a rectangular ('record') node for it\\n\",","    \"    dot.node(name = uid, label = \\\"{ %s | data %.4f | grad %.4f }\\\" % (n.label, n.data, n.grad), shape='record')\\n\",","    \"    if n._op:\\n\",","    \"      # if this value is a result of some operation, create an op node for it\\n\",","    \"      dot.node(name = uid + n._op, label = n._op)\\n\",","    \"      # and connect this node to it\\n\",","    \"      dot.edge(uid + n._op, uid)\\n\",","    \"\\n\",","    \"  for n1, n2 in edges:\\n\",","    \"    # connect n1 to the op node of n2\\n\",","    \"    dot.edge(str(id(n1)), str(id(n2)) + n2._op)\\n\",","    \"\\n\",","    \"  return dot\\n\"","   ]","  },","  {","   \"cell_type\": \"code\",","   \"execution_count\": 144,","   \"metadata\": {},","   \"outputs\": [","    {","     \"data\": {","      \"image/svg+xml\": [","       \"\u003c?xml version=\\\"1.0\\\" encoding=\\\"UTF-8\\\" standalone=\\\"no\\\"?\u003e\\n\",","       \"\u003c!DOCTYPE svg PUBLIC \\\"-//W3C//DTD SVG 1.1//EN\\\"\\n\",","       \" \\\"http://www.w3.org/Graphics/SVG/1.1/DTD/svg11.dtd\\\"\u003e\\n\",","       \"\u003c!-- Generated by graphviz version 3.0.0 (20220226.1711)\\n\",","       \" --\u003e\\n\",","       \"\u003c!-- Pages: 1 --\u003e\\n\",","       \"\u003csvg width=\\\"1157pt\\\" height=\\\"156pt\\\"\\n\",","       \" viewBox=\\\"0.00 0.00 1157.00 156.00\\\" xmlns=\\\"http://www.w3.org/2000/svg\\\" xmlns:xlink=\\\"http://www.w3.org/1999/xlink\\\"\u003e\\n\",","       \"\u003cg id=\\\"graph0\\\" class=\\\"graph\\\" transform=\\\"scale(1 1) rotate(0) translate(4 152)\\\"\u003e\\n\",","       \"\u003cpolygon fill=\\\"white\\\" stroke=\\\"transparent\\\" points=\\\"-4,4 -4,-152 1153,-152 1153,4 -4,4\\\"/\u003e\\n\",","       \"\u003c!-- 140306649871024 --\u003e\\n\",","       \"\u003cg id=\\\"node1\\\" class=\\\"node\\\"\u003e\\n\",","       \"\u003ctitle\u003e140306649871024\u003c/title\u003e\\n\",","       \"\u003cpolygon fill=\\\"none\\\" stroke=\\\"black\\\" points=\\\"4.5,-111.5 4.5,-147.5 189.5,-147.5 189.5,-111.5 4.5,-111.5\\\"/\u003e\\n\",","       \"\u003ctext text-anchor=\\\"middle\\\" x=\\\"16\\\" y=\\\"-125.8\\\" font-family=\\\"Times,serif\\\" font-size=\\\"14.00\\\"\u003ea\u003c/text\u003e\\n\",","       \"\u003cpolyline fill=\\\"none\\\" stroke=\\\"black\\\" points=\\\"27.5,-111.5 27.5,-147.5 \\\"/\u003e\\n\",","       \"\u003ctext text-anchor=\\\"middle\\\" x=\\\"67.5\\\" y=\\\"-125.8\\\" font-family=\\\"Times,serif\\\" font-size=\\\"14.00\\\"\u003edata 2.0000\u003c/text\u003e\\n\",","       \"\u003cpolyline fill=\\\"none\\\" stroke=\\\"black\\\" points=\\\"107.5,-111.5 107.5,-147.5 \\\"/\u003e\\n\",","       \"\u003ctext text-anchor=\\\"middle\\\" x=\\\"148.5\\\" y=\\\"-125.8\\\" font-family=\\\"Times,serif\\\" font-size=\\\"14.00\\\"\u003egrad 6.0000\u003c/text\u003e\\n\",","       \"\u003c/g\u003e\\n\",","       \"\u003c!-- 140306649871264* --\u003e\\n\",","       \"\u003cg id=\\\"node9\\\" class=\\\"node\\\"\u003e\\n\",","       \"\u003ctitle\u003e140306649871264*\u003c/title\u003e\\n\",","       \"\u003cellipse fill=\\\"none\\\" stroke=\\\"black\\\" cx=\\\"257\\\" cy=\\\"-101.5\\\" rx=\\\"27\\\" ry=\\\"18\\\"/\u003e\\n\",","       \"\u003ctext text-anchor=\\\"middle\\\" x=\\\"257\\\" y=\\\"-97.8\\\" font-family=\\\"Times,serif\\\" font-size=\\\"14.00\\\"\u003e*\u003c/text\u003e\\n\",","       \"\u003c/g\u003e\\n\",","       \"\u003c!-- 140306649871024\u0026#45;\u0026gt;140306649871264* --\u003e\\n\",","       \"\u003cg id=\\\"edge5\\\" class=\\\"edge\\\"\u003e\\n\",","       \"\u003ctitle\u003e140306649871024\u0026#45;\u0026gt;140306649871264*\u003c/title\u003e\\n\",","       \"\u003cpath fill=\\\"none\\\" stroke=\\\"black\\\" d=\\\"M189.91,-113.21C200.76,-111.29 211.28,-109.43 220.61,-107.77\\\"/\u003e\\n\",","       \"\u003cpolygon fill=\\\"black\\\" stroke=\\\"black\\\" points=\\\"221.37,-111.19 230.6,-106 220.15,-104.3 221.37,-111.19\\\"/\u003e\\n\",","       \"\u003c/g\u003e\\n\",","       \"\u003c!-- 140306649871072 --\u003e\\n\",","       \"\u003cg id=\\\"node2\\\" class=\\\"node\\\"\u003e\\n\",","       \"\u003ctitle\u003e140306649871072\u003c/title\u003e\\n\",","       \"\u003cpolygon fill=\\\"none\\\" stroke=\\\"black\\\" points=\\\"320,-28.5 320,-64.5 516,-64.5 516,-28.5 320,-28.5\\\"/\u003e\\n\",","       \"\u003ctext text-anchor=\\\"middle\\\" x=\\\"331.5\\\" y=\\\"-42.8\\\" font-family=\\\"Times,serif\\\" font-size=\\\"14.00\\\"\u003ec\u003c/text\u003e\\n\",","       \"\u003cpolyline fill=\\\"none\\\" stroke=\\\"black\\\" points=\\\"343,-28.5 343,-64.5 \\\"/\u003e\\n\",","       \"\u003ctext text-anchor=\\\"middle\\\" x=\\\"386.5\\\" y=\\\"-42.8\\\" font-family=\\\"Times,serif\\\" font-size=\\\"14.00\\\"\u003edata 10.0000\u003c/text\u003e\\n\",","       \"\u003cpolyline fill=\\\"none\\\" stroke=\\\"black\\\" points=\\\"430,-28.5 430,-64.5 \\\"/\u003e\\n\",","       \"\u003ctext text-anchor=\\\"middle\\\" x=\\\"473\\\" y=\\\"-42.8\\\" font-family=\\\"Times,serif\\\" font-size=\\\"14.00\\\"\u003egrad \u0026#45;2.0000\u003c/text\u003e\\n\",","       \"\u003c/g\u003e\\n\",","       \"\u003c!-- 140306649871744+ --\u003e\\n\",","       \"\u003cg id=\\\"node7\\\" class=\\\"node\\\"\u003e\\n\",","       \"\u003ctitle\u003e140306649871744+\u003c/title\u003e\\n\",","       \"\u003cellipse fill=\\\"none\\\" stroke=\\\"black\\\" cx=\\\"579\\\" cy=\\\"-73.5\\\" rx=\\\"27\\\" ry=\\\"18\\\"/\u003e\\n\",","       \"\u003ctext text-anchor=\\\"middle\\\" x=\\\"579\\\" y=\\\"-69.8\\\" font-family=\\\"Times,serif\\\" font-size=\\\"14.00\\\"\u003e+\u003c/text\u003e\\n\",","       \"\u003c/g\u003e\\n\",","       \"\u003c!-- 140306649871072\u0026#45;\u0026gt;140306649871744+ --\u003e\\n\",","       \"\u003cg id=\\\"edge8\\\" class=\\\"edge\\\"\u003e\\n\",","       \"\u003ctitle\u003e140306649871072\u0026#45;\u0026gt;140306649871744+\u003c/title\u003e\\n\",","       \"\u003cpath fill=\\\"none\\\" stroke=\\\"black\\\" d=\\\"M516.07,-62.98C525.42,-64.57 534.43,-66.1 542.55,-67.48\\\"/\u003e\\n\",","       \"\u003cpolygon fill=\\\"black\\\" stroke=\\\"black\\\" points=\\\"542.21,-70.97 552.65,-69.2 543.38,-64.07 542.21,-70.97\\\"/\u003e\\n\",","       \"\u003c/g\u003e\\n\",","       \"\u003c!-- 140306649871120 --\u003e\\n\",","       \"\u003cg id=\\\"node3\\\" class=\\\"node\\\"\u003e\\n\",","       \"\u003ctitle\u003e140306649871120\u003c/title\u003e\\n\",","       \"\u003cpolygon fill=\\\"none\\\" stroke=\\\"black\\\" points=\\\"0,-56.5 0,-92.5 194,-92.5 194,-56.5 0,-56.5\\\"/\u003e\\n\",","       \"\u003ctext text-anchor=\\\"middle\\\" x=\\\"11.5\\\" y=\\\"-70.8\\\" font-family=\\\"Times,serif\\\" font-size=\\\"14.00\\\"\u003eb\u003c/text\u003e\\n\",","       \"\u003cpolyline fill=\\\"none\\\" stroke=\\\"black\\\" points=\\\"23,-56.5 23,-92.5 \\\"/\u003e\\n\",","       \"\u003ctext text-anchor=\\\"middle\\\" x=\\\"65.5\\\" y=\\\"-70.8\\\" font-family=\\\"Times,serif\\\" font-size=\\\"14.00\\\"\u003edata \u0026#45;3.0000\u003c/text\u003e\\n\",","       \"\u003cpolyline fill=\\\"none\\\" stroke=\\\"black\\\" points=\\\"108,-56.5 108,-92.5 \\\"/\u003e\\n\",","       \"\u003ctext text-anchor=\\\"middle\\\" x=\\\"151\\\" y=\\\"-70.8\\\" font-family=\\\"Times,serif\\\" font-size=\\\"14.00\\\"\u003egrad \u0026#45;4.0000\u003c/text\u003e\\n\",","       \"\u003c/g\u003e\\n\",","       \"\u003c!-- 140306649871120\u0026#45;\u0026gt;140306649871264* --\u003e\\n\",","       \"\u003cg id=\\\"edge6\\\" class=\\\"edge\\\"\u003e\\n\",","       \"\u003ctitle\u003e140306649871120\u0026#45;\u0026gt;140306649871264*\u003c/title\u003e\\n\",","       \"\u003cpath fill=\\\"none\\\" stroke=\\\"black\\\" d=\\\"M194.01,-90.91C203.35,-92.5 212.37,-94.04 220.49,-95.43\\\"/\u003e\\n\",","       \"\u003cpolygon fill=\\\"black\\\" stroke=\\\"black\\\" points=\\\"220.16,-98.93 230.6,-97.16 221.34,-92.03 220.16,-98.93\\\"/\u003e\\n\",","       \"\u003c/g\u003e\\n\",","       \"\u003c!-- 140306649871648 --\u003e\\n\",","       \"\u003cg id=\\\"node4\\\" class=\\\"node\\\"\u003e\\n\",","       \"\u003ctitle\u003e140306649871648\u003c/title\u003e\\n\",","       \"\u003cpolygon fill=\\\"none\\\" stroke=\\\"black\\\" points=\\\"957,-27.5 957,-63.5 1149,-63.5 1149,-27.5 957,-27.5\\\"/\u003e\\n\",","       \"\u003ctext text-anchor=\\\"middle\\\" x=\\\"969.5\\\" y=\\\"-41.8\\\" font-family=\\\"Times,serif\\\" font-size=\\\"14.00\\\"\u003eL\u003c/text\u003e\\n\",","       \"\u003cpolyline fill=\\\"none\\\" stroke=\\\"black\\\" points=\\\"982,-27.5 982,-63.5 \\\"/\u003e\\n\",","       \"\u003ctext text-anchor=\\\"middle\\\" x=\\\"1024.5\\\" y=\\\"-41.8\\\" font-family=\\\"Times,serif\\\" font-size=\\\"14.00\\\"\u003edata \u0026#45;8.0000\u003c/text\u003e\\n\",","       \"\u003cpolyline fill=\\\"none\\\" stroke=\\\"black\\\" points=\\\"1067,-27.5 1067,-63.5 \\\"/\u003e\\n\",","       \"\u003ctext text-anchor=\\\"middle\\\" x=\\\"1108\\\" y=\\\"-41.8\\\" font-family=\\\"Times,serif\\\" font-size=\\\"14.00\\\"\u003egrad 1.0000\u003c/text\u003e\\n\",","       \"\u003c/g\u003e\\n\",","       \"\u003c!-- 140306649871648* --\u003e\\n\",","       \"\u003cg id=\\\"node5\\\" class=\\\"node\\\"\u003e\\n\",","       \"\u003ctitle\u003e140306649871648*\u003c/title\u003e\\n\",","       \"\u003cellipse fill=\\\"none\\\" stroke=\\\"black\\\" cx=\\\"894\\\" cy=\\\"-45.5\\\" rx=\\\"27\\\" ry=\\\"18\\\"/\u003e\\n\",","       \"\u003ctext text-anchor=\\\"middle\\\" x=\\\"894\\\" y=\\\"-41.8\\\" font-family=\\\"Times,serif\\\" font-size=\\\"14.00\\\"\u003e*\u003c/text\u003e\\n\",","       \"\u003c/g\u003e\\n\",","       \"\u003c!-- 140306649871648*\u0026#45;\u0026gt;140306649871648 --\u003e\\n\",","       \"\u003cg id=\\\"edge1\\\" class=\\\"edge\\\"\u003e\\n\",","       \"\u003ctitle\u003e140306649871648*\u0026#45;\u0026gt;140306649871648\u003c/title\u003e\\n\",","       \"\u003cpath fill=\\\"none\\\" stroke=\\\"black\\\" d=\\\"M921.28,-45.5C928.78,-45.5 937.44,-45.5 946.67,-45.5\\\"/\u003e\\n\",","       \"\u003cpolygon fill=\\\"black\\\" stroke=\\\"black\\\" points=\\\"946.87,-49 956.87,-45.5 946.87,-42 946.87,-49\\\"/\u003e\\n\",","       \"\u003c/g\u003e\\n\",","       \"\u003c!-- 140306649871744 --\u003e\\n\",","       \"\u003cg id=\\\"node6\\\" class=\\\"node\\\"\u003e\\n\",","       \"\u003ctitle\u003e140306649871744\u003c/title\u003e\\n\",","       \"\u003cpolygon fill=\\\"none\\\" stroke=\\\"black\\\" points=\\\"642,-55.5 642,-91.5 831,-91.5 831,-55.5 642,-55.5\\\"/\u003e\\n\",","       \"\u003ctext text-anchor=\\\"middle\\\" x=\\\"653.5\\\" y=\\\"-69.8\\\" font-family=\\\"Times,serif\\\" font-size=\\\"14.00\\\"\u003ed\u003c/text\u003e\\n\",","       \"\u003cpolyline fill=\\\"none\\\" stroke=\\\"black\\\" points=\\\"665,-55.5 665,-91.5 \\\"/\u003e\\n\",","       \"\u003ctext text-anchor=\\\"middle\\\" x=\\\"705\\\" y=\\\"-69.8\\\" font-family=\\\"Times,serif\\\" font-size=\\\"14.00\\\"\u003edata 4.0000\u003c/text\u003e\\n\",","       \"\u003cpolyline fill=\\\"none\\\" stroke=\\\"black\\\" points=\\\"745,-55.5 745,-91.5 \\\"/\u003e\\n\",","       \"\u003ctext text-anchor=\\\"middle\\\" x=\\\"788\\\" y=\\\"-69.8\\\" font-family=\\\"Times,serif\\\" font-size=\\\"14.00\\\"\u003egrad \u0026#45;2.0000\u003c/text\u003e\\n\",","       \"\u003c/g\u003e\\n\",","       \"\u003c!-- 140306649871744\u0026#45;\u0026gt;140306649871648* --\u003e\\n\",","       \"\u003cg id=\\\"edge7\\\" class=\\\"edge\\\"\u003e\\n\",","       \"\u003ctitle\u003e140306649871744\u0026#45;\u0026gt;140306649871648*\u003c/title\u003e\\n\",","       \"\u003cpath fill=\\\"none\\\" stroke=\\\"black\\\" d=\\\"M831.1,-56.65C840.4,-54.97 849.38,-53.35 857.49,-51.89\\\"/\u003e\\n\",","       \"\u003cpolygon fill=\\\"black\\\" stroke=\\\"black\\\" points=\\\"858.37,-55.29 867.59,-50.07 857.13,-48.4 858.37,-55.29\\\"/\u003e\\n\",","       \"\u003c/g\u003e\\n\",","       \"\u003c!-- 140306649871744+\u0026#45;\u0026gt;140306649871744 --\u003e\\n\",","       \"\u003cg id=\\\"edge2\\\" class=\\\"edge\\\"\u003e\\n\",","       \"\u003ctitle\u003e140306649871744+\u0026#45;\u0026gt;140306649871744\u003c/title\u003e\\n\",","       \"\u003cpath fill=\\\"none\\\" stroke=\\\"black\\\" d=\\\"M606.03,-73.5C613.66,-73.5 622.52,-73.5 631.94,-73.5\\\"/\u003e\\n\",","       \"\u003cpolygon fill=\\\"black\\\" stroke=\\\"black\\\" points=\\\"631.94,-77 641.94,-73.5 631.94,-70 631.94,-77\\\"/\u003e\\n\",","       \"\u003c/g\u003e\\n\",","       \"\u003c!-- 140306649871264 --\u003e\\n\",","       \"\u003cg id=\\\"node8\\\" class=\\\"node\\\"\u003e\\n\",","       \"\u003ctitle\u003e140306649871264\u003c/title\u003e\\n\",","       \"\u003cpolygon fill=\\\"none\\\" stroke=\\\"black\\\" points=\\\"321,-83.5 321,-119.5 515,-119.5 515,-83.5 321,-83.5\\\"/\u003e\\n\",","       \"\u003ctext text-anchor=\\\"middle\\\" x=\\\"332.5\\\" y=\\\"-97.8\\\" font-family=\\\"Times,serif\\\" font-size=\\\"14.00\\\"\u003ee\u003c/text\u003e\\n\",","       \"\u003cpolyline fill=\\\"none\\\" stroke=\\\"black\\\" points=\\\"344,-83.5 344,-119.5 \\\"/\u003e\\n\",","       \"\u003ctext text-anchor=\\\"middle\\\" x=\\\"386.5\\\" y=\\\"-97.8\\\" font-family=\\\"Times,serif\\\" font-size=\\\"14.00\\\"\u003edata \u0026#45;6.0000\u003c/text\u003e\\n\",","       \"\u003cpolyline fill=\\\"none\\\" stroke=\\\"black\\\" points=\\\"429,-83.5 429,-119.5 \\\"/\u003e\\n\",","       \"\u003ctext text-anchor=\\\"middle\\\" x=\\\"472\\\" y=\\\"-97.8\\\" font-family=\\\"Times,serif\\\" font-size=\\\"14.00\\\"\u003egrad \u0026#45;2.0000\u003c/text\u003e\\n\",","       \"\u003c/g\u003e\\n\",","       \"\u003c!-- 140306649871264\u0026#45;\u0026gt;140306649871744+ --\u003e\\n\",","       \"\u003cg id=\\\"edge9\\\" class=\\\"edge\\\"\u003e\\n\",","       \"\u003ctitle\u003e140306649871264\u0026#45;\u0026gt;140306649871744+\u003c/title\u003e\\n\",","       \"\u003cpath fill=\\\"none\\\" stroke=\\\"black\\\" d=\\\"M515.16,-84.57C524.82,-82.87 534.13,-81.23 542.49,-79.75\\\"/\u003e\\n\",","       \"\u003cpolygon fill=\\\"black\\\" stroke=\\\"black\\\" points=\\\"543.3,-83.17 552.54,-77.98 542.08,-76.27 543.3,-83.17\\\"/\u003e\\n\",","       \"\u003c/g\u003e\\n\",","       \"\u003c!-- 140306649871264*\u0026#45;\u0026gt;140306649871264 --\u003e\\n\",","       \"\u003cg id=\\\"edge3\\\" class=\\\"edge\\\"\u003e\\n\",","       \"\u003ctitle\u003e140306649871264*\u0026#45;\u0026gt;140306649871264\u003c/title\u003e\\n\",","       \"\u003cpath fill=\\\"none\\\" stroke=\\\"black\\\" d=\\\"M284.26,-101.5C292.05,-101.5 301.1,-101.5 310.75,-101.5\\\"/\u003e\\n\",","       \"\u003cpolygon fill=\\\"black\\\" stroke=\\\"black\\\" points=\\\"310.99,-105 320.99,-101.5 310.99,-98 310.99,-105\\\"/\u003e\\n\",","       \"\u003c/g\u003e\\n\",","       \"\u003c!-- 140306649871792 --\u003e\\n\",","       \"\u003cg id=\\\"node10\\\" class=\\\"node\\\"\u003e\\n\",","       \"\u003ctitle\u003e140306649871792\u003c/title\u003e\\n\",","       \"\u003cpolygon fill=\\\"none\\\" stroke=\\\"black\\\" points=\\\"642.5,-0.5 642.5,-36.5 830.5,-36.5 830.5,-0.5 642.5,-0.5\\\"/\u003e\\n\",","       \"\u003ctext text-anchor=\\\"middle\\\" x=\\\"653\\\" y=\\\"-14.8\\\" font-family=\\\"Times,serif\\\" font-size=\\\"14.00\\\"\u003ef\u003c/text\u003e\\n\",","       \"\u003cpolyline fill=\\\"none\\\" stroke=\\\"black\\\" points=\\\"663.5,-0.5 663.5,-36.5 \\\"/\u003e\\n\",","       \"\u003ctext text-anchor=\\\"middle\\\" x=\\\"706\\\" y=\\\"-14.8\\\" font-family=\\\"Times,serif\\\" font-size=\\\"14.00\\\"\u003edata \u0026#45;2.0000\u003c/text\u003e\\n\",","       \"\u003cpolyline fill=\\\"none\\\" stroke=\\\"black\\\" points=\\\"748.5,-0.5 748.5,-36.5 \\\"/\u003e\\n\",","       \"\u003ctext text-anchor=\\\"middle\\\" x=\\\"789.5\\\" y=\\\"-14.8\\\" font-family=\\\"Times,serif\\\" font-size=\\\"14.00\\\"\u003egrad 4.0000\u003c/text\u003e\\n\",","       \"\u003c/g\u003e\\n\",","       \"\u003c!-- 140306649871792\u0026#45;\u0026gt;140306649871648* --\u003e\\n\",","       \"\u003cg id=\\\"edge4\\\" class=\\\"edge\\\"\u003e\\n\",","       \"\u003ctitle\u003e140306649871792\u0026#45;\u0026gt;140306649871648*\u003c/title\u003e\\n\",","       \"\u003cpath fill=\\\"none\\\" stroke=\\\"black\\\" d=\\\"M830.65,-34.67C840.2,-36.33 849.43,-37.93 857.72,-39.37\\\"/\u003e\\n\",","       \"\u003cpolygon fill=\\\"black\\\" stroke=\\\"black\\\" points=\\\"857.24,-42.84 867.69,-41.11 858.44,-35.95 857.24,-42.84\\\"/\u003e\\n\",","       \"\u003c/g\u003e\\n\",","       \"\u003c/g\u003e\\n\",","       \"\u003c/svg\u003e\\n\"","      ],","      \"text/plain\": [","       \"\u003cgraphviz.graphs.Digraph at 0x7f9bb8244670\u003e\"","      ]","     },","     \"execution_count\": 144,","     \"metadata\": {},","     \"output_type\": \"execute_result\"","    }","   ],","   \"source\": [","    \"draw_dot(L)\"","   ]","  },","  {","   \"cell_type\": \"code\",","   \"execution_count\": 145,","   \"metadata\": {},","   \"outputs\": [","    {","     \"name\": \"stdout\",","     \"output_type\": \"stream\",","     \"text\": [","      \"-7.286496\\n\"","     ]","    }","   ],","   \"source\": [","    \"a.data += 0.01 * a.grad\\n\",","    \"b.data += 0.01 * b.grad\\n\",","    \"c.data += 0.01 * c.grad\\n\",","    \"f.data += 0.01 * f.grad\\n\",","    \"\\n\",","    \"e = a * b\\n\",","    \"d = e + c\\n\",","    \"L = d * f\\n\",","    \"\\n\",","    \"print(L.data)\\n\"","   ]","  },","  {","   \"cell_type\": \"code\",","   \"execution_count\": 136,","   \"metadata\": {},","   \"outputs\": [","    {","     \"name\": \"stdout\",","     \"output_type\": \"stream\",","     \"text\": [","      \"-3.9999999999995595\\n\"","     ]","    }","   ],","   \"source\": [","    \"def lol():\\n\",","    \"  \\n\",","    \"  h = 0.001\\n\",","    \"  \\n\",","    \"  a = Value(2.0, label='a')\\n\",","    \"  b = Value(-3.0, label='b')\\n\",","    \"  c = Value(10.0, label='c')\\n\",","    \"  e = a*b; e.label = 'e'\\n\",","    \"  d = e + c; d.label = 'd'\\n\",","    \"  f = Value(-2.0, label='f')\\n\",","    \"  L = d * f; L.label = 'L'\\n\",","    \"  L1 = L.data\\n\",","    \"  \\n\",","    \"  a = Value(2.0, label='a')\\n\",","    \"  b = Value(-3.0, label='b')\\n\",","    \"  b.data += h\\n\",","    \"  c = Value(10.0, label='c')\\n\",","    \"  e = a*b; e.label = 'e'\\n\",","    \"  d = e + c; d.label = 'd'\\n\",","    \"  f = Value(-2.0, label='f')\\n\",","    \"  L = d * f; L.label = 'L'\\n\",","    \"  L2 = L.data\\n\",","    \"  \\n\",","    \"  print((L2 - L1)/h)\\n\",","    \"  \\n\",","    \"lol()\"","   ]","  },","  {","   \"cell_type\": \"code\",","   \"execution_count\": 152,","   \"metadata\": {},","   \"outputs\": [","    {","     \"data\": {","      \"image/png\": \"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\\n\",","      \"text/plain\": [","       \"\u003cFigure size 432x288 with 1 Axes\u003e\"","      ]","     },","     \"metadata\": {","      \"needs_background\": \"light\"","     },","     \"output_type\": \"display_data\"","    }","   ],","   \"source\": [","    \"plt.plot(np.arange(-5,5,0.2), np.tanh(np.arange(-5,5,0.2))); plt.grid();\"","   ]","  },","  {","   \"cell_type\": \"code\",","   \"execution_count\": 241,","   \"metadata\": {},","   \"outputs\": [],","   \"source\": [","    \"# inputs x1,x2\\n\",","    \"x1 = Value(2.0, label='x1')\\n\",","    \"x2 = Value(0.0, label='x2')\\n\",","    \"# weights w1,w2\\n\",","    \"w1 = Value(-3.0, label='w1')\\n\",","    \"w2 = Value(1.0, label='w2')\\n\",","    \"# bias of the neuron\\n\",","    \"b = Value(6.8813735870195432, label='b')\\n\",","    \"# x1*w1 + x2*w2 + b\\n\",","    \"x1w1 = x1*w1; x1w1.label = 'x1*w1'\\n\",","    \"x2w2 = x2*w2; x2w2.label = 'x2*w2'\\n\",","    \"x1w1x2w2 = x1w1 + x2w2; x1w1x2w2.label = 'x1*w1 + x2*w2'\\n\",","    \"n = x1w1x2w2 + b; n.label = 'n'\\n\",","    \"o = n.tanh(); o.label = 'o'\"","   ]","  },","  {","   \"cell_type\": \"code\",","   \"execution_count\": 244,","   \"metadata\": {},","   \"outputs\": [","    {","     \"data\": {","      \"image/svg+xml\": [","       \"\u003c?xml version=\\\"1.0\\\" encoding=\\\"UTF-8\\\" standalone=\\\"no\\\"?\u003e\\n\",","       \"\u003c!DOCTYPE svg PUBLIC \\\"-//W3C//DTD SVG 1.1//EN\\\"\\n\",","       \" \\\"http://www.w3.org/Graphics/SVG/1.1/DTD/svg11.dtd\\\"\u003e\\n\",","       \"\u003c!-- Generated by graphviz version 3.0.0 (20220226.1711)\\n\",","       \" --\u003e\\n\",","       \"\u003c!-- Pages: 1 --\u003e\\n\",","       \"\u003csvg width=\\\"1575pt\\\" height=\\\"210pt\\\"\\n\",","       \" viewBox=\\\"0.00 0.00 1575.00 210.00\\\" xmlns=\\\"http://www.w3.org/2000/svg\\\" xmlns:xlink=\\\"http://www.w3.org/1999/xlink\\\"\u003e\\n\",","       \"\u003cg id=\\\"graph0\\\" class=\\\"graph\\\" transform=\\\"scale(1 1) rotate(0) translate(4 206)\\\"\u003e\\n\",","       \"\u003cpolygon fill=\\\"white\\\" stroke=\\\"transparent\\\" points=\\\"-4,4 -4,-206 1571,-206 1571,4 -4,4\\\"/\u003e\\n\",","       \"\u003c!-- 140307056976896 --\u003e\\n\",","       \"\u003cg id=\\\"node1\\\" class=\\\"node\\\"\u003e\\n\",","       \"\u003ctitle\u003e140307056976896\u003c/title\u003e\\n\",","       \"\u003cpolygon fill=\\\"none\\\" stroke=\\\"black\\\" points=\\\"2.5,-165.5 2.5,-201.5 197.5,-201.5 197.5,-165.5 2.5,-165.5\\\"/\u003e\\n\",","       \"\u003ctext text-anchor=\\\"middle\\\" x=\\\"19\\\" y=\\\"-179.8\\\" font-family=\\\"Times,serif\\\" font-size=\\\"14.00\\\"\u003ew2\u003c/text\u003e\\n\",","       \"\u003cpolyline fill=\\\"none\\\" stroke=\\\"black\\\" points=\\\"35.5,-165.5 35.5,-201.5 \\\"/\u003e\\n\",","       \"\u003ctext text-anchor=\\\"middle\\\" x=\\\"75.5\\\" y=\\\"-179.8\\\" font-family=\\\"Times,serif\\\" font-size=\\\"14.00\\\"\u003edata 1.0000\u003c/text\u003e\\n\",","       \"\u003cpolyline fill=\\\"none\\\" stroke=\\\"black\\\" points=\\\"115.5,-165.5 115.5,-201.5 \\\"/\u003e\\n\",","       \"\u003ctext text-anchor=\\\"middle\\\" x=\\\"156.5\\\" y=\\\"-179.8\\\" font-family=\\\"Times,serif\\\" font-size=\\\"14.00\\\"\u003egrad 0.0000\u003c/text\u003e\\n\",","       \"\u003c/g\u003e\\n\",","       \"\u003c!-- 140307056976608* --\u003e\\n\",","       \"\u003cg id=\\\"node13\\\" class=\\\"node\\\"\u003e\\n\",","       \"\u003ctitle\u003e140307056976608*\u003c/title\u003e\\n\",","       \"\u003cellipse fill=\\\"none\\\" stroke=\\\"black\\\" cx=\\\"263\\\" cy=\\\"-128.5\\\" rx=\\\"27\\\" ry=\\\"18\\\"/\u003e\\n\",","       \"\u003ctext text-anchor=\\\"middle\\\" x=\\\"263\\\" y=\\\"-124.8\\\" font-family=\\\"Times,serif\\\" font-size=\\\"14.00\\\"\u003e*\u003c/text\u003e\\n\",","       \"\u003c/g\u003e\\n\",","       \"\u003c!-- 140307056976896\u0026#45;\u0026gt;140307056976608* --\u003e\\n\",","       \"\u003cg id=\\\"edge6\\\" class=\\\"edge\\\"\u003e\\n\",","       \"\u003ctitle\u003e140307056976896\u0026#45;\u0026gt;140307056976608*\u003c/title\u003e\\n\",","       \"\u003cpath fill=\\\"none\\\" stroke=\\\"black\\\" d=\\\"M172.53,-165.44C181.84,-162.67 191.2,-159.67 200,-156.5 210.53,-152.71 221.75,-147.9 231.72,-143.33\\\"/\u003e\\n\",","       \"\u003cpolygon fill=\\\"black\\\" stroke=\\\"black\\\" points=\\\"233.25,-146.48 240.82,-139.07 230.28,-140.14 233.25,-146.48\\\"/\u003e\\n\",","       \"\u003c/g\u003e\\n\",","       \"\u003c!-- 140307056979488 --\u003e\\n\",","       \"\u003cg id=\\\"node2\\\" class=\\\"node\\\"\u003e\\n\",","       \"\u003ctitle\u003e140307056979488\u003c/title\u003e\\n\",","       \"\u003cpolygon fill=\\\"none\\\" stroke=\\\"black\\\" points=\\\"326,-55.5 326,-91.5 546,-91.5 546,-55.5 326,-55.5\\\"/\u003e\\n\",","       \"\u003ctext text-anchor=\\\"middle\\\" x=\\\"352.5\\\" y=\\\"-69.8\\\" font-family=\\\"Times,serif\\\" font-size=\\\"14.00\\\"\u003ex1*w1\u003c/text\u003e\\n\",","       \"\u003cpolyline fill=\\\"none\\\" stroke=\\\"black\\\" points=\\\"379,-55.5 379,-91.5 \\\"/\u003e\\n\",","       \"\u003ctext text-anchor=\\\"middle\\\" x=\\\"421.5\\\" y=\\\"-69.8\\\" font-family=\\\"Times,serif\\\" font-size=\\\"14.00\\\"\u003edata \u0026#45;6.0000\u003c/text\u003e\\n\",","       \"\u003cpolyline fill=\\\"none\\\" stroke=\\\"black\\\" points=\\\"464,-55.5 464,-91.5 \\\"/\u003e\\n\",","       \"\u003ctext text-anchor=\\\"middle\\\" x=\\\"505\\\" y=\\\"-69.8\\\" font-family=\\\"Times,serif\\\" font-size=\\\"14.00\\\"\u003egrad 0.5000\u003c/text\u003e\\n\",","       \"\u003c/g\u003e\\n\",","       \"\u003c!-- 140307056977616+ --\u003e\\n\",","       \"\u003cg id=\\\"node11\\\" class=\\\"node\\\"\u003e\\n\",","       \"\u003ctitle\u003e140307056977616+\u003c/title\u003e\\n\",","       \"\u003cellipse fill=\\\"none\\\" stroke=\\\"black\\\" cx=\\\"609\\\" cy=\\\"-100.5\\\" rx=\\\"27\\\" ry=\\\"18\\\"/\u003e\\n\",","       \"\u003ctext text-anchor=\\\"middle\\\" x=\\\"609\\\" y=\\\"-96.8\\\" font-family=\\\"Times,serif\\\" font-size=\\\"14.00\\\"\u003e+\u003c/text\u003e\\n\",","       \"\u003c/g\u003e\\n\",","       \"\u003c!-- 140307056979488\u0026#45;\u0026gt;140307056977616+ --\u003e\\n\",","       \"\u003cg id=\\\"edge13\\\" class=\\\"edge\\\"\u003e\\n\",","       \"\u003ctitle\u003e140307056979488\u0026#45;\u0026gt;140307056977616+\u003c/title\u003e\\n\",","       \"\u003cpath fill=\\\"none\\\" stroke=\\\"black\\\" d=\\\"M546.27,-90.75C555.64,-92.23 564.6,-93.65 572.65,-94.92\\\"/\u003e\\n\",","       \"\u003cpolygon fill=\\\"black\\\" stroke=\\\"black\\\" points=\\\"572.23,-98.4 582.65,-96.5 573.32,-91.48 572.23,-98.4\\\"/\u003e\\n\",","       \"\u003c/g\u003e\\n\",","       \"\u003c!-- 140307056979488* --\u003e\\n\",","       \"\u003cg id=\\\"node3\\\" class=\\\"node\\\"\u003e\\n\",","       \"\u003ctitle\u003e140307056979488*\u003c/title\u003e\\n\",","       \"\u003cellipse fill=\\\"none\\\" stroke=\\\"black\\\" cx=\\\"263\\\" cy=\\\"-73.5\\\" rx=\\\"27\\\" ry=\\\"18\\\"/\u003e\\n\",","       \"\u003ctext text-anchor=\\\"middle\\\" x=\\\"263\\\" y=\\\"-69.8\\\" font-family=\\\"Times,serif\\\" font-size=\\\"14.00\\\"\u003e*\u003c/text\u003e\\n\",","       \"\u003c/g\u003e\\n\",","       \"\u003c!-- 140307056979488*\u0026#45;\u0026gt;140307056979488 --\u003e\\n\",","       \"\u003cg id=\\\"edge1\\\" class=\\\"edge\\\"\u003e\\n\",","       \"\u003ctitle\u003e140307056979488*\u0026#45;\u0026gt;140307056979488\u003c/title\u003e\\n\",","       \"\u003cpath fill=\\\"none\\\" stroke=\\\"black\\\" d=\\\"M290.34,-73.5C297.77,-73.5 306.37,-73.5 315.6,-73.5\\\"/\u003e\\n\",","       \"\u003cpolygon fill=\\\"black\\\" stroke=\\\"black\\\" points=\\\"315.84,-77 325.84,-73.5 315.84,-70 315.84,-77\\\"/\u003e\\n\",","       \"\u003c/g\u003e\\n\",","       \"\u003c!-- 140307056975936 --\u003e\\n\",","       \"\u003cg id=\\\"node4\\\" class=\\\"node\\\"\u003e\\n\",","       \"\u003ctitle\u003e140307056975936\u003c/title\u003e\\n\",","       \"\u003cpolygon fill=\\\"none\\\" stroke=\\\"black\\\" points=\\\"2,-55.5 2,-91.5 198,-91.5 198,-55.5 2,-55.5\\\"/\u003e\\n\",","       \"\u003ctext text-anchor=\\\"middle\\\" x=\\\"17\\\" y=\\\"-69.8\\\" font-family=\\\"Times,serif\\\" font-size=\\\"14.00\\\"\u003ex1\u003c/text\u003e\\n\",","       \"\u003cpolyline fill=\\\"none\\\" stroke=\\\"black\\\" points=\\\"32,-55.5 32,-91.5 \\\"/\u003e\\n\",","       \"\u003ctext text-anchor=\\\"middle\\\" x=\\\"72\\\" y=\\\"-69.8\\\" font-family=\\\"Times,serif\\\" font-size=\\\"14.00\\\"\u003edata 2.0000\u003c/text\u003e\\n\",","       \"\u003cpolyline fill=\\\"none\\\" stroke=\\\"black\\\" points=\\\"112,-55.5 112,-91.5 \\\"/\u003e\\n\",","       \"\u003ctext text-anchor=\\\"middle\\\" x=\\\"155\\\" y=\\\"-69.8\\\" font-family=\\\"Times,serif\\\" font-size=\\\"14.00\\\"\u003egrad \u0026#45;1.5000\u003c/text\u003e\\n\",","       \"\u003c/g\u003e\\n\",","       \"\u003c!-- 140307056975936\u0026#45;\u0026gt;140307056979488* --\u003e\\n\",","       \"\u003cg id=\\\"edge12\\\" class=\\\"edge\\\"\u003e\\n\",","       \"\u003ctitle\u003e140307056975936\u0026#45;\u0026gt;140307056979488*\u003c/title\u003e\\n\",","       \"\u003cpath fill=\\\"none\\\" stroke=\\\"black\\\" d=\\\"M198.37,-73.5C208.05,-73.5 217.4,-73.5 225.8,-73.5\\\"/\u003e\\n\",","       \"\u003cpolygon fill=\\\"black\\\" stroke=\\\"black\\\" points=\\\"225.91,-77 235.91,-73.5 225.91,-70 225.91,-77\\\"/\u003e\\n\",","       \"\u003c/g\u003e\\n\",","       \"\u003c!-- 140307056975984 --\u003e\\n\",","       \"\u003cg id=\\\"node5\\\" class=\\\"node\\\"\u003e\\n\",","       \"\u003ctitle\u003e140307056975984\u003c/title\u003e\\n\",","       \"\u003cpolygon fill=\\\"none\\\" stroke=\\\"black\\\" points=\\\"4,-110.5 4,-146.5 196,-146.5 196,-110.5 4,-110.5\\\"/\u003e\\n\",","       \"\u003ctext text-anchor=\\\"middle\\\" x=\\\"19\\\" y=\\\"-124.8\\\" font-family=\\\"Times,serif\\\" font-size=\\\"14.00\\\"\u003ex2\u003c/text\u003e\\n\",","       \"\u003cpolyline fill=\\\"none\\\" stroke=\\\"black\\\" points=\\\"34,-110.5 34,-146.5 \\\"/\u003e\\n\",","       \"\u003ctext text-anchor=\\\"middle\\\" x=\\\"74\\\" y=\\\"-124.8\\\" font-family=\\\"Times,serif\\\" font-size=\\\"14.00\\\"\u003edata 0.0000\u003c/text\u003e\\n\",","       \"\u003cpolyline fill=\\\"none\\\" stroke=\\\"black\\\" points=\\\"114,-110.5 114,-146.5 \\\"/\u003e\\n\",","       \"\u003ctext text-anchor=\\\"middle\\\" x=\\\"155\\\" y=\\\"-124.8\\\" font-family=\\\"Times,serif\\\" font-size=\\\"14.00\\\"\u003egrad 0.5000\u003c/text\u003e\\n\",","       \"\u003c/g\u003e\\n\",","       \"\u003c!-- 140307056975984\u0026#45;\u0026gt;140307056976608* --\u003e\\n\",","       \"\u003cg id=\\\"edge10\\\" class=\\\"edge\\\"\u003e\\n\",","       \"\u003ctitle\u003e140307056975984\u0026#45;\u0026gt;140307056976608*\u003c/title\u003e\\n\",","       \"\u003cpath fill=\\\"none\\\" stroke=\\\"black\\\" d=\\\"M196.05,-128.5C206.52,-128.5 216.65,-128.5 225.71,-128.5\\\"/\u003e\\n\",","       \"\u003cpolygon fill=\\\"black\\\" stroke=\\\"black\\\" points=\\\"225.79,-132 235.79,-128.5 225.79,-125 225.79,-132\\\"/\u003e\\n\",","       \"\u003c/g\u003e\\n\",","       \"\u003c!-- 140307056976512 --\u003e\\n\",","       \"\u003cg id=\\\"node6\\\" class=\\\"node\\\"\u003e\\n\",","       \"\u003ctitle\u003e140307056976512\u003c/title\u003e\\n\",","       \"\u003cpolygon fill=\\\"none\\\" stroke=\\\"black\\\" points=\\\"1382,-54.5 1382,-90.5 1567,-90.5 1567,-54.5 1382,-54.5\\\"/\u003e\\n\",","       \"\u003ctext text-anchor=\\\"middle\\\" x=\\\"1393.5\\\" y=\\\"-68.8\\\" font-family=\\\"Times,serif\\\" font-size=\\\"14.00\\\"\u003eo\u003c/text\u003e\\n\",","       \"\u003cpolyline fill=\\\"none\\\" stroke=\\\"black\\\" points=\\\"1405,-54.5 1405,-90.5 \\\"/\u003e\\n\",","       \"\u003ctext text-anchor=\\\"middle\\\" x=\\\"1445\\\" y=\\\"-68.8\\\" font-family=\\\"Times,serif\\\" font-size=\\\"14.00\\\"\u003edata 0.7071\u003c/text\u003e\\n\",","       \"\u003cpolyline fill=\\\"none\\\" stroke=\\\"black\\\" points=\\\"1485,-54.5 1485,-90.5 \\\"/\u003e\\n\",","       \"\u003ctext text-anchor=\\\"middle\\\" x=\\\"1526\\\" y=\\\"-68.8\\\" font-family=\\\"Times,serif\\\" font-size=\\\"14.00\\\"\u003egrad 1.0000\u003c/text\u003e\\n\",","       \"\u003c/g\u003e\\n\",","       \"\u003c!-- 140307056976512tanh --\u003e\\n\",","       \"\u003cg id=\\\"node7\\\" class=\\\"node\\\"\u003e\\n\",","       \"\u003ctitle\u003e140307056976512tanh\u003c/title\u003e\\n\",","       \"\u003cellipse fill=\\\"none\\\" stroke=\\\"black\\\" cx=\\\"1319\\\" cy=\\\"-72.5\\\" rx=\\\"27\\\" ry=\\\"18\\\"/\u003e\\n\",","       \"\u003ctext text-anchor=\\\"middle\\\" x=\\\"1319\\\" y=\\\"-68.8\\\" font-family=\\\"Times,serif\\\" font-size=\\\"14.00\\\"\u003etanh\u003c/text\u003e\\n\",","       \"\u003c/g\u003e\\n\",","       \"\u003c!-- 140307056976512tanh\u0026#45;\u0026gt;140307056976512 --\u003e\\n\",","       \"\u003cg id=\\\"edge2\\\" class=\\\"edge\\\"\u003e\\n\",","       \"\u003ctitle\u003e140307056976512tanh\u0026#45;\u0026gt;140307056976512\u003c/title\u003e\\n\",","       \"\u003cpath fill=\\\"none\\\" stroke=\\\"black\\\" d=\\\"M1346.04,-72.5C1353.58,-72.5 1362.3,-72.5 1371.57,-72.5\\\"/\u003e\\n\",","       \"\u003cpolygon fill=\\\"black\\\" stroke=\\\"black\\\" points=\\\"1371.81,-76 1381.81,-72.5 1371.81,-69 1371.81,-76\\\"/\u003e\\n\",","       \"\u003c/g\u003e\\n\",","       \"\u003c!-- 140307056978576 --\u003e\\n\",","       \"\u003cg id=\\\"node8\\\" class=\\\"node\\\"\u003e\\n\",","       \"\u003ctitle\u003e140307056978576\u003c/title\u003e\\n\",","       \"\u003cpolygon fill=\\\"none\\\" stroke=\\\"black\\\" points=\\\"0,-0.5 0,-36.5 200,-36.5 200,-0.5 0,-0.5\\\"/\u003e\\n\",","       \"\u003ctext text-anchor=\\\"middle\\\" x=\\\"16.5\\\" y=\\\"-14.8\\\" font-family=\\\"Times,serif\\\" font-size=\\\"14.00\\\"\u003ew1\u003c/text\u003e\\n\",","       \"\u003cpolyline fill=\\\"none\\\" stroke=\\\"black\\\" points=\\\"33,-0.5 33,-36.5 \\\"/\u003e\\n\",","       \"\u003ctext text-anchor=\\\"middle\\\" x=\\\"75.5\\\" y=\\\"-14.8\\\" font-family=\\\"Times,serif\\\" font-size=\\\"14.00\\\"\u003edata \u0026#45;3.0000\u003c/text\u003e\\n\",","       \"\u003cpolyline fill=\\\"none\\\" stroke=\\\"black\\\" points=\\\"118,-0.5 118,-36.5 \\\"/\u003e\\n\",","       \"\u003ctext text-anchor=\\\"middle\\\" x=\\\"159\\\" y=\\\"-14.8\\\" font-family=\\\"Times,serif\\\" font-size=\\\"14.00\\\"\u003egrad 1.0000\u003c/text\u003e\\n\",","       \"\u003c/g\u003e\\n\",","       \"\u003c!-- 140307056978576\u0026#45;\u0026gt;140307056979488* --\u003e\\n\",","       \"\u003cg id=\\\"edge11\\\" class=\\\"edge\\\"\u003e\\n\",","       \"\u003ctitle\u003e140307056978576\u0026#45;\u0026gt;140307056979488*\u003c/title\u003e\\n\",","       \"\u003cpath fill=\\\"none\\\" stroke=\\\"black\\\" d=\\\"M169.28,-36.5C179.65,-39.61 190.16,-42.98 200,-46.5 210.28,-50.17 221.28,-54.74 231.11,-59.07\\\"/\u003e\\n\",","       \"\u003cpolygon fill=\\\"black\\\" stroke=\\\"black\\\" points=\\\"229.93,-62.37 240.48,-63.27 232.79,-55.99 229.93,-62.37\\\"/\u003e\\n\",","       \"\u003c/g\u003e\\n\",","       \"\u003c!-- 140307056978624 --\u003e\\n\",","       \"\u003cg id=\\\"node9\\\" class=\\\"node\\\"\u003e\\n\",","       \"\u003ctitle\u003e140307056978624\u003c/title\u003e\\n\",","       \"\u003cpolygon fill=\\\"none\\\" stroke=\\\"black\\\" points=\\\"716,-27.5 716,-63.5 901,-63.5 901,-27.5 716,-27.5\\\"/\u003e\\n\",","       \"\u003ctext text-anchor=\\\"middle\\\" x=\\\"727.5\\\" y=\\\"-41.8\\\" font-family=\\\"Times,serif\\\" font-size=\\\"14.00\\\"\u003eb\u003c/text\u003e\\n\",","       \"\u003cpolyline fill=\\\"none\\\" stroke=\\\"black\\\" points=\\\"739,-27.5 739,-63.5 \\\"/\u003e\\n\",","       \"\u003ctext text-anchor=\\\"middle\\\" x=\\\"779\\\" y=\\\"-41.8\\\" font-family=\\\"Times,serif\\\" font-size=\\\"14.00\\\"\u003edata 6.8814\u003c/text\u003e\\n\",","       \"\u003cpolyline fill=\\\"none\\\" stroke=\\\"black\\\" points=\\\"819,-27.5 819,-63.5 \\\"/\u003e\\n\",","       \"\u003ctext text-anchor=\\\"middle\\\" x=\\\"860\\\" y=\\\"-41.8\\\" font-family=\\\"Times,serif\\\" font-size=\\\"14.00\\\"\u003egrad 0.5000\u003c/text\u003e\\n\",","       \"\u003c/g\u003e\\n\",","       \"\u003c!-- 140307056976704+ --\u003e\\n\",","       \"\u003cg id=\\\"node15\\\" class=\\\"node\\\"\u003e\\n\",","       \"\u003ctitle\u003e140307056976704+\u003c/title\u003e\\n\",","       \"\u003cellipse fill=\\\"none\\\" stroke=\\\"black\\\" cx=\\\"1008\\\" cy=\\\"-72.5\\\" rx=\\\"27\\\" ry=\\\"18\\\"/\u003e\\n\",","       \"\u003ctext text-anchor=\\\"middle\\\" x=\\\"1008\\\" y=\\\"-68.8\\\" font-family=\\\"Times,serif\\\" font-size=\\\"14.00\\\"\u003e+\u003c/text\u003e\\n\",","       \"\u003c/g\u003e\\n\",","       \"\u003c!-- 140307056978624\u0026#45;\u0026gt;140307056976704+ --\u003e\\n\",","       \"\u003cg id=\\\"edge9\\\" class=\\\"edge\\\"\u003e\\n\",","       \"\u003ctitle\u003e140307056978624\u0026#45;\u0026gt;140307056976704+\u003c/title\u003e\\n\",","       \"\u003cpath fill=\\\"none\\\" stroke=\\\"black\\\" d=\\\"M901.02,-58.01C926,-61.43 951.59,-64.93 971.37,-67.63\\\"/\u003e\\n\",","       \"\u003cpolygon fill=\\\"black\\\" stroke=\\\"black\\\" points=\\\"971.05,-71.12 981.43,-69.01 972,-64.18 971.05,-71.12\\\"/\u003e\\n\",","       \"\u003c/g\u003e\\n\",","       \"\u003c!-- 140307056977616 --\u003e\\n\",","       \"\u003cg id=\\\"node10\\\" class=\\\"node\\\"\u003e\\n\",","       \"\u003ctitle\u003e140307056977616\u003c/title\u003e\\n\",","       \"\u003cpolygon fill=\\\"none\\\" stroke=\\\"black\\\" points=\\\"672,-82.5 672,-118.5 945,-118.5 945,-82.5 672,-82.5\\\"/\u003e\\n\",","       \"\u003ctext text-anchor=\\\"middle\\\" x=\\\"725\\\" y=\\\"-96.8\\\" font-family=\\\"Times,serif\\\" font-size=\\\"14.00\\\"\u003ex1*w1 + x2*w2\u003c/text\u003e\\n\",","       \"\u003cpolyline fill=\\\"none\\\" stroke=\\\"black\\\" points=\\\"778,-82.5 778,-118.5 \\\"/\u003e\\n\",","       \"\u003ctext text-anchor=\\\"middle\\\" x=\\\"820.5\\\" y=\\\"-96.8\\\" font-family=\\\"Times,serif\\\" font-size=\\\"14.00\\\"\u003edata \u0026#45;6.0000\u003c/text\u003e\\n\",","       \"\u003cpolyline fill=\\\"none\\\" stroke=\\\"black\\\" points=\\\"863,-82.5 863,-118.5 \\\"/\u003e\\n\",","       \"\u003ctext text-anchor=\\\"middle\\\" x=\\\"904\\\" y=\\\"-96.8\\\" font-family=\\\"Times,serif\\\" font-size=\\\"14.00\\\"\u003egrad 0.5000\u003c/text\u003e\\n\",","       \"\u003c/g\u003e\\n\",","       \"\u003c!-- 140307056977616\u0026#45;\u0026gt;140307056976704+ --\u003e\\n\",","       \"\u003cg id=\\\"edge8\\\" class=\\\"edge\\\"\u003e\\n\",","       \"\u003ctitle\u003e140307056977616\u0026#45;\u0026gt;140307056976704+\u003c/title\u003e\\n\",","       \"\u003cpath fill=\\\"none\\\" stroke=\\\"black\\\" d=\\\"M936.53,-82.49C949.09,-80.71 960.99,-79.02 971.3,-77.56\\\"/\u003e\\n\",","       \"\u003cpolygon fill=\\\"black\\\" stroke=\\\"black\\\" points=\\\"972.03,-80.99 981.44,-76.12 971.05,-74.06 972.03,-80.99\\\"/\u003e\\n\",","       \"\u003c/g\u003e\\n\",","       \"\u003c!-- 140307056977616+\u0026#45;\u0026gt;140307056977616 --\u003e\\n\",","       \"\u003cg id=\\\"edge3\\\" class=\\\"edge\\\"\u003e\\n\",","       \"\u003ctitle\u003e140307056977616+\u0026#45;\u0026gt;140307056977616\u003c/title\u003e\\n\",","       \"\u003cpath fill=\\\"none\\\" stroke=\\\"black\\\" d=\\\"M636.23,-100.5C643.7,-100.5 652.41,-100.5 661.87,-100.5\\\"/\u003e\\n\",","       \"\u003cpolygon fill=\\\"black\\\" stroke=\\\"black\\\" points=\\\"661.98,-104 671.98,-100.5 661.98,-97 661.98,-104\\\"/\u003e\\n\",","       \"\u003c/g\u003e\\n\",","       \"\u003c!-- 140307056976608 --\u003e\\n\",","       \"\u003cg id=\\\"node12\\\" class=\\\"node\\\"\u003e\\n\",","       \"\u003ctitle\u003e140307056976608\u003c/title\u003e\\n\",","       \"\u003cpolygon fill=\\\"none\\\" stroke=\\\"black\\\" points=\\\"328.5,-110.5 328.5,-146.5 543.5,-146.5 543.5,-110.5 328.5,-110.5\\\"/\u003e\\n\",","       \"\u003ctext text-anchor=\\\"middle\\\" x=\\\"355\\\" y=\\\"-124.8\\\" font-family=\\\"Times,serif\\\" font-size=\\\"14.00\\\"\u003ex2*w2\u003c/text\u003e\\n\",","       \"\u003cpolyline fill=\\\"none\\\" stroke=\\\"black\\\" points=\\\"381.5,-110.5 381.5,-146.5 \\\"/\u003e\\n\",","       \"\u003ctext text-anchor=\\\"middle\\\" x=\\\"421.5\\\" y=\\\"-124.8\\\" font-family=\\\"Times,serif\\\" font-size=\\\"14.00\\\"\u003edata 0.0000\u003c/text\u003e\\n\",","       \"\u003cpolyline fill=\\\"none\\\" stroke=\\\"black\\\" points=\\\"461.5,-110.5 461.5,-146.5 \\\"/\u003e\\n\",","       \"\u003ctext text-anchor=\\\"middle\\\" x=\\\"502.5\\\" y=\\\"-124.8\\\" font-family=\\\"Times,serif\\\" font-size=\\\"14.00\\\"\u003egrad 0.5000\u003c/text\u003e\\n\",","       \"\u003c/g\u003e\\n\",","       \"\u003c!-- 140307056976608\u0026#45;\u0026gt;140307056977616+ --\u003e\\n\",","       \"\u003cg id=\\\"edge14\\\" class=\\\"edge\\\"\u003e\\n\",","       \"\u003ctitle\u003e140307056976608\u0026#45;\u0026gt;140307056977616+\u003c/title\u003e\\n\",","       \"\u003cpath fill=\\\"none\\\" stroke=\\\"black\\\" d=\\\"M543.84,-111.01C554.01,-109.34 563.76,-107.74 572.44,-106.32\\\"/\u003e\\n\",","       \"\u003cpolygon fill=\\\"black\\\" stroke=\\\"black\\\" points=\\\"573.17,-109.75 582.47,-104.68 572.04,-102.84 573.17,-109.75\\\"/\u003e\\n\",","       \"\u003c/g\u003e\\n\",","       \"\u003c!-- 140307056976608*\u0026#45;\u0026gt;140307056976608 --\u003e\\n\",","       \"\u003cg id=\\\"edge4\\\" class=\\\"edge\\\"\u003e\\n\",","       \"\u003ctitle\u003e140307056976608*\u0026#45;\u0026gt;140307056976608\u003c/title\u003e\\n\",","       \"\u003cpath fill=\\\"none\\\" stroke=\\\"black\\\" d=\\\"M290.34,-128.5C298.51,-128.5 308.08,-128.5 318.36,-128.5\\\"/\u003e\\n\",","       \"\u003cpolygon fill=\\\"black\\\" stroke=\\\"black\\\" points=\\\"318.39,-132 328.39,-128.5 318.39,-125 318.39,-132\\\"/\u003e\\n\",","       \"\u003c/g\u003e\\n\",","       \"\u003c!-- 140307056976704 --\u003e\\n\",","       \"\u003cg id=\\\"node14\\\" class=\\\"node\\\"\u003e\\n\",","       \"\u003ctitle\u003e140307056976704\u003c/title\u003e\\n\",","       \"\u003cpolygon fill=\\\"none\\\" stroke=\\\"black\\\" points=\\\"1071,-54.5 1071,-90.5 1256,-90.5 1256,-54.5 1071,-54.5\\\"/\u003e\\n\",","       \"\u003ctext text-anchor=\\\"middle\\\" x=\\\"1082.5\\\" y=\\\"-68.8\\\" font-family=\\\"Times,serif\\\" font-size=\\\"14.00\\\"\u003en\u003c/text\u003e\\n\",","       \"\u003cpolyline fill=\\\"none\\\" stroke=\\\"black\\\" points=\\\"1094,-54.5 1094,-90.5 \\\"/\u003e\\n\",","       \"\u003ctext text-anchor=\\\"middle\\\" x=\\\"1134\\\" y=\\\"-68.8\\\" font-family=\\\"Times,serif\\\" font-size=\\\"14.00\\\"\u003edata 0.8814\u003c/text\u003e\\n\",","       \"\u003cpolyline fill=\\\"none\\\" stroke=\\\"black\\\" points=\\\"1174,-54.5 1174,-90.5 \\\"/\u003e\\n\",","       \"\u003ctext text-anchor=\\\"middle\\\" x=\\\"1215\\\" y=\\\"-68.8\\\" font-family=\\\"Times,serif\\\" font-size=\\\"14.00\\\"\u003egrad 0.5000\u003c/text\u003e\\n\",","       \"\u003c/g\u003e\\n\",","       \"\u003c!-- 140307056976704\u0026#45;\u0026gt;140307056976512tanh --\u003e\\n\",","       \"\u003cg id=\\\"edge7\\\" class=\\\"edge\\\"\u003e\\n\",","       \"\u003ctitle\u003e140307056976704\u0026#45;\u0026gt;140307056976512tanh\u003c/title\u003e\\n\",","       \"\u003cpath fill=\\\"none\\\" stroke=\\\"black\\\" d=\\\"M1256.01,-72.5C1265.01,-72.5 1273.74,-72.5 1281.66,-72.5\\\"/\u003e\\n\",","       \"\u003cpolygon fill=\\\"black\\\" stroke=\\\"black\\\" points=\\\"1281.91,-76 1291.91,-72.5 1281.91,-69 1281.91,-76\\\"/\u003e\\n\",","       \"\u003c/g\u003e\\n\",","       \"\u003c!-- 140307056976704+\u0026#45;\u0026gt;140307056976704 --\u003e\\n\",","       \"\u003cg id=\\\"edge5\\\" class=\\\"edge\\\"\u003e\\n\",","       \"\u003ctitle\u003e140307056976704+\u0026#45;\u0026gt;140307056976704\u003c/title\u003e\\n\",","       \"\u003cpath fill=\\\"none\\\" stroke=\\\"black\\\" d=\\\"M1035.04,-72.5C1042.58,-72.5 1051.3,-72.5 1060.57,-72.5\\\"/\u003e\\n\",","       \"\u003cpolygon fill=\\\"black\\\" stroke=\\\"black\\\" points=\\\"1060.81,-76 1070.81,-72.5 1060.81,-69 1060.81,-76\\\"/\u003e\\n\",","       \"\u003c/g\u003e\\n\",","       \"\u003c/g\u003e\\n\",","       \"\u003c/svg\u003e\\n\"","      ],","      \"text/plain\": [","       \"\u003cgraphviz.graphs.Digraph at 0x7f9bc8477bb0\u003e\"","      ]","     },","     \"execution_count\": 244,","     \"metadata\": {},","     \"output_type\": \"execute_result\"","    }","   ],","   \"source\": [","    \"draw_dot(o)\"","   ]","  },","  {","   \"cell_type\": \"code\",","   \"execution_count\": 243,","   \"metadata\": {},","   \"outputs\": [],","   \"source\": [","    \"o.backward()\"","   ]","  },","  {","   \"cell_type\": \"code\",","   \"execution_count\": 235,","   \"metadata\": {},","   \"outputs\": [","    {","     \"data\": {","      \"text/plain\": [","       \"[Value(data=6.881373587019543),\\n\",","       \" Value(data=2.0),\\n\",","       \" Value(data=-3.0),\\n\",","       \" Value(data=-6.0),\\n\",","       \" Value(data=0.0),\\n\",","       \" Value(data=1.0),\\n\",","       \" Value(data=0.0),\\n\",","       \" Value(data=-6.0),\\n\",","       \" Value(data=0.8813735870195432),\\n\",","       \" Value(data=0.7071067811865476)]\"","      ]","     },","     \"execution_count\": 235,","     \"metadata\": {},","     \"output_type\": \"execute_result\"","    }","   ],","   \"source\": [","    \"topo = []\\n\",","    \"visited = set()\\n\",","    \"def build_topo(v):\\n\",","    \"  if v not in visited:\\n\",","    \"    visited.add(v)\\n\",","    \"    for child in v._prev:\\n\",","    \"      build_topo(child)\\n\",","    \"    topo.append(v)\\n\",","    \"build_topo(o)\\n\",","    \"topo\"","   ]","  },","  {","   \"cell_type\": \"code\",","   \"execution_count\": 221,","   \"metadata\": {},","   \"outputs\": [],","   \"source\": [","    \"o.grad = 1.0\"","   ]","  },","  {","   \"cell_type\": \"code\",","   \"execution_count\": 223,","   \"metadata\": {},","   \"outputs\": [],","   \"source\": [","    \"o._backward()\"","   ]","  },","  {","   \"cell_type\": \"code\",","   \"execution_count\": 225,","   \"metadata\": {},","   \"outputs\": [],","   \"source\": [","    \"n._backward()\"","   ]","  },","  {","   \"cell_type\": \"code\",","   \"execution_count\": 227,","   \"metadata\": {},","   \"outputs\": [],","   \"source\": [","    \"b._backward()\"","   ]","  },","  {","   \"cell_type\": \"code\",","   \"execution_count\": 228,","   \"metadata\": {},","   \"outputs\": [],","   \"source\": [","    \"x1w1x2w2._backward()\"","   ]","  },","  {","   \"cell_type\": \"code\",","   \"execution_count\": 230,","   \"metadata\": {},","   \"outputs\": [],","   \"source\": [","    \"x2w2._backward()\\n\",","    \"x1w1._backward()\"","   ]","  },","  {","   \"cell_type\": \"code\",","   \"execution_count\": 200,","   \"metadata\": {},","   \"outputs\": [],","   \"source\": [","    \"x1.grad = w1.data * x1w1.grad\\n\",","    \"w1.grad = x1.data * x1w1.grad\"","   ]","  },","  {","   \"cell_type\": \"code\",","   \"execution_count\": 198,","   \"metadata\": {},","   \"outputs\": [],","   \"source\": [","    \"x2.grad = w2.data * x2w2.grad\\n\",","    \"w2.grad = x2.data * x2w2.grad\"","   ]","  },","  {","   \"cell_type\": \"code\",","   \"execution_count\": 196,","   \"metadata\": {},","   \"outputs\": [],","   \"source\": [","    \"x1w1.grad = 0.5\\n\",","    \"x2w2.grad = 0.5\"","   ]","  },","  {","   \"cell_type\": \"code\",","   \"execution_count\": 194,","   \"metadata\": {},","   \"outputs\": [],","   \"source\": [","    \"x1w1x2w2.grad = 0.5\\n\",","    \"b.grad = 0.5\"","   ]","  },","  {","   \"cell_type\": \"code\",","   \"execution_count\": 192,","   \"metadata\": {},","   \"outputs\": [],","   \"source\": [","    \"n.grad = 0.5\"","   ]","  },","  {","   \"cell_type\": \"code\",","   \"execution_count\": 187,","   \"metadata\": {},","   \"outputs\": [],","   \"source\": [","    \"o.grad = 1.0\"","   ]","  },","  {","   \"cell_type\": \"code\",","   \"execution_count\": 191,","   \"metadata\": {},","   \"outputs\": [","    {","     \"data\": {","      \"text/plain\": [","       \"0.4999999999999999\"","      ]","     },","     \"execution_count\": 191,","     \"metadata\": {},","     \"output_type\": \"execute_result\"","    }","   ],","   \"source\": [","    \"1 - o.data**2\"","   ]","  },","  {","   \"cell_type\": \"code\",","   \"execution_count\": null,","   \"metadata\": {},","   \"outputs\": [],","   \"source\": [","    \"# o = tanh(n)\\n\",","    \"# do/dn = 1 - o**2\"","   ]","  },","  {","   \"cell_type\": \"code\",","   \"execution_count\": 258,","   \"metadata\": {},","   \"outputs\": [","    {","     \"data\": {","      \"image/svg+xml\": [","       \"\u003c?xml version=\\\"1.0\\\" encoding=\\\"UTF-8\\\" standalone=\\\"no\\\"?\u003e\\n\",","       \"\u003c!DOCTYPE svg PUBLIC \\\"-//W3C//DTD SVG 1.1//EN\\\"\\n\",","       \" \\\"http://www.w3.org/Graphics/SVG/1.1/DTD/svg11.dtd\\\"\u003e\\n\",","       \"\u003c!-- Generated by graphviz version 3.0.0 (20220226.1711)\\n\",","       \" --\u003e\\n\",","       \"\u003c!-- Pages: 1 --\u003e\\n\",","       \"\u003csvg width=\\\"504pt\\\" height=\\\"45pt\\\"\\n\",","       \" viewBox=\\\"0.00 0.00 504.00 45.00\\\" xmlns=\\\"http://www.w3.org/2000/svg\\\" xmlns:xlink=\\\"http://www.w3.org/1999/xlink\\\"\u003e\\n\",","       \"\u003cg id=\\\"graph0\\\" class=\\\"graph\\\" transform=\\\"scale(1 1) rotate(0) translate(4 41)\\\"\u003e\\n\",","       \"\u003cpolygon fill=\\\"white\\\" stroke=\\\"transparent\\\" points=\\\"-4,4 -4,-41 500,-41 500,4 -4,4\\\"/\u003e\\n\",","       \"\u003c!-- 140307056784240 --\u003e\\n\",","       \"\u003cg id=\\\"node1\\\" class=\\\"node\\\"\u003e\\n\",","       \"\u003ctitle\u003e140307056784240\u003c/title\u003e\\n\",","       \"\u003cpolygon fill=\\\"none\\\" stroke=\\\"black\\\" points=\\\"0,-0.5 0,-36.5 185,-36.5 185,-0.5 0,-0.5\\\"/\u003e\\n\",","       \"\u003ctext text-anchor=\\\"middle\\\" x=\\\"11.5\\\" y=\\\"-14.8\\\" font-family=\\\"Times,serif\\\" font-size=\\\"14.00\\\"\u003ea\u003c/text\u003e\\n\",","       \"\u003cpolyline fill=\\\"none\\\" stroke=\\\"black\\\" points=\\\"23,-0.5 23,-36.5 \\\"/\u003e\\n\",","       \"\u003ctext text-anchor=\\\"middle\\\" x=\\\"63\\\" y=\\\"-14.8\\\" font-family=\\\"Times,serif\\\" font-size=\\\"14.00\\\"\u003edata 3.0000\u003c/text\u003e\\n\",","       \"\u003cpolyline fill=\\\"none\\\" stroke=\\\"black\\\" points=\\\"103,-0.5 103,-36.5 \\\"/\u003e\\n\",","       \"\u003ctext text-anchor=\\\"middle\\\" x=\\\"144\\\" y=\\\"-14.8\\\" font-family=\\\"Times,serif\\\" font-size=\\\"14.00\\\"\u003egrad 2.0000\u003c/text\u003e\\n\",","       \"\u003c/g\u003e\\n\",","       \"\u003c!-- 140307056785008+ --\u003e\\n\",","       \"\u003cg id=\\\"node3\\\" class=\\\"node\\\"\u003e\\n\",","       \"\u003ctitle\u003e140307056785008+\u003c/title\u003e\\n\",","       \"\u003cellipse fill=\\\"none\\\" stroke=\\\"black\\\" cx=\\\"248\\\" cy=\\\"-18.5\\\" rx=\\\"27\\\" ry=\\\"18\\\"/\u003e\\n\",","       \"\u003ctext text-anchor=\\\"middle\\\" x=\\\"248\\\" y=\\\"-14.8\\\" font-family=\\\"Times,serif\\\" font-size=\\\"14.00\\\"\u003e+\u003c/text\u003e\\n\",","       \"\u003c/g\u003e\\n\",","       \"\u003c!-- 140307056784240\u0026#45;\u0026gt;140307056785008+ --\u003e\\n\",","       \"\u003cg id=\\\"edge2\\\" class=\\\"edge\\\"\u003e\\n\",","       \"\u003ctitle\u003e140307056784240\u0026#45;\u0026gt;140307056785008+\u003c/title\u003e\\n\",","       \"\u003cpath fill=\\\"none\\\" stroke=\\\"black\\\" d=\\\"M185.01,-18.5C194.01,-18.5 202.74,-18.5 210.66,-18.5\\\"/\u003e\\n\",","       \"\u003cpolygon fill=\\\"black\\\" stroke=\\\"black\\\" points=\\\"210.91,-22 220.91,-18.5 210.91,-15 210.91,-22\\\"/\u003e\\n\",","       \"\u003c/g\u003e\\n\",","       \"\u003c!-- 140307056785008 --\u003e\\n\",","       \"\u003cg id=\\\"node2\\\" class=\\\"node\\\"\u003e\\n\",","       \"\u003ctitle\u003e140307056785008\u003c/title\u003e\\n\",","       \"\u003cpolygon fill=\\\"none\\\" stroke=\\\"black\\\" points=\\\"311,-0.5 311,-36.5 496,-36.5 496,-0.5 311,-0.5\\\"/\u003e\\n\",","       \"\u003ctext text-anchor=\\\"middle\\\" x=\\\"322.5\\\" y=\\\"-14.8\\\" font-family=\\\"Times,serif\\\" font-size=\\\"14.00\\\"\u003eb\u003c/text\u003e\\n\",","       \"\u003cpolyline fill=\\\"none\\\" stroke=\\\"black\\\" points=\\\"334,-0.5 334,-36.5 \\\"/\u003e\\n\",","       \"\u003ctext text-anchor=\\\"middle\\\" x=\\\"374\\\" y=\\\"-14.8\\\" font-family=\\\"Times,serif\\\" font-size=\\\"14.00\\\"\u003edata 6.0000\u003c/text\u003e\\n\",","       \"\u003cpolyline fill=\\\"none\\\" stroke=\\\"black\\\" points=\\\"414,-0.5 414,-36.5 \\\"/\u003e\\n\",","       \"\u003ctext text-anchor=\\\"middle\\\" x=\\\"455\\\" y=\\\"-14.8\\\" font-family=\\\"Times,serif\\\" font-size=\\\"14.00\\\"\u003egrad 1.0000\u003c/text\u003e\\n\",","       \"\u003c/g\u003e\\n\",","       \"\u003c!-- 140307056785008+\u0026#45;\u0026gt;140307056785008 --\u003e\\n\",","       \"\u003cg id=\\\"edge1\\\" class=\\\"edge\\\"\u003e\\n\",","       \"\u003ctitle\u003e140307056785008+\u0026#45;\u0026gt;140307056785008\u003c/title\u003e\\n\",","       \"\u003cpath fill=\\\"none\\\" stroke=\\\"black\\\" d=\\\"M275.04,-18.5C282.58,-18.5 291.3,-18.5 300.57,-18.5\\\"/\u003e\\n\",","       \"\u003cpolygon fill=\\\"black\\\" stroke=\\\"black\\\" points=\\\"300.81,-22 310.81,-18.5 300.81,-15 300.81,-22\\\"/\u003e\\n\",","       \"\u003c/g\u003e\\n\",","       \"\u003c/g\u003e\\n\",","       \"\u003c/svg\u003e\\n\"","      ],","      \"text/plain\": [","       \"\u003cgraphviz.graphs.Digraph at 0x7f9b983636d0\u003e\"","      ]","     },","     \"execution_count\": 258,","     \"metadata\": {},","     \"output_type\": \"execute_result\"","    }","   ],","   \"source\": [","    \"a = Value(3.0, label='a')\\n\",","    \"b = a + a   ; b.label = 'b'\\n\",","    \"b.backward()\\n\",","    \"draw_dot(b)\"","   ]","  },","  {","   \"cell_type\": \"code\",","   \"execution_count\": 259,","   \"metadata\": {},","   \"outputs\": [","    {","     \"data\": {","      \"image/svg+xml\": [","       \"\u003c?xml version=\\\"1.0\\\" encoding=\\\"UTF-8\\\" standalone=\\\"no\\\"?\u003e\\n\",","       \"\u003c!DOCTYPE svg PUBLIC \\\"-//W3C//DTD SVG 1.1//EN\\\"\\n\",","       \" \\\"http://www.w3.org/Graphics/SVG/1.1/DTD/svg11.dtd\\\"\u003e\\n\",","       \"\u003c!-- Generated by graphviz version 3.0.0 (20220226.1711)\\n\",","       \" --\u003e\\n\",","       \"\u003c!-- Pages: 1 --\u003e\\n\",","       \"\u003csvg width=\\\"832pt\\\" height=\\\"100pt\\\"\\n\",","       \" viewBox=\\\"0.00 0.00 832.00 100.00\\\" xmlns=\\\"http://www.w3.org/2000/svg\\\" xmlns:xlink=\\\"http://www.w3.org/1999/xlink\\\"\u003e\\n\",","       \"\u003cg id=\\\"graph0\\\" class=\\\"graph\\\" transform=\\\"scale(1 1) rotate(0) translate(4 96)\\\"\u003e\\n\",","       \"\u003cpolygon fill=\\\"white\\\" stroke=\\\"transparent\\\" points=\\\"-4,4 -4,-96 828,-96 828,4 -4,4\\\"/\u003e\\n\",","       \"\u003c!-- 140306525506048 --\u003e\\n\",","       \"\u003cg id=\\\"node1\\\" class=\\\"node\\\"\u003e\\n\",","       \"\u003ctitle\u003e140306525506048\u003c/title\u003e\\n\",","       \"\u003cpolygon fill=\\\"none\\\" stroke=\\\"black\\\" points=\\\"0,-55.5 0,-91.5 194,-91.5 194,-55.5 0,-55.5\\\"/\u003e\\n\",","       \"\u003ctext text-anchor=\\\"middle\\\" x=\\\"11.5\\\" y=\\\"-69.8\\\" font-family=\\\"Times,serif\\\" font-size=\\\"14.00\\\"\u003ea\u003c/text\u003e\\n\",","       \"\u003cpolyline fill=\\\"none\\\" stroke=\\\"black\\\" points=\\\"23,-55.5 23,-91.5 \\\"/\u003e\\n\",","       \"\u003ctext text-anchor=\\\"middle\\\" x=\\\"65.5\\\" y=\\\"-69.8\\\" font-family=\\\"Times,serif\\\" font-size=\\\"14.00\\\"\u003edata \u0026#45;2.0000\u003c/text\u003e\\n\",","       \"\u003cpolyline fill=\\\"none\\\" stroke=\\\"black\\\" points=\\\"108,-55.5 108,-91.5 \\\"/\u003e\\n\",","       \"\u003ctext text-anchor=\\\"middle\\\" x=\\\"151\\\" y=\\\"-69.8\\\" font-family=\\\"Times,serif\\\" font-size=\\\"14.00\\\"\u003egrad \u0026#45;3.0000\u003c/text\u003e\\n\",","       \"\u003c/g\u003e\\n\",","       \"\u003c!-- 140307056785968+ --\u003e\\n\",","       \"\u003cg id=\\\"node3\\\" class=\\\"node\\\"\u003e\\n\",","       \"\u003ctitle\u003e140307056785968+\u003c/title\u003e\\n\",","       \"\u003cellipse fill=\\\"none\\\" stroke=\\\"black\\\" cx=\\\"257\\\" cy=\\\"-73.5\\\" rx=\\\"27\\\" ry=\\\"18\\\"/\u003e\\n\",","       \"\u003ctext text-anchor=\\\"middle\\\" x=\\\"257\\\" y=\\\"-69.8\\\" font-family=\\\"Times,serif\\\" font-size=\\\"14.00\\\"\u003e+\u003c/text\u003e\\n\",","       \"\u003c/g\u003e\\n\",","       \"\u003c!-- 140306525506048\u0026#45;\u0026gt;140307056785968+ --\u003e\\n\",","       \"\u003cg id=\\\"edge7\\\" class=\\\"edge\\\"\u003e\\n\",","       \"\u003ctitle\u003e140306525506048\u0026#45;\u0026gt;140307056785968+\u003c/title\u003e\\n\",","       \"\u003cpath fill=\\\"none\\\" stroke=\\\"black\\\" d=\\\"M194.01,-73.5C202.98,-73.5 211.65,-73.5 219.51,-73.5\\\"/\u003e\\n\",","       \"\u003cpolygon fill=\\\"black\\\" stroke=\\\"black\\\" points=\\\"219.7,-77 229.7,-73.5 219.7,-70 219.7,-77\\\"/\u003e\\n\",","       \"\u003c/g\u003e\\n\",","       \"\u003c!-- 140306525506912* --\u003e\\n\",","       \"\u003cg id=\\\"node5\\\" class=\\\"node\\\"\u003e\\n\",","       \"\u003ctitle\u003e140306525506912*\u003c/title\u003e\\n\",","       \"\u003cellipse fill=\\\"none\\\" stroke=\\\"black\\\" cx=\\\"257\\\" cy=\\\"-18.5\\\" rx=\\\"27\\\" ry=\\\"18\\\"/\u003e\\n\",","       \"\u003ctext text-anchor=\\\"middle\\\" x=\\\"257\\\" y=\\\"-14.8\\\" font-family=\\\"Times,serif\\\" font-size=\\\"14.00\\\"\u003e*\u003c/text\u003e\\n\",","       \"\u003c/g\u003e\\n\",","       \"\u003c!-- 140306525506048\u0026#45;\u0026gt;140306525506912* --\u003e\\n\",","       \"\u003cg id=\\\"edge5\\\" class=\\\"edge\\\"\u003e\\n\",","       \"\u003ctitle\u003e140306525506048\u0026#45;\u0026gt;140306525506912*\u003c/title\u003e\\n\",","       \"\u003cpath fill=\\\"none\\\" stroke=\\\"black\\\" d=\\\"M166.84,-55.49C176.04,-52.69 185.3,-49.67 194,-46.5 204.51,-42.67 215.73,-37.84 225.7,-33.28\\\"/\u003e\\n\",","       \"\u003cpolygon fill=\\\"black\\\" stroke=\\\"black\\\" points=\\\"227.23,-36.43 234.81,-29.02 224.27,-30.09 227.23,-36.43\\\"/\u003e\\n\",","       \"\u003c/g\u003e\\n\",","       \"\u003c!-- 140307056785968 --\u003e\\n\",","       \"\u003cg id=\\\"node2\\\" class=\\\"node\\\"\u003e\\n\",","       \"\u003ctitle\u003e140307056785968\u003c/title\u003e\\n\",","       \"\u003cpolygon fill=\\\"none\\\" stroke=\\\"black\\\" points=\\\"320.5,-55.5 320.5,-91.5 509.5,-91.5 509.5,-55.5 320.5,-55.5\\\"/\u003e\\n\",","       \"\u003ctext text-anchor=\\\"middle\\\" x=\\\"332\\\" y=\\\"-69.8\\\" font-family=\\\"Times,serif\\\" font-size=\\\"14.00\\\"\u003ee\u003c/text\u003e\\n\",","       \"\u003cpolyline fill=\\\"none\\\" stroke=\\\"black\\\" points=\\\"343.5,-55.5 343.5,-91.5 \\\"/\u003e\\n\",","       \"\u003ctext text-anchor=\\\"middle\\\" x=\\\"383.5\\\" y=\\\"-69.8\\\" font-family=\\\"Times,serif\\\" font-size=\\\"14.00\\\"\u003edata 1.0000\u003c/text\u003e\\n\",","       \"\u003cpolyline fill=\\\"none\\\" stroke=\\\"black\\\" points=\\\"423.5,-55.5 423.5,-91.5 \\\"/\u003e\\n\",","       \"\u003ctext text-anchor=\\\"middle\\\" x=\\\"466.5\\\" y=\\\"-69.8\\\" font-family=\\\"Times,serif\\\" font-size=\\\"14.00\\\"\u003egrad \u0026#45;6.0000\u003c/text\u003e\\n\",","       \"\u003c/g\u003e\\n\",","       \"\u003c!-- 140307056783712* --\u003e\\n\",","       \"\u003cg id=\\\"node7\\\" class=\\\"node\\\"\u003e\\n\",","       \"\u003ctitle\u003e140307056783712*\u003c/title\u003e\\n\",","       \"\u003cellipse fill=\\\"none\\\" stroke=\\\"black\\\" cx=\\\"573\\\" cy=\\\"-45.5\\\" rx=\\\"27\\\" ry=\\\"18\\\"/\u003e\\n\",","       \"\u003ctext text-anchor=\\\"middle\\\" x=\\\"573\\\" y=\\\"-41.8\\\" font-family=\\\"Times,serif\\\" font-size=\\\"14.00\\\"\u003e*\u003c/text\u003e\\n\",","       \"\u003c/g\u003e\\n\",","       \"\u003c!-- 140307056785968\u0026#45;\u0026gt;140307056783712* --\u003e\\n\",","       \"\u003cg id=\\\"edge8\\\" class=\\\"edge\\\"\u003e\\n\",","       \"\u003ctitle\u003e140307056785968\u0026#45;\u0026gt;140307056783712*\u003c/title\u003e\\n\",","       \"\u003cpath fill=\\\"none\\\" stroke=\\\"black\\\" d=\\\"M509.9,-56.65C519.42,-54.94 528.62,-53.29 536.89,-51.8\\\"/\u003e\\n\",","       \"\u003cpolygon fill=\\\"black\\\" stroke=\\\"black\\\" points=\\\"537.59,-55.23 546.81,-50.02 536.35,-48.34 537.59,-55.23\\\"/\u003e\\n\",","       \"\u003c/g\u003e\\n\",","       \"\u003c!-- 140307056785968+\u0026#45;\u0026gt;140307056785968 --\u003e\\n\",","       \"\u003cg id=\\\"edge1\\\" class=\\\"edge\\\"\u003e\\n\",","       \"\u003ctitle\u003e140307056785968+\u0026#45;\u0026gt;140307056785968\u003c/title\u003e\\n\",","       \"\u003cpath fill=\\\"none\\\" stroke=\\\"black\\\" d=\\\"M284.11,-73.5C291.84,-73.5 300.8,-73.5 310.35,-73.5\\\"/\u003e\\n\",","       \"\u003cpolygon fill=\\\"black\\\" stroke=\\\"black\\\" points=\\\"310.48,-77 320.48,-73.5 310.48,-70 310.48,-77\\\"/\u003e\\n\",","       \"\u003c/g\u003e\\n\",","       \"\u003c!-- 140306525506912 --\u003e\\n\",","       \"\u003cg id=\\\"node4\\\" class=\\\"node\\\"\u003e\\n\",","       \"\u003ctitle\u003e140306525506912\u003c/title\u003e\\n\",","       \"\u003cpolygon fill=\\\"none\\\" stroke=\\\"black\\\" points=\\\"320,-0.5 320,-36.5 510,-36.5 510,-0.5 320,-0.5\\\"/\u003e\\n\",","       \"\u003ctext text-anchor=\\\"middle\\\" x=\\\"331.5\\\" y=\\\"-14.8\\\" font-family=\\\"Times,serif\\\" font-size=\\\"14.00\\\"\u003ed\u003c/text\u003e\\n\",","       \"\u003cpolyline fill=\\\"none\\\" stroke=\\\"black\\\" points=\\\"343,-0.5 343,-36.5 \\\"/\u003e\\n\",","       \"\u003ctext text-anchor=\\\"middle\\\" x=\\\"385.5\\\" y=\\\"-14.8\\\" font-family=\\\"Times,serif\\\" font-size=\\\"14.00\\\"\u003edata \u0026#45;6.0000\u003c/text\u003e\\n\",","       \"\u003cpolyline fill=\\\"none\\\" stroke=\\\"black\\\" points=\\\"428,-0.5 428,-36.5 \\\"/\u003e\\n\",","       \"\u003ctext text-anchor=\\\"middle\\\" x=\\\"469\\\" y=\\\"-14.8\\\" font-family=\\\"Times,serif\\\" font-size=\\\"14.00\\\"\u003egrad 1.0000\u003c/text\u003e\\n\",","       \"\u003c/g\u003e\\n\",","       \"\u003c!-- 140306525506912\u0026#45;\u0026gt;140307056783712* --\u003e\\n\",","       \"\u003cg id=\\\"edge9\\\" class=\\\"edge\\\"\u003e\\n\",","       \"\u003ctitle\u003e140306525506912\u0026#45;\u0026gt;140307056783712*\u003c/title\u003e\\n\",","       \"\u003cpath fill=\\\"none\\\" stroke=\\\"black\\\" d=\\\"M510.34,-34.83C519.62,-36.44 528.58,-37.99 536.66,-39.38\\\"/\u003e\\n\",","       \"\u003cpolygon fill=\\\"black\\\" stroke=\\\"black\\\" points=\\\"536.27,-42.87 546.72,-41.12 537.46,-35.97 536.27,-42.87\\\"/\u003e\\n\",","       \"\u003c/g\u003e\\n\",","       \"\u003c!-- 140306525506912*\u0026#45;\u0026gt;140306525506912 --\u003e\\n\",","       \"\u003cg id=\\\"edge2\\\" class=\\\"edge\\\"\u003e\\n\",","       \"\u003ctitle\u003e140306525506912*\u0026#45;\u0026gt;140306525506912\u003c/title\u003e\\n\",","       \"\u003cpath fill=\\\"none\\\" stroke=\\\"black\\\" d=\\\"M284.11,-18.5C291.63,-18.5 300.32,-18.5 309.58,-18.5\\\"/\u003e\\n\",","       \"\u003cpolygon fill=\\\"black\\\" stroke=\\\"black\\\" points=\\\"309.81,-22 319.81,-18.5 309.81,-15 309.81,-22\\\"/\u003e\\n\",","       \"\u003c/g\u003e\\n\",","       \"\u003c!-- 140307056783712 --\u003e\\n\",","       \"\u003cg id=\\\"node6\\\" class=\\\"node\\\"\u003e\\n\",","       \"\u003ctitle\u003e140307056783712\u003c/title\u003e\\n\",","       \"\u003cpolygon fill=\\\"none\\\" stroke=\\\"black\\\" points=\\\"636,-27.5 636,-63.5 824,-63.5 824,-27.5 636,-27.5\\\"/\u003e\\n\",","       \"\u003ctext text-anchor=\\\"middle\\\" x=\\\"646.5\\\" y=\\\"-41.8\\\" font-family=\\\"Times,serif\\\" font-size=\\\"14.00\\\"\u003ef\u003c/text\u003e\\n\",","       \"\u003cpolyline fill=\\\"none\\\" stroke=\\\"black\\\" points=\\\"657,-27.5 657,-63.5 \\\"/\u003e\\n\",","       \"\u003ctext text-anchor=\\\"middle\\\" x=\\\"699.5\\\" y=\\\"-41.8\\\" font-family=\\\"Times,serif\\\" font-size=\\\"14.00\\\"\u003edata \u0026#45;6.0000\u003c/text\u003e\\n\",","       \"\u003cpolyline fill=\\\"none\\\" stroke=\\\"black\\\" points=\\\"742,-27.5 742,-63.5 \\\"/\u003e\\n\",","       \"\u003ctext text-anchor=\\\"middle\\\" x=\\\"783\\\" y=\\\"-41.8\\\" font-family=\\\"Times,serif\\\" font-size=\\\"14.00\\\"\u003egrad 1.0000\u003c/text\u003e\\n\",","       \"\u003c/g\u003e\\n\",","       \"\u003c!-- 140307056783712*\u0026#45;\u0026gt;140307056783712 --\u003e\\n\",","       \"\u003cg id=\\\"edge3\\\" class=\\\"edge\\\"\u003e\\n\",","       \"\u003ctitle\u003e140307056783712*\u0026#45;\u0026gt;140307056783712\u003c/title\u003e\\n\",","       \"\u003cpath fill=\\\"none\\\" stroke=\\\"black\\\" d=\\\"M600.29,-45.5C607.78,-45.5 616.42,-45.5 625.6,-45.5\\\"/\u003e\\n\",","       \"\u003cpolygon fill=\\\"black\\\" stroke=\\\"black\\\" points=\\\"625.76,-49 635.76,-45.5 625.76,-42 625.76,-49\\\"/\u003e\\n\",","       \"\u003c/g\u003e\\n\",","       \"\u003c!-- 140306525506432 --\u003e\\n\",","       \"\u003cg id=\\\"node8\\\" class=\\\"node\\\"\u003e\\n\",","       \"\u003ctitle\u003e140306525506432\u003c/title\u003e\\n\",","       \"\u003cpolygon fill=\\\"none\\\" stroke=\\\"black\\\" points=\\\"2.5,-0.5 2.5,-36.5 191.5,-36.5 191.5,-0.5 2.5,-0.5\\\"/\u003e\\n\",","       \"\u003ctext text-anchor=\\\"middle\\\" x=\\\"14\\\" y=\\\"-14.8\\\" font-family=\\\"Times,serif\\\" font-size=\\\"14.00\\\"\u003eb\u003c/text\u003e\\n\",","       \"\u003cpolyline fill=\\\"none\\\" stroke=\\\"black\\\" points=\\\"25.5,-0.5 25.5,-36.5 \\\"/\u003e\\n\",","       \"\u003ctext text-anchor=\\\"middle\\\" x=\\\"65.5\\\" y=\\\"-14.8\\\" font-family=\\\"Times,serif\\\" font-size=\\\"14.00\\\"\u003edata 3.0000\u003c/text\u003e\\n\",","       \"\u003cpolyline fill=\\\"none\\\" stroke=\\\"black\\\" points=\\\"105.5,-0.5 105.5,-36.5 \\\"/\u003e\\n\",","       \"\u003ctext text-anchor=\\\"middle\\\" x=\\\"148.5\\\" y=\\\"-14.8\\\" font-family=\\\"Times,serif\\\" font-size=\\\"14.00\\\"\u003egrad \u0026#45;8.0000\u003c/text\u003e\\n\",","       \"\u003c/g\u003e\\n\",","       \"\u003c!-- 140306525506432\u0026#45;\u0026gt;140307056785968+ --\u003e\\n\",","       \"\u003cg id=\\\"edge6\\\" class=\\\"edge\\\"\u003e\\n\",","       \"\u003ctitle\u003e140306525506432\u0026#45;\u0026gt;140307056785968+\u003c/title\u003e\\n\",","       \"\u003cpath fill=\\\"none\\\" stroke=\\\"black\\\" d=\\\"M163.94,-36.53C174.08,-39.65 184.37,-43.01 194,-46.5 204.27,-50.22 215.26,-54.8 225.09,-59.12\\\"/\u003e\\n\",","       \"\u003cpolygon fill=\\\"black\\\" stroke=\\\"black\\\" points=\\\"223.91,-62.43 234.47,-63.32 226.77,-56.04 223.91,-62.43\\\"/\u003e\\n\",","       \"\u003c/g\u003e\\n\",","       \"\u003c!-- 140306525506432\u0026#45;\u0026gt;140306525506912* --\u003e\\n\",","       \"\u003cg id=\\\"edge4\\\" class=\\\"edge\\\"\u003e\\n\",","       \"\u003ctitle\u003e140306525506432\u0026#45;\u0026gt;140306525506912*\u003c/title\u003e\\n\",","       \"\u003cpath fill=\\\"none\\\" stroke=\\\"black\\\" d=\\\"M191.74,-18.5C201.55,-18.5 211.04,-18.5 219.59,-18.5\\\"/\u003e\\n\",","       \"\u003cpolygon fill=\\\"black\\\" stroke=\\\"black\\\" points=\\\"219.87,-22 229.87,-18.5 219.87,-15 219.87,-22\\\"/\u003e\\n\",","       \"\u003c/g\u003e\\n\",","       \"\u003c/g\u003e\\n\",","       \"\u003c/svg\u003e\\n\"","      ],","      \"text/plain\": [","       \"\u003cgraphviz.graphs.Digraph at 0x7f9ba89cc880\u003e\"","      ]","     },","     \"execution_count\": 259,","     \"metadata\": {},","     \"output_type\": \"execute_result\"","    }","   ],","   \"source\": [","    \"a = Value(-2.0, label='a')\\n\",","    \"b = Value(3.0, label='b')\\n\",","    \"d = a * b    ; d.label = 'd'\\n\",","    \"e = a + b    ; e.label = 'e'\\n\",","    \"f = d * e    ; f.label = 'f'\\n\",","    \"\\n\",","    \"f.backward()\\n\",","    \"\\n\",","    \"draw_dot(f)\"","   ]","  },","  {","   \"cell_type\": \"code\",","   \"execution_count\": null,","   \"metadata\": {},","   \"outputs\": [],","   \"source\": []","  }"," ],"," \"metadata\": {","  \"kernelspec\": {","   \"display_name\": \"Python 3\",","   \"language\": \"python\",","   \"name\": \"python3\"","  },","  \"language_info\": {","   \"codemirror_mode\": {","    \"name\": \"ipython\",","    \"version\": 3","   },","   \"file_extension\": \".py\",","   \"mimetype\": \"text/x-python\",","   \"name\": \"python\",","   \"nbconvert_exporter\": \"python\",","   \"pygments_lexer\": \"ipython3\",","   \"version\": \"3.8.5\"","  }"," },"," \"nbformat\": 4,"," \"nbformat_minor\": 4","}"],"stylingDirectives":null,"csv":null,"csvError":null,"dependabotInfo":{"showConfigurationBanner":false,"configFilePath":null,"networkDependabotPath":"/karpathy/nn-zero-to-hero/network/updates","dismissConfigurationNoticePath":"/settings/dismiss-notice/dependabot_configuration_notice","configurationNoticeDismissed":null,"repoAlertsPath":"/karpathy/nn-zero-to-hero/security/dependabot","repoSecurityAndAnalysisPath":"/karpathy/nn-zero-to-hero/settings/security_analysis","repoOwnerIsOrg":false,"currentUserCanAdminRepo":false},"displayName":"micrograd_lecture_first_half_roughly.ipynb","displayUrl":"https://notebooks.githubusercontent.com/view/ipynb?browser=chrome\u0026bypass_fastly=true\u0026color_mode=auto\u0026commit=374864c1f2a2289fdd0b4284010e32ac03e3b710\u0026device=unknown_device\u0026docs_host=https%3A%2F%2Fdocs.github.com\u0026enc_url=68747470733a2f2f7261772e67697468756275736572636f6e74656e742e636f6d2f6b617270617468792f6e6e2d7a65726f2d746f2d6865726f2f333734383634633166326132323839666464306234323834303130653332616330336533623731302f6c656374757265732f6d6963726f677261642f6d6963726f677261645f6c6563747572655f66697273745f68616c665f726f7567686c792e6970796e62\u0026logged_in=false\u0026nwo=karpathy%2Fnn-zero-to-hero\u0026path=lectures%2Fmicrograd%2Fmicrograd_lecture_first_half_roughly.ipynb\u0026platform=windows\u0026repository_id=534397970\u0026repository_type=Repository\u0026version=121","headerInfo":{"blobSize":"79.1 KB","deleteInfo":{"deleteTooltip":"You must be signed in to make or propose changes"},"editInfo":{"editTooltip":"You must be signed in to make or propose changes"},"ghDesktopPath":"https://desktop.github.com","gitLfsPath":null,"onBranch":true,"shortPath":"1a3fa62","siteNavLoginPath":"/login?return_to=https%3A%2F%2Fgithub.com%2Fkarpathy%2Fnn-zero-to-hero%2Fblob%2Fmaster%2Flectures%2Fmicrograd%2Fmicrograd_lecture_first_half_roughly.ipynb","isCSV":false,"isRichtext":false,"toc":null,"lineInfo":{"truncatedLoc":"1278","truncatedSloc":"1278"},"mode":"file"},"image":false,"isCodeownersFile":null,"isPlain":false,"isValidLegacyIssueTemplate":false,"issueTemplateHelpUrl":"https://docs.github.com/articles/about-issue-and-pull-request-templates","issueTemplate":null,"discussionTemplate":null,"language":"Jupyter Notebook","languageID":185,"large":false,"loggedIn":false,"newDiscussionPath":"/karpathy/nn-zero-to-hero/discussions/new","newIssuePath":"/karpathy/nn-zero-to-hero/issues/new","planSupportInfo":{"repoIsFork":null,"repoOwnedByCurrentUser":null,"requestFullPath":"/karpathy/nn-zero-to-hero/blob/master/lectures/micrograd/micrograd_lecture_first_half_roughly.ipynb","showFreeOrgGatedFeatureMessage":null,"showPlanSupportBanner":null,"upgradeDataAttributes":null,"upgradePath":null},"publishBannersInfo":{"dismissActionNoticePath":"/settings/dismiss-notice/publish_action_from_dockerfile","releasePath":"/karpathy/nn-zero-to-hero/releases/new?marketplace=true","showPublishActionBanner":false},"rawBlobUrl":"https://github.com/karpathy/nn-zero-to-hero/raw/master/lectures/micrograd/micrograd_lecture_first_half_roughly.ipynb","renderImageOrRaw":false,"richText":null,"renderedFileInfo":{"identityUUID":"b2c66179-fbb5-4150-91da-12f55dc22ecf","renderFileType":"ipynb","size":81042},"shortPath":null,"symbolsEnabled":true,"tabSize":8,"topBannersInfo":{"overridingGlobalFundingFile":false,"globalPreferredFundingPath":null,"repoOwner":"karpathy","repoName":"nn-zero-to-hero","showInvalidCitationWarning":false,"citationHelpUrl":"https://docs.github.com/github/creating-cloning-and-archiving-repositories/creating-a-repository-on-github/about-citation-files","showDependabotConfigurationBanner":false,"actionsOnboardingTip":null},"truncated":false,"viewable":true,"workflowRedirectUrl":null,"symbols":{"timed_out":false,"not_analyzed":true,"symbols":[]}},"copilotInfo":null,"copilotAccessAllowed":false,"csrf_tokens":{"/karpathy/nn-zero-to-hero/branches":{"post":"4RGP8dA1ZdRJkoyu2l52QPncxbPiy2cAHZ69fvlMOYOA4ChqwG9PCmNQMTKCuuY-nnw2sOmQVAN_DIlGNGwUDw"},"/repos/preferences":{"post":"iH3iB4qd3y7zblpAo1T3klwRjJLGVBN-h57q5-0uFSKyuthnb0OW9VxjTjVqmS4PYYQ78znNnIdfL2SXH1rloQ"}}},"title":"nn-zero-to-hero/lectures/micrograd/micrograd_lecture_first_half_roughly.ipynb at master · karpathy/nn-zero-to-hero","appPayload":{"helpUrl":"https://docs.github.com","findFileWorkerPath":"/assets-cdn/worker/find-file-worker-32bb159cc57c.js","findInFileWorkerPath":"/assets-cdn/worker/find-in-file-worker-c6704d501c10.js","githubDevUrl":null,"enabled_features":{"code_nav_ui_events":false,"copilot_conversational_ux":false,"copilot_conversational_ux_embedding_update":false,"copilot_popover_file_editor_header":false,"copilot_smell_icebreaker_ux":true,"copilot_workspace":false}}}</script>
  <div data-target="react-app.reactRoot"></div>
</react-app>
</turbo-frame>



  </div>

</turbo-frame>

    </main>
  </div>

  </div>

          <footer class="footer pt-8 pb-6 f6 color-fg-muted p-responsive" role="contentinfo" >
  <h2 class='sr-only'>Footer</h2>

  


  <div class="d-flex flex-justify-center flex-items-center flex-column-reverse flex-lg-row flex-wrap flex-lg-nowrap">
    <div class="d-flex flex-items-center flex-shrink-0 mx-2">
      <a aria-label="Homepage" title="GitHub" class="footer-octicon mr-2" href="https://github.com">
        <svg aria-hidden="true" height="24" viewBox="0 0 16 16" version="1.1" width="24" data-view-component="true" class="octicon octicon-mark-github">
    <path d="M8 0c4.42 0 8 3.58 8 8a8.013 8.013 0 0 1-5.45 7.59c-.4.08-.55-.17-.55-.38 0-.27.01-1.13.01-2.2 0-.75-.25-1.23-.54-1.48 1.78-.2 3.65-.88 3.65-3.95 0-.88-.31-1.59-.82-2.15.08-.2.36-1.02-.08-2.12 0 0-.67-.22-2.2.82-.64-.18-1.32-.27-2-.27-.68 0-1.36.09-2 .27-1.53-1.03-2.2-.82-2.2-.82-.44 1.1-.16 1.92-.08 2.12-.51.56-.82 1.28-.82 2.15 0 3.06 1.86 3.75 3.64 3.95-.23.2-.44.55-.51 1.07-.46.21-1.61.55-2.33-.66-.15-.24-.6-.83-1.23-.82-.67.01-.27.38.01.53.34.19.73.9.82 1.13.16.45.68 1.31 2.69.94 0 .67.01 1.3.01 1.49 0 .21-.15.45-.55.38A7.995 7.995 0 0 1 0 8c0-4.42 3.58-8 8-8Z"></path>
</svg>
</a>
      <span>
        &copy; 2024 GitHub,&nbsp;Inc.
      </span>
    </div>

    <nav aria-label="Footer">
      <h3 class="sr-only" id="sr-footer-heading">Footer navigation</h3>

      <ul class="list-style-none d-flex flex-justify-center flex-wrap mb-2 mb-lg-0" aria-labelledby="sr-footer-heading">

          <li class="mx-2">
            <a data-analytics-event="{&quot;category&quot;:&quot;Footer&quot;,&quot;action&quot;:&quot;go to Terms&quot;,&quot;label&quot;:&quot;text:terms&quot;}" href="https://docs.github.com/site-policy/github-terms/github-terms-of-service" data-view-component="true" class="Link--secondary Link">Terms</a>
          </li>

          <li class="mx-2">
            <a data-analytics-event="{&quot;category&quot;:&quot;Footer&quot;,&quot;action&quot;:&quot;go to privacy&quot;,&quot;label&quot;:&quot;text:privacy&quot;}" href="https://docs.github.com/site-policy/privacy-policies/github-privacy-statement" data-view-component="true" class="Link--secondary Link">Privacy</a>
          </li>

          <li class="mx-2">
            <a data-analytics-event="{&quot;category&quot;:&quot;Footer&quot;,&quot;action&quot;:&quot;go to security&quot;,&quot;label&quot;:&quot;text:security&quot;}" href="/security" data-view-component="true" class="Link--secondary Link">Security</a>
          </li>

          <li class="mx-2">
            <a data-analytics-event="{&quot;category&quot;:&quot;Footer&quot;,&quot;action&quot;:&quot;go to status&quot;,&quot;label&quot;:&quot;text:status&quot;}" href="https://www.githubstatus.com/" data-view-component="true" class="Link--secondary Link">Status</a>
          </li>

          <li class="mx-2">
            <a data-analytics-event="{&quot;category&quot;:&quot;Footer&quot;,&quot;action&quot;:&quot;go to docs&quot;,&quot;label&quot;:&quot;text:docs&quot;}" href="https://docs.github.com" data-view-component="true" class="Link--secondary Link">Docs</a>
          </li>

          <li class="mx-2">
            <a data-analytics-event="{&quot;category&quot;:&quot;Footer&quot;,&quot;action&quot;:&quot;go to contact&quot;,&quot;label&quot;:&quot;text:contact&quot;}" href="https://support.github.com?tags=dotcom-footer" data-view-component="true" class="Link--secondary Link">Contact</a>
          </li>

          <li class="mx-2" >
  <cookie-consent-link>
    <button type="button" class="Link--secondary underline-on-hover border-0 p-0 color-bg-transparent" data-action="click:cookie-consent-link#showConsentManagement">
      Manage cookies
    </button>
  </cookie-consent-link>
</li>

<li class="mx-2">
  <cookie-consent-link>
    <button type="button" class="Link--secondary underline-on-hover border-0 p-0 color-bg-transparent" data-action="click:cookie-consent-link#showConsentManagement">
      Do not share my personal information
    </button>
  </cookie-consent-link>
</li>

      </ul>
    </nav>
  </div>
</footer>




    <cookie-consent id="cookie-consent-banner" class="position-fixed bottom-0 left-0" style="z-index: 999999" data-initial-cookie-consent-allowed="" data-cookie-consent-required="false"></cookie-consent>


  <div id="ajax-error-message" class="ajax-error-message flash flash-error" hidden>
    <svg aria-hidden="true" height="16" viewBox="0 0 16 16" version="1.1" width="16" data-view-component="true" class="octicon octicon-alert">
    <path d="M6.457 1.047c.659-1.234 2.427-1.234 3.086 0l6.082 11.378A1.75 1.75 0 0 1 14.082 15H1.918a1.75 1.75 0 0 1-1.543-2.575Zm1.763.707a.25.25 0 0 0-.44 0L1.698 13.132a.25.25 0 0 0 .22.368h12.164a.25.25 0 0 0 .22-.368Zm.53 3.996v2.5a.75.75 0 0 1-1.5 0v-2.5a.75.75 0 0 1 1.5 0ZM9 11a1 1 0 1 1-2 0 1 1 0 0 1 2 0Z"></path>
</svg>
    <button type="button" class="flash-close js-ajax-error-dismiss" aria-label="Dismiss error">
      <svg aria-hidden="true" height="16" viewBox="0 0 16 16" version="1.1" width="16" data-view-component="true" class="octicon octicon-x">
    <path d="M3.72 3.72a.75.75 0 0 1 1.06 0L8 6.94l3.22-3.22a.749.749 0 0 1 1.275.326.749.749 0 0 1-.215.734L9.06 8l3.22 3.22a.749.749 0 0 1-.326 1.275.749.749 0 0 1-.734-.215L8 9.06l-3.22 3.22a.751.751 0 0 1-1.042-.018.751.751 0 0 1-.018-1.042L6.94 8 3.72 4.78a.75.75 0 0 1 0-1.06Z"></path>
</svg>
    </button>
    You can’t perform that action at this time.
  </div>

    <template id="site-details-dialog">
  <details class="details-reset details-overlay details-overlay-dark lh-default color-fg-default hx_rsm" open>
    <summary role="button" aria-label="Close dialog"></summary>
    <details-dialog class="Box Box--overlay d-flex flex-column anim-fade-in fast hx_rsm-dialog hx_rsm-modal">
      <button class="Box-btn-octicon m-0 btn-octicon position-absolute right-0 top-0" type="button" aria-label="Close dialog" data-close-dialog>
        <svg aria-hidden="true" height="16" viewBox="0 0 16 16" version="1.1" width="16" data-view-component="true" class="octicon octicon-x">
    <path d="M3.72 3.72a.75.75 0 0 1 1.06 0L8 6.94l3.22-3.22a.749.749 0 0 1 1.275.326.749.749 0 0 1-.215.734L9.06 8l3.22 3.22a.749.749 0 0 1-.326 1.275.749.749 0 0 1-.734-.215L8 9.06l-3.22 3.22a.751.751 0 0 1-1.042-.018.751.751 0 0 1-.018-1.042L6.94 8 3.72 4.78a.75.75 0 0 1 0-1.06Z"></path>
</svg>
      </button>
      <div class="octocat-spinner my-6 js-details-dialog-spinner"></div>
    </details-dialog>
  </details>
</template>

    <div class="Popover js-hovercard-content position-absolute" style="display: none; outline: none;" tabindex="0">
  <div class="Popover-message Popover-message--bottom-left Popover-message--large Box color-shadow-large" style="width:360px;">
  </div>
</div>

    <template id="snippet-clipboard-copy-button">
  <div class="zeroclipboard-container position-absolute right-0 top-0">
    <clipboard-copy aria-label="Copy" class="ClipboardButton btn js-clipboard-copy m-2 p-0 tooltipped-no-delay" data-copy-feedback="Copied!" data-tooltip-direction="w">
      <svg aria-hidden="true" height="16" viewBox="0 0 16 16" version="1.1" width="16" data-view-component="true" class="octicon octicon-copy js-clipboard-copy-icon m-2">
    <path d="M0 6.75C0 5.784.784 5 1.75 5h1.5a.75.75 0 0 1 0 1.5h-1.5a.25.25 0 0 0-.25.25v7.5c0 .138.112.25.25.25h7.5a.25.25 0 0 0 .25-.25v-1.5a.75.75 0 0 1 1.5 0v1.5A1.75 1.75 0 0 1 9.25 16h-7.5A1.75 1.75 0 0 1 0 14.25Z"></path><path d="M5 1.75C5 .784 5.784 0 6.75 0h7.5C15.216 0 16 .784 16 1.75v7.5A1.75 1.75 0 0 1 14.25 11h-7.5A1.75 1.75 0 0 1 5 9.25Zm1.75-.25a.25.25 0 0 0-.25.25v7.5c0 .138.112.25.25.25h7.5a.25.25 0 0 0 .25-.25v-7.5a.25.25 0 0 0-.25-.25Z"></path>
</svg>
      <svg aria-hidden="true" height="16" viewBox="0 0 16 16" version="1.1" width="16" data-view-component="true" class="octicon octicon-check js-clipboard-check-icon color-fg-success d-none m-2">
    <path d="M13.78 4.22a.75.75 0 0 1 0 1.06l-7.25 7.25a.75.75 0 0 1-1.06 0L2.22 9.28a.751.751 0 0 1 .018-1.042.751.751 0 0 1 1.042-.018L6 10.94l6.72-6.72a.75.75 0 0 1 1.06 0Z"></path>
</svg>
    </clipboard-copy>
  </div>
</template>
<template id="snippet-clipboard-copy-button-unpositioned">
  <div class="zeroclipboard-container">
    <clipboard-copy aria-label="Copy" class="ClipboardButton btn btn-invisible js-clipboard-copy m-2 p-0 tooltipped-no-delay d-flex flex-justify-center flex-items-center" data-copy-feedback="Copied!" data-tooltip-direction="w">
      <svg aria-hidden="true" height="16" viewBox="0 0 16 16" version="1.1" width="16" data-view-component="true" class="octicon octicon-copy js-clipboard-copy-icon">
    <path d="M0 6.75C0 5.784.784 5 1.75 5h1.5a.75.75 0 0 1 0 1.5h-1.5a.25.25 0 0 0-.25.25v7.5c0 .138.112.25.25.25h7.5a.25.25 0 0 0 .25-.25v-1.5a.75.75 0 0 1 1.5 0v1.5A1.75 1.75 0 0 1 9.25 16h-7.5A1.75 1.75 0 0 1 0 14.25Z"></path><path d="M5 1.75C5 .784 5.784 0 6.75 0h7.5C15.216 0 16 .784 16 1.75v7.5A1.75 1.75 0 0 1 14.25 11h-7.5A1.75 1.75 0 0 1 5 9.25Zm1.75-.25a.25.25 0 0 0-.25.25v7.5c0 .138.112.25.25.25h7.5a.25.25 0 0 0 .25-.25v-7.5a.25.25 0 0 0-.25-.25Z"></path>
</svg>
      <svg aria-hidden="true" height="16" viewBox="0 0 16 16" version="1.1" width="16" data-view-component="true" class="octicon octicon-check js-clipboard-check-icon color-fg-success d-none">
    <path d="M13.78 4.22a.75.75 0 0 1 0 1.06l-7.25 7.25a.75.75 0 0 1-1.06 0L2.22 9.28a.751.751 0 0 1 .018-1.042.751.751 0 0 1 1.042-.018L6 10.94l6.72-6.72a.75.75 0 0 1 1.06 0Z"></path>
</svg>
    </clipboard-copy>
  </div>
</template>




    </div>

    <div id="js-global-screen-reader-notice" class="sr-only" aria-live="polite" aria-atomic="true" ></div>
    <div id="js-global-screen-reader-notice-assertive" class="sr-only" aria-live="assertive" aria-atomic="true"></div>
  </body>
</html>

